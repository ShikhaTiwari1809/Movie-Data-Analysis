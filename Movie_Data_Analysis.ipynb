{
 "cells": [
  {
   "cell_type": "markdown",
   "id": "9b16e861",
   "metadata": {},
   "source": [
    "# *** Exploratory data analysis of Movies extracted from TMDB API ***"
   ]
  },
  {
   "cell_type": "markdown",
   "id": "46b923b2",
   "metadata": {},
   "source": [
    "## 1. Importing Libraries"
   ]
  },
  {
   "cell_type": "code",
   "execution_count": 37,
   "id": "a65e83a3",
   "metadata": {},
   "outputs": [
    {
     "data": {
      "text/html": [
       "        <script type=\"text/javascript\">\n",
       "        window.PlotlyConfig = {MathJaxConfig: 'local'};\n",
       "        if (window.MathJax) {MathJax.Hub.Config({SVG: {font: \"STIX-Web\"}});}\n",
       "        if (typeof require !== 'undefined') {\n",
       "        require.undef(\"plotly\");\n",
       "        requirejs.config({\n",
       "            paths: {\n",
       "                'plotly': ['https://cdn.plot.ly/plotly-2.11.1.min']\n",
       "            }\n",
       "        });\n",
       "        require(['plotly'], function(Plotly) {\n",
       "            window._Plotly = Plotly;\n",
       "        });\n",
       "        }\n",
       "        </script>\n",
       "        "
      ]
     },
     "metadata": {},
     "output_type": "display_data"
    }
   ],
   "source": [
    "import pandas as pd\n",
    "import numpy as np\n",
    "import matplotlib.pyplot as plt\n",
    "import seaborn as sns\n",
    "import plotly.graph_objs as go\n",
    "import plotly.offline as pyo\n",
    "from plotly.offline import init_notebook_mode,iplot\n",
    "init_notebook_mode(connected=True)\n",
    "import warnings\n",
    "warnings.filterwarnings(\"ignore\")\n",
    "import ast\n",
    "import plotly.figure_factory as ff\n",
    "import plotly.express as px"
   ]
  },
  {
   "cell_type": "markdown",
   "id": "2b7405e0",
   "metadata": {},
   "source": [
    "## 2. Reading data from csv files which were extracted from API (file - Movie Data Collection.ipynb)"
   ]
  },
  {
   "cell_type": "code",
   "execution_count": 38,
   "id": "bd2b70ac",
   "metadata": {},
   "outputs": [],
   "source": [
    "movies = pd.read_csv('moviedata.csv')\n",
    "cast = pd.read_csv('cast_crew.csv')"
   ]
  },
  {
   "cell_type": "code",
   "execution_count": 39,
   "id": "8b38f33b",
   "metadata": {},
   "outputs": [],
   "source": [
    "movies = movies.merge(cast, on='id')"
   ]
  },
  {
   "cell_type": "code",
   "execution_count": 40,
   "id": "8468e1cf",
   "metadata": {},
   "outputs": [
    {
     "data": {
      "text/html": [
       "<div>\n",
       "<style scoped>\n",
       "    .dataframe tbody tr th:only-of-type {\n",
       "        vertical-align: middle;\n",
       "    }\n",
       "\n",
       "    .dataframe tbody tr th {\n",
       "        vertical-align: top;\n",
       "    }\n",
       "\n",
       "    .dataframe thead th {\n",
       "        text-align: right;\n",
       "    }\n",
       "</style>\n",
       "<table border=\"1\" class=\"dataframe\">\n",
       "  <thead>\n",
       "    <tr style=\"text-align: right;\">\n",
       "      <th></th>\n",
       "      <th>Unnamed: 0_x</th>\n",
       "      <th>id</th>\n",
       "      <th>budget</th>\n",
       "      <th>genres</th>\n",
       "      <th>overview</th>\n",
       "      <th>popularity</th>\n",
       "      <th>production_companies</th>\n",
       "      <th>release_date</th>\n",
       "      <th>revenue</th>\n",
       "      <th>title</th>\n",
       "      <th>vote_average</th>\n",
       "      <th>original_language</th>\n",
       "      <th>vote_count</th>\n",
       "      <th>Unnamed: 0_y</th>\n",
       "      <th>cast</th>\n",
       "      <th>crew</th>\n",
       "    </tr>\n",
       "  </thead>\n",
       "  <tbody>\n",
       "    <tr>\n",
       "      <th>0</th>\n",
       "      <td>0</td>\n",
       "      <td>675353</td>\n",
       "      <td>110000000</td>\n",
       "      <td>[{'id': 28, 'name': 'Action'}, {'id': 878, 'na...</td>\n",
       "      <td>After settling in Green Hills, Sonic is eager ...</td>\n",
       "      <td>9124.409</td>\n",
       "      <td>[{'id': 113750, 'logo_path': '/A3QVZ9Ah0yI2d2G...</td>\n",
       "      <td>2022-03-30</td>\n",
       "      <td>355200000</td>\n",
       "      <td>Sonic the Hedgehog 2</td>\n",
       "      <td>7.7</td>\n",
       "      <td>en</td>\n",
       "      <td>1395</td>\n",
       "      <td>0</td>\n",
       "      <td>[{'adult': False, 'gender': 2, 'id': 222121, '...</td>\n",
       "      <td>[{'adult': False, 'gender': 2, 'id': 5546, 'kn...</td>\n",
       "    </tr>\n",
       "    <tr>\n",
       "      <th>1</th>\n",
       "      <td>1</td>\n",
       "      <td>335787</td>\n",
       "      <td>120000000</td>\n",
       "      <td>[{'id': 28, 'name': 'Action'}, {'id': 12, 'nam...</td>\n",
       "      <td>A young street-smart, Nathan Drake and his wis...</td>\n",
       "      <td>4274.019</td>\n",
       "      <td>[{'id': 5, 'logo_path': '/71BqEFAF4V3qjjMPCpLu...</td>\n",
       "      <td>2022-02-10</td>\n",
       "      <td>395124202</td>\n",
       "      <td>Uncharted</td>\n",
       "      <td>7.2</td>\n",
       "      <td>en</td>\n",
       "      <td>1954</td>\n",
       "      <td>1</td>\n",
       "      <td>[{'adult': False, 'gender': 2, 'id': 1136406, ...</td>\n",
       "      <td>[{'adult': False, 'gender': 1, 'id': 2215, 'kn...</td>\n",
       "    </tr>\n",
       "    <tr>\n",
       "      <th>2</th>\n",
       "      <td>2</td>\n",
       "      <td>414906</td>\n",
       "      <td>185000000</td>\n",
       "      <td>[{'id': 80, 'name': 'Crime'}, {'id': 9648, 'na...</td>\n",
       "      <td>In his second year of fighting crime, Batman u...</td>\n",
       "      <td>3923.239</td>\n",
       "      <td>[{'id': 101405, 'logo_path': None, 'name': '6t...</td>\n",
       "      <td>2022-03-01</td>\n",
       "      <td>764573021</td>\n",
       "      <td>The Batman</td>\n",
       "      <td>7.8</td>\n",
       "      <td>en</td>\n",
       "      <td>4579</td>\n",
       "      <td>2</td>\n",
       "      <td>[{'adult': False, 'gender': 2, 'id': 11288, 'k...</td>\n",
       "      <td>[{'adult': False, 'gender': 2, 'id': 2122, 'kn...</td>\n",
       "    </tr>\n",
       "    <tr>\n",
       "      <th>3</th>\n",
       "      <td>3</td>\n",
       "      <td>629542</td>\n",
       "      <td>80000000</td>\n",
       "      <td>[{'id': 16, 'name': 'Animation'}, {'id': 35, '...</td>\n",
       "      <td>When the infamous Bad Guys are finally caught ...</td>\n",
       "      <td>3511.281</td>\n",
       "      <td>[{'id': 521, 'logo_path': '/kP7t6RwGz2AvvTkvnI...</td>\n",
       "      <td>2022-03-17</td>\n",
       "      <td>165558000</td>\n",
       "      <td>The Bad Guys</td>\n",
       "      <td>7.8</td>\n",
       "      <td>en</td>\n",
       "      <td>415</td>\n",
       "      <td>3</td>\n",
       "      <td>[{'adult': False, 'gender': 2, 'id': 6807, 'kn...</td>\n",
       "      <td>[{'adult': False, 'gender': 2, 'id': 52803, 'k...</td>\n",
       "    </tr>\n",
       "    <tr>\n",
       "      <th>4</th>\n",
       "      <td>4</td>\n",
       "      <td>453395</td>\n",
       "      <td>200000000</td>\n",
       "      <td>[{'id': 14, 'name': 'Fantasy'}, {'id': 28, 'na...</td>\n",
       "      <td>Doctor Strange, with the help of mystical alli...</td>\n",
       "      <td>3770.076</td>\n",
       "      <td>[{'id': 420, 'logo_path': '/hUzeosd33nzE5MCNsZ...</td>\n",
       "      <td>2022-05-04</td>\n",
       "      <td>688000000</td>\n",
       "      <td>Doctor Strange in the Multiverse of Madness</td>\n",
       "      <td>7.5</td>\n",
       "      <td>en</td>\n",
       "      <td>1577</td>\n",
       "      <td>4</td>\n",
       "      <td>[{'adult': False, 'gender': 2, 'id': 71580, 'k...</td>\n",
       "      <td>[{'adult': False, 'gender': 2, 'id': 531, 'kno...</td>\n",
       "    </tr>\n",
       "  </tbody>\n",
       "</table>\n",
       "</div>"
      ],
      "text/plain": [
       "   Unnamed: 0_x      id     budget  \\\n",
       "0             0  675353  110000000   \n",
       "1             1  335787  120000000   \n",
       "2             2  414906  185000000   \n",
       "3             3  629542   80000000   \n",
       "4             4  453395  200000000   \n",
       "\n",
       "                                              genres  \\\n",
       "0  [{'id': 28, 'name': 'Action'}, {'id': 878, 'na...   \n",
       "1  [{'id': 28, 'name': 'Action'}, {'id': 12, 'nam...   \n",
       "2  [{'id': 80, 'name': 'Crime'}, {'id': 9648, 'na...   \n",
       "3  [{'id': 16, 'name': 'Animation'}, {'id': 35, '...   \n",
       "4  [{'id': 14, 'name': 'Fantasy'}, {'id': 28, 'na...   \n",
       "\n",
       "                                            overview  popularity  \\\n",
       "0  After settling in Green Hills, Sonic is eager ...    9124.409   \n",
       "1  A young street-smart, Nathan Drake and his wis...    4274.019   \n",
       "2  In his second year of fighting crime, Batman u...    3923.239   \n",
       "3  When the infamous Bad Guys are finally caught ...    3511.281   \n",
       "4  Doctor Strange, with the help of mystical alli...    3770.076   \n",
       "\n",
       "                                production_companies release_date    revenue  \\\n",
       "0  [{'id': 113750, 'logo_path': '/A3QVZ9Ah0yI2d2G...   2022-03-30  355200000   \n",
       "1  [{'id': 5, 'logo_path': '/71BqEFAF4V3qjjMPCpLu...   2022-02-10  395124202   \n",
       "2  [{'id': 101405, 'logo_path': None, 'name': '6t...   2022-03-01  764573021   \n",
       "3  [{'id': 521, 'logo_path': '/kP7t6RwGz2AvvTkvnI...   2022-03-17  165558000   \n",
       "4  [{'id': 420, 'logo_path': '/hUzeosd33nzE5MCNsZ...   2022-05-04  688000000   \n",
       "\n",
       "                                         title  vote_average  \\\n",
       "0                         Sonic the Hedgehog 2           7.7   \n",
       "1                                    Uncharted           7.2   \n",
       "2                                   The Batman           7.8   \n",
       "3                                 The Bad Guys           7.8   \n",
       "4  Doctor Strange in the Multiverse of Madness           7.5   \n",
       "\n",
       "  original_language  vote_count  Unnamed: 0_y  \\\n",
       "0                en        1395             0   \n",
       "1                en        1954             1   \n",
       "2                en        4579             2   \n",
       "3                en         415             3   \n",
       "4                en        1577             4   \n",
       "\n",
       "                                                cast  \\\n",
       "0  [{'adult': False, 'gender': 2, 'id': 222121, '...   \n",
       "1  [{'adult': False, 'gender': 2, 'id': 1136406, ...   \n",
       "2  [{'adult': False, 'gender': 2, 'id': 11288, 'k...   \n",
       "3  [{'adult': False, 'gender': 2, 'id': 6807, 'kn...   \n",
       "4  [{'adult': False, 'gender': 2, 'id': 71580, 'k...   \n",
       "\n",
       "                                                crew  \n",
       "0  [{'adult': False, 'gender': 2, 'id': 5546, 'kn...  \n",
       "1  [{'adult': False, 'gender': 1, 'id': 2215, 'kn...  \n",
       "2  [{'adult': False, 'gender': 2, 'id': 2122, 'kn...  \n",
       "3  [{'adult': False, 'gender': 2, 'id': 52803, 'k...  \n",
       "4  [{'adult': False, 'gender': 2, 'id': 531, 'kno...  "
      ]
     },
     "execution_count": 40,
     "metadata": {},
     "output_type": "execute_result"
    }
   ],
   "source": [
    "movies.head(5)"
   ]
  },
  {
   "cell_type": "markdown",
   "id": "7da53bac",
   "metadata": {},
   "source": [
    "## 3. Data Cleaning"
   ]
  },
  {
   "cell_type": "code",
   "execution_count": 41,
   "id": "c48bb411",
   "metadata": {},
   "outputs": [],
   "source": [
    "del movies['Unnamed: 0_x']\n",
    "del movies['Unnamed: 0_y']\n",
    "del movies['overview']"
   ]
  },
  {
   "cell_type": "code",
   "execution_count": 42,
   "id": "2d52bf15",
   "metadata": {},
   "outputs": [
    {
     "data": {
      "text/plain": [
       "id                       0\n",
       "budget                   0\n",
       "genres                   0\n",
       "popularity               0\n",
       "production_companies     0\n",
       "release_date            11\n",
       "revenue                  0\n",
       "title                    0\n",
       "vote_average             0\n",
       "original_language        0\n",
       "vote_count               0\n",
       "cast                     0\n",
       "crew                     0\n",
       "dtype: int64"
      ]
     },
     "execution_count": 42,
     "metadata": {},
     "output_type": "execute_result"
    }
   ],
   "source": [
    "movies.isnull().sum()"
   ]
  },
  {
   "cell_type": "code",
   "execution_count": 43,
   "id": "a1f276ab",
   "metadata": {},
   "outputs": [],
   "source": [
    "movies.dropna(inplace=True)"
   ]
  },
  {
   "cell_type": "markdown",
   "id": "29627703",
   "metadata": {},
   "source": [
    "### 3.1 In the dataset genres & production company are list of dictionaries and for our analysis we just need \"name\" of both the fields."
   ]
  },
  {
   "cell_type": "code",
   "execution_count": 44,
   "id": "c5e82acf",
   "metadata": {},
   "outputs": [],
   "source": [
    "def convert(obj):\n",
    "    for i in ast.literal_eval(obj):\n",
    "        return (i['name'])\n",
    "             "
   ]
  },
  {
   "cell_type": "code",
   "execution_count": 45,
   "id": "133e61cb",
   "metadata": {},
   "outputs": [],
   "source": [
    "movies['genres']= movies['genres'].apply(convert)\n",
    "movies['production_companies']= movies['production_companies'].apply(convert)"
   ]
  },
  {
   "cell_type": "code",
   "execution_count": 46,
   "id": "b95982e2",
   "metadata": {},
   "outputs": [],
   "source": [
    "#movies['crew']=movies['crew'].map(lambda obj:[i['name'] for i in ast.literal_eval(obj) if i['job']=='Director'])\n",
    "#movies['production_companies']= movies['production_companies'].map(lambda obj:[i['name'] for i in ast.literal_eval(obj)])"
   ]
  },
  {
   "cell_type": "markdown",
   "id": "dcd1288c",
   "metadata": {},
   "source": [
    "### 3.2 For \"cast\" column we will be doing analyis only on top two cast so fetching data accordingly using convertcast function."
   ]
  },
  {
   "cell_type": "code",
   "execution_count": 47,
   "id": "1145c6f4",
   "metadata": {},
   "outputs": [],
   "source": [
    "def convertcast(obj):\n",
    "    l=[]\n",
    "    c=0\n",
    "    for i in ast.literal_eval(obj):\n",
    "        if c<2:\n",
    "            l.append(i['name'])\n",
    "            c+=1\n",
    "        else:\n",
    "            break\n",
    "    return l"
   ]
  },
  {
   "cell_type": "code",
   "execution_count": 48,
   "id": "d470b099",
   "metadata": {},
   "outputs": [],
   "source": [
    "movies['cast'] = movies['cast'].apply(convertcast)"
   ]
  },
  {
   "cell_type": "code",
   "execution_count": 49,
   "id": "0939926c",
   "metadata": {},
   "outputs": [],
   "source": [
    "movies[['test','cast1','cast2']]=pd.DataFrame(movies['cast'].to_list(), index= movies.index) .reset_index()"
   ]
  },
  {
   "cell_type": "code",
   "execution_count": 50,
   "id": "cc25a5f7",
   "metadata": {},
   "outputs": [],
   "source": [
    "del movies['test']\n",
    "del movies['cast']"
   ]
  },
  {
   "cell_type": "code",
   "execution_count": 51,
   "id": "70059e6b",
   "metadata": {},
   "outputs": [],
   "source": [
    "movies['genres'] = movies['genres'].fillna(\"None\")"
   ]
  },
  {
   "cell_type": "markdown",
   "id": "76ce4978",
   "metadata": {},
   "source": [
    "### 3.3 For \"crew\" column we will be doing analyis only where job is  \"director\" so fetching data accordingly using convertcrew function."
   ]
  },
  {
   "cell_type": "code",
   "execution_count": 52,
   "id": "e9f7c2d9",
   "metadata": {},
   "outputs": [],
   "source": [
    "def convertcrew(obj):\n",
    "    for i in ast.literal_eval(obj):\n",
    "        if i['job']=='Director':\n",
    "            return (i['name'])\n"
   ]
  },
  {
   "cell_type": "code",
   "execution_count": 53,
   "id": "6e88ae17",
   "metadata": {},
   "outputs": [],
   "source": [
    "movies['crew']=movies['crew'].apply(convertcrew)\n",
    "movies.rename(columns={'crew':'director'},inplace=True)"
   ]
  },
  {
   "cell_type": "code",
   "execution_count": 54,
   "id": "eeb83d7f",
   "metadata": {},
   "outputs": [
    {
     "data": {
      "text/html": [
       "<div>\n",
       "<style scoped>\n",
       "    .dataframe tbody tr th:only-of-type {\n",
       "        vertical-align: middle;\n",
       "    }\n",
       "\n",
       "    .dataframe tbody tr th {\n",
       "        vertical-align: top;\n",
       "    }\n",
       "\n",
       "    .dataframe thead th {\n",
       "        text-align: right;\n",
       "    }\n",
       "</style>\n",
       "<table border=\"1\" class=\"dataframe\">\n",
       "  <thead>\n",
       "    <tr style=\"text-align: right;\">\n",
       "      <th></th>\n",
       "      <th>id</th>\n",
       "      <th>budget</th>\n",
       "      <th>genres</th>\n",
       "      <th>popularity</th>\n",
       "      <th>production_companies</th>\n",
       "      <th>release_date</th>\n",
       "      <th>revenue</th>\n",
       "      <th>title</th>\n",
       "      <th>vote_average</th>\n",
       "      <th>original_language</th>\n",
       "      <th>vote_count</th>\n",
       "      <th>director</th>\n",
       "      <th>cast1</th>\n",
       "      <th>cast2</th>\n",
       "    </tr>\n",
       "  </thead>\n",
       "  <tbody>\n",
       "    <tr>\n",
       "      <th>0</th>\n",
       "      <td>675353</td>\n",
       "      <td>110000000</td>\n",
       "      <td>Action</td>\n",
       "      <td>9124.409</td>\n",
       "      <td>SEGA</td>\n",
       "      <td>2022-03-30</td>\n",
       "      <td>355200000</td>\n",
       "      <td>Sonic the Hedgehog 2</td>\n",
       "      <td>7.7</td>\n",
       "      <td>en</td>\n",
       "      <td>1395</td>\n",
       "      <td>Jeff Fowler</td>\n",
       "      <td>Ben Schwartz</td>\n",
       "      <td>Idris Elba</td>\n",
       "    </tr>\n",
       "    <tr>\n",
       "      <th>1</th>\n",
       "      <td>335787</td>\n",
       "      <td>120000000</td>\n",
       "      <td>Action</td>\n",
       "      <td>4274.019</td>\n",
       "      <td>Columbia Pictures</td>\n",
       "      <td>2022-02-10</td>\n",
       "      <td>395124202</td>\n",
       "      <td>Uncharted</td>\n",
       "      <td>7.2</td>\n",
       "      <td>en</td>\n",
       "      <td>1954</td>\n",
       "      <td>Ruben Fleischer</td>\n",
       "      <td>Tom Holland</td>\n",
       "      <td>Mark Wahlberg</td>\n",
       "    </tr>\n",
       "    <tr>\n",
       "      <th>2</th>\n",
       "      <td>414906</td>\n",
       "      <td>185000000</td>\n",
       "      <td>Crime</td>\n",
       "      <td>3923.239</td>\n",
       "      <td>6th &amp; Idaho</td>\n",
       "      <td>2022-03-01</td>\n",
       "      <td>764573021</td>\n",
       "      <td>The Batman</td>\n",
       "      <td>7.8</td>\n",
       "      <td>en</td>\n",
       "      <td>4579</td>\n",
       "      <td>Matt Reeves</td>\n",
       "      <td>Robert Pattinson</td>\n",
       "      <td>Zoë Kravitz</td>\n",
       "    </tr>\n",
       "    <tr>\n",
       "      <th>3</th>\n",
       "      <td>629542</td>\n",
       "      <td>80000000</td>\n",
       "      <td>Animation</td>\n",
       "      <td>3511.281</td>\n",
       "      <td>DreamWorks Animation</td>\n",
       "      <td>2022-03-17</td>\n",
       "      <td>165558000</td>\n",
       "      <td>The Bad Guys</td>\n",
       "      <td>7.8</td>\n",
       "      <td>en</td>\n",
       "      <td>415</td>\n",
       "      <td>Pierre Perifel</td>\n",
       "      <td>Sam Rockwell</td>\n",
       "      <td>Marc Maron</td>\n",
       "    </tr>\n",
       "    <tr>\n",
       "      <th>4</th>\n",
       "      <td>453395</td>\n",
       "      <td>200000000</td>\n",
       "      <td>Fantasy</td>\n",
       "      <td>3770.076</td>\n",
       "      <td>Marvel Studios</td>\n",
       "      <td>2022-05-04</td>\n",
       "      <td>688000000</td>\n",
       "      <td>Doctor Strange in the Multiverse of Madness</td>\n",
       "      <td>7.5</td>\n",
       "      <td>en</td>\n",
       "      <td>1577</td>\n",
       "      <td>Sam Raimi</td>\n",
       "      <td>Benedict Cumberbatch</td>\n",
       "      <td>Elizabeth Olsen</td>\n",
       "    </tr>\n",
       "  </tbody>\n",
       "</table>\n",
       "</div>"
      ],
      "text/plain": [
       "       id     budget     genres  popularity  production_companies  \\\n",
       "0  675353  110000000     Action    9124.409                  SEGA   \n",
       "1  335787  120000000     Action    4274.019     Columbia Pictures   \n",
       "2  414906  185000000      Crime    3923.239           6th & Idaho   \n",
       "3  629542   80000000  Animation    3511.281  DreamWorks Animation   \n",
       "4  453395  200000000    Fantasy    3770.076        Marvel Studios   \n",
       "\n",
       "  release_date    revenue                                        title  \\\n",
       "0   2022-03-30  355200000                         Sonic the Hedgehog 2   \n",
       "1   2022-02-10  395124202                                    Uncharted   \n",
       "2   2022-03-01  764573021                                   The Batman   \n",
       "3   2022-03-17  165558000                                 The Bad Guys   \n",
       "4   2022-05-04  688000000  Doctor Strange in the Multiverse of Madness   \n",
       "\n",
       "   vote_average original_language  vote_count         director  \\\n",
       "0           7.7                en        1395      Jeff Fowler   \n",
       "1           7.2                en        1954  Ruben Fleischer   \n",
       "2           7.8                en        4579      Matt Reeves   \n",
       "3           7.8                en         415   Pierre Perifel   \n",
       "4           7.5                en        1577        Sam Raimi   \n",
       "\n",
       "                  cast1            cast2  \n",
       "0          Ben Schwartz       Idris Elba  \n",
       "1           Tom Holland    Mark Wahlberg  \n",
       "2      Robert Pattinson      Zoë Kravitz  \n",
       "3          Sam Rockwell       Marc Maron  \n",
       "4  Benedict Cumberbatch  Elizabeth Olsen  "
      ]
     },
     "execution_count": 54,
     "metadata": {},
     "output_type": "execute_result"
    }
   ],
   "source": [
    "movies.head()"
   ]
  },
  {
   "cell_type": "code",
   "execution_count": 55,
   "id": "8f9062a7",
   "metadata": {},
   "outputs": [],
   "source": [
    "movies['release_date'] = pd.to_datetime(movies.release_date)"
   ]
  },
  {
   "cell_type": "code",
   "execution_count": 56,
   "id": "1bef70ae",
   "metadata": {},
   "outputs": [],
   "source": [
    "movies['release_year']= pd.DatetimeIndex(movies['release_date']).year"
   ]
  },
  {
   "cell_type": "markdown",
   "id": "b1b9c010",
   "metadata": {},
   "source": [
    "## 4. Analysing dataset"
   ]
  },
  {
   "cell_type": "markdown",
   "id": "68349bcc",
   "metadata": {},
   "source": [
    "## 4.1 Budget Analysis and Revenue Analysis"
   ]
  },
  {
   "cell_type": "code",
   "execution_count": 57,
   "id": "3f092ebd",
   "metadata": {},
   "outputs": [
    {
     "data": {
      "text/plain": [
       "936"
      ]
     },
     "execution_count": 57,
     "metadata": {},
     "output_type": "execute_result"
    }
   ],
   "source": [
    "movies[(movies['budget']==0) | (movies['revenue']==0) ]['id'].nunique()"
   ]
  },
  {
   "cell_type": "markdown",
   "id": "5631ec17",
   "metadata": {},
   "source": [
    "#### *** Many values for budget and revenue are zero so we will be excluding those in our analysis ***"
   ]
  },
  {
   "cell_type": "code",
   "execution_count": 58,
   "id": "e17b885a",
   "metadata": {},
   "outputs": [
    {
     "data": {
      "application/vnd.plotly.v1+json": {
       "config": {
        "linkText": "Export to plot.ly",
        "plotlyServerURL": "https://plot.ly",
        "showLink": false
       },
       "data": [
        {
         "alignmentgroup": "True",
         "bingroup": "x",
         "hovertemplate": "x=%{x}<br>count=%{y}<extra></extra>",
         "legendgroup": "",
         "marker": {
          "color": "#636efa",
          "opacity": 0.6,
          "pattern": {
           "shape": ""
          }
         },
         "name": "",
         "nbinsx": 10,
         "offsetgroup": "",
         "orientation": "v",
         "showlegend": false,
         "type": "histogram",
         "x": [
          110000000,
          120000000,
          185000000,
          80000000,
          200000000,
          200000000,
          190000000,
          146000000,
          165000000,
          40000000,
          74000000,
          50000000,
          200000000,
          70000000,
          1500000,
          75000000,
          116000000,
          110000000,
          43000000,
          15800000,
          85000000,
          200000000,
          150000000,
          237000000,
          85000000,
          40000000,
          24000000,
          100000000,
          20000000,
          75000000,
          380000000,
          82000000,
          200000000,
          64000000,
          300000000,
          190000000,
          140000000,
          300000000,
          6500000,
          160000000,
          10000000,
          200000000,
          26000000,
          20000000,
          69000000,
          2000000,
          110000000,
          60000000,
          230000000,
          200000000,
          200000000,
          9100000,
          250000000,
          39000000,
          185000000,
          200000000,
          8400000,
          356000000,
          75000000,
          165000000,
          200000000,
          17000000,
          200000000,
          220000000,
          70000000,
          14000000,
          5000000,
          90,
          23000000,
          90000000,
          161900000,
          18000000,
          2500000,
          10000000,
          100000000,
          65000000,
          165,
          250000000,
          60000000,
          200000000,
          125000000,
          1000000,
          180000000,
          40000000,
          45223,
          29000000,
          34000000,
          215000000,
          10000000,
          365000000,
          60000000,
          18000000,
          3000000,
          152000000,
          20000000,
          100000000,
          40000000,
          175000000,
          150000000,
          38504400,
          100000000,
          50000000,
          200000000,
          79000000,
          100000000,
          88000000,
          58000000,
          25000000,
          30000000,
          200000000,
          250000000,
          130000000,
          61000000,
          3000000,
          60000000,
          19597380,
          150000000,
          175000000,
          45000000,
          150000000,
          200000000,
          250000,
          150000000,
          160000000,
          100000000,
          13000000,
          20000000,
          50000000,
          200000000,
          60000000,
          125000000,
          150000000,
          180000000,
          115000000,
          12000000,
          110000000,
          250000000,
          150000000,
          14000000,
          68000000,
          116000000,
          250000000,
          150000000,
          12000000,
          200000000,
          15000000,
          40000000,
          15,
          30000000,
          165000000,
          170000000,
          200000000,
          150000000,
          200000000,
          150000000,
          110000000,
          250000000,
          250000000,
          40000000,
          20000000,
          59000000,
          200000000,
          23000000,
          40000000,
          175000000,
          95000000,
          150000000,
          13000000,
          2011799,
          180000000,
          48000000,
          139000000,
          150000000,
          26000000,
          105000000,
          35000000,
          5000000,
          40000000,
          45000000,
          40000000,
          6500000,
          150000000,
          22000000,
          43000000,
          68000000,
          22000000,
          90000000,
          20000000,
          40000000,
          30000000,
          37000000,
          175000000,
          200000000,
          79000000,
          68000000,
          20000000,
          2900000,
          125000000,
          40000000,
          140000000,
          55000000,
          90000000,
          190000000,
          19000000,
          258000000,
          84000000,
          40000000,
          200000000,
          165000000,
          75000000,
          1000000,
          5000000,
          260000000,
          15000000,
          200000000,
          200000000,
          20000000,
          18000000,
          260000000,
          50000000,
          170000000,
          160000000,
          20000000,
          185000000,
          75000000,
          100000000,
          20000000,
          180000000,
          75000000,
          23000000,
          7000000,
          3000000,
          170000000,
          55000000,
          175000000,
          165000000,
          90000000,
          80000000,
          160000000,
          140000000,
          250000000,
          75000000,
          30000000,
          125000000,
          14479740,
          8500000,
          6500000,
          61000000,
          62000000,
          150000000,
          150000000,
          175000000,
          152000000,
          45000000,
          17700000,
          20000000,
          120000000,
          90000000,
          250000000,
          4000000,
          150000000,
          65000000,
          40000000,
          80000000,
          175000000,
          110000000,
          200000000,
          200000000,
          125000000,
          65000000,
          210000000,
          50000000,
          93000000,
          80000000,
          94000000,
          110000000,
          40000000,
          180000000,
          45000000,
          250000000,
          50000000,
          15000000,
          80000000,
          60000000,
          79000000,
          10000000,
          100000000,
          69000000,
          95000000,
          13000000,
          30000000,
          125000000,
          250000000,
          500000,
          20000000,
          40000000,
          183000000,
          70000000,
          104000000,
          75000000,
          25000000,
          250000000,
          1488423,
          60000000,
          40000000,
          11000000,
          14000000,
          20000000,
          178000000,
          53000000,
          40000000,
          200000000,
          217000000,
          80000000,
          55000000,
          175000000,
          13000000,
          81000000,
          67000000,
          90000000,
          150000000,
          76000000,
          125000000,
          94000000,
          170000000,
          130000000,
          24000000,
          165000000,
          80000000,
          85000000,
          4000000,
          50000000,
          48000000,
          900000,
          40000000,
          100000000,
          111000000,
          4000000,
          80000000,
          90000000,
          92000000,
          3000000,
          127500000,
          37000000,
          103000000,
          20000000,
          2000000,
          69000000,
          41677699,
          160000000,
          49000000,
          25000000,
          28000000,
          50000000,
          25000000,
          52000000,
          225000000,
          50000000,
          120000000,
          155000000,
          30000000,
          25000000,
          55000000,
          100000000,
          35000000,
          37000000,
          128000000,
          37000000,
          10000000,
          150000000,
          205000000,
          66000000,
          250000000,
          10000,
          60000000,
          9500000,
          24393503,
          185000000,
          1500000,
          30000000,
          135000000,
          17000000,
          3000000,
          120000000,
          80000000,
          130000000,
          130000000,
          185000000,
          175000000,
          150000000,
          175000000,
          12600000,
          12400000,
          12000000,
          58800000,
          180000000,
          30000000,
          200000000,
          160000000,
          75000000,
          10000000,
          40000000,
          3000000,
          105000000,
          97000000,
          4000000,
          20000000,
          2500000,
          130178,
          80000000,
          2600000,
          25000000,
          23600000,
          23000000,
          129000000,
          2600000,
          200000000,
          50000000,
          30000000,
          21800000,
          55000000,
          200000000,
          200000000,
          70000000,
          150000000,
          160000000,
          120000000,
          150000000,
          132000000,
          11363000,
          225000000,
          80000000,
          3000000,
          19000000,
          24000000,
          858000,
          15000000,
          97000000,
          25000000,
          19000000,
          130000000,
          20000000,
          4000000,
          149000000,
          23000000,
          245000000,
          2800000,
          812000,
          61000000,
          10000000,
          17000000,
          100000000,
          82000000,
          26000000,
          35000000,
          34000000,
          10000000,
          20000000,
          15000000,
          40000000,
          17000000,
          25000000,
          175000000,
          200000000,
          11936735,
          6000000,
          21000000,
          57000000,
          3000000,
          95000000,
          30000000,
          9000000,
          550000,
          47000000,
          150000000,
          215000,
          5000000,
          5000000,
          35000000,
          5700000,
          150000000,
          14000000,
          80000000,
          7000000,
          21700000,
          120000000,
          54000000,
          5000000,
          225000000,
          29000000,
          16000000,
          20000000,
          1500000,
          145000000,
          75000000,
          11000000,
          35000000,
          1250000,
          6500000,
          20000000,
          11000000,
          30000000,
          20000000,
          90000000,
          27000000,
          178000000,
          25000000,
          26000000,
          9000000,
          7500000,
          150000000,
          25000000,
          18300000,
          12000000,
          48000000,
          70000000,
          1200000,
          85000000,
          365000,
          30000000,
          31000000,
          140000000,
          40000000,
          40000000,
          6500000,
          30000000,
          110000000,
          24000000,
          40000000,
          90000000,
          6500000,
          47000000,
          88000000,
          10000000,
          145000000,
          3800000,
          50000000,
          85000000,
          50000000,
          50000000,
          110000000,
          90000000,
          88000000,
          32000000,
          80000000,
          1500000,
          170000000,
          63000000,
          5000000,
          110000000,
          30000000,
          28000000,
          165000000,
          45000000,
          165000000,
          250000000,
          140000000,
          144000000,
          15000000,
          250000000,
          100000000,
          175000000,
          15000000,
          103000000,
          6000000,
          145000000,
          25000000,
          15000000,
          40000000,
          70000000,
          85000000,
          170000000,
          100000000,
          30000000,
          123000000,
          17000000,
          300000000,
          200000000,
          42000000,
          170000000,
          16000000,
          42000000,
          5000000,
          50100000,
          200000000,
          100000000,
          30000000,
          6000000,
          200000000,
          24000000,
          4000000,
          9000000,
          42000000,
          6000000,
          27000000,
          185000000,
          109000000,
          40000000,
          11000000,
          6300000,
          24000000,
          75000000,
          90000000,
          25000000,
          145000000,
          170000000,
          160000000,
          176000003,
          28000000,
          130000000,
          150000000,
          215000000,
          25000000,
          25000000,
          4000000,
          150000000,
          6000000,
          200000000,
          1000000,
          140000000,
          60000000,
          2280000,
          75000000,
          150000000,
          3000000,
          150000000,
          150000000,
          130000000,
          93000000,
          25000000,
          17739525,
          50000000,
          35000000,
          135000000,
          133000000,
          150000000,
          185000000,
          47000000,
          50000000,
          33000000,
          163000000,
          65000000,
          108000000,
          30000000,
          150000000,
          98000000,
          92000000,
          150000000,
          25000000,
          140000000,
          16000000,
          25000000,
          18000000,
          3000000,
          85000000,
          9000000,
          2000000,
          10000000,
          70000000,
          40000000,
          20000000,
          2500000,
          110000000,
          13000000,
          35000000,
          12000000,
          109000000,
          40000000,
          3500000,
          28000000,
          13000000,
          10000000,
          10000000,
          30000000,
          30000000,
          38000000,
          117000000,
          125687,
          15774948,
          19000000,
          7000000,
          50000000,
          35000000,
          30000000,
          22000000,
          80000000,
          60000000,
          177200000,
          50000000,
          85000,
          12000000,
          6200000,
          2777000,
          5000000,
          5883687,
          28000000,
          15500000,
          35000000,
          10000000,
          80000000,
          62000000,
          40000000,
          9000000,
          50000000,
          44000000,
          100000000,
          17000000,
          70000000,
          42000000,
          53000000,
          20000000,
          250000000,
          170000000,
          10000000,
          15000000,
          145000000,
          20000000,
          195000000,
          29000000,
          70000000,
          200000000,
          70000000,
          2000000,
          6600000,
          97600000,
          25000000,
          38000000,
          4000000,
          30000000,
          10000000,
          100000000,
          9900000,
          10000000,
          60000000,
          40000000,
          80000000,
          6500000,
          50000000,
          60000000,
          130000000,
          2800000,
          43000000,
          75000000,
          40000000,
          20000000,
          100000000,
          10000000,
          5000000,
          3000000,
          60000000,
          110000000,
          5000000,
          39307171,
          3700000,
          62000000,
          11000000,
          74000000,
          14000000,
          15000000,
          150000000,
          34000000,
          10000000,
          19000000,
          38000000,
          19000000,
          1200000,
          40000000,
          13000000,
          130000000,
          102000000,
          39200000,
          69000000,
          125000000,
          6500000,
          150000000,
          350000,
          3500000,
          26000000,
          30000000,
          20000000,
          30000000,
          30000000,
          75000000,
          25130430,
          65000000,
          20000000,
          100000000,
          4000000,
          25000000,
          100000000,
          5000000,
          100000000,
          1350000,
          20000000,
          500000,
          2000000,
          175000000,
          135000000,
          52000000,
          14000000,
          60000000,
          70000000,
          5000000,
          45000000,
          1100000,
          74000000,
          23000000,
          13000000,
          95000000,
          40000000,
          4000000,
          155000000,
          20000000,
          35000000,
          20000000,
          200000000,
          180000000,
          20000000,
          110000000,
          70000000,
          30000000,
          80000000,
          3000000,
          1200000,
          6000000,
          90000000,
          63000000,
          8500000,
          35000000,
          125000000,
          140000000,
          40000000,
          60000000,
          36000000,
          10000005,
          19000000,
          90000000,
          95000000,
          60720000,
          15000000,
          10000000,
          2200000,
          13000000,
          30000000,
          5000000,
          35000000,
          10000000,
          80000000,
          35000000,
          30000000,
          25000000,
          100000000,
          80000000,
          13200000,
          75000000,
          15000000,
          10000000,
          64000000,
          63000000,
          46000000,
          13000000,
          12000000,
          42000000,
          12000000,
          15000000,
          70000000,
          135000000,
          125000000,
          48000000,
          15000000,
          30000000,
          70000000,
          10200000,
          8000000,
          12000000,
          20000000,
          250000000,
          110000000,
          17000000,
          12500000,
          75000000,
          75000000,
          14000000,
          63000000,
          94000000,
          55000000,
          65000000,
          18000000,
          207000000,
          245000000,
          137000000,
          5000000,
          18000000,
          35000000,
          60000000,
          14000000,
          100000000,
          100000000,
          49000000,
          150000000,
          140000000,
          100000000,
          19000000,
          3500000,
          150000000,
          45000000,
          30000000,
          17000000,
          3500000,
          130000000,
          209000000,
          16000000,
          11500000,
          5000000,
          170000000,
          5000000,
          4000000,
          135000000,
          35000000,
          31000000,
          1344000,
          58000000,
          3000000,
          10000000,
          90000000,
          100000000,
          18300000,
          92000000,
          1800000,
          5600000,
          68000000,
          150000000,
          19000000,
          6400000,
          27000000,
          82343495,
          50000000,
          38000000,
          75000000,
          13000000,
          10000000,
          80000000,
          120000000,
          4500000,
          80000000,
          160000000,
          78000000,
          10000000,
          90000000,
          37000000,
          3000000,
          9000000,
          29000000,
          3500000,
          40000000,
          165000000,
          190000000,
          45000000,
          6000000,
          7000000,
          46000000,
          120000000,
          7000000,
          5500000,
          5400000,
          7000000,
          30000000,
          20000000,
          90000000,
          31000000,
          60000000,
          60000000,
          100000000,
          28000000,
          15000000,
          40000000,
          10000000,
          25000000,
          30000000,
          6500000,
          3300000,
          90000000,
          3000000,
          61000000,
          33000000,
          130000000,
          110000000,
          52000000,
          39000000,
          1800000,
          82000000,
          7000000,
          130000000,
          20000000,
          90000000,
          20000000,
          11000000,
          60000,
          24000000,
          3300000,
          80000000,
          18000000,
          10000,
          3000000,
          60000000,
          160000000,
          10000000,
          3000000,
          178000000,
          75000000,
          11000000,
          13500000,
          60000000,
          660000,
          66000000,
          9000000,
          65000000,
          17000000,
          80000000,
          31000000,
          65000000,
          170000000,
          55000000,
          48000000,
          175000000,
          110000000,
          20000000,
          14000000,
          1255000,
          8000000,
          10000000,
          25000000,
          48000000,
          35000000,
          4500000,
          75000000,
          7000000,
          200000000,
          70000000,
          60000,
          40000000,
          27500000,
          2176270,
          50000000,
          11000000,
          20000000,
          19800000,
          55000000,
          8500000,
          84000000,
          17000000,
          40000000,
          48000000,
          250000000,
          6500000,
          150000000,
          47000000,
          52000000,
          145000000,
          5000000,
          35000000,
          5920000,
          138000000,
          22000000,
          54000000,
          65000000,
          150000000,
          30000000,
          8575000,
          150000000,
          15000000,
          25000000,
          125000,
          13938145,
          28000000,
          5000000,
          25000000,
          10000000,
          3000000,
          100000,
          55000000,
          10000000,
          110000000,
          75000000,
          55000000,
          1200000,
          45000000,
          20000000,
          30000000,
          3500000,
          40000000,
          3000000,
          110000000,
          3896000,
          50000000,
          30000000,
          32000000,
          50000000,
          150000000,
          2000000,
          16000000,
          5000000,
          60000000,
          150000000,
          15000000,
          11800000,
          125000000,
          85000000,
          1000000,
          38000000,
          4800000,
          21000000,
          5000000,
          54000000,
          79000000,
          115000000,
          58000000,
          26000000,
          50000000,
          90000000,
          30000000,
          18000000,
          5000000,
          3500000,
          11000000,
          125000000,
          25000000,
          8116935,
          30000000,
          51000000,
          6000000,
          2000000,
          85000000,
          190000000,
          5233963,
          45000000,
          200000000,
          10800000,
          6000000,
          12000000,
          130000000
         ],
         "xaxis": "x",
         "yaxis": "y"
        },
        {
         "alignmentgroup": "True",
         "hovertemplate": "x=%{x}<extra></extra>",
         "legendgroup": "",
         "marker": {
          "color": "#636efa"
         },
         "name": "",
         "notched": true,
         "offsetgroup": "",
         "showlegend": false,
         "type": "box",
         "x": [
          110000000,
          120000000,
          185000000,
          80000000,
          200000000,
          200000000,
          190000000,
          146000000,
          165000000,
          40000000,
          74000000,
          50000000,
          200000000,
          70000000,
          1500000,
          75000000,
          116000000,
          110000000,
          43000000,
          15800000,
          85000000,
          200000000,
          150000000,
          237000000,
          85000000,
          40000000,
          24000000,
          100000000,
          20000000,
          75000000,
          380000000,
          82000000,
          200000000,
          64000000,
          300000000,
          190000000,
          140000000,
          300000000,
          6500000,
          160000000,
          10000000,
          200000000,
          26000000,
          20000000,
          69000000,
          2000000,
          110000000,
          60000000,
          230000000,
          200000000,
          200000000,
          9100000,
          250000000,
          39000000,
          185000000,
          200000000,
          8400000,
          356000000,
          75000000,
          165000000,
          200000000,
          17000000,
          200000000,
          220000000,
          70000000,
          14000000,
          5000000,
          90,
          23000000,
          90000000,
          161900000,
          18000000,
          2500000,
          10000000,
          100000000,
          65000000,
          165,
          250000000,
          60000000,
          200000000,
          125000000,
          1000000,
          180000000,
          40000000,
          45223,
          29000000,
          34000000,
          215000000,
          10000000,
          365000000,
          60000000,
          18000000,
          3000000,
          152000000,
          20000000,
          100000000,
          40000000,
          175000000,
          150000000,
          38504400,
          100000000,
          50000000,
          200000000,
          79000000,
          100000000,
          88000000,
          58000000,
          25000000,
          30000000,
          200000000,
          250000000,
          130000000,
          61000000,
          3000000,
          60000000,
          19597380,
          150000000,
          175000000,
          45000000,
          150000000,
          200000000,
          250000,
          150000000,
          160000000,
          100000000,
          13000000,
          20000000,
          50000000,
          200000000,
          60000000,
          125000000,
          150000000,
          180000000,
          115000000,
          12000000,
          110000000,
          250000000,
          150000000,
          14000000,
          68000000,
          116000000,
          250000000,
          150000000,
          12000000,
          200000000,
          15000000,
          40000000,
          15,
          30000000,
          165000000,
          170000000,
          200000000,
          150000000,
          200000000,
          150000000,
          110000000,
          250000000,
          250000000,
          40000000,
          20000000,
          59000000,
          200000000,
          23000000,
          40000000,
          175000000,
          95000000,
          150000000,
          13000000,
          2011799,
          180000000,
          48000000,
          139000000,
          150000000,
          26000000,
          105000000,
          35000000,
          5000000,
          40000000,
          45000000,
          40000000,
          6500000,
          150000000,
          22000000,
          43000000,
          68000000,
          22000000,
          90000000,
          20000000,
          40000000,
          30000000,
          37000000,
          175000000,
          200000000,
          79000000,
          68000000,
          20000000,
          2900000,
          125000000,
          40000000,
          140000000,
          55000000,
          90000000,
          190000000,
          19000000,
          258000000,
          84000000,
          40000000,
          200000000,
          165000000,
          75000000,
          1000000,
          5000000,
          260000000,
          15000000,
          200000000,
          200000000,
          20000000,
          18000000,
          260000000,
          50000000,
          170000000,
          160000000,
          20000000,
          185000000,
          75000000,
          100000000,
          20000000,
          180000000,
          75000000,
          23000000,
          7000000,
          3000000,
          170000000,
          55000000,
          175000000,
          165000000,
          90000000,
          80000000,
          160000000,
          140000000,
          250000000,
          75000000,
          30000000,
          125000000,
          14479740,
          8500000,
          6500000,
          61000000,
          62000000,
          150000000,
          150000000,
          175000000,
          152000000,
          45000000,
          17700000,
          20000000,
          120000000,
          90000000,
          250000000,
          4000000,
          150000000,
          65000000,
          40000000,
          80000000,
          175000000,
          110000000,
          200000000,
          200000000,
          125000000,
          65000000,
          210000000,
          50000000,
          93000000,
          80000000,
          94000000,
          110000000,
          40000000,
          180000000,
          45000000,
          250000000,
          50000000,
          15000000,
          80000000,
          60000000,
          79000000,
          10000000,
          100000000,
          69000000,
          95000000,
          13000000,
          30000000,
          125000000,
          250000000,
          500000,
          20000000,
          40000000,
          183000000,
          70000000,
          104000000,
          75000000,
          25000000,
          250000000,
          1488423,
          60000000,
          40000000,
          11000000,
          14000000,
          20000000,
          178000000,
          53000000,
          40000000,
          200000000,
          217000000,
          80000000,
          55000000,
          175000000,
          13000000,
          81000000,
          67000000,
          90000000,
          150000000,
          76000000,
          125000000,
          94000000,
          170000000,
          130000000,
          24000000,
          165000000,
          80000000,
          85000000,
          4000000,
          50000000,
          48000000,
          900000,
          40000000,
          100000000,
          111000000,
          4000000,
          80000000,
          90000000,
          92000000,
          3000000,
          127500000,
          37000000,
          103000000,
          20000000,
          2000000,
          69000000,
          41677699,
          160000000,
          49000000,
          25000000,
          28000000,
          50000000,
          25000000,
          52000000,
          225000000,
          50000000,
          120000000,
          155000000,
          30000000,
          25000000,
          55000000,
          100000000,
          35000000,
          37000000,
          128000000,
          37000000,
          10000000,
          150000000,
          205000000,
          66000000,
          250000000,
          10000,
          60000000,
          9500000,
          24393503,
          185000000,
          1500000,
          30000000,
          135000000,
          17000000,
          3000000,
          120000000,
          80000000,
          130000000,
          130000000,
          185000000,
          175000000,
          150000000,
          175000000,
          12600000,
          12400000,
          12000000,
          58800000,
          180000000,
          30000000,
          200000000,
          160000000,
          75000000,
          10000000,
          40000000,
          3000000,
          105000000,
          97000000,
          4000000,
          20000000,
          2500000,
          130178,
          80000000,
          2600000,
          25000000,
          23600000,
          23000000,
          129000000,
          2600000,
          200000000,
          50000000,
          30000000,
          21800000,
          55000000,
          200000000,
          200000000,
          70000000,
          150000000,
          160000000,
          120000000,
          150000000,
          132000000,
          11363000,
          225000000,
          80000000,
          3000000,
          19000000,
          24000000,
          858000,
          15000000,
          97000000,
          25000000,
          19000000,
          130000000,
          20000000,
          4000000,
          149000000,
          23000000,
          245000000,
          2800000,
          812000,
          61000000,
          10000000,
          17000000,
          100000000,
          82000000,
          26000000,
          35000000,
          34000000,
          10000000,
          20000000,
          15000000,
          40000000,
          17000000,
          25000000,
          175000000,
          200000000,
          11936735,
          6000000,
          21000000,
          57000000,
          3000000,
          95000000,
          30000000,
          9000000,
          550000,
          47000000,
          150000000,
          215000,
          5000000,
          5000000,
          35000000,
          5700000,
          150000000,
          14000000,
          80000000,
          7000000,
          21700000,
          120000000,
          54000000,
          5000000,
          225000000,
          29000000,
          16000000,
          20000000,
          1500000,
          145000000,
          75000000,
          11000000,
          35000000,
          1250000,
          6500000,
          20000000,
          11000000,
          30000000,
          20000000,
          90000000,
          27000000,
          178000000,
          25000000,
          26000000,
          9000000,
          7500000,
          150000000,
          25000000,
          18300000,
          12000000,
          48000000,
          70000000,
          1200000,
          85000000,
          365000,
          30000000,
          31000000,
          140000000,
          40000000,
          40000000,
          6500000,
          30000000,
          110000000,
          24000000,
          40000000,
          90000000,
          6500000,
          47000000,
          88000000,
          10000000,
          145000000,
          3800000,
          50000000,
          85000000,
          50000000,
          50000000,
          110000000,
          90000000,
          88000000,
          32000000,
          80000000,
          1500000,
          170000000,
          63000000,
          5000000,
          110000000,
          30000000,
          28000000,
          165000000,
          45000000,
          165000000,
          250000000,
          140000000,
          144000000,
          15000000,
          250000000,
          100000000,
          175000000,
          15000000,
          103000000,
          6000000,
          145000000,
          25000000,
          15000000,
          40000000,
          70000000,
          85000000,
          170000000,
          100000000,
          30000000,
          123000000,
          17000000,
          300000000,
          200000000,
          42000000,
          170000000,
          16000000,
          42000000,
          5000000,
          50100000,
          200000000,
          100000000,
          30000000,
          6000000,
          200000000,
          24000000,
          4000000,
          9000000,
          42000000,
          6000000,
          27000000,
          185000000,
          109000000,
          40000000,
          11000000,
          6300000,
          24000000,
          75000000,
          90000000,
          25000000,
          145000000,
          170000000,
          160000000,
          176000003,
          28000000,
          130000000,
          150000000,
          215000000,
          25000000,
          25000000,
          4000000,
          150000000,
          6000000,
          200000000,
          1000000,
          140000000,
          60000000,
          2280000,
          75000000,
          150000000,
          3000000,
          150000000,
          150000000,
          130000000,
          93000000,
          25000000,
          17739525,
          50000000,
          35000000,
          135000000,
          133000000,
          150000000,
          185000000,
          47000000,
          50000000,
          33000000,
          163000000,
          65000000,
          108000000,
          30000000,
          150000000,
          98000000,
          92000000,
          150000000,
          25000000,
          140000000,
          16000000,
          25000000,
          18000000,
          3000000,
          85000000,
          9000000,
          2000000,
          10000000,
          70000000,
          40000000,
          20000000,
          2500000,
          110000000,
          13000000,
          35000000,
          12000000,
          109000000,
          40000000,
          3500000,
          28000000,
          13000000,
          10000000,
          10000000,
          30000000,
          30000000,
          38000000,
          117000000,
          125687,
          15774948,
          19000000,
          7000000,
          50000000,
          35000000,
          30000000,
          22000000,
          80000000,
          60000000,
          177200000,
          50000000,
          85000,
          12000000,
          6200000,
          2777000,
          5000000,
          5883687,
          28000000,
          15500000,
          35000000,
          10000000,
          80000000,
          62000000,
          40000000,
          9000000,
          50000000,
          44000000,
          100000000,
          17000000,
          70000000,
          42000000,
          53000000,
          20000000,
          250000000,
          170000000,
          10000000,
          15000000,
          145000000,
          20000000,
          195000000,
          29000000,
          70000000,
          200000000,
          70000000,
          2000000,
          6600000,
          97600000,
          25000000,
          38000000,
          4000000,
          30000000,
          10000000,
          100000000,
          9900000,
          10000000,
          60000000,
          40000000,
          80000000,
          6500000,
          50000000,
          60000000,
          130000000,
          2800000,
          43000000,
          75000000,
          40000000,
          20000000,
          100000000,
          10000000,
          5000000,
          3000000,
          60000000,
          110000000,
          5000000,
          39307171,
          3700000,
          62000000,
          11000000,
          74000000,
          14000000,
          15000000,
          150000000,
          34000000,
          10000000,
          19000000,
          38000000,
          19000000,
          1200000,
          40000000,
          13000000,
          130000000,
          102000000,
          39200000,
          69000000,
          125000000,
          6500000,
          150000000,
          350000,
          3500000,
          26000000,
          30000000,
          20000000,
          30000000,
          30000000,
          75000000,
          25130430,
          65000000,
          20000000,
          100000000,
          4000000,
          25000000,
          100000000,
          5000000,
          100000000,
          1350000,
          20000000,
          500000,
          2000000,
          175000000,
          135000000,
          52000000,
          14000000,
          60000000,
          70000000,
          5000000,
          45000000,
          1100000,
          74000000,
          23000000,
          13000000,
          95000000,
          40000000,
          4000000,
          155000000,
          20000000,
          35000000,
          20000000,
          200000000,
          180000000,
          20000000,
          110000000,
          70000000,
          30000000,
          80000000,
          3000000,
          1200000,
          6000000,
          90000000,
          63000000,
          8500000,
          35000000,
          125000000,
          140000000,
          40000000,
          60000000,
          36000000,
          10000005,
          19000000,
          90000000,
          95000000,
          60720000,
          15000000,
          10000000,
          2200000,
          13000000,
          30000000,
          5000000,
          35000000,
          10000000,
          80000000,
          35000000,
          30000000,
          25000000,
          100000000,
          80000000,
          13200000,
          75000000,
          15000000,
          10000000,
          64000000,
          63000000,
          46000000,
          13000000,
          12000000,
          42000000,
          12000000,
          15000000,
          70000000,
          135000000,
          125000000,
          48000000,
          15000000,
          30000000,
          70000000,
          10200000,
          8000000,
          12000000,
          20000000,
          250000000,
          110000000,
          17000000,
          12500000,
          75000000,
          75000000,
          14000000,
          63000000,
          94000000,
          55000000,
          65000000,
          18000000,
          207000000,
          245000000,
          137000000,
          5000000,
          18000000,
          35000000,
          60000000,
          14000000,
          100000000,
          100000000,
          49000000,
          150000000,
          140000000,
          100000000,
          19000000,
          3500000,
          150000000,
          45000000,
          30000000,
          17000000,
          3500000,
          130000000,
          209000000,
          16000000,
          11500000,
          5000000,
          170000000,
          5000000,
          4000000,
          135000000,
          35000000,
          31000000,
          1344000,
          58000000,
          3000000,
          10000000,
          90000000,
          100000000,
          18300000,
          92000000,
          1800000,
          5600000,
          68000000,
          150000000,
          19000000,
          6400000,
          27000000,
          82343495,
          50000000,
          38000000,
          75000000,
          13000000,
          10000000,
          80000000,
          120000000,
          4500000,
          80000000,
          160000000,
          78000000,
          10000000,
          90000000,
          37000000,
          3000000,
          9000000,
          29000000,
          3500000,
          40000000,
          165000000,
          190000000,
          45000000,
          6000000,
          7000000,
          46000000,
          120000000,
          7000000,
          5500000,
          5400000,
          7000000,
          30000000,
          20000000,
          90000000,
          31000000,
          60000000,
          60000000,
          100000000,
          28000000,
          15000000,
          40000000,
          10000000,
          25000000,
          30000000,
          6500000,
          3300000,
          90000000,
          3000000,
          61000000,
          33000000,
          130000000,
          110000000,
          52000000,
          39000000,
          1800000,
          82000000,
          7000000,
          130000000,
          20000000,
          90000000,
          20000000,
          11000000,
          60000,
          24000000,
          3300000,
          80000000,
          18000000,
          10000,
          3000000,
          60000000,
          160000000,
          10000000,
          3000000,
          178000000,
          75000000,
          11000000,
          13500000,
          60000000,
          660000,
          66000000,
          9000000,
          65000000,
          17000000,
          80000000,
          31000000,
          65000000,
          170000000,
          55000000,
          48000000,
          175000000,
          110000000,
          20000000,
          14000000,
          1255000,
          8000000,
          10000000,
          25000000,
          48000000,
          35000000,
          4500000,
          75000000,
          7000000,
          200000000,
          70000000,
          60000,
          40000000,
          27500000,
          2176270,
          50000000,
          11000000,
          20000000,
          19800000,
          55000000,
          8500000,
          84000000,
          17000000,
          40000000,
          48000000,
          250000000,
          6500000,
          150000000,
          47000000,
          52000000,
          145000000,
          5000000,
          35000000,
          5920000,
          138000000,
          22000000,
          54000000,
          65000000,
          150000000,
          30000000,
          8575000,
          150000000,
          15000000,
          25000000,
          125000,
          13938145,
          28000000,
          5000000,
          25000000,
          10000000,
          3000000,
          100000,
          55000000,
          10000000,
          110000000,
          75000000,
          55000000,
          1200000,
          45000000,
          20000000,
          30000000,
          3500000,
          40000000,
          3000000,
          110000000,
          3896000,
          50000000,
          30000000,
          32000000,
          50000000,
          150000000,
          2000000,
          16000000,
          5000000,
          60000000,
          150000000,
          15000000,
          11800000,
          125000000,
          85000000,
          1000000,
          38000000,
          4800000,
          21000000,
          5000000,
          54000000,
          79000000,
          115000000,
          58000000,
          26000000,
          50000000,
          90000000,
          30000000,
          18000000,
          5000000,
          3500000,
          11000000,
          125000000,
          25000000,
          8116935,
          30000000,
          51000000,
          6000000,
          2000000,
          85000000,
          190000000,
          5233963,
          45000000,
          200000000,
          10800000,
          6000000,
          12000000,
          130000000
         ],
         "xaxis": "x2",
         "yaxis": "y2"
        }
       ],
       "layout": {
        "barmode": "relative",
        "hovermode": "x unified",
        "legend": {
         "tracegroupgap": 0
        },
        "template": {
         "data": {
          "bar": [
           {
            "error_x": {
             "color": "#f2f5fa"
            },
            "error_y": {
             "color": "#f2f5fa"
            },
            "marker": {
             "line": {
              "color": "rgb(17,17,17)",
              "width": 0.5
             },
             "pattern": {
              "fillmode": "overlay",
              "size": 10,
              "solidity": 0.2
             }
            },
            "type": "bar"
           }
          ],
          "barpolar": [
           {
            "marker": {
             "line": {
              "color": "rgb(17,17,17)",
              "width": 0.5
             },
             "pattern": {
              "fillmode": "overlay",
              "size": 10,
              "solidity": 0.2
             }
            },
            "type": "barpolar"
           }
          ],
          "carpet": [
           {
            "aaxis": {
             "endlinecolor": "#A2B1C6",
             "gridcolor": "#506784",
             "linecolor": "#506784",
             "minorgridcolor": "#506784",
             "startlinecolor": "#A2B1C6"
            },
            "baxis": {
             "endlinecolor": "#A2B1C6",
             "gridcolor": "#506784",
             "linecolor": "#506784",
             "minorgridcolor": "#506784",
             "startlinecolor": "#A2B1C6"
            },
            "type": "carpet"
           }
          ],
          "choropleth": [
           {
            "colorbar": {
             "outlinewidth": 0,
             "ticks": ""
            },
            "type": "choropleth"
           }
          ],
          "contour": [
           {
            "colorbar": {
             "outlinewidth": 0,
             "ticks": ""
            },
            "colorscale": [
             [
              0,
              "#0d0887"
             ],
             [
              0.1111111111111111,
              "#46039f"
             ],
             [
              0.2222222222222222,
              "#7201a8"
             ],
             [
              0.3333333333333333,
              "#9c179e"
             ],
             [
              0.4444444444444444,
              "#bd3786"
             ],
             [
              0.5555555555555556,
              "#d8576b"
             ],
             [
              0.6666666666666666,
              "#ed7953"
             ],
             [
              0.7777777777777778,
              "#fb9f3a"
             ],
             [
              0.8888888888888888,
              "#fdca26"
             ],
             [
              1,
              "#f0f921"
             ]
            ],
            "type": "contour"
           }
          ],
          "contourcarpet": [
           {
            "colorbar": {
             "outlinewidth": 0,
             "ticks": ""
            },
            "type": "contourcarpet"
           }
          ],
          "heatmap": [
           {
            "colorbar": {
             "outlinewidth": 0,
             "ticks": ""
            },
            "colorscale": [
             [
              0,
              "#0d0887"
             ],
             [
              0.1111111111111111,
              "#46039f"
             ],
             [
              0.2222222222222222,
              "#7201a8"
             ],
             [
              0.3333333333333333,
              "#9c179e"
             ],
             [
              0.4444444444444444,
              "#bd3786"
             ],
             [
              0.5555555555555556,
              "#d8576b"
             ],
             [
              0.6666666666666666,
              "#ed7953"
             ],
             [
              0.7777777777777778,
              "#fb9f3a"
             ],
             [
              0.8888888888888888,
              "#fdca26"
             ],
             [
              1,
              "#f0f921"
             ]
            ],
            "type": "heatmap"
           }
          ],
          "heatmapgl": [
           {
            "colorbar": {
             "outlinewidth": 0,
             "ticks": ""
            },
            "colorscale": [
             [
              0,
              "#0d0887"
             ],
             [
              0.1111111111111111,
              "#46039f"
             ],
             [
              0.2222222222222222,
              "#7201a8"
             ],
             [
              0.3333333333333333,
              "#9c179e"
             ],
             [
              0.4444444444444444,
              "#bd3786"
             ],
             [
              0.5555555555555556,
              "#d8576b"
             ],
             [
              0.6666666666666666,
              "#ed7953"
             ],
             [
              0.7777777777777778,
              "#fb9f3a"
             ],
             [
              0.8888888888888888,
              "#fdca26"
             ],
             [
              1,
              "#f0f921"
             ]
            ],
            "type": "heatmapgl"
           }
          ],
          "histogram": [
           {
            "marker": {
             "pattern": {
              "fillmode": "overlay",
              "size": 10,
              "solidity": 0.2
             }
            },
            "type": "histogram"
           }
          ],
          "histogram2d": [
           {
            "colorbar": {
             "outlinewidth": 0,
             "ticks": ""
            },
            "colorscale": [
             [
              0,
              "#0d0887"
             ],
             [
              0.1111111111111111,
              "#46039f"
             ],
             [
              0.2222222222222222,
              "#7201a8"
             ],
             [
              0.3333333333333333,
              "#9c179e"
             ],
             [
              0.4444444444444444,
              "#bd3786"
             ],
             [
              0.5555555555555556,
              "#d8576b"
             ],
             [
              0.6666666666666666,
              "#ed7953"
             ],
             [
              0.7777777777777778,
              "#fb9f3a"
             ],
             [
              0.8888888888888888,
              "#fdca26"
             ],
             [
              1,
              "#f0f921"
             ]
            ],
            "type": "histogram2d"
           }
          ],
          "histogram2dcontour": [
           {
            "colorbar": {
             "outlinewidth": 0,
             "ticks": ""
            },
            "colorscale": [
             [
              0,
              "#0d0887"
             ],
             [
              0.1111111111111111,
              "#46039f"
             ],
             [
              0.2222222222222222,
              "#7201a8"
             ],
             [
              0.3333333333333333,
              "#9c179e"
             ],
             [
              0.4444444444444444,
              "#bd3786"
             ],
             [
              0.5555555555555556,
              "#d8576b"
             ],
             [
              0.6666666666666666,
              "#ed7953"
             ],
             [
              0.7777777777777778,
              "#fb9f3a"
             ],
             [
              0.8888888888888888,
              "#fdca26"
             ],
             [
              1,
              "#f0f921"
             ]
            ],
            "type": "histogram2dcontour"
           }
          ],
          "mesh3d": [
           {
            "colorbar": {
             "outlinewidth": 0,
             "ticks": ""
            },
            "type": "mesh3d"
           }
          ],
          "parcoords": [
           {
            "line": {
             "colorbar": {
              "outlinewidth": 0,
              "ticks": ""
             }
            },
            "type": "parcoords"
           }
          ],
          "pie": [
           {
            "automargin": true,
            "type": "pie"
           }
          ],
          "scatter": [
           {
            "marker": {
             "line": {
              "color": "#283442"
             }
            },
            "type": "scatter"
           }
          ],
          "scatter3d": [
           {
            "line": {
             "colorbar": {
              "outlinewidth": 0,
              "ticks": ""
             }
            },
            "marker": {
             "colorbar": {
              "outlinewidth": 0,
              "ticks": ""
             }
            },
            "type": "scatter3d"
           }
          ],
          "scattercarpet": [
           {
            "marker": {
             "colorbar": {
              "outlinewidth": 0,
              "ticks": ""
             }
            },
            "type": "scattercarpet"
           }
          ],
          "scattergeo": [
           {
            "marker": {
             "colorbar": {
              "outlinewidth": 0,
              "ticks": ""
             }
            },
            "type": "scattergeo"
           }
          ],
          "scattergl": [
           {
            "marker": {
             "line": {
              "color": "#283442"
             }
            },
            "type": "scattergl"
           }
          ],
          "scattermapbox": [
           {
            "marker": {
             "colorbar": {
              "outlinewidth": 0,
              "ticks": ""
             }
            },
            "type": "scattermapbox"
           }
          ],
          "scatterpolar": [
           {
            "marker": {
             "colorbar": {
              "outlinewidth": 0,
              "ticks": ""
             }
            },
            "type": "scatterpolar"
           }
          ],
          "scatterpolargl": [
           {
            "marker": {
             "colorbar": {
              "outlinewidth": 0,
              "ticks": ""
             }
            },
            "type": "scatterpolargl"
           }
          ],
          "scatterternary": [
           {
            "marker": {
             "colorbar": {
              "outlinewidth": 0,
              "ticks": ""
             }
            },
            "type": "scatterternary"
           }
          ],
          "surface": [
           {
            "colorbar": {
             "outlinewidth": 0,
             "ticks": ""
            },
            "colorscale": [
             [
              0,
              "#0d0887"
             ],
             [
              0.1111111111111111,
              "#46039f"
             ],
             [
              0.2222222222222222,
              "#7201a8"
             ],
             [
              0.3333333333333333,
              "#9c179e"
             ],
             [
              0.4444444444444444,
              "#bd3786"
             ],
             [
              0.5555555555555556,
              "#d8576b"
             ],
             [
              0.6666666666666666,
              "#ed7953"
             ],
             [
              0.7777777777777778,
              "#fb9f3a"
             ],
             [
              0.8888888888888888,
              "#fdca26"
             ],
             [
              1,
              "#f0f921"
             ]
            ],
            "type": "surface"
           }
          ],
          "table": [
           {
            "cells": {
             "fill": {
              "color": "#506784"
             },
             "line": {
              "color": "rgb(17,17,17)"
             }
            },
            "header": {
             "fill": {
              "color": "#2a3f5f"
             },
             "line": {
              "color": "rgb(17,17,17)"
             }
            },
            "type": "table"
           }
          ]
         },
         "layout": {
          "annotationdefaults": {
           "arrowcolor": "#f2f5fa",
           "arrowhead": 0,
           "arrowwidth": 1
          },
          "autotypenumbers": "strict",
          "coloraxis": {
           "colorbar": {
            "outlinewidth": 0,
            "ticks": ""
           }
          },
          "colorscale": {
           "diverging": [
            [
             0,
             "#8e0152"
            ],
            [
             0.1,
             "#c51b7d"
            ],
            [
             0.2,
             "#de77ae"
            ],
            [
             0.3,
             "#f1b6da"
            ],
            [
             0.4,
             "#fde0ef"
            ],
            [
             0.5,
             "#f7f7f7"
            ],
            [
             0.6,
             "#e6f5d0"
            ],
            [
             0.7,
             "#b8e186"
            ],
            [
             0.8,
             "#7fbc41"
            ],
            [
             0.9,
             "#4d9221"
            ],
            [
             1,
             "#276419"
            ]
           ],
           "sequential": [
            [
             0,
             "#0d0887"
            ],
            [
             0.1111111111111111,
             "#46039f"
            ],
            [
             0.2222222222222222,
             "#7201a8"
            ],
            [
             0.3333333333333333,
             "#9c179e"
            ],
            [
             0.4444444444444444,
             "#bd3786"
            ],
            [
             0.5555555555555556,
             "#d8576b"
            ],
            [
             0.6666666666666666,
             "#ed7953"
            ],
            [
             0.7777777777777778,
             "#fb9f3a"
            ],
            [
             0.8888888888888888,
             "#fdca26"
            ],
            [
             1,
             "#f0f921"
            ]
           ],
           "sequentialminus": [
            [
             0,
             "#0d0887"
            ],
            [
             0.1111111111111111,
             "#46039f"
            ],
            [
             0.2222222222222222,
             "#7201a8"
            ],
            [
             0.3333333333333333,
             "#9c179e"
            ],
            [
             0.4444444444444444,
             "#bd3786"
            ],
            [
             0.5555555555555556,
             "#d8576b"
            ],
            [
             0.6666666666666666,
             "#ed7953"
            ],
            [
             0.7777777777777778,
             "#fb9f3a"
            ],
            [
             0.8888888888888888,
             "#fdca26"
            ],
            [
             1,
             "#f0f921"
            ]
           ]
          },
          "colorway": [
           "#636efa",
           "#EF553B",
           "#00cc96",
           "#ab63fa",
           "#FFA15A",
           "#19d3f3",
           "#FF6692",
           "#B6E880",
           "#FF97FF",
           "#FECB52"
          ],
          "font": {
           "color": "#f2f5fa"
          },
          "geo": {
           "bgcolor": "rgb(17,17,17)",
           "lakecolor": "rgb(17,17,17)",
           "landcolor": "rgb(17,17,17)",
           "showlakes": true,
           "showland": true,
           "subunitcolor": "#506784"
          },
          "hoverlabel": {
           "align": "left"
          },
          "hovermode": "closest",
          "mapbox": {
           "style": "dark"
          },
          "paper_bgcolor": "rgb(17,17,17)",
          "plot_bgcolor": "rgb(17,17,17)",
          "polar": {
           "angularaxis": {
            "gridcolor": "#506784",
            "linecolor": "#506784",
            "ticks": ""
           },
           "bgcolor": "rgb(17,17,17)",
           "radialaxis": {
            "gridcolor": "#506784",
            "linecolor": "#506784",
            "ticks": ""
           }
          },
          "scene": {
           "xaxis": {
            "backgroundcolor": "rgb(17,17,17)",
            "gridcolor": "#506784",
            "gridwidth": 2,
            "linecolor": "#506784",
            "showbackground": true,
            "ticks": "",
            "zerolinecolor": "#C8D4E3"
           },
           "yaxis": {
            "backgroundcolor": "rgb(17,17,17)",
            "gridcolor": "#506784",
            "gridwidth": 2,
            "linecolor": "#506784",
            "showbackground": true,
            "ticks": "",
            "zerolinecolor": "#C8D4E3"
           },
           "zaxis": {
            "backgroundcolor": "rgb(17,17,17)",
            "gridcolor": "#506784",
            "gridwidth": 2,
            "linecolor": "#506784",
            "showbackground": true,
            "ticks": "",
            "zerolinecolor": "#C8D4E3"
           }
          },
          "shapedefaults": {
           "line": {
            "color": "#f2f5fa"
           }
          },
          "sliderdefaults": {
           "bgcolor": "#C8D4E3",
           "bordercolor": "rgb(17,17,17)",
           "borderwidth": 1,
           "tickwidth": 0
          },
          "ternary": {
           "aaxis": {
            "gridcolor": "#506784",
            "linecolor": "#506784",
            "ticks": ""
           },
           "baxis": {
            "gridcolor": "#506784",
            "linecolor": "#506784",
            "ticks": ""
           },
           "bgcolor": "rgb(17,17,17)",
           "caxis": {
            "gridcolor": "#506784",
            "linecolor": "#506784",
            "ticks": ""
           }
          },
          "title": {
           "x": 0.05
          },
          "updatemenudefaults": {
           "bgcolor": "#506784",
           "borderwidth": 0
          },
          "xaxis": {
           "automargin": true,
           "gridcolor": "#283442",
           "linecolor": "#506784",
           "ticks": "",
           "title": {
            "standoff": 15
           },
           "zerolinecolor": "#283442",
           "zerolinewidth": 2
          },
          "yaxis": {
           "automargin": true,
           "gridcolor": "#283442",
           "linecolor": "#506784",
           "ticks": "",
           "title": {
            "standoff": 15
           },
           "zerolinecolor": "#283442",
           "zerolinewidth": 2
          }
         }
        },
        "title": {
         "text": "Budget Analysis",
         "x": 0.5
        },
        "xaxis": {
         "anchor": "y",
         "domain": [
          0,
          1
         ],
         "tickangle": 0,
         "title": {
          "text": "Budget"
         }
        },
        "xaxis2": {
         "anchor": "y2",
         "domain": [
          0,
          1
         ],
         "matches": "x",
         "showgrid": true,
         "showticklabels": false
        },
        "yaxis": {
         "anchor": "x",
         "domain": [
          0,
          0.8316
         ],
         "showgrid": false,
         "title": {
          "text": "Count"
         }
        },
        "yaxis2": {
         "anchor": "x2",
         "domain": [
          0.8416,
          1
         ],
         "matches": "y2",
         "showgrid": false,
         "showline": false,
         "showticklabels": false,
         "ticks": ""
        }
       }
      },
      "text/html": [
       "<div>                            <div id=\"0a7e8906-9753-46f8-b979-eec9cf8bf210\" class=\"plotly-graph-div\" style=\"height:525px; width:100%;\"></div>            <script type=\"text/javascript\">                require([\"plotly\"], function(Plotly) {                    window.PLOTLYENV=window.PLOTLYENV || {};                                    if (document.getElementById(\"0a7e8906-9753-46f8-b979-eec9cf8bf210\")) {                    Plotly.newPlot(                        \"0a7e8906-9753-46f8-b979-eec9cf8bf210\",                        [{\"alignmentgroup\":\"True\",\"bingroup\":\"x\",\"hovertemplate\":\"x=%{x}<br>count=%{y}<extra></extra>\",\"legendgroup\":\"\",\"marker\":{\"color\":\"#636efa\",\"opacity\":0.6,\"pattern\":{\"shape\":\"\"}},\"name\":\"\",\"nbinsx\":10,\"offsetgroup\":\"\",\"orientation\":\"v\",\"showlegend\":false,\"x\":[110000000,120000000,185000000,80000000,200000000,200000000,190000000,146000000,165000000,40000000,74000000,50000000,200000000,70000000,1500000,75000000,116000000,110000000,43000000,15800000,85000000,200000000,150000000,237000000,85000000,40000000,24000000,100000000,20000000,75000000,380000000,82000000,200000000,64000000,300000000,190000000,140000000,300000000,6500000,160000000,10000000,200000000,26000000,20000000,69000000,2000000,110000000,60000000,230000000,200000000,200000000,9100000,250000000,39000000,185000000,200000000,8400000,356000000,75000000,165000000,200000000,17000000,200000000,220000000,70000000,14000000,5000000,90,23000000,90000000,161900000,18000000,2500000,10000000,100000000,65000000,165,250000000,60000000,200000000,125000000,1000000,180000000,40000000,45223,29000000,34000000,215000000,10000000,365000000,60000000,18000000,3000000,152000000,20000000,100000000,40000000,175000000,150000000,38504400,100000000,50000000,200000000,79000000,100000000,88000000,58000000,25000000,30000000,200000000,250000000,130000000,61000000,3000000,60000000,19597380,150000000,175000000,45000000,150000000,200000000,250000,150000000,160000000,100000000,13000000,20000000,50000000,200000000,60000000,125000000,150000000,180000000,115000000,12000000,110000000,250000000,150000000,14000000,68000000,116000000,250000000,150000000,12000000,200000000,15000000,40000000,15,30000000,165000000,170000000,200000000,150000000,200000000,150000000,110000000,250000000,250000000,40000000,20000000,59000000,200000000,23000000,40000000,175000000,95000000,150000000,13000000,2011799,180000000,48000000,139000000,150000000,26000000,105000000,35000000,5000000,40000000,45000000,40000000,6500000,150000000,22000000,43000000,68000000,22000000,90000000,20000000,40000000,30000000,37000000,175000000,200000000,79000000,68000000,20000000,2900000,125000000,40000000,140000000,55000000,90000000,190000000,19000000,258000000,84000000,40000000,200000000,165000000,75000000,1000000,5000000,260000000,15000000,200000000,200000000,20000000,18000000,260000000,50000000,170000000,160000000,20000000,185000000,75000000,100000000,20000000,180000000,75000000,23000000,7000000,3000000,170000000,55000000,175000000,165000000,90000000,80000000,160000000,140000000,250000000,75000000,30000000,125000000,14479740,8500000,6500000,61000000,62000000,150000000,150000000,175000000,152000000,45000000,17700000,20000000,120000000,90000000,250000000,4000000,150000000,65000000,40000000,80000000,175000000,110000000,200000000,200000000,125000000,65000000,210000000,50000000,93000000,80000000,94000000,110000000,40000000,180000000,45000000,250000000,50000000,15000000,80000000,60000000,79000000,10000000,100000000,69000000,95000000,13000000,30000000,125000000,250000000,500000,20000000,40000000,183000000,70000000,104000000,75000000,25000000,250000000,1488423,60000000,40000000,11000000,14000000,20000000,178000000,53000000,40000000,200000000,217000000,80000000,55000000,175000000,13000000,81000000,67000000,90000000,150000000,76000000,125000000,94000000,170000000,130000000,24000000,165000000,80000000,85000000,4000000,50000000,48000000,900000,40000000,100000000,111000000,4000000,80000000,90000000,92000000,3000000,127500000,37000000,103000000,20000000,2000000,69000000,41677699,160000000,49000000,25000000,28000000,50000000,25000000,52000000,225000000,50000000,120000000,155000000,30000000,25000000,55000000,100000000,35000000,37000000,128000000,37000000,10000000,150000000,205000000,66000000,250000000,10000,60000000,9500000,24393503,185000000,1500000,30000000,135000000,17000000,3000000,120000000,80000000,130000000,130000000,185000000,175000000,150000000,175000000,12600000,12400000,12000000,58800000,180000000,30000000,200000000,160000000,75000000,10000000,40000000,3000000,105000000,97000000,4000000,20000000,2500000,130178,80000000,2600000,25000000,23600000,23000000,129000000,2600000,200000000,50000000,30000000,21800000,55000000,200000000,200000000,70000000,150000000,160000000,120000000,150000000,132000000,11363000,225000000,80000000,3000000,19000000,24000000,858000,15000000,97000000,25000000,19000000,130000000,20000000,4000000,149000000,23000000,245000000,2800000,812000,61000000,10000000,17000000,100000000,82000000,26000000,35000000,34000000,10000000,20000000,15000000,40000000,17000000,25000000,175000000,200000000,11936735,6000000,21000000,57000000,3000000,95000000,30000000,9000000,550000,47000000,150000000,215000,5000000,5000000,35000000,5700000,150000000,14000000,80000000,7000000,21700000,120000000,54000000,5000000,225000000,29000000,16000000,20000000,1500000,145000000,75000000,11000000,35000000,1250000,6500000,20000000,11000000,30000000,20000000,90000000,27000000,178000000,25000000,26000000,9000000,7500000,150000000,25000000,18300000,12000000,48000000,70000000,1200000,85000000,365000,30000000,31000000,140000000,40000000,40000000,6500000,30000000,110000000,24000000,40000000,90000000,6500000,47000000,88000000,10000000,145000000,3800000,50000000,85000000,50000000,50000000,110000000,90000000,88000000,32000000,80000000,1500000,170000000,63000000,5000000,110000000,30000000,28000000,165000000,45000000,165000000,250000000,140000000,144000000,15000000,250000000,100000000,175000000,15000000,103000000,6000000,145000000,25000000,15000000,40000000,70000000,85000000,170000000,100000000,30000000,123000000,17000000,300000000,200000000,42000000,170000000,16000000,42000000,5000000,50100000,200000000,100000000,30000000,6000000,200000000,24000000,4000000,9000000,42000000,6000000,27000000,185000000,109000000,40000000,11000000,6300000,24000000,75000000,90000000,25000000,145000000,170000000,160000000,176000003,28000000,130000000,150000000,215000000,25000000,25000000,4000000,150000000,6000000,200000000,1000000,140000000,60000000,2280000,75000000,150000000,3000000,150000000,150000000,130000000,93000000,25000000,17739525,50000000,35000000,135000000,133000000,150000000,185000000,47000000,50000000,33000000,163000000,65000000,108000000,30000000,150000000,98000000,92000000,150000000,25000000,140000000,16000000,25000000,18000000,3000000,85000000,9000000,2000000,10000000,70000000,40000000,20000000,2500000,110000000,13000000,35000000,12000000,109000000,40000000,3500000,28000000,13000000,10000000,10000000,30000000,30000000,38000000,117000000,125687,15774948,19000000,7000000,50000000,35000000,30000000,22000000,80000000,60000000,177200000,50000000,85000,12000000,6200000,2777000,5000000,5883687,28000000,15500000,35000000,10000000,80000000,62000000,40000000,9000000,50000000,44000000,100000000,17000000,70000000,42000000,53000000,20000000,250000000,170000000,10000000,15000000,145000000,20000000,195000000,29000000,70000000,200000000,70000000,2000000,6600000,97600000,25000000,38000000,4000000,30000000,10000000,100000000,9900000,10000000,60000000,40000000,80000000,6500000,50000000,60000000,130000000,2800000,43000000,75000000,40000000,20000000,100000000,10000000,5000000,3000000,60000000,110000000,5000000,39307171,3700000,62000000,11000000,74000000,14000000,15000000,150000000,34000000,10000000,19000000,38000000,19000000,1200000,40000000,13000000,130000000,102000000,39200000,69000000,125000000,6500000,150000000,350000,3500000,26000000,30000000,20000000,30000000,30000000,75000000,25130430,65000000,20000000,100000000,4000000,25000000,100000000,5000000,100000000,1350000,20000000,500000,2000000,175000000,135000000,52000000,14000000,60000000,70000000,5000000,45000000,1100000,74000000,23000000,13000000,95000000,40000000,4000000,155000000,20000000,35000000,20000000,200000000,180000000,20000000,110000000,70000000,30000000,80000000,3000000,1200000,6000000,90000000,63000000,8500000,35000000,125000000,140000000,40000000,60000000,36000000,10000005,19000000,90000000,95000000,60720000,15000000,10000000,2200000,13000000,30000000,5000000,35000000,10000000,80000000,35000000,30000000,25000000,100000000,80000000,13200000,75000000,15000000,10000000,64000000,63000000,46000000,13000000,12000000,42000000,12000000,15000000,70000000,135000000,125000000,48000000,15000000,30000000,70000000,10200000,8000000,12000000,20000000,250000000,110000000,17000000,12500000,75000000,75000000,14000000,63000000,94000000,55000000,65000000,18000000,207000000,245000000,137000000,5000000,18000000,35000000,60000000,14000000,100000000,100000000,49000000,150000000,140000000,100000000,19000000,3500000,150000000,45000000,30000000,17000000,3500000,130000000,209000000,16000000,11500000,5000000,170000000,5000000,4000000,135000000,35000000,31000000,1344000,58000000,3000000,10000000,90000000,100000000,18300000,92000000,1800000,5600000,68000000,150000000,19000000,6400000,27000000,82343495,50000000,38000000,75000000,13000000,10000000,80000000,120000000,4500000,80000000,160000000,78000000,10000000,90000000,37000000,3000000,9000000,29000000,3500000,40000000,165000000,190000000,45000000,6000000,7000000,46000000,120000000,7000000,5500000,5400000,7000000,30000000,20000000,90000000,31000000,60000000,60000000,100000000,28000000,15000000,40000000,10000000,25000000,30000000,6500000,3300000,90000000,3000000,61000000,33000000,130000000,110000000,52000000,39000000,1800000,82000000,7000000,130000000,20000000,90000000,20000000,11000000,60000,24000000,3300000,80000000,18000000,10000,3000000,60000000,160000000,10000000,3000000,178000000,75000000,11000000,13500000,60000000,660000,66000000,9000000,65000000,17000000,80000000,31000000,65000000,170000000,55000000,48000000,175000000,110000000,20000000,14000000,1255000,8000000,10000000,25000000,48000000,35000000,4500000,75000000,7000000,200000000,70000000,60000,40000000,27500000,2176270,50000000,11000000,20000000,19800000,55000000,8500000,84000000,17000000,40000000,48000000,250000000,6500000,150000000,47000000,52000000,145000000,5000000,35000000,5920000,138000000,22000000,54000000,65000000,150000000,30000000,8575000,150000000,15000000,25000000,125000,13938145,28000000,5000000,25000000,10000000,3000000,100000,55000000,10000000,110000000,75000000,55000000,1200000,45000000,20000000,30000000,3500000,40000000,3000000,110000000,3896000,50000000,30000000,32000000,50000000,150000000,2000000,16000000,5000000,60000000,150000000,15000000,11800000,125000000,85000000,1000000,38000000,4800000,21000000,5000000,54000000,79000000,115000000,58000000,26000000,50000000,90000000,30000000,18000000,5000000,3500000,11000000,125000000,25000000,8116935,30000000,51000000,6000000,2000000,85000000,190000000,5233963,45000000,200000000,10800000,6000000,12000000,130000000],\"xaxis\":\"x\",\"yaxis\":\"y\",\"type\":\"histogram\"},{\"alignmentgroup\":\"True\",\"hovertemplate\":\"x=%{x}<extra></extra>\",\"legendgroup\":\"\",\"marker\":{\"color\":\"#636efa\"},\"name\":\"\",\"notched\":true,\"offsetgroup\":\"\",\"showlegend\":false,\"x\":[110000000,120000000,185000000,80000000,200000000,200000000,190000000,146000000,165000000,40000000,74000000,50000000,200000000,70000000,1500000,75000000,116000000,110000000,43000000,15800000,85000000,200000000,150000000,237000000,85000000,40000000,24000000,100000000,20000000,75000000,380000000,82000000,200000000,64000000,300000000,190000000,140000000,300000000,6500000,160000000,10000000,200000000,26000000,20000000,69000000,2000000,110000000,60000000,230000000,200000000,200000000,9100000,250000000,39000000,185000000,200000000,8400000,356000000,75000000,165000000,200000000,17000000,200000000,220000000,70000000,14000000,5000000,90,23000000,90000000,161900000,18000000,2500000,10000000,100000000,65000000,165,250000000,60000000,200000000,125000000,1000000,180000000,40000000,45223,29000000,34000000,215000000,10000000,365000000,60000000,18000000,3000000,152000000,20000000,100000000,40000000,175000000,150000000,38504400,100000000,50000000,200000000,79000000,100000000,88000000,58000000,25000000,30000000,200000000,250000000,130000000,61000000,3000000,60000000,19597380,150000000,175000000,45000000,150000000,200000000,250000,150000000,160000000,100000000,13000000,20000000,50000000,200000000,60000000,125000000,150000000,180000000,115000000,12000000,110000000,250000000,150000000,14000000,68000000,116000000,250000000,150000000,12000000,200000000,15000000,40000000,15,30000000,165000000,170000000,200000000,150000000,200000000,150000000,110000000,250000000,250000000,40000000,20000000,59000000,200000000,23000000,40000000,175000000,95000000,150000000,13000000,2011799,180000000,48000000,139000000,150000000,26000000,105000000,35000000,5000000,40000000,45000000,40000000,6500000,150000000,22000000,43000000,68000000,22000000,90000000,20000000,40000000,30000000,37000000,175000000,200000000,79000000,68000000,20000000,2900000,125000000,40000000,140000000,55000000,90000000,190000000,19000000,258000000,84000000,40000000,200000000,165000000,75000000,1000000,5000000,260000000,15000000,200000000,200000000,20000000,18000000,260000000,50000000,170000000,160000000,20000000,185000000,75000000,100000000,20000000,180000000,75000000,23000000,7000000,3000000,170000000,55000000,175000000,165000000,90000000,80000000,160000000,140000000,250000000,75000000,30000000,125000000,14479740,8500000,6500000,61000000,62000000,150000000,150000000,175000000,152000000,45000000,17700000,20000000,120000000,90000000,250000000,4000000,150000000,65000000,40000000,80000000,175000000,110000000,200000000,200000000,125000000,65000000,210000000,50000000,93000000,80000000,94000000,110000000,40000000,180000000,45000000,250000000,50000000,15000000,80000000,60000000,79000000,10000000,100000000,69000000,95000000,13000000,30000000,125000000,250000000,500000,20000000,40000000,183000000,70000000,104000000,75000000,25000000,250000000,1488423,60000000,40000000,11000000,14000000,20000000,178000000,53000000,40000000,200000000,217000000,80000000,55000000,175000000,13000000,81000000,67000000,90000000,150000000,76000000,125000000,94000000,170000000,130000000,24000000,165000000,80000000,85000000,4000000,50000000,48000000,900000,40000000,100000000,111000000,4000000,80000000,90000000,92000000,3000000,127500000,37000000,103000000,20000000,2000000,69000000,41677699,160000000,49000000,25000000,28000000,50000000,25000000,52000000,225000000,50000000,120000000,155000000,30000000,25000000,55000000,100000000,35000000,37000000,128000000,37000000,10000000,150000000,205000000,66000000,250000000,10000,60000000,9500000,24393503,185000000,1500000,30000000,135000000,17000000,3000000,120000000,80000000,130000000,130000000,185000000,175000000,150000000,175000000,12600000,12400000,12000000,58800000,180000000,30000000,200000000,160000000,75000000,10000000,40000000,3000000,105000000,97000000,4000000,20000000,2500000,130178,80000000,2600000,25000000,23600000,23000000,129000000,2600000,200000000,50000000,30000000,21800000,55000000,200000000,200000000,70000000,150000000,160000000,120000000,150000000,132000000,11363000,225000000,80000000,3000000,19000000,24000000,858000,15000000,97000000,25000000,19000000,130000000,20000000,4000000,149000000,23000000,245000000,2800000,812000,61000000,10000000,17000000,100000000,82000000,26000000,35000000,34000000,10000000,20000000,15000000,40000000,17000000,25000000,175000000,200000000,11936735,6000000,21000000,57000000,3000000,95000000,30000000,9000000,550000,47000000,150000000,215000,5000000,5000000,35000000,5700000,150000000,14000000,80000000,7000000,21700000,120000000,54000000,5000000,225000000,29000000,16000000,20000000,1500000,145000000,75000000,11000000,35000000,1250000,6500000,20000000,11000000,30000000,20000000,90000000,27000000,178000000,25000000,26000000,9000000,7500000,150000000,25000000,18300000,12000000,48000000,70000000,1200000,85000000,365000,30000000,31000000,140000000,40000000,40000000,6500000,30000000,110000000,24000000,40000000,90000000,6500000,47000000,88000000,10000000,145000000,3800000,50000000,85000000,50000000,50000000,110000000,90000000,88000000,32000000,80000000,1500000,170000000,63000000,5000000,110000000,30000000,28000000,165000000,45000000,165000000,250000000,140000000,144000000,15000000,250000000,100000000,175000000,15000000,103000000,6000000,145000000,25000000,15000000,40000000,70000000,85000000,170000000,100000000,30000000,123000000,17000000,300000000,200000000,42000000,170000000,16000000,42000000,5000000,50100000,200000000,100000000,30000000,6000000,200000000,24000000,4000000,9000000,42000000,6000000,27000000,185000000,109000000,40000000,11000000,6300000,24000000,75000000,90000000,25000000,145000000,170000000,160000000,176000003,28000000,130000000,150000000,215000000,25000000,25000000,4000000,150000000,6000000,200000000,1000000,140000000,60000000,2280000,75000000,150000000,3000000,150000000,150000000,130000000,93000000,25000000,17739525,50000000,35000000,135000000,133000000,150000000,185000000,47000000,50000000,33000000,163000000,65000000,108000000,30000000,150000000,98000000,92000000,150000000,25000000,140000000,16000000,25000000,18000000,3000000,85000000,9000000,2000000,10000000,70000000,40000000,20000000,2500000,110000000,13000000,35000000,12000000,109000000,40000000,3500000,28000000,13000000,10000000,10000000,30000000,30000000,38000000,117000000,125687,15774948,19000000,7000000,50000000,35000000,30000000,22000000,80000000,60000000,177200000,50000000,85000,12000000,6200000,2777000,5000000,5883687,28000000,15500000,35000000,10000000,80000000,62000000,40000000,9000000,50000000,44000000,100000000,17000000,70000000,42000000,53000000,20000000,250000000,170000000,10000000,15000000,145000000,20000000,195000000,29000000,70000000,200000000,70000000,2000000,6600000,97600000,25000000,38000000,4000000,30000000,10000000,100000000,9900000,10000000,60000000,40000000,80000000,6500000,50000000,60000000,130000000,2800000,43000000,75000000,40000000,20000000,100000000,10000000,5000000,3000000,60000000,110000000,5000000,39307171,3700000,62000000,11000000,74000000,14000000,15000000,150000000,34000000,10000000,19000000,38000000,19000000,1200000,40000000,13000000,130000000,102000000,39200000,69000000,125000000,6500000,150000000,350000,3500000,26000000,30000000,20000000,30000000,30000000,75000000,25130430,65000000,20000000,100000000,4000000,25000000,100000000,5000000,100000000,1350000,20000000,500000,2000000,175000000,135000000,52000000,14000000,60000000,70000000,5000000,45000000,1100000,74000000,23000000,13000000,95000000,40000000,4000000,155000000,20000000,35000000,20000000,200000000,180000000,20000000,110000000,70000000,30000000,80000000,3000000,1200000,6000000,90000000,63000000,8500000,35000000,125000000,140000000,40000000,60000000,36000000,10000005,19000000,90000000,95000000,60720000,15000000,10000000,2200000,13000000,30000000,5000000,35000000,10000000,80000000,35000000,30000000,25000000,100000000,80000000,13200000,75000000,15000000,10000000,64000000,63000000,46000000,13000000,12000000,42000000,12000000,15000000,70000000,135000000,125000000,48000000,15000000,30000000,70000000,10200000,8000000,12000000,20000000,250000000,110000000,17000000,12500000,75000000,75000000,14000000,63000000,94000000,55000000,65000000,18000000,207000000,245000000,137000000,5000000,18000000,35000000,60000000,14000000,100000000,100000000,49000000,150000000,140000000,100000000,19000000,3500000,150000000,45000000,30000000,17000000,3500000,130000000,209000000,16000000,11500000,5000000,170000000,5000000,4000000,135000000,35000000,31000000,1344000,58000000,3000000,10000000,90000000,100000000,18300000,92000000,1800000,5600000,68000000,150000000,19000000,6400000,27000000,82343495,50000000,38000000,75000000,13000000,10000000,80000000,120000000,4500000,80000000,160000000,78000000,10000000,90000000,37000000,3000000,9000000,29000000,3500000,40000000,165000000,190000000,45000000,6000000,7000000,46000000,120000000,7000000,5500000,5400000,7000000,30000000,20000000,90000000,31000000,60000000,60000000,100000000,28000000,15000000,40000000,10000000,25000000,30000000,6500000,3300000,90000000,3000000,61000000,33000000,130000000,110000000,52000000,39000000,1800000,82000000,7000000,130000000,20000000,90000000,20000000,11000000,60000,24000000,3300000,80000000,18000000,10000,3000000,60000000,160000000,10000000,3000000,178000000,75000000,11000000,13500000,60000000,660000,66000000,9000000,65000000,17000000,80000000,31000000,65000000,170000000,55000000,48000000,175000000,110000000,20000000,14000000,1255000,8000000,10000000,25000000,48000000,35000000,4500000,75000000,7000000,200000000,70000000,60000,40000000,27500000,2176270,50000000,11000000,20000000,19800000,55000000,8500000,84000000,17000000,40000000,48000000,250000000,6500000,150000000,47000000,52000000,145000000,5000000,35000000,5920000,138000000,22000000,54000000,65000000,150000000,30000000,8575000,150000000,15000000,25000000,125000,13938145,28000000,5000000,25000000,10000000,3000000,100000,55000000,10000000,110000000,75000000,55000000,1200000,45000000,20000000,30000000,3500000,40000000,3000000,110000000,3896000,50000000,30000000,32000000,50000000,150000000,2000000,16000000,5000000,60000000,150000000,15000000,11800000,125000000,85000000,1000000,38000000,4800000,21000000,5000000,54000000,79000000,115000000,58000000,26000000,50000000,90000000,30000000,18000000,5000000,3500000,11000000,125000000,25000000,8116935,30000000,51000000,6000000,2000000,85000000,190000000,5233963,45000000,200000000,10800000,6000000,12000000,130000000],\"xaxis\":\"x2\",\"yaxis\":\"y2\",\"type\":\"box\"}],                        {\"barmode\":\"relative\",\"hovermode\":\"x unified\",\"legend\":{\"tracegroupgap\":0},\"template\":{\"data\":{\"barpolar\":[{\"marker\":{\"line\":{\"color\":\"rgb(17,17,17)\",\"width\":0.5},\"pattern\":{\"fillmode\":\"overlay\",\"size\":10,\"solidity\":0.2}},\"type\":\"barpolar\"}],\"bar\":[{\"error_x\":{\"color\":\"#f2f5fa\"},\"error_y\":{\"color\":\"#f2f5fa\"},\"marker\":{\"line\":{\"color\":\"rgb(17,17,17)\",\"width\":0.5},\"pattern\":{\"fillmode\":\"overlay\",\"size\":10,\"solidity\":0.2}},\"type\":\"bar\"}],\"carpet\":[{\"aaxis\":{\"endlinecolor\":\"#A2B1C6\",\"gridcolor\":\"#506784\",\"linecolor\":\"#506784\",\"minorgridcolor\":\"#506784\",\"startlinecolor\":\"#A2B1C6\"},\"baxis\":{\"endlinecolor\":\"#A2B1C6\",\"gridcolor\":\"#506784\",\"linecolor\":\"#506784\",\"minorgridcolor\":\"#506784\",\"startlinecolor\":\"#A2B1C6\"},\"type\":\"carpet\"}],\"choropleth\":[{\"colorbar\":{\"outlinewidth\":0,\"ticks\":\"\"},\"type\":\"choropleth\"}],\"contourcarpet\":[{\"colorbar\":{\"outlinewidth\":0,\"ticks\":\"\"},\"type\":\"contourcarpet\"}],\"contour\":[{\"colorbar\":{\"outlinewidth\":0,\"ticks\":\"\"},\"colorscale\":[[0.0,\"#0d0887\"],[0.1111111111111111,\"#46039f\"],[0.2222222222222222,\"#7201a8\"],[0.3333333333333333,\"#9c179e\"],[0.4444444444444444,\"#bd3786\"],[0.5555555555555556,\"#d8576b\"],[0.6666666666666666,\"#ed7953\"],[0.7777777777777778,\"#fb9f3a\"],[0.8888888888888888,\"#fdca26\"],[1.0,\"#f0f921\"]],\"type\":\"contour\"}],\"heatmapgl\":[{\"colorbar\":{\"outlinewidth\":0,\"ticks\":\"\"},\"colorscale\":[[0.0,\"#0d0887\"],[0.1111111111111111,\"#46039f\"],[0.2222222222222222,\"#7201a8\"],[0.3333333333333333,\"#9c179e\"],[0.4444444444444444,\"#bd3786\"],[0.5555555555555556,\"#d8576b\"],[0.6666666666666666,\"#ed7953\"],[0.7777777777777778,\"#fb9f3a\"],[0.8888888888888888,\"#fdca26\"],[1.0,\"#f0f921\"]],\"type\":\"heatmapgl\"}],\"heatmap\":[{\"colorbar\":{\"outlinewidth\":0,\"ticks\":\"\"},\"colorscale\":[[0.0,\"#0d0887\"],[0.1111111111111111,\"#46039f\"],[0.2222222222222222,\"#7201a8\"],[0.3333333333333333,\"#9c179e\"],[0.4444444444444444,\"#bd3786\"],[0.5555555555555556,\"#d8576b\"],[0.6666666666666666,\"#ed7953\"],[0.7777777777777778,\"#fb9f3a\"],[0.8888888888888888,\"#fdca26\"],[1.0,\"#f0f921\"]],\"type\":\"heatmap\"}],\"histogram2dcontour\":[{\"colorbar\":{\"outlinewidth\":0,\"ticks\":\"\"},\"colorscale\":[[0.0,\"#0d0887\"],[0.1111111111111111,\"#46039f\"],[0.2222222222222222,\"#7201a8\"],[0.3333333333333333,\"#9c179e\"],[0.4444444444444444,\"#bd3786\"],[0.5555555555555556,\"#d8576b\"],[0.6666666666666666,\"#ed7953\"],[0.7777777777777778,\"#fb9f3a\"],[0.8888888888888888,\"#fdca26\"],[1.0,\"#f0f921\"]],\"type\":\"histogram2dcontour\"}],\"histogram2d\":[{\"colorbar\":{\"outlinewidth\":0,\"ticks\":\"\"},\"colorscale\":[[0.0,\"#0d0887\"],[0.1111111111111111,\"#46039f\"],[0.2222222222222222,\"#7201a8\"],[0.3333333333333333,\"#9c179e\"],[0.4444444444444444,\"#bd3786\"],[0.5555555555555556,\"#d8576b\"],[0.6666666666666666,\"#ed7953\"],[0.7777777777777778,\"#fb9f3a\"],[0.8888888888888888,\"#fdca26\"],[1.0,\"#f0f921\"]],\"type\":\"histogram2d\"}],\"histogram\":[{\"marker\":{\"pattern\":{\"fillmode\":\"overlay\",\"size\":10,\"solidity\":0.2}},\"type\":\"histogram\"}],\"mesh3d\":[{\"colorbar\":{\"outlinewidth\":0,\"ticks\":\"\"},\"type\":\"mesh3d\"}],\"parcoords\":[{\"line\":{\"colorbar\":{\"outlinewidth\":0,\"ticks\":\"\"}},\"type\":\"parcoords\"}],\"pie\":[{\"automargin\":true,\"type\":\"pie\"}],\"scatter3d\":[{\"line\":{\"colorbar\":{\"outlinewidth\":0,\"ticks\":\"\"}},\"marker\":{\"colorbar\":{\"outlinewidth\":0,\"ticks\":\"\"}},\"type\":\"scatter3d\"}],\"scattercarpet\":[{\"marker\":{\"colorbar\":{\"outlinewidth\":0,\"ticks\":\"\"}},\"type\":\"scattercarpet\"}],\"scattergeo\":[{\"marker\":{\"colorbar\":{\"outlinewidth\":0,\"ticks\":\"\"}},\"type\":\"scattergeo\"}],\"scattergl\":[{\"marker\":{\"line\":{\"color\":\"#283442\"}},\"type\":\"scattergl\"}],\"scattermapbox\":[{\"marker\":{\"colorbar\":{\"outlinewidth\":0,\"ticks\":\"\"}},\"type\":\"scattermapbox\"}],\"scatterpolargl\":[{\"marker\":{\"colorbar\":{\"outlinewidth\":0,\"ticks\":\"\"}},\"type\":\"scatterpolargl\"}],\"scatterpolar\":[{\"marker\":{\"colorbar\":{\"outlinewidth\":0,\"ticks\":\"\"}},\"type\":\"scatterpolar\"}],\"scatter\":[{\"marker\":{\"line\":{\"color\":\"#283442\"}},\"type\":\"scatter\"}],\"scatterternary\":[{\"marker\":{\"colorbar\":{\"outlinewidth\":0,\"ticks\":\"\"}},\"type\":\"scatterternary\"}],\"surface\":[{\"colorbar\":{\"outlinewidth\":0,\"ticks\":\"\"},\"colorscale\":[[0.0,\"#0d0887\"],[0.1111111111111111,\"#46039f\"],[0.2222222222222222,\"#7201a8\"],[0.3333333333333333,\"#9c179e\"],[0.4444444444444444,\"#bd3786\"],[0.5555555555555556,\"#d8576b\"],[0.6666666666666666,\"#ed7953\"],[0.7777777777777778,\"#fb9f3a\"],[0.8888888888888888,\"#fdca26\"],[1.0,\"#f0f921\"]],\"type\":\"surface\"}],\"table\":[{\"cells\":{\"fill\":{\"color\":\"#506784\"},\"line\":{\"color\":\"rgb(17,17,17)\"}},\"header\":{\"fill\":{\"color\":\"#2a3f5f\"},\"line\":{\"color\":\"rgb(17,17,17)\"}},\"type\":\"table\"}]},\"layout\":{\"annotationdefaults\":{\"arrowcolor\":\"#f2f5fa\",\"arrowhead\":0,\"arrowwidth\":1},\"autotypenumbers\":\"strict\",\"coloraxis\":{\"colorbar\":{\"outlinewidth\":0,\"ticks\":\"\"}},\"colorscale\":{\"diverging\":[[0,\"#8e0152\"],[0.1,\"#c51b7d\"],[0.2,\"#de77ae\"],[0.3,\"#f1b6da\"],[0.4,\"#fde0ef\"],[0.5,\"#f7f7f7\"],[0.6,\"#e6f5d0\"],[0.7,\"#b8e186\"],[0.8,\"#7fbc41\"],[0.9,\"#4d9221\"],[1,\"#276419\"]],\"sequential\":[[0.0,\"#0d0887\"],[0.1111111111111111,\"#46039f\"],[0.2222222222222222,\"#7201a8\"],[0.3333333333333333,\"#9c179e\"],[0.4444444444444444,\"#bd3786\"],[0.5555555555555556,\"#d8576b\"],[0.6666666666666666,\"#ed7953\"],[0.7777777777777778,\"#fb9f3a\"],[0.8888888888888888,\"#fdca26\"],[1.0,\"#f0f921\"]],\"sequentialminus\":[[0.0,\"#0d0887\"],[0.1111111111111111,\"#46039f\"],[0.2222222222222222,\"#7201a8\"],[0.3333333333333333,\"#9c179e\"],[0.4444444444444444,\"#bd3786\"],[0.5555555555555556,\"#d8576b\"],[0.6666666666666666,\"#ed7953\"],[0.7777777777777778,\"#fb9f3a\"],[0.8888888888888888,\"#fdca26\"],[1.0,\"#f0f921\"]]},\"colorway\":[\"#636efa\",\"#EF553B\",\"#00cc96\",\"#ab63fa\",\"#FFA15A\",\"#19d3f3\",\"#FF6692\",\"#B6E880\",\"#FF97FF\",\"#FECB52\"],\"font\":{\"color\":\"#f2f5fa\"},\"geo\":{\"bgcolor\":\"rgb(17,17,17)\",\"lakecolor\":\"rgb(17,17,17)\",\"landcolor\":\"rgb(17,17,17)\",\"showlakes\":true,\"showland\":true,\"subunitcolor\":\"#506784\"},\"hoverlabel\":{\"align\":\"left\"},\"hovermode\":\"closest\",\"mapbox\":{\"style\":\"dark\"},\"paper_bgcolor\":\"rgb(17,17,17)\",\"plot_bgcolor\":\"rgb(17,17,17)\",\"polar\":{\"angularaxis\":{\"gridcolor\":\"#506784\",\"linecolor\":\"#506784\",\"ticks\":\"\"},\"bgcolor\":\"rgb(17,17,17)\",\"radialaxis\":{\"gridcolor\":\"#506784\",\"linecolor\":\"#506784\",\"ticks\":\"\"}},\"scene\":{\"xaxis\":{\"backgroundcolor\":\"rgb(17,17,17)\",\"gridcolor\":\"#506784\",\"gridwidth\":2,\"linecolor\":\"#506784\",\"showbackground\":true,\"ticks\":\"\",\"zerolinecolor\":\"#C8D4E3\"},\"yaxis\":{\"backgroundcolor\":\"rgb(17,17,17)\",\"gridcolor\":\"#506784\",\"gridwidth\":2,\"linecolor\":\"#506784\",\"showbackground\":true,\"ticks\":\"\",\"zerolinecolor\":\"#C8D4E3\"},\"zaxis\":{\"backgroundcolor\":\"rgb(17,17,17)\",\"gridcolor\":\"#506784\",\"gridwidth\":2,\"linecolor\":\"#506784\",\"showbackground\":true,\"ticks\":\"\",\"zerolinecolor\":\"#C8D4E3\"}},\"shapedefaults\":{\"line\":{\"color\":\"#f2f5fa\"}},\"sliderdefaults\":{\"bgcolor\":\"#C8D4E3\",\"bordercolor\":\"rgb(17,17,17)\",\"borderwidth\":1,\"tickwidth\":0},\"ternary\":{\"aaxis\":{\"gridcolor\":\"#506784\",\"linecolor\":\"#506784\",\"ticks\":\"\"},\"baxis\":{\"gridcolor\":\"#506784\",\"linecolor\":\"#506784\",\"ticks\":\"\"},\"bgcolor\":\"rgb(17,17,17)\",\"caxis\":{\"gridcolor\":\"#506784\",\"linecolor\":\"#506784\",\"ticks\":\"\"}},\"title\":{\"x\":0.05},\"updatemenudefaults\":{\"bgcolor\":\"#506784\",\"borderwidth\":0},\"xaxis\":{\"automargin\":true,\"gridcolor\":\"#283442\",\"linecolor\":\"#506784\",\"ticks\":\"\",\"title\":{\"standoff\":15},\"zerolinecolor\":\"#283442\",\"zerolinewidth\":2},\"yaxis\":{\"automargin\":true,\"gridcolor\":\"#283442\",\"linecolor\":\"#506784\",\"ticks\":\"\",\"title\":{\"standoff\":15},\"zerolinecolor\":\"#283442\",\"zerolinewidth\":2}}},\"title\":{\"text\":\"Budget Analysis\",\"x\":0.5},\"xaxis\":{\"anchor\":\"y\",\"domain\":[0.0,1.0],\"tickangle\":0,\"title\":{\"text\":\"Budget\"}},\"yaxis\":{\"anchor\":\"x\",\"domain\":[0.0,0.8316],\"showgrid\":false,\"title\":{\"text\":\"Count\"}},\"xaxis2\":{\"anchor\":\"y2\",\"domain\":[0.0,1.0],\"matches\":\"x\",\"showgrid\":true,\"showticklabels\":false},\"yaxis2\":{\"anchor\":\"x2\",\"domain\":[0.8416,1.0],\"matches\":\"y2\",\"showgrid\":false,\"showline\":false,\"showticklabels\":false,\"ticks\":\"\"}},                        {\"responsive\": true}                    ).then(function(){\n",
       "                            \n",
       "var gd = document.getElementById('0a7e8906-9753-46f8-b979-eec9cf8bf210');\n",
       "var x = new MutationObserver(function (mutations, observer) {{\n",
       "        var display = window.getComputedStyle(gd).display;\n",
       "        if (!display || display === 'none') {{\n",
       "            console.log([gd, 'removed!']);\n",
       "            Plotly.purge(gd);\n",
       "            observer.disconnect();\n",
       "        }}\n",
       "}});\n",
       "\n",
       "// Listen for the removal of the full notebook cells\n",
       "var notebookContainer = gd.closest('#notebook-container');\n",
       "if (notebookContainer) {{\n",
       "    x.observe(notebookContainer, {childList: true});\n",
       "}}\n",
       "\n",
       "// Listen for the clearing of the current output cell\n",
       "var outputEl = gd.closest('.output');\n",
       "if (outputEl) {{\n",
       "    x.observe(outputEl, {childList: true});\n",
       "}}\n",
       "\n",
       "                        })                };                });            </script>        </div>"
      ]
     },
     "metadata": {},
     "output_type": "display_data"
    }
   ],
   "source": [
    "fig = px.histogram(movies,x=movies[movies['budget']!=0]['budget'],marginal='box',opacity=0.6,nbins=10,\n",
    "                   title='Budget Analysis',template = 'plotly_dark')\n",
    "\n",
    "fig.update_layout(hovermode=\"x unified\",xaxis_tickangle=360,xaxis_title='Budget',title_x=0.5,\n",
    "                  yaxis={'title':'Count','showgrid':False})\n",
    "pyo.iplot(fig)"
   ]
  },
  {
   "cell_type": "markdown",
   "id": "804f7957",
   "metadata": {},
   "source": [
    "### 1. Graph is right-skewed , as most of the movies are in budget 0-49 M having median value 45M.\n",
    "### 2. Few of the outliers are having budget more than 300M."
   ]
  },
  {
   "cell_type": "code",
   "execution_count": 59,
   "id": "02604fba",
   "metadata": {},
   "outputs": [
    {
     "data": {
      "application/vnd.plotly.v1+json": {
       "config": {
        "linkText": "Export to plot.ly",
        "plotlyServerURL": "https://plot.ly",
        "showLink": false
       },
       "data": [
        {
         "alignmentgroup": "True",
         "bingroup": "x",
         "hovertemplate": "x=%{x}<br>count=%{y}<extra></extra>",
         "legendgroup": "",
         "marker": {
          "color": "#636efa",
          "opacity": 0.6,
          "pattern": {
           "shape": ""
          }
         },
         "name": "",
         "nbinsx": 10,
         "offsetgroup": "",
         "orientation": "v",
         "showlegend": false,
         "type": "histogram",
         "x": [
          355200000,
          395124202,
          764573021,
          165558000,
          688000000,
          1892000000,
          17185000,
          43900000,
          677700000,
          50254920,
          164289828,
          3186865,
          253000000,
          376000000,
          58120000,
          161000000,
          471000000,
          38410729,
          500000000,
          15400000,
          3114766,
          503063688,
          406000000,
          402027582,
          432243292,
          2847246203,
          306766470,
          38600612,
          140000000,
          125928656,
          9100000,
          191000000,
          1045713802,
          146745280,
          1065659812,
          67000000,
          2046239637,
          156497322,
          655011224,
          961000000,
          178143,
          80340218,
          233503234,
          144327371,
          83601013,
          14674076,
          331096766,
          39629195,
          794861794,
          49010641,
          726229501,
          6459306,
          201000000,
          167417425,
          467863133,
          27658331,
          2797800564,
          24000000,
          60000000,
          144000000,
          400671789,
          379751655,
          2118582,
          61779301,
          220889446,
          18312201,
          1518815515,
          21500000,
          61768190,
          532054,
          44000000,
          137110100,
          162892228,
          90112510,
          500000000,
          30763855,
          130000000,
          168285000,
          774153007,
          124596398,
          700000,
          29900850,
          976475550,
          16500000,
          809342332,
          119815153,
          103966489,
          348319861,
          757930663,
          45000000,
          1405403694,
          42145959,
          76994245,
          131647155,
          40200000,
          392000000,
          175302354,
          800526015,
          895921036,
          3310000,
          30500000,
          155446362,
          653355901,
          473122525,
          876688482,
          36964325,
          50461371,
          783100000,
          216639112,
          373554033,
          165160005,
          933959197,
          789804554,
          26654184,
          297372261,
          42000000,
          500000,
          2987741,
          4700000,
          10247262,
          474968763,
          880166924,
          763455561,
          136384442,
          623933331,
          1671713208,
          1131927996,
          74530532,
          319494638,
          69766483,
          132000000,
          2187463944,
          357986087,
          487853320,
          1341511219,
          938212738,
          853977126,
          579707738,
          31478826,
          26900000,
          299268508,
          130023,
          1153296293,
          928760770,
          69497587,
          24200000,
          698491347,
          855013954,
          954305868,
          11000000,
          658982,
          1450026933,
          102731865,
          25860000,
          708962323,
          356830601,
          320392818,
          17,
          17635215,
          657827828,
          1474579,
          1303459585,
          66800000,
          433005346,
          760098996,
          449326618,
          25109572,
          786365638,
          1238764765,
          956019788,
          571006128,
          77263354,
          383257136,
          791217826,
          23076711,
          317375031,
          383925276,
          7877742,
          226497209,
          629443428,
          37700000,
          252207,
          407602906,
          30156463,
          325771424,
          821708551,
          623726000,
          27900000,
          67918658,
          780000,
          270997378,
          469310836,
          186965409,
          92246218,
          4493306,
          118133252,
          153000000,
          211343479,
          4181043,
          1274219009,
          365550119,
          22957625,
          215863606,
          114996853,
          5802422,
          497366869,
          60462347,
          344931,
          393616788,
          1073394593,
          531865000,
          355692760,
          211817906,
          263591415,
          477200000,
          359126022,
          585174222,
          1074251311,
          3777969,
          304320254,
          1515047671,
          37552144,
          17322136,
          278019771,
          890871626,
          275650703,
          24640084,
          1214811252,
          701729206,
          1753826,
          151758425,
          125002821,
          592461732,
          92108518,
          16331742,
          559852396,
          863756051,
          207945075,
          1667635327,
          30000000,
          644571402,
          8639684,
          1148528393,
          40618920,
          491570967,
          784681,
          214104620,
          34560577,
          758539785,
          527068851,
          99924,
          5021219,
          386600138,
          368307760,
          582890172,
          471222889,
          26745,
          375540831,
          271430189,
          825532764,
          370569774,
          284139100,
          634151679,
          1015339,
          102820008,
          800059707,
          87547518,
          1100000,
          312296056,
          288175335,
          238524,
          319713881,
          378858340,
          23800,
          529221154,
          1128276090,
          376141306,
          61321941,
          19581369,
          4284903,
          757096,
          829000000,
          886686817,
          1021103568,
          290061297,
          415252786,
          127994610,
          586764305,
          735099082,
          712171856,
          1242805359,
          1066969703,
          752100229,
          93621340,
          1104000000,
          18554927,
          214215889,
          871368364,
          365971656,
          940335536,
          473990832,
          173930596,
          745013115,
          141220678,
          1081041287,
          549368315,
          44888959,
          247022278,
          218340595,
          926287400,
          159313561,
          12421716,
          384335608,
          116471580,
          877244782,
          137056262,
          231252591,
          493214993,
          958400000,
          92924405,
          28169671,
          1047612394,
          211819354,
          410902662,
          201858461,
          424967620,
          873637528,
          184925486,
          162146076,
          127233108,
          441306145,
          8621288,
          77912251,
          543934787,
          126690726,
          171539887,
          1025467110,
          605425157,
          33748006,
          273144151,
          378827494,
          857611174,
          426588510,
          414351546,
          49169594,
          426505244,
          1023784195,
          970761885,
          9458590,
          26943020,
          1118888979,
          710644566,
          31220247,
          631744560,
          42105111,
          752600867,
          660998756,
          252712101,
          25343661,
          91490353,
          14700000,
          8556940,
          230884728,
          295038508,
          10054356,
          41063475,
          274470394,
          484635760,
          631442092,
          89328627,
          354248063,
          173567581,
          362000072,
          78378744,
          2260622,
          533679475,
          202404009,
          813367380,
          104399548,
          226830568,
          96188903,
          709827462,
          50671850,
          894027543,
          754045518,
          200804534,
          363258859,
          440603537,
          611899420,
          149228077,
          326709727,
          169327687,
          701842551,
          154026136,
          250397798,
          26000000,
          113086475,
          118587880,
          530243742,
          363129000,
          203277636,
          747862775,
          95396573,
          107363905,
          1004558444,
          97009150,
          91709827,
          587204668,
          39657073,
          572000000,
          461983149,
          214945591,
          519311965,
          403354469,
          538983207,
          302469017,
          374218673,
          332207671,
          28650575,
          91244913,
          542307423,
          521311860,
          130786397,
          1347597973,
          529076069,
          542063846,
          3424648,
          126069509,
          4300000,
          408579038,
          619021436,
          205843612,
          136267476,
          60141683,
          5303,
          1031552585,
          84300000,
          51820323,
          20,
          102391540,
          112880294,
          517526875,
          11620603,
          32980880,
          336365676,
          97437106,
          967000,
          192330738,
          743559607,
          371353001,
          160112671,
          301970083,
          1263521126,
          426245950,
          163712074,
          373552094,
          257591776,
          624026776,
          5728940,
          122563539,
          91509154,
          236049757,
          267447150,
          145000000,
          240891763,
          77389310,
          274925095,
          448191819,
          88761661,
          85000000,
          821847012,
          17150803,
          2068223624,
          1600000,
          369330363,
          66207073,
          150000000,
          340677200,
          425368238,
          89792502,
          90941129,
          226945087,
          59217789,
          170812526,
          306515884,
          120654337,
          136621271,
          47000000,
          23308615,
          4608579,
          746846894,
          219851172,
          61631776,
          57615777,
          1169603,
          132563930,
          543514353,
          2527904,
          278454358,
          59754601,
          157887643,
          485930816,
          194183034,
          16441438,
          161000000,
          81967450,
          19300483,
          665692281,
          875386,
          25000000,
          155152550,
          91500000,
          167977596,
          320689294,
          431020,
          419665568,
          309208309,
          107363905,
          23384502,
          32511655,
          521170825,
          508575295,
          775398007,
          83061158,
          21722776,
          149281606,
          26617621,
          16951798,
          140161792,
          21164799,
          63523283,
          370541256,
          2412576,
          77278331,
          43318349,
          44196684,
          60781545,
          585410052,
          118890272,
          125983972,
          2000371,
          8084148,
          220673217,
          321457747,
          103911669,
          346147658,
          1400000,
          84872444,
          300473716,
          258022233,
          91627228,
          186167139,
          250811,
          90810892,
          293329073,
          75634409,
          97984015,
          962102237,
          257047661,
          10539000,
          160542134,
          66984887,
          621537500,
          20109115,
          113244290,
          340487652,
          226349749,
          20725409,
          260095986,
          296482446,
          347325802,
          244874809,
          83615414,
          528600000,
          2000000,
          714766572,
          463517383,
          40100000,
          295238201,
          116643421,
          504050219,
          494878759,
          72281712,
          33457923,
          389681935,
          622674139,
          229147509,
          1074144248,
          278731369,
          497409852,
          14860766,
          500188435,
          245066411,
          694713380,
          230698791,
          17080167,
          458863600,
          223241637,
          358375603,
          404852543,
          333535934,
          108609310,
          345141403,
          63102666,
          657926987,
          1108569499,
          11087569,
          400062763,
          73983359,
          122801777,
          153962963,
          1332698830,
          244819862,
          210819611,
          15712,
          32438988,
          321669741,
          55675257,
          122033739,
          33542457,
          51600000,
          161849455,
          261119292,
          107604626,
          60965854,
          235483004,
          12549382,
          13416285,
          351723989,
          206172544,
          87305549,
          746921274,
          772776600,
          653428261,
          183987723,
          60700000,
          301913131,
          385680446,
          260502115,
          42972994,
          28341469,
          87404651,
          259239658,
          32893421,
          252442974,
          117250402,
          150680864,
          76249438,
          76411819,
          691210692,
          1025190,
          82515113,
          603900354,
          331957105,
          150406466,
          482860185,
          10589102,
          39328,
          188441614,
          147934180,
          245724603,
          300135367,
          309979994,
          566652812,
          203388186,
          234989584,
          244721064,
          174822325,
          147792047,
          630161890,
          4296804,
          29942746,
          205366737,
          443280904,
          304654182,
          19775853,
          488533726,
          39200,
          23580000,
          268031828,
          31556061,
          66023329,
          15345201,
          288747895,
          4873825,
          111928365,
          239828,
          104303851,
          161025640,
          27526961,
          203044905,
          8352885,
          6341684,
          177238796,
          35763605,
          81093313,
          24829644,
          133818283,
          68766121,
          24945497,
          201634991,
          20560255,
          80239658,
          18610260,
          942666,
          287553595,
          98337295,
          261989769,
          741875,
          44781695,
          71992655,
          326551094,
          47301471,
          54819301,
          205035819,
          415885488,
          286801374,
          225874228,
          69411370,
          30900000,
          23006849,
          3600000,
          33754967,
          52946454,
          23740788,
          58834384,
          3642692,
          75836683,
          8852989,
          4300000,
          473226958,
          190400157,
          309232797,
          155712077,
          287928194,
          300400432,
          314975955,
          129042871,
          23159305,
          68467960,
          139804348,
          15489307,
          21972336,
          299457024,
          98267558,
          306941670,
          53000000,
          197687603,
          115603229,
          58058367,
          141592359,
          171844840,
          572809,
          5115725,
          225508210,
          30700000,
          197011982,
          36359037,
          47709193,
          242988466,
          159047649,
          167184112,
          108332743,
          212874864,
          48021766,
          216972543,
          242717113,
          847423452,
          19170001,
          158674180,
          180289970,
          31672678,
          32948113,
          206071502,
          44459951,
          19289062,
          19472057,
          264118201,
          20300000,
          228738393,
          14000000,
          11710110,
          37070177,
          45000000,
          1071255,
          10032765,
          311594032,
          463406268,
          27500000,
          245527149,
          52300000,
          221805,
          83258226,
          119723358,
          381109762,
          146661977,
          1784763,
          321885765,
          520000000,
          86758912,
          177856751,
          198802074,
          57504069,
          287594577,
          29400000,
          183293131,
          176586701,
          246941965,
          26747,
          58228460,
          22472631,
          367275019,
          90747520,
          156974557,
          117224271,
          127420861,
          36690067,
          142337240,
          22525668,
          374733942,
          4160000,
          17280326,
          33456317,
          510466,
          966550600,
          467989645,
          75450437,
          1755212,
          361366633,
          348840316,
          333593,
          207039844,
          178262620,
          20112926,
          1156730962,
          351583407,
          33750478,
          76432727,
          130290885,
          147748505,
          415686217,
          14946150,
          2520000,
          411348924,
          22217407,
          384659,
          9430580,
          1028570889,
          356743061,
          27975429,
          337580051,
          118666,
          70060492,
          21067659,
          181466833,
          15938065,
          27165581,
          146936910,
          100853753,
          50300000,
          19294901,
          334615000,
          4439431,
          109578115,
          125729635,
          62357900,
          33459416,
          42776760,
          140705322,
          142940100,
          114178613,
          553810228,
          69623713,
          183474602,
          21930418,
          122700000,
          80509622,
          85720385,
          99255460,
          64188367,
          294800000,
          155545279,
          48428063,
          96262212,
          6000000,
          170432927,
          102338515,
          53830415,
          342695435,
          5600000,
          164874275,
          101595121,
          189015611,
          341631208,
          102600000,
          29800000,
          201585328,
          307166834,
          78054825,
          297718711,
          532950503,
          346864462,
          112462508,
          7060384,
          71041255,
          481840909,
          14521,
          35728183,
          214179088,
          33213241,
          44093316,
          1709980,
          252608480,
          97542952,
          69000000,
          20416563,
          817400891,
          140175006,
          173046663,
          920100000,
          274650803,
          677387716,
          44806783,
          47088990,
          1118410,
          562363449,
          361682618,
          880674609,
          245360480,
          86362372,
          358994850,
          149542245,
          163403799,
          171720398,
          268426634,
          119682635,
          34265,
          553799566,
          171616764,
          145166804,
          95330493,
          599045960,
          131183530,
          2351359,
          270000000,
          7766240,
          554987477,
          303025485,
          46749646,
          94073028,
          23507567,
          295463225,
          54418872,
          30000000,
          49714378,
          19496308,
          245623848,
          46216641,
          104384188,
          50365377,
          139352633,
          334901337,
          290745055,
          112790210,
          195702811,
          5972942,
          57000000,
          18469680,
          68267862,
          682330139,
          108047131,
          78371200,
          20158808,
          48814909,
          44664690,
          105734416,
          71585235,
          68572378,
          19551067,
          311950384,
          221600160,
          255407969,
          484592874,
          433677183,
          248384621,
          44902237,
          164170327,
          165335153,
          443458,
          8494414,
          67790117,
          47980982,
          287506194,
          70459,
          178866158,
          310634054,
          209154322,
          224834564,
          17555141,
          40343446,
          122126687,
          609016565,
          85182160,
          4942449,
          4803565,
          470653000,
          115375850,
          269980,
          162360636,
          27388767,
          107139399,
          205754447,
          712216,
          100140916,
          40547440,
          125212904,
          496334,
          169837010,
          253688035,
          46000000,
          100491683,
          2200000,
          13092000,
          263920180,
          22182353,
          95696996,
          41848,
          327311859,
          218122627,
          103951461,
          352114312,
          81493846,
          130234661,
          55060661,
          243843127,
          136151680,
          199850315,
          19672073,
          248639099,
          83188165,
          30641770,
          21791288,
          126546518,
          20275812,
          1000000,
          30000000,
          87812371,
          300257475,
          6272403,
          4915757,
          791017452,
          443140005,
          104931801,
          89203432,
          135039924,
          16000000,
          57777106,
          70000000,
          14089528,
          280000000,
          34949567,
          275947313,
          422610419,
          396600000,
          231449203,
          249348933,
          245692007,
          563749323,
          230098753,
          233555708,
          3666620,
          43059790,
          75026327,
          170764026,
          171339013,
          57120318,
          152930623,
          34266564,
          1056057273,
          17752940,
          86234523,
          19046191,
          479226,
          160602194,
          593683,
          678604,
          307077295,
          8936663,
          148100000,
          29789000,
          97231420,
          392952373,
          387053506,
          169332978,
          48919043,
          609841637,
          403449830,
          32056467,
          115664037,
          173469516,
          321365567,
          155010032,
          211780824,
          413106170,
          51148651,
          37767206,
          738599701,
          2500000,
          83080890,
          8737458,
          30169000,
          121147947,
          103590271,
          138241022,
          4109095,
          10178331,
          346079773,
          7449778,
          17979739,
          303144152,
          34234008,
          80000000,
          41627431,
          900000,
          296187079,
          134734481,
          54639553,
          4000000,
          32677774,
          179246868,
          490000,
          83761844,
          178592,
          159291809,
          147332697,
          100605135,
          1314053,
          333932083,
          76514050,
          4842699,
          80767884,
          424988211,
          146497771,
          47494916,
          362637473,
          298572799,
          34522221,
          109906372,
          81979826,
          31635150,
          136766062,
          149673788,
          286140700,
          158162788,
          102278712,
          149878437,
          589390539,
          1070714,
          17643857,
          40423945,
          3639345,
          498814908,
          5148503,
          108979549,
          35808437,
          4176641,
          636706,
          48000000,
          225374,
          467365246,
          101702060,
          783766341,
          113864059,
          101332962,
          273339556
         ],
         "xaxis": "x",
         "yaxis": "y"
        },
        {
         "alignmentgroup": "True",
         "hovertemplate": "x=%{x}<extra></extra>",
         "legendgroup": "",
         "marker": {
          "color": "#636efa"
         },
         "name": "",
         "notched": true,
         "offsetgroup": "",
         "showlegend": false,
         "type": "box",
         "x": [
          355200000,
          395124202,
          764573021,
          165558000,
          688000000,
          1892000000,
          17185000,
          43900000,
          677700000,
          50254920,
          164289828,
          3186865,
          253000000,
          376000000,
          58120000,
          161000000,
          471000000,
          38410729,
          500000000,
          15400000,
          3114766,
          503063688,
          406000000,
          402027582,
          432243292,
          2847246203,
          306766470,
          38600612,
          140000000,
          125928656,
          9100000,
          191000000,
          1045713802,
          146745280,
          1065659812,
          67000000,
          2046239637,
          156497322,
          655011224,
          961000000,
          178143,
          80340218,
          233503234,
          144327371,
          83601013,
          14674076,
          331096766,
          39629195,
          794861794,
          49010641,
          726229501,
          6459306,
          201000000,
          167417425,
          467863133,
          27658331,
          2797800564,
          24000000,
          60000000,
          144000000,
          400671789,
          379751655,
          2118582,
          61779301,
          220889446,
          18312201,
          1518815515,
          21500000,
          61768190,
          532054,
          44000000,
          137110100,
          162892228,
          90112510,
          500000000,
          30763855,
          130000000,
          168285000,
          774153007,
          124596398,
          700000,
          29900850,
          976475550,
          16500000,
          809342332,
          119815153,
          103966489,
          348319861,
          757930663,
          45000000,
          1405403694,
          42145959,
          76994245,
          131647155,
          40200000,
          392000000,
          175302354,
          800526015,
          895921036,
          3310000,
          30500000,
          155446362,
          653355901,
          473122525,
          876688482,
          36964325,
          50461371,
          783100000,
          216639112,
          373554033,
          165160005,
          933959197,
          789804554,
          26654184,
          297372261,
          42000000,
          500000,
          2987741,
          4700000,
          10247262,
          474968763,
          880166924,
          763455561,
          136384442,
          623933331,
          1671713208,
          1131927996,
          74530532,
          319494638,
          69766483,
          132000000,
          2187463944,
          357986087,
          487853320,
          1341511219,
          938212738,
          853977126,
          579707738,
          31478826,
          26900000,
          299268508,
          130023,
          1153296293,
          928760770,
          69497587,
          24200000,
          698491347,
          855013954,
          954305868,
          11000000,
          658982,
          1450026933,
          102731865,
          25860000,
          708962323,
          356830601,
          320392818,
          17,
          17635215,
          657827828,
          1474579,
          1303459585,
          66800000,
          433005346,
          760098996,
          449326618,
          25109572,
          786365638,
          1238764765,
          956019788,
          571006128,
          77263354,
          383257136,
          791217826,
          23076711,
          317375031,
          383925276,
          7877742,
          226497209,
          629443428,
          37700000,
          252207,
          407602906,
          30156463,
          325771424,
          821708551,
          623726000,
          27900000,
          67918658,
          780000,
          270997378,
          469310836,
          186965409,
          92246218,
          4493306,
          118133252,
          153000000,
          211343479,
          4181043,
          1274219009,
          365550119,
          22957625,
          215863606,
          114996853,
          5802422,
          497366869,
          60462347,
          344931,
          393616788,
          1073394593,
          531865000,
          355692760,
          211817906,
          263591415,
          477200000,
          359126022,
          585174222,
          1074251311,
          3777969,
          304320254,
          1515047671,
          37552144,
          17322136,
          278019771,
          890871626,
          275650703,
          24640084,
          1214811252,
          701729206,
          1753826,
          151758425,
          125002821,
          592461732,
          92108518,
          16331742,
          559852396,
          863756051,
          207945075,
          1667635327,
          30000000,
          644571402,
          8639684,
          1148528393,
          40618920,
          491570967,
          784681,
          214104620,
          34560577,
          758539785,
          527068851,
          99924,
          5021219,
          386600138,
          368307760,
          582890172,
          471222889,
          26745,
          375540831,
          271430189,
          825532764,
          370569774,
          284139100,
          634151679,
          1015339,
          102820008,
          800059707,
          87547518,
          1100000,
          312296056,
          288175335,
          238524,
          319713881,
          378858340,
          23800,
          529221154,
          1128276090,
          376141306,
          61321941,
          19581369,
          4284903,
          757096,
          829000000,
          886686817,
          1021103568,
          290061297,
          415252786,
          127994610,
          586764305,
          735099082,
          712171856,
          1242805359,
          1066969703,
          752100229,
          93621340,
          1104000000,
          18554927,
          214215889,
          871368364,
          365971656,
          940335536,
          473990832,
          173930596,
          745013115,
          141220678,
          1081041287,
          549368315,
          44888959,
          247022278,
          218340595,
          926287400,
          159313561,
          12421716,
          384335608,
          116471580,
          877244782,
          137056262,
          231252591,
          493214993,
          958400000,
          92924405,
          28169671,
          1047612394,
          211819354,
          410902662,
          201858461,
          424967620,
          873637528,
          184925486,
          162146076,
          127233108,
          441306145,
          8621288,
          77912251,
          543934787,
          126690726,
          171539887,
          1025467110,
          605425157,
          33748006,
          273144151,
          378827494,
          857611174,
          426588510,
          414351546,
          49169594,
          426505244,
          1023784195,
          970761885,
          9458590,
          26943020,
          1118888979,
          710644566,
          31220247,
          631744560,
          42105111,
          752600867,
          660998756,
          252712101,
          25343661,
          91490353,
          14700000,
          8556940,
          230884728,
          295038508,
          10054356,
          41063475,
          274470394,
          484635760,
          631442092,
          89328627,
          354248063,
          173567581,
          362000072,
          78378744,
          2260622,
          533679475,
          202404009,
          813367380,
          104399548,
          226830568,
          96188903,
          709827462,
          50671850,
          894027543,
          754045518,
          200804534,
          363258859,
          440603537,
          611899420,
          149228077,
          326709727,
          169327687,
          701842551,
          154026136,
          250397798,
          26000000,
          113086475,
          118587880,
          530243742,
          363129000,
          203277636,
          747862775,
          95396573,
          107363905,
          1004558444,
          97009150,
          91709827,
          587204668,
          39657073,
          572000000,
          461983149,
          214945591,
          519311965,
          403354469,
          538983207,
          302469017,
          374218673,
          332207671,
          28650575,
          91244913,
          542307423,
          521311860,
          130786397,
          1347597973,
          529076069,
          542063846,
          3424648,
          126069509,
          4300000,
          408579038,
          619021436,
          205843612,
          136267476,
          60141683,
          5303,
          1031552585,
          84300000,
          51820323,
          20,
          102391540,
          112880294,
          517526875,
          11620603,
          32980880,
          336365676,
          97437106,
          967000,
          192330738,
          743559607,
          371353001,
          160112671,
          301970083,
          1263521126,
          426245950,
          163712074,
          373552094,
          257591776,
          624026776,
          5728940,
          122563539,
          91509154,
          236049757,
          267447150,
          145000000,
          240891763,
          77389310,
          274925095,
          448191819,
          88761661,
          85000000,
          821847012,
          17150803,
          2068223624,
          1600000,
          369330363,
          66207073,
          150000000,
          340677200,
          425368238,
          89792502,
          90941129,
          226945087,
          59217789,
          170812526,
          306515884,
          120654337,
          136621271,
          47000000,
          23308615,
          4608579,
          746846894,
          219851172,
          61631776,
          57615777,
          1169603,
          132563930,
          543514353,
          2527904,
          278454358,
          59754601,
          157887643,
          485930816,
          194183034,
          16441438,
          161000000,
          81967450,
          19300483,
          665692281,
          875386,
          25000000,
          155152550,
          91500000,
          167977596,
          320689294,
          431020,
          419665568,
          309208309,
          107363905,
          23384502,
          32511655,
          521170825,
          508575295,
          775398007,
          83061158,
          21722776,
          149281606,
          26617621,
          16951798,
          140161792,
          21164799,
          63523283,
          370541256,
          2412576,
          77278331,
          43318349,
          44196684,
          60781545,
          585410052,
          118890272,
          125983972,
          2000371,
          8084148,
          220673217,
          321457747,
          103911669,
          346147658,
          1400000,
          84872444,
          300473716,
          258022233,
          91627228,
          186167139,
          250811,
          90810892,
          293329073,
          75634409,
          97984015,
          962102237,
          257047661,
          10539000,
          160542134,
          66984887,
          621537500,
          20109115,
          113244290,
          340487652,
          226349749,
          20725409,
          260095986,
          296482446,
          347325802,
          244874809,
          83615414,
          528600000,
          2000000,
          714766572,
          463517383,
          40100000,
          295238201,
          116643421,
          504050219,
          494878759,
          72281712,
          33457923,
          389681935,
          622674139,
          229147509,
          1074144248,
          278731369,
          497409852,
          14860766,
          500188435,
          245066411,
          694713380,
          230698791,
          17080167,
          458863600,
          223241637,
          358375603,
          404852543,
          333535934,
          108609310,
          345141403,
          63102666,
          657926987,
          1108569499,
          11087569,
          400062763,
          73983359,
          122801777,
          153962963,
          1332698830,
          244819862,
          210819611,
          15712,
          32438988,
          321669741,
          55675257,
          122033739,
          33542457,
          51600000,
          161849455,
          261119292,
          107604626,
          60965854,
          235483004,
          12549382,
          13416285,
          351723989,
          206172544,
          87305549,
          746921274,
          772776600,
          653428261,
          183987723,
          60700000,
          301913131,
          385680446,
          260502115,
          42972994,
          28341469,
          87404651,
          259239658,
          32893421,
          252442974,
          117250402,
          150680864,
          76249438,
          76411819,
          691210692,
          1025190,
          82515113,
          603900354,
          331957105,
          150406466,
          482860185,
          10589102,
          39328,
          188441614,
          147934180,
          245724603,
          300135367,
          309979994,
          566652812,
          203388186,
          234989584,
          244721064,
          174822325,
          147792047,
          630161890,
          4296804,
          29942746,
          205366737,
          443280904,
          304654182,
          19775853,
          488533726,
          39200,
          23580000,
          268031828,
          31556061,
          66023329,
          15345201,
          288747895,
          4873825,
          111928365,
          239828,
          104303851,
          161025640,
          27526961,
          203044905,
          8352885,
          6341684,
          177238796,
          35763605,
          81093313,
          24829644,
          133818283,
          68766121,
          24945497,
          201634991,
          20560255,
          80239658,
          18610260,
          942666,
          287553595,
          98337295,
          261989769,
          741875,
          44781695,
          71992655,
          326551094,
          47301471,
          54819301,
          205035819,
          415885488,
          286801374,
          225874228,
          69411370,
          30900000,
          23006849,
          3600000,
          33754967,
          52946454,
          23740788,
          58834384,
          3642692,
          75836683,
          8852989,
          4300000,
          473226958,
          190400157,
          309232797,
          155712077,
          287928194,
          300400432,
          314975955,
          129042871,
          23159305,
          68467960,
          139804348,
          15489307,
          21972336,
          299457024,
          98267558,
          306941670,
          53000000,
          197687603,
          115603229,
          58058367,
          141592359,
          171844840,
          572809,
          5115725,
          225508210,
          30700000,
          197011982,
          36359037,
          47709193,
          242988466,
          159047649,
          167184112,
          108332743,
          212874864,
          48021766,
          216972543,
          242717113,
          847423452,
          19170001,
          158674180,
          180289970,
          31672678,
          32948113,
          206071502,
          44459951,
          19289062,
          19472057,
          264118201,
          20300000,
          228738393,
          14000000,
          11710110,
          37070177,
          45000000,
          1071255,
          10032765,
          311594032,
          463406268,
          27500000,
          245527149,
          52300000,
          221805,
          83258226,
          119723358,
          381109762,
          146661977,
          1784763,
          321885765,
          520000000,
          86758912,
          177856751,
          198802074,
          57504069,
          287594577,
          29400000,
          183293131,
          176586701,
          246941965,
          26747,
          58228460,
          22472631,
          367275019,
          90747520,
          156974557,
          117224271,
          127420861,
          36690067,
          142337240,
          22525668,
          374733942,
          4160000,
          17280326,
          33456317,
          510466,
          966550600,
          467989645,
          75450437,
          1755212,
          361366633,
          348840316,
          333593,
          207039844,
          178262620,
          20112926,
          1156730962,
          351583407,
          33750478,
          76432727,
          130290885,
          147748505,
          415686217,
          14946150,
          2520000,
          411348924,
          22217407,
          384659,
          9430580,
          1028570889,
          356743061,
          27975429,
          337580051,
          118666,
          70060492,
          21067659,
          181466833,
          15938065,
          27165581,
          146936910,
          100853753,
          50300000,
          19294901,
          334615000,
          4439431,
          109578115,
          125729635,
          62357900,
          33459416,
          42776760,
          140705322,
          142940100,
          114178613,
          553810228,
          69623713,
          183474602,
          21930418,
          122700000,
          80509622,
          85720385,
          99255460,
          64188367,
          294800000,
          155545279,
          48428063,
          96262212,
          6000000,
          170432927,
          102338515,
          53830415,
          342695435,
          5600000,
          164874275,
          101595121,
          189015611,
          341631208,
          102600000,
          29800000,
          201585328,
          307166834,
          78054825,
          297718711,
          532950503,
          346864462,
          112462508,
          7060384,
          71041255,
          481840909,
          14521,
          35728183,
          214179088,
          33213241,
          44093316,
          1709980,
          252608480,
          97542952,
          69000000,
          20416563,
          817400891,
          140175006,
          173046663,
          920100000,
          274650803,
          677387716,
          44806783,
          47088990,
          1118410,
          562363449,
          361682618,
          880674609,
          245360480,
          86362372,
          358994850,
          149542245,
          163403799,
          171720398,
          268426634,
          119682635,
          34265,
          553799566,
          171616764,
          145166804,
          95330493,
          599045960,
          131183530,
          2351359,
          270000000,
          7766240,
          554987477,
          303025485,
          46749646,
          94073028,
          23507567,
          295463225,
          54418872,
          30000000,
          49714378,
          19496308,
          245623848,
          46216641,
          104384188,
          50365377,
          139352633,
          334901337,
          290745055,
          112790210,
          195702811,
          5972942,
          57000000,
          18469680,
          68267862,
          682330139,
          108047131,
          78371200,
          20158808,
          48814909,
          44664690,
          105734416,
          71585235,
          68572378,
          19551067,
          311950384,
          221600160,
          255407969,
          484592874,
          433677183,
          248384621,
          44902237,
          164170327,
          165335153,
          443458,
          8494414,
          67790117,
          47980982,
          287506194,
          70459,
          178866158,
          310634054,
          209154322,
          224834564,
          17555141,
          40343446,
          122126687,
          609016565,
          85182160,
          4942449,
          4803565,
          470653000,
          115375850,
          269980,
          162360636,
          27388767,
          107139399,
          205754447,
          712216,
          100140916,
          40547440,
          125212904,
          496334,
          169837010,
          253688035,
          46000000,
          100491683,
          2200000,
          13092000,
          263920180,
          22182353,
          95696996,
          41848,
          327311859,
          218122627,
          103951461,
          352114312,
          81493846,
          130234661,
          55060661,
          243843127,
          136151680,
          199850315,
          19672073,
          248639099,
          83188165,
          30641770,
          21791288,
          126546518,
          20275812,
          1000000,
          30000000,
          87812371,
          300257475,
          6272403,
          4915757,
          791017452,
          443140005,
          104931801,
          89203432,
          135039924,
          16000000,
          57777106,
          70000000,
          14089528,
          280000000,
          34949567,
          275947313,
          422610419,
          396600000,
          231449203,
          249348933,
          245692007,
          563749323,
          230098753,
          233555708,
          3666620,
          43059790,
          75026327,
          170764026,
          171339013,
          57120318,
          152930623,
          34266564,
          1056057273,
          17752940,
          86234523,
          19046191,
          479226,
          160602194,
          593683,
          678604,
          307077295,
          8936663,
          148100000,
          29789000,
          97231420,
          392952373,
          387053506,
          169332978,
          48919043,
          609841637,
          403449830,
          32056467,
          115664037,
          173469516,
          321365567,
          155010032,
          211780824,
          413106170,
          51148651,
          37767206,
          738599701,
          2500000,
          83080890,
          8737458,
          30169000,
          121147947,
          103590271,
          138241022,
          4109095,
          10178331,
          346079773,
          7449778,
          17979739,
          303144152,
          34234008,
          80000000,
          41627431,
          900000,
          296187079,
          134734481,
          54639553,
          4000000,
          32677774,
          179246868,
          490000,
          83761844,
          178592,
          159291809,
          147332697,
          100605135,
          1314053,
          333932083,
          76514050,
          4842699,
          80767884,
          424988211,
          146497771,
          47494916,
          362637473,
          298572799,
          34522221,
          109906372,
          81979826,
          31635150,
          136766062,
          149673788,
          286140700,
          158162788,
          102278712,
          149878437,
          589390539,
          1070714,
          17643857,
          40423945,
          3639345,
          498814908,
          5148503,
          108979549,
          35808437,
          4176641,
          636706,
          48000000,
          225374,
          467365246,
          101702060,
          783766341,
          113864059,
          101332962,
          273339556
         ],
         "xaxis": "x2",
         "yaxis": "y2"
        }
       ],
       "layout": {
        "barmode": "relative",
        "hovermode": "x unified",
        "legend": {
         "tracegroupgap": 0
        },
        "template": {
         "data": {
          "bar": [
           {
            "error_x": {
             "color": "#f2f5fa"
            },
            "error_y": {
             "color": "#f2f5fa"
            },
            "marker": {
             "line": {
              "color": "rgb(17,17,17)",
              "width": 0.5
             },
             "pattern": {
              "fillmode": "overlay",
              "size": 10,
              "solidity": 0.2
             }
            },
            "type": "bar"
           }
          ],
          "barpolar": [
           {
            "marker": {
             "line": {
              "color": "rgb(17,17,17)",
              "width": 0.5
             },
             "pattern": {
              "fillmode": "overlay",
              "size": 10,
              "solidity": 0.2
             }
            },
            "type": "barpolar"
           }
          ],
          "carpet": [
           {
            "aaxis": {
             "endlinecolor": "#A2B1C6",
             "gridcolor": "#506784",
             "linecolor": "#506784",
             "minorgridcolor": "#506784",
             "startlinecolor": "#A2B1C6"
            },
            "baxis": {
             "endlinecolor": "#A2B1C6",
             "gridcolor": "#506784",
             "linecolor": "#506784",
             "minorgridcolor": "#506784",
             "startlinecolor": "#A2B1C6"
            },
            "type": "carpet"
           }
          ],
          "choropleth": [
           {
            "colorbar": {
             "outlinewidth": 0,
             "ticks": ""
            },
            "type": "choropleth"
           }
          ],
          "contour": [
           {
            "colorbar": {
             "outlinewidth": 0,
             "ticks": ""
            },
            "colorscale": [
             [
              0,
              "#0d0887"
             ],
             [
              0.1111111111111111,
              "#46039f"
             ],
             [
              0.2222222222222222,
              "#7201a8"
             ],
             [
              0.3333333333333333,
              "#9c179e"
             ],
             [
              0.4444444444444444,
              "#bd3786"
             ],
             [
              0.5555555555555556,
              "#d8576b"
             ],
             [
              0.6666666666666666,
              "#ed7953"
             ],
             [
              0.7777777777777778,
              "#fb9f3a"
             ],
             [
              0.8888888888888888,
              "#fdca26"
             ],
             [
              1,
              "#f0f921"
             ]
            ],
            "type": "contour"
           }
          ],
          "contourcarpet": [
           {
            "colorbar": {
             "outlinewidth": 0,
             "ticks": ""
            },
            "type": "contourcarpet"
           }
          ],
          "heatmap": [
           {
            "colorbar": {
             "outlinewidth": 0,
             "ticks": ""
            },
            "colorscale": [
             [
              0,
              "#0d0887"
             ],
             [
              0.1111111111111111,
              "#46039f"
             ],
             [
              0.2222222222222222,
              "#7201a8"
             ],
             [
              0.3333333333333333,
              "#9c179e"
             ],
             [
              0.4444444444444444,
              "#bd3786"
             ],
             [
              0.5555555555555556,
              "#d8576b"
             ],
             [
              0.6666666666666666,
              "#ed7953"
             ],
             [
              0.7777777777777778,
              "#fb9f3a"
             ],
             [
              0.8888888888888888,
              "#fdca26"
             ],
             [
              1,
              "#f0f921"
             ]
            ],
            "type": "heatmap"
           }
          ],
          "heatmapgl": [
           {
            "colorbar": {
             "outlinewidth": 0,
             "ticks": ""
            },
            "colorscale": [
             [
              0,
              "#0d0887"
             ],
             [
              0.1111111111111111,
              "#46039f"
             ],
             [
              0.2222222222222222,
              "#7201a8"
             ],
             [
              0.3333333333333333,
              "#9c179e"
             ],
             [
              0.4444444444444444,
              "#bd3786"
             ],
             [
              0.5555555555555556,
              "#d8576b"
             ],
             [
              0.6666666666666666,
              "#ed7953"
             ],
             [
              0.7777777777777778,
              "#fb9f3a"
             ],
             [
              0.8888888888888888,
              "#fdca26"
             ],
             [
              1,
              "#f0f921"
             ]
            ],
            "type": "heatmapgl"
           }
          ],
          "histogram": [
           {
            "marker": {
             "pattern": {
              "fillmode": "overlay",
              "size": 10,
              "solidity": 0.2
             }
            },
            "type": "histogram"
           }
          ],
          "histogram2d": [
           {
            "colorbar": {
             "outlinewidth": 0,
             "ticks": ""
            },
            "colorscale": [
             [
              0,
              "#0d0887"
             ],
             [
              0.1111111111111111,
              "#46039f"
             ],
             [
              0.2222222222222222,
              "#7201a8"
             ],
             [
              0.3333333333333333,
              "#9c179e"
             ],
             [
              0.4444444444444444,
              "#bd3786"
             ],
             [
              0.5555555555555556,
              "#d8576b"
             ],
             [
              0.6666666666666666,
              "#ed7953"
             ],
             [
              0.7777777777777778,
              "#fb9f3a"
             ],
             [
              0.8888888888888888,
              "#fdca26"
             ],
             [
              1,
              "#f0f921"
             ]
            ],
            "type": "histogram2d"
           }
          ],
          "histogram2dcontour": [
           {
            "colorbar": {
             "outlinewidth": 0,
             "ticks": ""
            },
            "colorscale": [
             [
              0,
              "#0d0887"
             ],
             [
              0.1111111111111111,
              "#46039f"
             ],
             [
              0.2222222222222222,
              "#7201a8"
             ],
             [
              0.3333333333333333,
              "#9c179e"
             ],
             [
              0.4444444444444444,
              "#bd3786"
             ],
             [
              0.5555555555555556,
              "#d8576b"
             ],
             [
              0.6666666666666666,
              "#ed7953"
             ],
             [
              0.7777777777777778,
              "#fb9f3a"
             ],
             [
              0.8888888888888888,
              "#fdca26"
             ],
             [
              1,
              "#f0f921"
             ]
            ],
            "type": "histogram2dcontour"
           }
          ],
          "mesh3d": [
           {
            "colorbar": {
             "outlinewidth": 0,
             "ticks": ""
            },
            "type": "mesh3d"
           }
          ],
          "parcoords": [
           {
            "line": {
             "colorbar": {
              "outlinewidth": 0,
              "ticks": ""
             }
            },
            "type": "parcoords"
           }
          ],
          "pie": [
           {
            "automargin": true,
            "type": "pie"
           }
          ],
          "scatter": [
           {
            "marker": {
             "line": {
              "color": "#283442"
             }
            },
            "type": "scatter"
           }
          ],
          "scatter3d": [
           {
            "line": {
             "colorbar": {
              "outlinewidth": 0,
              "ticks": ""
             }
            },
            "marker": {
             "colorbar": {
              "outlinewidth": 0,
              "ticks": ""
             }
            },
            "type": "scatter3d"
           }
          ],
          "scattercarpet": [
           {
            "marker": {
             "colorbar": {
              "outlinewidth": 0,
              "ticks": ""
             }
            },
            "type": "scattercarpet"
           }
          ],
          "scattergeo": [
           {
            "marker": {
             "colorbar": {
              "outlinewidth": 0,
              "ticks": ""
             }
            },
            "type": "scattergeo"
           }
          ],
          "scattergl": [
           {
            "marker": {
             "line": {
              "color": "#283442"
             }
            },
            "type": "scattergl"
           }
          ],
          "scattermapbox": [
           {
            "marker": {
             "colorbar": {
              "outlinewidth": 0,
              "ticks": ""
             }
            },
            "type": "scattermapbox"
           }
          ],
          "scatterpolar": [
           {
            "marker": {
             "colorbar": {
              "outlinewidth": 0,
              "ticks": ""
             }
            },
            "type": "scatterpolar"
           }
          ],
          "scatterpolargl": [
           {
            "marker": {
             "colorbar": {
              "outlinewidth": 0,
              "ticks": ""
             }
            },
            "type": "scatterpolargl"
           }
          ],
          "scatterternary": [
           {
            "marker": {
             "colorbar": {
              "outlinewidth": 0,
              "ticks": ""
             }
            },
            "type": "scatterternary"
           }
          ],
          "surface": [
           {
            "colorbar": {
             "outlinewidth": 0,
             "ticks": ""
            },
            "colorscale": [
             [
              0,
              "#0d0887"
             ],
             [
              0.1111111111111111,
              "#46039f"
             ],
             [
              0.2222222222222222,
              "#7201a8"
             ],
             [
              0.3333333333333333,
              "#9c179e"
             ],
             [
              0.4444444444444444,
              "#bd3786"
             ],
             [
              0.5555555555555556,
              "#d8576b"
             ],
             [
              0.6666666666666666,
              "#ed7953"
             ],
             [
              0.7777777777777778,
              "#fb9f3a"
             ],
             [
              0.8888888888888888,
              "#fdca26"
             ],
             [
              1,
              "#f0f921"
             ]
            ],
            "type": "surface"
           }
          ],
          "table": [
           {
            "cells": {
             "fill": {
              "color": "#506784"
             },
             "line": {
              "color": "rgb(17,17,17)"
             }
            },
            "header": {
             "fill": {
              "color": "#2a3f5f"
             },
             "line": {
              "color": "rgb(17,17,17)"
             }
            },
            "type": "table"
           }
          ]
         },
         "layout": {
          "annotationdefaults": {
           "arrowcolor": "#f2f5fa",
           "arrowhead": 0,
           "arrowwidth": 1
          },
          "autotypenumbers": "strict",
          "coloraxis": {
           "colorbar": {
            "outlinewidth": 0,
            "ticks": ""
           }
          },
          "colorscale": {
           "diverging": [
            [
             0,
             "#8e0152"
            ],
            [
             0.1,
             "#c51b7d"
            ],
            [
             0.2,
             "#de77ae"
            ],
            [
             0.3,
             "#f1b6da"
            ],
            [
             0.4,
             "#fde0ef"
            ],
            [
             0.5,
             "#f7f7f7"
            ],
            [
             0.6,
             "#e6f5d0"
            ],
            [
             0.7,
             "#b8e186"
            ],
            [
             0.8,
             "#7fbc41"
            ],
            [
             0.9,
             "#4d9221"
            ],
            [
             1,
             "#276419"
            ]
           ],
           "sequential": [
            [
             0,
             "#0d0887"
            ],
            [
             0.1111111111111111,
             "#46039f"
            ],
            [
             0.2222222222222222,
             "#7201a8"
            ],
            [
             0.3333333333333333,
             "#9c179e"
            ],
            [
             0.4444444444444444,
             "#bd3786"
            ],
            [
             0.5555555555555556,
             "#d8576b"
            ],
            [
             0.6666666666666666,
             "#ed7953"
            ],
            [
             0.7777777777777778,
             "#fb9f3a"
            ],
            [
             0.8888888888888888,
             "#fdca26"
            ],
            [
             1,
             "#f0f921"
            ]
           ],
           "sequentialminus": [
            [
             0,
             "#0d0887"
            ],
            [
             0.1111111111111111,
             "#46039f"
            ],
            [
             0.2222222222222222,
             "#7201a8"
            ],
            [
             0.3333333333333333,
             "#9c179e"
            ],
            [
             0.4444444444444444,
             "#bd3786"
            ],
            [
             0.5555555555555556,
             "#d8576b"
            ],
            [
             0.6666666666666666,
             "#ed7953"
            ],
            [
             0.7777777777777778,
             "#fb9f3a"
            ],
            [
             0.8888888888888888,
             "#fdca26"
            ],
            [
             1,
             "#f0f921"
            ]
           ]
          },
          "colorway": [
           "#636efa",
           "#EF553B",
           "#00cc96",
           "#ab63fa",
           "#FFA15A",
           "#19d3f3",
           "#FF6692",
           "#B6E880",
           "#FF97FF",
           "#FECB52"
          ],
          "font": {
           "color": "#f2f5fa"
          },
          "geo": {
           "bgcolor": "rgb(17,17,17)",
           "lakecolor": "rgb(17,17,17)",
           "landcolor": "rgb(17,17,17)",
           "showlakes": true,
           "showland": true,
           "subunitcolor": "#506784"
          },
          "hoverlabel": {
           "align": "left"
          },
          "hovermode": "closest",
          "mapbox": {
           "style": "dark"
          },
          "paper_bgcolor": "rgb(17,17,17)",
          "plot_bgcolor": "rgb(17,17,17)",
          "polar": {
           "angularaxis": {
            "gridcolor": "#506784",
            "linecolor": "#506784",
            "ticks": ""
           },
           "bgcolor": "rgb(17,17,17)",
           "radialaxis": {
            "gridcolor": "#506784",
            "linecolor": "#506784",
            "ticks": ""
           }
          },
          "scene": {
           "xaxis": {
            "backgroundcolor": "rgb(17,17,17)",
            "gridcolor": "#506784",
            "gridwidth": 2,
            "linecolor": "#506784",
            "showbackground": true,
            "ticks": "",
            "zerolinecolor": "#C8D4E3"
           },
           "yaxis": {
            "backgroundcolor": "rgb(17,17,17)",
            "gridcolor": "#506784",
            "gridwidth": 2,
            "linecolor": "#506784",
            "showbackground": true,
            "ticks": "",
            "zerolinecolor": "#C8D4E3"
           },
           "zaxis": {
            "backgroundcolor": "rgb(17,17,17)",
            "gridcolor": "#506784",
            "gridwidth": 2,
            "linecolor": "#506784",
            "showbackground": true,
            "ticks": "",
            "zerolinecolor": "#C8D4E3"
           }
          },
          "shapedefaults": {
           "line": {
            "color": "#f2f5fa"
           }
          },
          "sliderdefaults": {
           "bgcolor": "#C8D4E3",
           "bordercolor": "rgb(17,17,17)",
           "borderwidth": 1,
           "tickwidth": 0
          },
          "ternary": {
           "aaxis": {
            "gridcolor": "#506784",
            "linecolor": "#506784",
            "ticks": ""
           },
           "baxis": {
            "gridcolor": "#506784",
            "linecolor": "#506784",
            "ticks": ""
           },
           "bgcolor": "rgb(17,17,17)",
           "caxis": {
            "gridcolor": "#506784",
            "linecolor": "#506784",
            "ticks": ""
           }
          },
          "title": {
           "x": 0.05
          },
          "updatemenudefaults": {
           "bgcolor": "#506784",
           "borderwidth": 0
          },
          "xaxis": {
           "automargin": true,
           "gridcolor": "#283442",
           "linecolor": "#506784",
           "ticks": "",
           "title": {
            "standoff": 15
           },
           "zerolinecolor": "#283442",
           "zerolinewidth": 2
          },
          "yaxis": {
           "automargin": true,
           "gridcolor": "#283442",
           "linecolor": "#506784",
           "ticks": "",
           "title": {
            "standoff": 15
           },
           "zerolinecolor": "#283442",
           "zerolinewidth": 2
          }
         }
        },
        "title": {
         "text": "Revenue Analysis",
         "x": 0.5
        },
        "xaxis": {
         "anchor": "y",
         "domain": [
          0,
          1
         ],
         "tickangle": 0,
         "title": {
          "text": "Budget"
         }
        },
        "xaxis2": {
         "anchor": "y2",
         "domain": [
          0,
          1
         ],
         "matches": "x",
         "showgrid": true,
         "showticklabels": false
        },
        "yaxis": {
         "anchor": "x",
         "domain": [
          0,
          0.8316
         ],
         "showgrid": false,
         "title": {
          "text": "Count"
         }
        },
        "yaxis2": {
         "anchor": "x2",
         "domain": [
          0.8416,
          1
         ],
         "matches": "y2",
         "showgrid": false,
         "showline": false,
         "showticklabels": false,
         "ticks": ""
        }
       }
      },
      "text/html": [
       "<div>                            <div id=\"0017cf68-c598-461d-ae62-521bec0e6208\" class=\"plotly-graph-div\" style=\"height:525px; width:100%;\"></div>            <script type=\"text/javascript\">                require([\"plotly\"], function(Plotly) {                    window.PLOTLYENV=window.PLOTLYENV || {};                                    if (document.getElementById(\"0017cf68-c598-461d-ae62-521bec0e6208\")) {                    Plotly.newPlot(                        \"0017cf68-c598-461d-ae62-521bec0e6208\",                        [{\"alignmentgroup\":\"True\",\"bingroup\":\"x\",\"hovertemplate\":\"x=%{x}<br>count=%{y}<extra></extra>\",\"legendgroup\":\"\",\"marker\":{\"color\":\"#636efa\",\"opacity\":0.6,\"pattern\":{\"shape\":\"\"}},\"name\":\"\",\"nbinsx\":10,\"offsetgroup\":\"\",\"orientation\":\"v\",\"showlegend\":false,\"x\":[355200000,395124202,764573021,165558000,688000000,1892000000,17185000,43900000,677700000,50254920,164289828,3186865,253000000,376000000,58120000,161000000,471000000,38410729,500000000,15400000,3114766,503063688,406000000,402027582,432243292,2847246203,306766470,38600612,140000000,125928656,9100000,191000000,1045713802,146745280,1065659812,67000000,2046239637,156497322,655011224,961000000,178143,80340218,233503234,144327371,83601013,14674076,331096766,39629195,794861794,49010641,726229501,6459306,201000000,167417425,467863133,27658331,2797800564,24000000,60000000,144000000,400671789,379751655,2118582,61779301,220889446,18312201,1518815515,21500000,61768190,532054,44000000,137110100,162892228,90112510,500000000,30763855,130000000,168285000,774153007,124596398,700000,29900850,976475550,16500000,809342332,119815153,103966489,348319861,757930663,45000000,1405403694,42145959,76994245,131647155,40200000,392000000,175302354,800526015,895921036,3310000,30500000,155446362,653355901,473122525,876688482,36964325,50461371,783100000,216639112,373554033,165160005,933959197,789804554,26654184,297372261,42000000,500000,2987741,4700000,10247262,474968763,880166924,763455561,136384442,623933331,1671713208,1131927996,74530532,319494638,69766483,132000000,2187463944,357986087,487853320,1341511219,938212738,853977126,579707738,31478826,26900000,299268508,130023,1153296293,928760770,69497587,24200000,698491347,855013954,954305868,11000000,658982,1450026933,102731865,25860000,708962323,356830601,320392818,17,17635215,657827828,1474579,1303459585,66800000,433005346,760098996,449326618,25109572,786365638,1238764765,956019788,571006128,77263354,383257136,791217826,23076711,317375031,383925276,7877742,226497209,629443428,37700000,252207,407602906,30156463,325771424,821708551,623726000,27900000,67918658,780000,270997378,469310836,186965409,92246218,4493306,118133252,153000000,211343479,4181043,1274219009,365550119,22957625,215863606,114996853,5802422,497366869,60462347,344931,393616788,1073394593,531865000,355692760,211817906,263591415,477200000,359126022,585174222,1074251311,3777969,304320254,1515047671,37552144,17322136,278019771,890871626,275650703,24640084,1214811252,701729206,1753826,151758425,125002821,592461732,92108518,16331742,559852396,863756051,207945075,1667635327,30000000,644571402,8639684,1148528393,40618920,491570967,784681,214104620,34560577,758539785,527068851,99924,5021219,386600138,368307760,582890172,471222889,26745,375540831,271430189,825532764,370569774,284139100,634151679,1015339,102820008,800059707,87547518,1100000,312296056,288175335,238524,319713881,378858340,23800,529221154,1128276090,376141306,61321941,19581369,4284903,757096,829000000,886686817,1021103568,290061297,415252786,127994610,586764305,735099082,712171856,1242805359,1066969703,752100229,93621340,1104000000,18554927,214215889,871368364,365971656,940335536,473990832,173930596,745013115,141220678,1081041287,549368315,44888959,247022278,218340595,926287400,159313561,12421716,384335608,116471580,877244782,137056262,231252591,493214993,958400000,92924405,28169671,1047612394,211819354,410902662,201858461,424967620,873637528,184925486,162146076,127233108,441306145,8621288,77912251,543934787,126690726,171539887,1025467110,605425157,33748006,273144151,378827494,857611174,426588510,414351546,49169594,426505244,1023784195,970761885,9458590,26943020,1118888979,710644566,31220247,631744560,42105111,752600867,660998756,252712101,25343661,91490353,14700000,8556940,230884728,295038508,10054356,41063475,274470394,484635760,631442092,89328627,354248063,173567581,362000072,78378744,2260622,533679475,202404009,813367380,104399548,226830568,96188903,709827462,50671850,894027543,754045518,200804534,363258859,440603537,611899420,149228077,326709727,169327687,701842551,154026136,250397798,26000000,113086475,118587880,530243742,363129000,203277636,747862775,95396573,107363905,1004558444,97009150,91709827,587204668,39657073,572000000,461983149,214945591,519311965,403354469,538983207,302469017,374218673,332207671,28650575,91244913,542307423,521311860,130786397,1347597973,529076069,542063846,3424648,126069509,4300000,408579038,619021436,205843612,136267476,60141683,5303,1031552585,84300000,51820323,20,102391540,112880294,517526875,11620603,32980880,336365676,97437106,967000,192330738,743559607,371353001,160112671,301970083,1263521126,426245950,163712074,373552094,257591776,624026776,5728940,122563539,91509154,236049757,267447150,145000000,240891763,77389310,274925095,448191819,88761661,85000000,821847012,17150803,2068223624,1600000,369330363,66207073,150000000,340677200,425368238,89792502,90941129,226945087,59217789,170812526,306515884,120654337,136621271,47000000,23308615,4608579,746846894,219851172,61631776,57615777,1169603,132563930,543514353,2527904,278454358,59754601,157887643,485930816,194183034,16441438,161000000,81967450,19300483,665692281,875386,25000000,155152550,91500000,167977596,320689294,431020,419665568,309208309,107363905,23384502,32511655,521170825,508575295,775398007,83061158,21722776,149281606,26617621,16951798,140161792,21164799,63523283,370541256,2412576,77278331,43318349,44196684,60781545,585410052,118890272,125983972,2000371,8084148,220673217,321457747,103911669,346147658,1400000,84872444,300473716,258022233,91627228,186167139,250811,90810892,293329073,75634409,97984015,962102237,257047661,10539000,160542134,66984887,621537500,20109115,113244290,340487652,226349749,20725409,260095986,296482446,347325802,244874809,83615414,528600000,2000000,714766572,463517383,40100000,295238201,116643421,504050219,494878759,72281712,33457923,389681935,622674139,229147509,1074144248,278731369,497409852,14860766,500188435,245066411,694713380,230698791,17080167,458863600,223241637,358375603,404852543,333535934,108609310,345141403,63102666,657926987,1108569499,11087569,400062763,73983359,122801777,153962963,1332698830,244819862,210819611,15712,32438988,321669741,55675257,122033739,33542457,51600000,161849455,261119292,107604626,60965854,235483004,12549382,13416285,351723989,206172544,87305549,746921274,772776600,653428261,183987723,60700000,301913131,385680446,260502115,42972994,28341469,87404651,259239658,32893421,252442974,117250402,150680864,76249438,76411819,691210692,1025190,82515113,603900354,331957105,150406466,482860185,10589102,39328,188441614,147934180,245724603,300135367,309979994,566652812,203388186,234989584,244721064,174822325,147792047,630161890,4296804,29942746,205366737,443280904,304654182,19775853,488533726,39200,23580000,268031828,31556061,66023329,15345201,288747895,4873825,111928365,239828,104303851,161025640,27526961,203044905,8352885,6341684,177238796,35763605,81093313,24829644,133818283,68766121,24945497,201634991,20560255,80239658,18610260,942666,287553595,98337295,261989769,741875,44781695,71992655,326551094,47301471,54819301,205035819,415885488,286801374,225874228,69411370,30900000,23006849,3600000,33754967,52946454,23740788,58834384,3642692,75836683,8852989,4300000,473226958,190400157,309232797,155712077,287928194,300400432,314975955,129042871,23159305,68467960,139804348,15489307,21972336,299457024,98267558,306941670,53000000,197687603,115603229,58058367,141592359,171844840,572809,5115725,225508210,30700000,197011982,36359037,47709193,242988466,159047649,167184112,108332743,212874864,48021766,216972543,242717113,847423452,19170001,158674180,180289970,31672678,32948113,206071502,44459951,19289062,19472057,264118201,20300000,228738393,14000000,11710110,37070177,45000000,1071255,10032765,311594032,463406268,27500000,245527149,52300000,221805,83258226,119723358,381109762,146661977,1784763,321885765,520000000,86758912,177856751,198802074,57504069,287594577,29400000,183293131,176586701,246941965,26747,58228460,22472631,367275019,90747520,156974557,117224271,127420861,36690067,142337240,22525668,374733942,4160000,17280326,33456317,510466,966550600,467989645,75450437,1755212,361366633,348840316,333593,207039844,178262620,20112926,1156730962,351583407,33750478,76432727,130290885,147748505,415686217,14946150,2520000,411348924,22217407,384659,9430580,1028570889,356743061,27975429,337580051,118666,70060492,21067659,181466833,15938065,27165581,146936910,100853753,50300000,19294901,334615000,4439431,109578115,125729635,62357900,33459416,42776760,140705322,142940100,114178613,553810228,69623713,183474602,21930418,122700000,80509622,85720385,99255460,64188367,294800000,155545279,48428063,96262212,6000000,170432927,102338515,53830415,342695435,5600000,164874275,101595121,189015611,341631208,102600000,29800000,201585328,307166834,78054825,297718711,532950503,346864462,112462508,7060384,71041255,481840909,14521,35728183,214179088,33213241,44093316,1709980,252608480,97542952,69000000,20416563,817400891,140175006,173046663,920100000,274650803,677387716,44806783,47088990,1118410,562363449,361682618,880674609,245360480,86362372,358994850,149542245,163403799,171720398,268426634,119682635,34265,553799566,171616764,145166804,95330493,599045960,131183530,2351359,270000000,7766240,554987477,303025485,46749646,94073028,23507567,295463225,54418872,30000000,49714378,19496308,245623848,46216641,104384188,50365377,139352633,334901337,290745055,112790210,195702811,5972942,57000000,18469680,68267862,682330139,108047131,78371200,20158808,48814909,44664690,105734416,71585235,68572378,19551067,311950384,221600160,255407969,484592874,433677183,248384621,44902237,164170327,165335153,443458,8494414,67790117,47980982,287506194,70459,178866158,310634054,209154322,224834564,17555141,40343446,122126687,609016565,85182160,4942449,4803565,470653000,115375850,269980,162360636,27388767,107139399,205754447,712216,100140916,40547440,125212904,496334,169837010,253688035,46000000,100491683,2200000,13092000,263920180,22182353,95696996,41848,327311859,218122627,103951461,352114312,81493846,130234661,55060661,243843127,136151680,199850315,19672073,248639099,83188165,30641770,21791288,126546518,20275812,1000000,30000000,87812371,300257475,6272403,4915757,791017452,443140005,104931801,89203432,135039924,16000000,57777106,70000000,14089528,280000000,34949567,275947313,422610419,396600000,231449203,249348933,245692007,563749323,230098753,233555708,3666620,43059790,75026327,170764026,171339013,57120318,152930623,34266564,1056057273,17752940,86234523,19046191,479226,160602194,593683,678604,307077295,8936663,148100000,29789000,97231420,392952373,387053506,169332978,48919043,609841637,403449830,32056467,115664037,173469516,321365567,155010032,211780824,413106170,51148651,37767206,738599701,2500000,83080890,8737458,30169000,121147947,103590271,138241022,4109095,10178331,346079773,7449778,17979739,303144152,34234008,80000000,41627431,900000,296187079,134734481,54639553,4000000,32677774,179246868,490000,83761844,178592,159291809,147332697,100605135,1314053,333932083,76514050,4842699,80767884,424988211,146497771,47494916,362637473,298572799,34522221,109906372,81979826,31635150,136766062,149673788,286140700,158162788,102278712,149878437,589390539,1070714,17643857,40423945,3639345,498814908,5148503,108979549,35808437,4176641,636706,48000000,225374,467365246,101702060,783766341,113864059,101332962,273339556],\"xaxis\":\"x\",\"yaxis\":\"y\",\"type\":\"histogram\"},{\"alignmentgroup\":\"True\",\"hovertemplate\":\"x=%{x}<extra></extra>\",\"legendgroup\":\"\",\"marker\":{\"color\":\"#636efa\"},\"name\":\"\",\"notched\":true,\"offsetgroup\":\"\",\"showlegend\":false,\"x\":[355200000,395124202,764573021,165558000,688000000,1892000000,17185000,43900000,677700000,50254920,164289828,3186865,253000000,376000000,58120000,161000000,471000000,38410729,500000000,15400000,3114766,503063688,406000000,402027582,432243292,2847246203,306766470,38600612,140000000,125928656,9100000,191000000,1045713802,146745280,1065659812,67000000,2046239637,156497322,655011224,961000000,178143,80340218,233503234,144327371,83601013,14674076,331096766,39629195,794861794,49010641,726229501,6459306,201000000,167417425,467863133,27658331,2797800564,24000000,60000000,144000000,400671789,379751655,2118582,61779301,220889446,18312201,1518815515,21500000,61768190,532054,44000000,137110100,162892228,90112510,500000000,30763855,130000000,168285000,774153007,124596398,700000,29900850,976475550,16500000,809342332,119815153,103966489,348319861,757930663,45000000,1405403694,42145959,76994245,131647155,40200000,392000000,175302354,800526015,895921036,3310000,30500000,155446362,653355901,473122525,876688482,36964325,50461371,783100000,216639112,373554033,165160005,933959197,789804554,26654184,297372261,42000000,500000,2987741,4700000,10247262,474968763,880166924,763455561,136384442,623933331,1671713208,1131927996,74530532,319494638,69766483,132000000,2187463944,357986087,487853320,1341511219,938212738,853977126,579707738,31478826,26900000,299268508,130023,1153296293,928760770,69497587,24200000,698491347,855013954,954305868,11000000,658982,1450026933,102731865,25860000,708962323,356830601,320392818,17,17635215,657827828,1474579,1303459585,66800000,433005346,760098996,449326618,25109572,786365638,1238764765,956019788,571006128,77263354,383257136,791217826,23076711,317375031,383925276,7877742,226497209,629443428,37700000,252207,407602906,30156463,325771424,821708551,623726000,27900000,67918658,780000,270997378,469310836,186965409,92246218,4493306,118133252,153000000,211343479,4181043,1274219009,365550119,22957625,215863606,114996853,5802422,497366869,60462347,344931,393616788,1073394593,531865000,355692760,211817906,263591415,477200000,359126022,585174222,1074251311,3777969,304320254,1515047671,37552144,17322136,278019771,890871626,275650703,24640084,1214811252,701729206,1753826,151758425,125002821,592461732,92108518,16331742,559852396,863756051,207945075,1667635327,30000000,644571402,8639684,1148528393,40618920,491570967,784681,214104620,34560577,758539785,527068851,99924,5021219,386600138,368307760,582890172,471222889,26745,375540831,271430189,825532764,370569774,284139100,634151679,1015339,102820008,800059707,87547518,1100000,312296056,288175335,238524,319713881,378858340,23800,529221154,1128276090,376141306,61321941,19581369,4284903,757096,829000000,886686817,1021103568,290061297,415252786,127994610,586764305,735099082,712171856,1242805359,1066969703,752100229,93621340,1104000000,18554927,214215889,871368364,365971656,940335536,473990832,173930596,745013115,141220678,1081041287,549368315,44888959,247022278,218340595,926287400,159313561,12421716,384335608,116471580,877244782,137056262,231252591,493214993,958400000,92924405,28169671,1047612394,211819354,410902662,201858461,424967620,873637528,184925486,162146076,127233108,441306145,8621288,77912251,543934787,126690726,171539887,1025467110,605425157,33748006,273144151,378827494,857611174,426588510,414351546,49169594,426505244,1023784195,970761885,9458590,26943020,1118888979,710644566,31220247,631744560,42105111,752600867,660998756,252712101,25343661,91490353,14700000,8556940,230884728,295038508,10054356,41063475,274470394,484635760,631442092,89328627,354248063,173567581,362000072,78378744,2260622,533679475,202404009,813367380,104399548,226830568,96188903,709827462,50671850,894027543,754045518,200804534,363258859,440603537,611899420,149228077,326709727,169327687,701842551,154026136,250397798,26000000,113086475,118587880,530243742,363129000,203277636,747862775,95396573,107363905,1004558444,97009150,91709827,587204668,39657073,572000000,461983149,214945591,519311965,403354469,538983207,302469017,374218673,332207671,28650575,91244913,542307423,521311860,130786397,1347597973,529076069,542063846,3424648,126069509,4300000,408579038,619021436,205843612,136267476,60141683,5303,1031552585,84300000,51820323,20,102391540,112880294,517526875,11620603,32980880,336365676,97437106,967000,192330738,743559607,371353001,160112671,301970083,1263521126,426245950,163712074,373552094,257591776,624026776,5728940,122563539,91509154,236049757,267447150,145000000,240891763,77389310,274925095,448191819,88761661,85000000,821847012,17150803,2068223624,1600000,369330363,66207073,150000000,340677200,425368238,89792502,90941129,226945087,59217789,170812526,306515884,120654337,136621271,47000000,23308615,4608579,746846894,219851172,61631776,57615777,1169603,132563930,543514353,2527904,278454358,59754601,157887643,485930816,194183034,16441438,161000000,81967450,19300483,665692281,875386,25000000,155152550,91500000,167977596,320689294,431020,419665568,309208309,107363905,23384502,32511655,521170825,508575295,775398007,83061158,21722776,149281606,26617621,16951798,140161792,21164799,63523283,370541256,2412576,77278331,43318349,44196684,60781545,585410052,118890272,125983972,2000371,8084148,220673217,321457747,103911669,346147658,1400000,84872444,300473716,258022233,91627228,186167139,250811,90810892,293329073,75634409,97984015,962102237,257047661,10539000,160542134,66984887,621537500,20109115,113244290,340487652,226349749,20725409,260095986,296482446,347325802,244874809,83615414,528600000,2000000,714766572,463517383,40100000,295238201,116643421,504050219,494878759,72281712,33457923,389681935,622674139,229147509,1074144248,278731369,497409852,14860766,500188435,245066411,694713380,230698791,17080167,458863600,223241637,358375603,404852543,333535934,108609310,345141403,63102666,657926987,1108569499,11087569,400062763,73983359,122801777,153962963,1332698830,244819862,210819611,15712,32438988,321669741,55675257,122033739,33542457,51600000,161849455,261119292,107604626,60965854,235483004,12549382,13416285,351723989,206172544,87305549,746921274,772776600,653428261,183987723,60700000,301913131,385680446,260502115,42972994,28341469,87404651,259239658,32893421,252442974,117250402,150680864,76249438,76411819,691210692,1025190,82515113,603900354,331957105,150406466,482860185,10589102,39328,188441614,147934180,245724603,300135367,309979994,566652812,203388186,234989584,244721064,174822325,147792047,630161890,4296804,29942746,205366737,443280904,304654182,19775853,488533726,39200,23580000,268031828,31556061,66023329,15345201,288747895,4873825,111928365,239828,104303851,161025640,27526961,203044905,8352885,6341684,177238796,35763605,81093313,24829644,133818283,68766121,24945497,201634991,20560255,80239658,18610260,942666,287553595,98337295,261989769,741875,44781695,71992655,326551094,47301471,54819301,205035819,415885488,286801374,225874228,69411370,30900000,23006849,3600000,33754967,52946454,23740788,58834384,3642692,75836683,8852989,4300000,473226958,190400157,309232797,155712077,287928194,300400432,314975955,129042871,23159305,68467960,139804348,15489307,21972336,299457024,98267558,306941670,53000000,197687603,115603229,58058367,141592359,171844840,572809,5115725,225508210,30700000,197011982,36359037,47709193,242988466,159047649,167184112,108332743,212874864,48021766,216972543,242717113,847423452,19170001,158674180,180289970,31672678,32948113,206071502,44459951,19289062,19472057,264118201,20300000,228738393,14000000,11710110,37070177,45000000,1071255,10032765,311594032,463406268,27500000,245527149,52300000,221805,83258226,119723358,381109762,146661977,1784763,321885765,520000000,86758912,177856751,198802074,57504069,287594577,29400000,183293131,176586701,246941965,26747,58228460,22472631,367275019,90747520,156974557,117224271,127420861,36690067,142337240,22525668,374733942,4160000,17280326,33456317,510466,966550600,467989645,75450437,1755212,361366633,348840316,333593,207039844,178262620,20112926,1156730962,351583407,33750478,76432727,130290885,147748505,415686217,14946150,2520000,411348924,22217407,384659,9430580,1028570889,356743061,27975429,337580051,118666,70060492,21067659,181466833,15938065,27165581,146936910,100853753,50300000,19294901,334615000,4439431,109578115,125729635,62357900,33459416,42776760,140705322,142940100,114178613,553810228,69623713,183474602,21930418,122700000,80509622,85720385,99255460,64188367,294800000,155545279,48428063,96262212,6000000,170432927,102338515,53830415,342695435,5600000,164874275,101595121,189015611,341631208,102600000,29800000,201585328,307166834,78054825,297718711,532950503,346864462,112462508,7060384,71041255,481840909,14521,35728183,214179088,33213241,44093316,1709980,252608480,97542952,69000000,20416563,817400891,140175006,173046663,920100000,274650803,677387716,44806783,47088990,1118410,562363449,361682618,880674609,245360480,86362372,358994850,149542245,163403799,171720398,268426634,119682635,34265,553799566,171616764,145166804,95330493,599045960,131183530,2351359,270000000,7766240,554987477,303025485,46749646,94073028,23507567,295463225,54418872,30000000,49714378,19496308,245623848,46216641,104384188,50365377,139352633,334901337,290745055,112790210,195702811,5972942,57000000,18469680,68267862,682330139,108047131,78371200,20158808,48814909,44664690,105734416,71585235,68572378,19551067,311950384,221600160,255407969,484592874,433677183,248384621,44902237,164170327,165335153,443458,8494414,67790117,47980982,287506194,70459,178866158,310634054,209154322,224834564,17555141,40343446,122126687,609016565,85182160,4942449,4803565,470653000,115375850,269980,162360636,27388767,107139399,205754447,712216,100140916,40547440,125212904,496334,169837010,253688035,46000000,100491683,2200000,13092000,263920180,22182353,95696996,41848,327311859,218122627,103951461,352114312,81493846,130234661,55060661,243843127,136151680,199850315,19672073,248639099,83188165,30641770,21791288,126546518,20275812,1000000,30000000,87812371,300257475,6272403,4915757,791017452,443140005,104931801,89203432,135039924,16000000,57777106,70000000,14089528,280000000,34949567,275947313,422610419,396600000,231449203,249348933,245692007,563749323,230098753,233555708,3666620,43059790,75026327,170764026,171339013,57120318,152930623,34266564,1056057273,17752940,86234523,19046191,479226,160602194,593683,678604,307077295,8936663,148100000,29789000,97231420,392952373,387053506,169332978,48919043,609841637,403449830,32056467,115664037,173469516,321365567,155010032,211780824,413106170,51148651,37767206,738599701,2500000,83080890,8737458,30169000,121147947,103590271,138241022,4109095,10178331,346079773,7449778,17979739,303144152,34234008,80000000,41627431,900000,296187079,134734481,54639553,4000000,32677774,179246868,490000,83761844,178592,159291809,147332697,100605135,1314053,333932083,76514050,4842699,80767884,424988211,146497771,47494916,362637473,298572799,34522221,109906372,81979826,31635150,136766062,149673788,286140700,158162788,102278712,149878437,589390539,1070714,17643857,40423945,3639345,498814908,5148503,108979549,35808437,4176641,636706,48000000,225374,467365246,101702060,783766341,113864059,101332962,273339556],\"xaxis\":\"x2\",\"yaxis\":\"y2\",\"type\":\"box\"}],                        {\"barmode\":\"relative\",\"hovermode\":\"x unified\",\"legend\":{\"tracegroupgap\":0},\"template\":{\"data\":{\"barpolar\":[{\"marker\":{\"line\":{\"color\":\"rgb(17,17,17)\",\"width\":0.5},\"pattern\":{\"fillmode\":\"overlay\",\"size\":10,\"solidity\":0.2}},\"type\":\"barpolar\"}],\"bar\":[{\"error_x\":{\"color\":\"#f2f5fa\"},\"error_y\":{\"color\":\"#f2f5fa\"},\"marker\":{\"line\":{\"color\":\"rgb(17,17,17)\",\"width\":0.5},\"pattern\":{\"fillmode\":\"overlay\",\"size\":10,\"solidity\":0.2}},\"type\":\"bar\"}],\"carpet\":[{\"aaxis\":{\"endlinecolor\":\"#A2B1C6\",\"gridcolor\":\"#506784\",\"linecolor\":\"#506784\",\"minorgridcolor\":\"#506784\",\"startlinecolor\":\"#A2B1C6\"},\"baxis\":{\"endlinecolor\":\"#A2B1C6\",\"gridcolor\":\"#506784\",\"linecolor\":\"#506784\",\"minorgridcolor\":\"#506784\",\"startlinecolor\":\"#A2B1C6\"},\"type\":\"carpet\"}],\"choropleth\":[{\"colorbar\":{\"outlinewidth\":0,\"ticks\":\"\"},\"type\":\"choropleth\"}],\"contourcarpet\":[{\"colorbar\":{\"outlinewidth\":0,\"ticks\":\"\"},\"type\":\"contourcarpet\"}],\"contour\":[{\"colorbar\":{\"outlinewidth\":0,\"ticks\":\"\"},\"colorscale\":[[0.0,\"#0d0887\"],[0.1111111111111111,\"#46039f\"],[0.2222222222222222,\"#7201a8\"],[0.3333333333333333,\"#9c179e\"],[0.4444444444444444,\"#bd3786\"],[0.5555555555555556,\"#d8576b\"],[0.6666666666666666,\"#ed7953\"],[0.7777777777777778,\"#fb9f3a\"],[0.8888888888888888,\"#fdca26\"],[1.0,\"#f0f921\"]],\"type\":\"contour\"}],\"heatmapgl\":[{\"colorbar\":{\"outlinewidth\":0,\"ticks\":\"\"},\"colorscale\":[[0.0,\"#0d0887\"],[0.1111111111111111,\"#46039f\"],[0.2222222222222222,\"#7201a8\"],[0.3333333333333333,\"#9c179e\"],[0.4444444444444444,\"#bd3786\"],[0.5555555555555556,\"#d8576b\"],[0.6666666666666666,\"#ed7953\"],[0.7777777777777778,\"#fb9f3a\"],[0.8888888888888888,\"#fdca26\"],[1.0,\"#f0f921\"]],\"type\":\"heatmapgl\"}],\"heatmap\":[{\"colorbar\":{\"outlinewidth\":0,\"ticks\":\"\"},\"colorscale\":[[0.0,\"#0d0887\"],[0.1111111111111111,\"#46039f\"],[0.2222222222222222,\"#7201a8\"],[0.3333333333333333,\"#9c179e\"],[0.4444444444444444,\"#bd3786\"],[0.5555555555555556,\"#d8576b\"],[0.6666666666666666,\"#ed7953\"],[0.7777777777777778,\"#fb9f3a\"],[0.8888888888888888,\"#fdca26\"],[1.0,\"#f0f921\"]],\"type\":\"heatmap\"}],\"histogram2dcontour\":[{\"colorbar\":{\"outlinewidth\":0,\"ticks\":\"\"},\"colorscale\":[[0.0,\"#0d0887\"],[0.1111111111111111,\"#46039f\"],[0.2222222222222222,\"#7201a8\"],[0.3333333333333333,\"#9c179e\"],[0.4444444444444444,\"#bd3786\"],[0.5555555555555556,\"#d8576b\"],[0.6666666666666666,\"#ed7953\"],[0.7777777777777778,\"#fb9f3a\"],[0.8888888888888888,\"#fdca26\"],[1.0,\"#f0f921\"]],\"type\":\"histogram2dcontour\"}],\"histogram2d\":[{\"colorbar\":{\"outlinewidth\":0,\"ticks\":\"\"},\"colorscale\":[[0.0,\"#0d0887\"],[0.1111111111111111,\"#46039f\"],[0.2222222222222222,\"#7201a8\"],[0.3333333333333333,\"#9c179e\"],[0.4444444444444444,\"#bd3786\"],[0.5555555555555556,\"#d8576b\"],[0.6666666666666666,\"#ed7953\"],[0.7777777777777778,\"#fb9f3a\"],[0.8888888888888888,\"#fdca26\"],[1.0,\"#f0f921\"]],\"type\":\"histogram2d\"}],\"histogram\":[{\"marker\":{\"pattern\":{\"fillmode\":\"overlay\",\"size\":10,\"solidity\":0.2}},\"type\":\"histogram\"}],\"mesh3d\":[{\"colorbar\":{\"outlinewidth\":0,\"ticks\":\"\"},\"type\":\"mesh3d\"}],\"parcoords\":[{\"line\":{\"colorbar\":{\"outlinewidth\":0,\"ticks\":\"\"}},\"type\":\"parcoords\"}],\"pie\":[{\"automargin\":true,\"type\":\"pie\"}],\"scatter3d\":[{\"line\":{\"colorbar\":{\"outlinewidth\":0,\"ticks\":\"\"}},\"marker\":{\"colorbar\":{\"outlinewidth\":0,\"ticks\":\"\"}},\"type\":\"scatter3d\"}],\"scattercarpet\":[{\"marker\":{\"colorbar\":{\"outlinewidth\":0,\"ticks\":\"\"}},\"type\":\"scattercarpet\"}],\"scattergeo\":[{\"marker\":{\"colorbar\":{\"outlinewidth\":0,\"ticks\":\"\"}},\"type\":\"scattergeo\"}],\"scattergl\":[{\"marker\":{\"line\":{\"color\":\"#283442\"}},\"type\":\"scattergl\"}],\"scattermapbox\":[{\"marker\":{\"colorbar\":{\"outlinewidth\":0,\"ticks\":\"\"}},\"type\":\"scattermapbox\"}],\"scatterpolargl\":[{\"marker\":{\"colorbar\":{\"outlinewidth\":0,\"ticks\":\"\"}},\"type\":\"scatterpolargl\"}],\"scatterpolar\":[{\"marker\":{\"colorbar\":{\"outlinewidth\":0,\"ticks\":\"\"}},\"type\":\"scatterpolar\"}],\"scatter\":[{\"marker\":{\"line\":{\"color\":\"#283442\"}},\"type\":\"scatter\"}],\"scatterternary\":[{\"marker\":{\"colorbar\":{\"outlinewidth\":0,\"ticks\":\"\"}},\"type\":\"scatterternary\"}],\"surface\":[{\"colorbar\":{\"outlinewidth\":0,\"ticks\":\"\"},\"colorscale\":[[0.0,\"#0d0887\"],[0.1111111111111111,\"#46039f\"],[0.2222222222222222,\"#7201a8\"],[0.3333333333333333,\"#9c179e\"],[0.4444444444444444,\"#bd3786\"],[0.5555555555555556,\"#d8576b\"],[0.6666666666666666,\"#ed7953\"],[0.7777777777777778,\"#fb9f3a\"],[0.8888888888888888,\"#fdca26\"],[1.0,\"#f0f921\"]],\"type\":\"surface\"}],\"table\":[{\"cells\":{\"fill\":{\"color\":\"#506784\"},\"line\":{\"color\":\"rgb(17,17,17)\"}},\"header\":{\"fill\":{\"color\":\"#2a3f5f\"},\"line\":{\"color\":\"rgb(17,17,17)\"}},\"type\":\"table\"}]},\"layout\":{\"annotationdefaults\":{\"arrowcolor\":\"#f2f5fa\",\"arrowhead\":0,\"arrowwidth\":1},\"autotypenumbers\":\"strict\",\"coloraxis\":{\"colorbar\":{\"outlinewidth\":0,\"ticks\":\"\"}},\"colorscale\":{\"diverging\":[[0,\"#8e0152\"],[0.1,\"#c51b7d\"],[0.2,\"#de77ae\"],[0.3,\"#f1b6da\"],[0.4,\"#fde0ef\"],[0.5,\"#f7f7f7\"],[0.6,\"#e6f5d0\"],[0.7,\"#b8e186\"],[0.8,\"#7fbc41\"],[0.9,\"#4d9221\"],[1,\"#276419\"]],\"sequential\":[[0.0,\"#0d0887\"],[0.1111111111111111,\"#46039f\"],[0.2222222222222222,\"#7201a8\"],[0.3333333333333333,\"#9c179e\"],[0.4444444444444444,\"#bd3786\"],[0.5555555555555556,\"#d8576b\"],[0.6666666666666666,\"#ed7953\"],[0.7777777777777778,\"#fb9f3a\"],[0.8888888888888888,\"#fdca26\"],[1.0,\"#f0f921\"]],\"sequentialminus\":[[0.0,\"#0d0887\"],[0.1111111111111111,\"#46039f\"],[0.2222222222222222,\"#7201a8\"],[0.3333333333333333,\"#9c179e\"],[0.4444444444444444,\"#bd3786\"],[0.5555555555555556,\"#d8576b\"],[0.6666666666666666,\"#ed7953\"],[0.7777777777777778,\"#fb9f3a\"],[0.8888888888888888,\"#fdca26\"],[1.0,\"#f0f921\"]]},\"colorway\":[\"#636efa\",\"#EF553B\",\"#00cc96\",\"#ab63fa\",\"#FFA15A\",\"#19d3f3\",\"#FF6692\",\"#B6E880\",\"#FF97FF\",\"#FECB52\"],\"font\":{\"color\":\"#f2f5fa\"},\"geo\":{\"bgcolor\":\"rgb(17,17,17)\",\"lakecolor\":\"rgb(17,17,17)\",\"landcolor\":\"rgb(17,17,17)\",\"showlakes\":true,\"showland\":true,\"subunitcolor\":\"#506784\"},\"hoverlabel\":{\"align\":\"left\"},\"hovermode\":\"closest\",\"mapbox\":{\"style\":\"dark\"},\"paper_bgcolor\":\"rgb(17,17,17)\",\"plot_bgcolor\":\"rgb(17,17,17)\",\"polar\":{\"angularaxis\":{\"gridcolor\":\"#506784\",\"linecolor\":\"#506784\",\"ticks\":\"\"},\"bgcolor\":\"rgb(17,17,17)\",\"radialaxis\":{\"gridcolor\":\"#506784\",\"linecolor\":\"#506784\",\"ticks\":\"\"}},\"scene\":{\"xaxis\":{\"backgroundcolor\":\"rgb(17,17,17)\",\"gridcolor\":\"#506784\",\"gridwidth\":2,\"linecolor\":\"#506784\",\"showbackground\":true,\"ticks\":\"\",\"zerolinecolor\":\"#C8D4E3\"},\"yaxis\":{\"backgroundcolor\":\"rgb(17,17,17)\",\"gridcolor\":\"#506784\",\"gridwidth\":2,\"linecolor\":\"#506784\",\"showbackground\":true,\"ticks\":\"\",\"zerolinecolor\":\"#C8D4E3\"},\"zaxis\":{\"backgroundcolor\":\"rgb(17,17,17)\",\"gridcolor\":\"#506784\",\"gridwidth\":2,\"linecolor\":\"#506784\",\"showbackground\":true,\"ticks\":\"\",\"zerolinecolor\":\"#C8D4E3\"}},\"shapedefaults\":{\"line\":{\"color\":\"#f2f5fa\"}},\"sliderdefaults\":{\"bgcolor\":\"#C8D4E3\",\"bordercolor\":\"rgb(17,17,17)\",\"borderwidth\":1,\"tickwidth\":0},\"ternary\":{\"aaxis\":{\"gridcolor\":\"#506784\",\"linecolor\":\"#506784\",\"ticks\":\"\"},\"baxis\":{\"gridcolor\":\"#506784\",\"linecolor\":\"#506784\",\"ticks\":\"\"},\"bgcolor\":\"rgb(17,17,17)\",\"caxis\":{\"gridcolor\":\"#506784\",\"linecolor\":\"#506784\",\"ticks\":\"\"}},\"title\":{\"x\":0.05},\"updatemenudefaults\":{\"bgcolor\":\"#506784\",\"borderwidth\":0},\"xaxis\":{\"automargin\":true,\"gridcolor\":\"#283442\",\"linecolor\":\"#506784\",\"ticks\":\"\",\"title\":{\"standoff\":15},\"zerolinecolor\":\"#283442\",\"zerolinewidth\":2},\"yaxis\":{\"automargin\":true,\"gridcolor\":\"#283442\",\"linecolor\":\"#506784\",\"ticks\":\"\",\"title\":{\"standoff\":15},\"zerolinecolor\":\"#283442\",\"zerolinewidth\":2}}},\"title\":{\"text\":\"Revenue Analysis\",\"x\":0.5},\"xaxis\":{\"anchor\":\"y\",\"domain\":[0.0,1.0],\"tickangle\":0,\"title\":{\"text\":\"Budget\"}},\"yaxis\":{\"anchor\":\"x\",\"domain\":[0.0,0.8316],\"showgrid\":false,\"title\":{\"text\":\"Count\"}},\"xaxis2\":{\"anchor\":\"y2\",\"domain\":[0.0,1.0],\"matches\":\"x\",\"showgrid\":true,\"showticklabels\":false},\"yaxis2\":{\"anchor\":\"x2\",\"domain\":[0.8416,1.0],\"matches\":\"y2\",\"showgrid\":false,\"showline\":false,\"showticklabels\":false,\"ticks\":\"\"}},                        {\"responsive\": true}                    ).then(function(){\n",
       "                            \n",
       "var gd = document.getElementById('0017cf68-c598-461d-ae62-521bec0e6208');\n",
       "var x = new MutationObserver(function (mutations, observer) {{\n",
       "        var display = window.getComputedStyle(gd).display;\n",
       "        if (!display || display === 'none') {{\n",
       "            console.log([gd, 'removed!']);\n",
       "            Plotly.purge(gd);\n",
       "            observer.disconnect();\n",
       "        }}\n",
       "}});\n",
       "\n",
       "// Listen for the removal of the full notebook cells\n",
       "var notebookContainer = gd.closest('#notebook-container');\n",
       "if (notebookContainer) {{\n",
       "    x.observe(notebookContainer, {childList: true});\n",
       "}}\n",
       "\n",
       "// Listen for the clearing of the current output cell\n",
       "var outputEl = gd.closest('.output');\n",
       "if (outputEl) {{\n",
       "    x.observe(outputEl, {childList: true});\n",
       "}}\n",
       "\n",
       "                        })                };                });            </script>        </div>"
      ]
     },
     "metadata": {},
     "output_type": "display_data"
    }
   ],
   "source": [
    "fig = px.histogram(movies,x=movies[movies['revenue']!=0]['revenue'],marginal='box',opacity=0.6,nbins=10,\n",
    "                  title='Revenue Analysis',template = 'plotly_dark')\n",
    "\n",
    "fig.update_layout(hovermode=\"x unified\",xaxis_tickangle=360,\n",
    "                  xaxis_title='Budget',title_x=0.5,yaxis={'title':'Count','showgrid':False})\n",
    "iplot(fig)"
   ]
  },
  {
   "cell_type": "markdown",
   "id": "b82ac8c1",
   "metadata": {},
   "source": [
    "### 1. Graph is right-skewed , as most of the movies earn revenue 0-499 M having median value 146M.\n",
    "### 2. Few of the outliers are having budget more than 2B."
   ]
  },
  {
   "cell_type": "markdown",
   "id": "c5411c47",
   "metadata": {},
   "source": [
    "## 4.2 Yearly distribution of movies"
   ]
  },
  {
   "cell_type": "code",
   "execution_count": 60,
   "id": "d55b47b1",
   "metadata": {},
   "outputs": [
    {
     "data": {
      "application/vnd.plotly.v1+json": {
       "config": {
        "linkText": "Export to plot.ly",
        "plotlyServerURL": "https://plot.ly",
        "showLink": false
       },
       "data": [
        {
         "connectgaps": false,
         "type": "scatter",
         "x": [
          2028,
          2026,
          2025,
          2024,
          2023,
          2022,
          2021,
          2020,
          2019,
          2018,
          2017,
          2016,
          2015,
          2014,
          2013,
          2012,
          2011,
          2010,
          2009,
          2008,
          2007,
          2006,
          2005,
          2004,
          2003,
          2002,
          2001,
          2000,
          1999,
          1998,
          1997,
          1996,
          1995,
          1994,
          1993,
          1992,
          1991,
          1990,
          1989,
          1988,
          1987,
          1986,
          1985,
          1984,
          1983,
          1982,
          1981,
          1980,
          1979,
          1978,
          1977,
          1976,
          1975,
          1974,
          1973,
          1972,
          1971,
          1970,
          1967,
          1963,
          1961,
          1959,
          1956,
          1955,
          1953,
          1951,
          1950,
          1942,
          1941,
          1940,
          1939,
          1937
         ],
         "y": [
          1,
          1,
          1,
          2,
          7,
          168,
          392,
          133,
          110,
          76,
          73,
          84,
          80,
          82,
          69,
          68,
          73,
          75,
          78,
          47,
          36,
          32,
          23,
          34,
          25,
          21,
          18,
          12,
          15,
          13,
          9,
          9,
          9,
          9,
          12,
          7,
          6,
          8,
          4,
          6,
          1,
          5,
          8,
          6,
          1,
          3,
          4,
          3,
          2,
          2,
          1,
          1,
          1,
          2,
          2,
          1,
          2,
          1,
          1,
          1,
          1,
          1,
          1,
          1,
          1,
          1,
          1,
          2,
          1,
          2,
          1,
          1
         ]
        }
       ],
       "layout": {
        "template": {
         "data": {
          "bar": [
           {
            "error_x": {
             "color": "#f2f5fa"
            },
            "error_y": {
             "color": "#f2f5fa"
            },
            "marker": {
             "line": {
              "color": "rgb(17,17,17)",
              "width": 0.5
             },
             "pattern": {
              "fillmode": "overlay",
              "size": 10,
              "solidity": 0.2
             }
            },
            "type": "bar"
           }
          ],
          "barpolar": [
           {
            "marker": {
             "line": {
              "color": "rgb(17,17,17)",
              "width": 0.5
             },
             "pattern": {
              "fillmode": "overlay",
              "size": 10,
              "solidity": 0.2
             }
            },
            "type": "barpolar"
           }
          ],
          "carpet": [
           {
            "aaxis": {
             "endlinecolor": "#A2B1C6",
             "gridcolor": "#506784",
             "linecolor": "#506784",
             "minorgridcolor": "#506784",
             "startlinecolor": "#A2B1C6"
            },
            "baxis": {
             "endlinecolor": "#A2B1C6",
             "gridcolor": "#506784",
             "linecolor": "#506784",
             "minorgridcolor": "#506784",
             "startlinecolor": "#A2B1C6"
            },
            "type": "carpet"
           }
          ],
          "choropleth": [
           {
            "colorbar": {
             "outlinewidth": 0,
             "ticks": ""
            },
            "type": "choropleth"
           }
          ],
          "contour": [
           {
            "colorbar": {
             "outlinewidth": 0,
             "ticks": ""
            },
            "colorscale": [
             [
              0,
              "#0d0887"
             ],
             [
              0.1111111111111111,
              "#46039f"
             ],
             [
              0.2222222222222222,
              "#7201a8"
             ],
             [
              0.3333333333333333,
              "#9c179e"
             ],
             [
              0.4444444444444444,
              "#bd3786"
             ],
             [
              0.5555555555555556,
              "#d8576b"
             ],
             [
              0.6666666666666666,
              "#ed7953"
             ],
             [
              0.7777777777777778,
              "#fb9f3a"
             ],
             [
              0.8888888888888888,
              "#fdca26"
             ],
             [
              1,
              "#f0f921"
             ]
            ],
            "type": "contour"
           }
          ],
          "contourcarpet": [
           {
            "colorbar": {
             "outlinewidth": 0,
             "ticks": ""
            },
            "type": "contourcarpet"
           }
          ],
          "heatmap": [
           {
            "colorbar": {
             "outlinewidth": 0,
             "ticks": ""
            },
            "colorscale": [
             [
              0,
              "#0d0887"
             ],
             [
              0.1111111111111111,
              "#46039f"
             ],
             [
              0.2222222222222222,
              "#7201a8"
             ],
             [
              0.3333333333333333,
              "#9c179e"
             ],
             [
              0.4444444444444444,
              "#bd3786"
             ],
             [
              0.5555555555555556,
              "#d8576b"
             ],
             [
              0.6666666666666666,
              "#ed7953"
             ],
             [
              0.7777777777777778,
              "#fb9f3a"
             ],
             [
              0.8888888888888888,
              "#fdca26"
             ],
             [
              1,
              "#f0f921"
             ]
            ],
            "type": "heatmap"
           }
          ],
          "heatmapgl": [
           {
            "colorbar": {
             "outlinewidth": 0,
             "ticks": ""
            },
            "colorscale": [
             [
              0,
              "#0d0887"
             ],
             [
              0.1111111111111111,
              "#46039f"
             ],
             [
              0.2222222222222222,
              "#7201a8"
             ],
             [
              0.3333333333333333,
              "#9c179e"
             ],
             [
              0.4444444444444444,
              "#bd3786"
             ],
             [
              0.5555555555555556,
              "#d8576b"
             ],
             [
              0.6666666666666666,
              "#ed7953"
             ],
             [
              0.7777777777777778,
              "#fb9f3a"
             ],
             [
              0.8888888888888888,
              "#fdca26"
             ],
             [
              1,
              "#f0f921"
             ]
            ],
            "type": "heatmapgl"
           }
          ],
          "histogram": [
           {
            "marker": {
             "pattern": {
              "fillmode": "overlay",
              "size": 10,
              "solidity": 0.2
             }
            },
            "type": "histogram"
           }
          ],
          "histogram2d": [
           {
            "colorbar": {
             "outlinewidth": 0,
             "ticks": ""
            },
            "colorscale": [
             [
              0,
              "#0d0887"
             ],
             [
              0.1111111111111111,
              "#46039f"
             ],
             [
              0.2222222222222222,
              "#7201a8"
             ],
             [
              0.3333333333333333,
              "#9c179e"
             ],
             [
              0.4444444444444444,
              "#bd3786"
             ],
             [
              0.5555555555555556,
              "#d8576b"
             ],
             [
              0.6666666666666666,
              "#ed7953"
             ],
             [
              0.7777777777777778,
              "#fb9f3a"
             ],
             [
              0.8888888888888888,
              "#fdca26"
             ],
             [
              1,
              "#f0f921"
             ]
            ],
            "type": "histogram2d"
           }
          ],
          "histogram2dcontour": [
           {
            "colorbar": {
             "outlinewidth": 0,
             "ticks": ""
            },
            "colorscale": [
             [
              0,
              "#0d0887"
             ],
             [
              0.1111111111111111,
              "#46039f"
             ],
             [
              0.2222222222222222,
              "#7201a8"
             ],
             [
              0.3333333333333333,
              "#9c179e"
             ],
             [
              0.4444444444444444,
              "#bd3786"
             ],
             [
              0.5555555555555556,
              "#d8576b"
             ],
             [
              0.6666666666666666,
              "#ed7953"
             ],
             [
              0.7777777777777778,
              "#fb9f3a"
             ],
             [
              0.8888888888888888,
              "#fdca26"
             ],
             [
              1,
              "#f0f921"
             ]
            ],
            "type": "histogram2dcontour"
           }
          ],
          "mesh3d": [
           {
            "colorbar": {
             "outlinewidth": 0,
             "ticks": ""
            },
            "type": "mesh3d"
           }
          ],
          "parcoords": [
           {
            "line": {
             "colorbar": {
              "outlinewidth": 0,
              "ticks": ""
             }
            },
            "type": "parcoords"
           }
          ],
          "pie": [
           {
            "automargin": true,
            "type": "pie"
           }
          ],
          "scatter": [
           {
            "marker": {
             "line": {
              "color": "#283442"
             }
            },
            "type": "scatter"
           }
          ],
          "scatter3d": [
           {
            "line": {
             "colorbar": {
              "outlinewidth": 0,
              "ticks": ""
             }
            },
            "marker": {
             "colorbar": {
              "outlinewidth": 0,
              "ticks": ""
             }
            },
            "type": "scatter3d"
           }
          ],
          "scattercarpet": [
           {
            "marker": {
             "colorbar": {
              "outlinewidth": 0,
              "ticks": ""
             }
            },
            "type": "scattercarpet"
           }
          ],
          "scattergeo": [
           {
            "marker": {
             "colorbar": {
              "outlinewidth": 0,
              "ticks": ""
             }
            },
            "type": "scattergeo"
           }
          ],
          "scattergl": [
           {
            "marker": {
             "line": {
              "color": "#283442"
             }
            },
            "type": "scattergl"
           }
          ],
          "scattermapbox": [
           {
            "marker": {
             "colorbar": {
              "outlinewidth": 0,
              "ticks": ""
             }
            },
            "type": "scattermapbox"
           }
          ],
          "scatterpolar": [
           {
            "marker": {
             "colorbar": {
              "outlinewidth": 0,
              "ticks": ""
             }
            },
            "type": "scatterpolar"
           }
          ],
          "scatterpolargl": [
           {
            "marker": {
             "colorbar": {
              "outlinewidth": 0,
              "ticks": ""
             }
            },
            "type": "scatterpolargl"
           }
          ],
          "scatterternary": [
           {
            "marker": {
             "colorbar": {
              "outlinewidth": 0,
              "ticks": ""
             }
            },
            "type": "scatterternary"
           }
          ],
          "surface": [
           {
            "colorbar": {
             "outlinewidth": 0,
             "ticks": ""
            },
            "colorscale": [
             [
              0,
              "#0d0887"
             ],
             [
              0.1111111111111111,
              "#46039f"
             ],
             [
              0.2222222222222222,
              "#7201a8"
             ],
             [
              0.3333333333333333,
              "#9c179e"
             ],
             [
              0.4444444444444444,
              "#bd3786"
             ],
             [
              0.5555555555555556,
              "#d8576b"
             ],
             [
              0.6666666666666666,
              "#ed7953"
             ],
             [
              0.7777777777777778,
              "#fb9f3a"
             ],
             [
              0.8888888888888888,
              "#fdca26"
             ],
             [
              1,
              "#f0f921"
             ]
            ],
            "type": "surface"
           }
          ],
          "table": [
           {
            "cells": {
             "fill": {
              "color": "#506784"
             },
             "line": {
              "color": "rgb(17,17,17)"
             }
            },
            "header": {
             "fill": {
              "color": "#2a3f5f"
             },
             "line": {
              "color": "rgb(17,17,17)"
             }
            },
            "type": "table"
           }
          ]
         },
         "layout": {
          "annotationdefaults": {
           "arrowcolor": "#f2f5fa",
           "arrowhead": 0,
           "arrowwidth": 1
          },
          "autotypenumbers": "strict",
          "coloraxis": {
           "colorbar": {
            "outlinewidth": 0,
            "ticks": ""
           }
          },
          "colorscale": {
           "diverging": [
            [
             0,
             "#8e0152"
            ],
            [
             0.1,
             "#c51b7d"
            ],
            [
             0.2,
             "#de77ae"
            ],
            [
             0.3,
             "#f1b6da"
            ],
            [
             0.4,
             "#fde0ef"
            ],
            [
             0.5,
             "#f7f7f7"
            ],
            [
             0.6,
             "#e6f5d0"
            ],
            [
             0.7,
             "#b8e186"
            ],
            [
             0.8,
             "#7fbc41"
            ],
            [
             0.9,
             "#4d9221"
            ],
            [
             1,
             "#276419"
            ]
           ],
           "sequential": [
            [
             0,
             "#0d0887"
            ],
            [
             0.1111111111111111,
             "#46039f"
            ],
            [
             0.2222222222222222,
             "#7201a8"
            ],
            [
             0.3333333333333333,
             "#9c179e"
            ],
            [
             0.4444444444444444,
             "#bd3786"
            ],
            [
             0.5555555555555556,
             "#d8576b"
            ],
            [
             0.6666666666666666,
             "#ed7953"
            ],
            [
             0.7777777777777778,
             "#fb9f3a"
            ],
            [
             0.8888888888888888,
             "#fdca26"
            ],
            [
             1,
             "#f0f921"
            ]
           ],
           "sequentialminus": [
            [
             0,
             "#0d0887"
            ],
            [
             0.1111111111111111,
             "#46039f"
            ],
            [
             0.2222222222222222,
             "#7201a8"
            ],
            [
             0.3333333333333333,
             "#9c179e"
            ],
            [
             0.4444444444444444,
             "#bd3786"
            ],
            [
             0.5555555555555556,
             "#d8576b"
            ],
            [
             0.6666666666666666,
             "#ed7953"
            ],
            [
             0.7777777777777778,
             "#fb9f3a"
            ],
            [
             0.8888888888888888,
             "#fdca26"
            ],
            [
             1,
             "#f0f921"
            ]
           ]
          },
          "colorway": [
           "#636efa",
           "#EF553B",
           "#00cc96",
           "#ab63fa",
           "#FFA15A",
           "#19d3f3",
           "#FF6692",
           "#B6E880",
           "#FF97FF",
           "#FECB52"
          ],
          "font": {
           "color": "#f2f5fa"
          },
          "geo": {
           "bgcolor": "rgb(17,17,17)",
           "lakecolor": "rgb(17,17,17)",
           "landcolor": "rgb(17,17,17)",
           "showlakes": true,
           "showland": true,
           "subunitcolor": "#506784"
          },
          "hoverlabel": {
           "align": "left"
          },
          "hovermode": "closest",
          "mapbox": {
           "style": "dark"
          },
          "paper_bgcolor": "rgb(17,17,17)",
          "plot_bgcolor": "rgb(17,17,17)",
          "polar": {
           "angularaxis": {
            "gridcolor": "#506784",
            "linecolor": "#506784",
            "ticks": ""
           },
           "bgcolor": "rgb(17,17,17)",
           "radialaxis": {
            "gridcolor": "#506784",
            "linecolor": "#506784",
            "ticks": ""
           }
          },
          "scene": {
           "xaxis": {
            "backgroundcolor": "rgb(17,17,17)",
            "gridcolor": "#506784",
            "gridwidth": 2,
            "linecolor": "#506784",
            "showbackground": true,
            "ticks": "",
            "zerolinecolor": "#C8D4E3"
           },
           "yaxis": {
            "backgroundcolor": "rgb(17,17,17)",
            "gridcolor": "#506784",
            "gridwidth": 2,
            "linecolor": "#506784",
            "showbackground": true,
            "ticks": "",
            "zerolinecolor": "#C8D4E3"
           },
           "zaxis": {
            "backgroundcolor": "rgb(17,17,17)",
            "gridcolor": "#506784",
            "gridwidth": 2,
            "linecolor": "#506784",
            "showbackground": true,
            "ticks": "",
            "zerolinecolor": "#C8D4E3"
           }
          },
          "shapedefaults": {
           "line": {
            "color": "#f2f5fa"
           }
          },
          "sliderdefaults": {
           "bgcolor": "#C8D4E3",
           "bordercolor": "rgb(17,17,17)",
           "borderwidth": 1,
           "tickwidth": 0
          },
          "ternary": {
           "aaxis": {
            "gridcolor": "#506784",
            "linecolor": "#506784",
            "ticks": ""
           },
           "baxis": {
            "gridcolor": "#506784",
            "linecolor": "#506784",
            "ticks": ""
           },
           "bgcolor": "rgb(17,17,17)",
           "caxis": {
            "gridcolor": "#506784",
            "linecolor": "#506784",
            "ticks": ""
           }
          },
          "title": {
           "x": 0.05
          },
          "updatemenudefaults": {
           "bgcolor": "#506784",
           "borderwidth": 0
          },
          "xaxis": {
           "automargin": true,
           "gridcolor": "#283442",
           "linecolor": "#506784",
           "ticks": "",
           "title": {
            "standoff": 15
           },
           "zerolinecolor": "#283442",
           "zerolinewidth": 2
          },
          "yaxis": {
           "automargin": true,
           "gridcolor": "#283442",
           "linecolor": "#506784",
           "ticks": "",
           "title": {
            "standoff": 15
           },
           "zerolinecolor": "#283442",
           "zerolinewidth": 2
          }
         }
        },
        "title": {
         "text": "Distribution of movies by Year",
         "x": 0.5
        },
        "xaxis": {
         "showgrid": false,
         "title": {
          "text": "Year"
         }
        },
        "yaxis": {
         "showgrid": false,
         "title": {
          "text": "Count of movies"
         }
        }
       }
      },
      "text/html": [
       "<div>                            <div id=\"1a7f6813-4b1c-4b24-8452-fe01f0e6e510\" class=\"plotly-graph-div\" style=\"height:525px; width:100%;\"></div>            <script type=\"text/javascript\">                require([\"plotly\"], function(Plotly) {                    window.PLOTLYENV=window.PLOTLYENV || {};                                    if (document.getElementById(\"1a7f6813-4b1c-4b24-8452-fe01f0e6e510\")) {                    Plotly.newPlot(                        \"1a7f6813-4b1c-4b24-8452-fe01f0e6e510\",                        [{\"connectgaps\":false,\"x\":[2028,2026,2025,2024,2023,2022,2021,2020,2019,2018,2017,2016,2015,2014,2013,2012,2011,2010,2009,2008,2007,2006,2005,2004,2003,2002,2001,2000,1999,1998,1997,1996,1995,1994,1993,1992,1991,1990,1989,1988,1987,1986,1985,1984,1983,1982,1981,1980,1979,1978,1977,1976,1975,1974,1973,1972,1971,1970,1967,1963,1961,1959,1956,1955,1953,1951,1950,1942,1941,1940,1939,1937],\"y\":[1,1,1,2,7,168,392,133,110,76,73,84,80,82,69,68,73,75,78,47,36,32,23,34,25,21,18,12,15,13,9,9,9,9,12,7,6,8,4,6,1,5,8,6,1,3,4,3,2,2,1,1,1,2,2,1,2,1,1,1,1,1,1,1,1,1,1,2,1,2,1,1],\"type\":\"scatter\"}],                        {\"template\":{\"data\":{\"barpolar\":[{\"marker\":{\"line\":{\"color\":\"rgb(17,17,17)\",\"width\":0.5},\"pattern\":{\"fillmode\":\"overlay\",\"size\":10,\"solidity\":0.2}},\"type\":\"barpolar\"}],\"bar\":[{\"error_x\":{\"color\":\"#f2f5fa\"},\"error_y\":{\"color\":\"#f2f5fa\"},\"marker\":{\"line\":{\"color\":\"rgb(17,17,17)\",\"width\":0.5},\"pattern\":{\"fillmode\":\"overlay\",\"size\":10,\"solidity\":0.2}},\"type\":\"bar\"}],\"carpet\":[{\"aaxis\":{\"endlinecolor\":\"#A2B1C6\",\"gridcolor\":\"#506784\",\"linecolor\":\"#506784\",\"minorgridcolor\":\"#506784\",\"startlinecolor\":\"#A2B1C6\"},\"baxis\":{\"endlinecolor\":\"#A2B1C6\",\"gridcolor\":\"#506784\",\"linecolor\":\"#506784\",\"minorgridcolor\":\"#506784\",\"startlinecolor\":\"#A2B1C6\"},\"type\":\"carpet\"}],\"choropleth\":[{\"colorbar\":{\"outlinewidth\":0,\"ticks\":\"\"},\"type\":\"choropleth\"}],\"contourcarpet\":[{\"colorbar\":{\"outlinewidth\":0,\"ticks\":\"\"},\"type\":\"contourcarpet\"}],\"contour\":[{\"colorbar\":{\"outlinewidth\":0,\"ticks\":\"\"},\"colorscale\":[[0.0,\"#0d0887\"],[0.1111111111111111,\"#46039f\"],[0.2222222222222222,\"#7201a8\"],[0.3333333333333333,\"#9c179e\"],[0.4444444444444444,\"#bd3786\"],[0.5555555555555556,\"#d8576b\"],[0.6666666666666666,\"#ed7953\"],[0.7777777777777778,\"#fb9f3a\"],[0.8888888888888888,\"#fdca26\"],[1.0,\"#f0f921\"]],\"type\":\"contour\"}],\"heatmapgl\":[{\"colorbar\":{\"outlinewidth\":0,\"ticks\":\"\"},\"colorscale\":[[0.0,\"#0d0887\"],[0.1111111111111111,\"#46039f\"],[0.2222222222222222,\"#7201a8\"],[0.3333333333333333,\"#9c179e\"],[0.4444444444444444,\"#bd3786\"],[0.5555555555555556,\"#d8576b\"],[0.6666666666666666,\"#ed7953\"],[0.7777777777777778,\"#fb9f3a\"],[0.8888888888888888,\"#fdca26\"],[1.0,\"#f0f921\"]],\"type\":\"heatmapgl\"}],\"heatmap\":[{\"colorbar\":{\"outlinewidth\":0,\"ticks\":\"\"},\"colorscale\":[[0.0,\"#0d0887\"],[0.1111111111111111,\"#46039f\"],[0.2222222222222222,\"#7201a8\"],[0.3333333333333333,\"#9c179e\"],[0.4444444444444444,\"#bd3786\"],[0.5555555555555556,\"#d8576b\"],[0.6666666666666666,\"#ed7953\"],[0.7777777777777778,\"#fb9f3a\"],[0.8888888888888888,\"#fdca26\"],[1.0,\"#f0f921\"]],\"type\":\"heatmap\"}],\"histogram2dcontour\":[{\"colorbar\":{\"outlinewidth\":0,\"ticks\":\"\"},\"colorscale\":[[0.0,\"#0d0887\"],[0.1111111111111111,\"#46039f\"],[0.2222222222222222,\"#7201a8\"],[0.3333333333333333,\"#9c179e\"],[0.4444444444444444,\"#bd3786\"],[0.5555555555555556,\"#d8576b\"],[0.6666666666666666,\"#ed7953\"],[0.7777777777777778,\"#fb9f3a\"],[0.8888888888888888,\"#fdca26\"],[1.0,\"#f0f921\"]],\"type\":\"histogram2dcontour\"}],\"histogram2d\":[{\"colorbar\":{\"outlinewidth\":0,\"ticks\":\"\"},\"colorscale\":[[0.0,\"#0d0887\"],[0.1111111111111111,\"#46039f\"],[0.2222222222222222,\"#7201a8\"],[0.3333333333333333,\"#9c179e\"],[0.4444444444444444,\"#bd3786\"],[0.5555555555555556,\"#d8576b\"],[0.6666666666666666,\"#ed7953\"],[0.7777777777777778,\"#fb9f3a\"],[0.8888888888888888,\"#fdca26\"],[1.0,\"#f0f921\"]],\"type\":\"histogram2d\"}],\"histogram\":[{\"marker\":{\"pattern\":{\"fillmode\":\"overlay\",\"size\":10,\"solidity\":0.2}},\"type\":\"histogram\"}],\"mesh3d\":[{\"colorbar\":{\"outlinewidth\":0,\"ticks\":\"\"},\"type\":\"mesh3d\"}],\"parcoords\":[{\"line\":{\"colorbar\":{\"outlinewidth\":0,\"ticks\":\"\"}},\"type\":\"parcoords\"}],\"pie\":[{\"automargin\":true,\"type\":\"pie\"}],\"scatter3d\":[{\"line\":{\"colorbar\":{\"outlinewidth\":0,\"ticks\":\"\"}},\"marker\":{\"colorbar\":{\"outlinewidth\":0,\"ticks\":\"\"}},\"type\":\"scatter3d\"}],\"scattercarpet\":[{\"marker\":{\"colorbar\":{\"outlinewidth\":0,\"ticks\":\"\"}},\"type\":\"scattercarpet\"}],\"scattergeo\":[{\"marker\":{\"colorbar\":{\"outlinewidth\":0,\"ticks\":\"\"}},\"type\":\"scattergeo\"}],\"scattergl\":[{\"marker\":{\"line\":{\"color\":\"#283442\"}},\"type\":\"scattergl\"}],\"scattermapbox\":[{\"marker\":{\"colorbar\":{\"outlinewidth\":0,\"ticks\":\"\"}},\"type\":\"scattermapbox\"}],\"scatterpolargl\":[{\"marker\":{\"colorbar\":{\"outlinewidth\":0,\"ticks\":\"\"}},\"type\":\"scatterpolargl\"}],\"scatterpolar\":[{\"marker\":{\"colorbar\":{\"outlinewidth\":0,\"ticks\":\"\"}},\"type\":\"scatterpolar\"}],\"scatter\":[{\"marker\":{\"line\":{\"color\":\"#283442\"}},\"type\":\"scatter\"}],\"scatterternary\":[{\"marker\":{\"colorbar\":{\"outlinewidth\":0,\"ticks\":\"\"}},\"type\":\"scatterternary\"}],\"surface\":[{\"colorbar\":{\"outlinewidth\":0,\"ticks\":\"\"},\"colorscale\":[[0.0,\"#0d0887\"],[0.1111111111111111,\"#46039f\"],[0.2222222222222222,\"#7201a8\"],[0.3333333333333333,\"#9c179e\"],[0.4444444444444444,\"#bd3786\"],[0.5555555555555556,\"#d8576b\"],[0.6666666666666666,\"#ed7953\"],[0.7777777777777778,\"#fb9f3a\"],[0.8888888888888888,\"#fdca26\"],[1.0,\"#f0f921\"]],\"type\":\"surface\"}],\"table\":[{\"cells\":{\"fill\":{\"color\":\"#506784\"},\"line\":{\"color\":\"rgb(17,17,17)\"}},\"header\":{\"fill\":{\"color\":\"#2a3f5f\"},\"line\":{\"color\":\"rgb(17,17,17)\"}},\"type\":\"table\"}]},\"layout\":{\"annotationdefaults\":{\"arrowcolor\":\"#f2f5fa\",\"arrowhead\":0,\"arrowwidth\":1},\"autotypenumbers\":\"strict\",\"coloraxis\":{\"colorbar\":{\"outlinewidth\":0,\"ticks\":\"\"}},\"colorscale\":{\"diverging\":[[0,\"#8e0152\"],[0.1,\"#c51b7d\"],[0.2,\"#de77ae\"],[0.3,\"#f1b6da\"],[0.4,\"#fde0ef\"],[0.5,\"#f7f7f7\"],[0.6,\"#e6f5d0\"],[0.7,\"#b8e186\"],[0.8,\"#7fbc41\"],[0.9,\"#4d9221\"],[1,\"#276419\"]],\"sequential\":[[0.0,\"#0d0887\"],[0.1111111111111111,\"#46039f\"],[0.2222222222222222,\"#7201a8\"],[0.3333333333333333,\"#9c179e\"],[0.4444444444444444,\"#bd3786\"],[0.5555555555555556,\"#d8576b\"],[0.6666666666666666,\"#ed7953\"],[0.7777777777777778,\"#fb9f3a\"],[0.8888888888888888,\"#fdca26\"],[1.0,\"#f0f921\"]],\"sequentialminus\":[[0.0,\"#0d0887\"],[0.1111111111111111,\"#46039f\"],[0.2222222222222222,\"#7201a8\"],[0.3333333333333333,\"#9c179e\"],[0.4444444444444444,\"#bd3786\"],[0.5555555555555556,\"#d8576b\"],[0.6666666666666666,\"#ed7953\"],[0.7777777777777778,\"#fb9f3a\"],[0.8888888888888888,\"#fdca26\"],[1.0,\"#f0f921\"]]},\"colorway\":[\"#636efa\",\"#EF553B\",\"#00cc96\",\"#ab63fa\",\"#FFA15A\",\"#19d3f3\",\"#FF6692\",\"#B6E880\",\"#FF97FF\",\"#FECB52\"],\"font\":{\"color\":\"#f2f5fa\"},\"geo\":{\"bgcolor\":\"rgb(17,17,17)\",\"lakecolor\":\"rgb(17,17,17)\",\"landcolor\":\"rgb(17,17,17)\",\"showlakes\":true,\"showland\":true,\"subunitcolor\":\"#506784\"},\"hoverlabel\":{\"align\":\"left\"},\"hovermode\":\"closest\",\"mapbox\":{\"style\":\"dark\"},\"paper_bgcolor\":\"rgb(17,17,17)\",\"plot_bgcolor\":\"rgb(17,17,17)\",\"polar\":{\"angularaxis\":{\"gridcolor\":\"#506784\",\"linecolor\":\"#506784\",\"ticks\":\"\"},\"bgcolor\":\"rgb(17,17,17)\",\"radialaxis\":{\"gridcolor\":\"#506784\",\"linecolor\":\"#506784\",\"ticks\":\"\"}},\"scene\":{\"xaxis\":{\"backgroundcolor\":\"rgb(17,17,17)\",\"gridcolor\":\"#506784\",\"gridwidth\":2,\"linecolor\":\"#506784\",\"showbackground\":true,\"ticks\":\"\",\"zerolinecolor\":\"#C8D4E3\"},\"yaxis\":{\"backgroundcolor\":\"rgb(17,17,17)\",\"gridcolor\":\"#506784\",\"gridwidth\":2,\"linecolor\":\"#506784\",\"showbackground\":true,\"ticks\":\"\",\"zerolinecolor\":\"#C8D4E3\"},\"zaxis\":{\"backgroundcolor\":\"rgb(17,17,17)\",\"gridcolor\":\"#506784\",\"gridwidth\":2,\"linecolor\":\"#506784\",\"showbackground\":true,\"ticks\":\"\",\"zerolinecolor\":\"#C8D4E3\"}},\"shapedefaults\":{\"line\":{\"color\":\"#f2f5fa\"}},\"sliderdefaults\":{\"bgcolor\":\"#C8D4E3\",\"bordercolor\":\"rgb(17,17,17)\",\"borderwidth\":1,\"tickwidth\":0},\"ternary\":{\"aaxis\":{\"gridcolor\":\"#506784\",\"linecolor\":\"#506784\",\"ticks\":\"\"},\"baxis\":{\"gridcolor\":\"#506784\",\"linecolor\":\"#506784\",\"ticks\":\"\"},\"bgcolor\":\"rgb(17,17,17)\",\"caxis\":{\"gridcolor\":\"#506784\",\"linecolor\":\"#506784\",\"ticks\":\"\"}},\"title\":{\"x\":0.05},\"updatemenudefaults\":{\"bgcolor\":\"#506784\",\"borderwidth\":0},\"xaxis\":{\"automargin\":true,\"gridcolor\":\"#283442\",\"linecolor\":\"#506784\",\"ticks\":\"\",\"title\":{\"standoff\":15},\"zerolinecolor\":\"#283442\",\"zerolinewidth\":2},\"yaxis\":{\"automargin\":true,\"gridcolor\":\"#283442\",\"linecolor\":\"#506784\",\"ticks\":\"\",\"title\":{\"standoff\":15},\"zerolinecolor\":\"#283442\",\"zerolinewidth\":2}}},\"title\":{\"text\":\"Distribution of movies by Year\",\"x\":0.5},\"xaxis\":{\"showgrid\":false,\"title\":{\"text\":\"Year\"}},\"yaxis\":{\"showgrid\":false,\"title\":{\"text\":\"Count of movies\"}}},                        {\"responsive\": true}                    ).then(function(){\n",
       "                            \n",
       "var gd = document.getElementById('1a7f6813-4b1c-4b24-8452-fe01f0e6e510');\n",
       "var x = new MutationObserver(function (mutations, observer) {{\n",
       "        var display = window.getComputedStyle(gd).display;\n",
       "        if (!display || display === 'none') {{\n",
       "            console.log([gd, 'removed!']);\n",
       "            Plotly.purge(gd);\n",
       "            observer.disconnect();\n",
       "        }}\n",
       "}});\n",
       "\n",
       "// Listen for the removal of the full notebook cells\n",
       "var notebookContainer = gd.closest('#notebook-container');\n",
       "if (notebookContainer) {{\n",
       "    x.observe(notebookContainer, {childList: true});\n",
       "}}\n",
       "\n",
       "// Listen for the clearing of the current output cell\n",
       "var outputEl = gd.closest('.output');\n",
       "if (outputEl) {{\n",
       "    x.observe(outputEl, {childList: true});\n",
       "}}\n",
       "\n",
       "                        })                };                });            </script>        </div>"
      ]
     },
     "metadata": {},
     "output_type": "display_data"
    }
   ],
   "source": [
    "moviebyyear = movies.release_year.value_counts().reset_index()\n",
    "moviebyyear.columns=['release_year','count']\n",
    "moviebyyear = moviebyyear.sort_values(by='release_year',ascending=False)\n",
    "data = go.Scatter(x=moviebyyear['release_year'],y=moviebyyear['count'],connectgaps=False)\n",
    "layout = go.Layout(title='Distribution of movies by Year',title_x=0.5,\n",
    "                  xaxis={'title':'Year'},\n",
    "                  yaxis ={'title':'Count of movies'})\n",
    "fig = go.Figure(data=data,layout=layout)\n",
    "fig.update_yaxes(showgrid=False)\n",
    "fig.update_xaxes(showgrid=False)\n",
    "fig.update_layout(template = 'plotly_dark')\n",
    "\n",
    "iplot(fig)"
   ]
  },
  {
   "cell_type": "markdown",
   "id": "40cb82af",
   "metadata": {},
   "source": [
    "### 1. Dataset mostly contains movies for past 12 years having only few movies before 2000.\n",
    "### 2. Most the movies data is from 2021."
   ]
  },
  {
   "cell_type": "markdown",
   "id": "65e929be",
   "metadata": {},
   "source": [
    "## 4.3 Most popular movies."
   ]
  },
  {
   "cell_type": "code",
   "execution_count": 61,
   "id": "3cb8da36",
   "metadata": {},
   "outputs": [
    {
     "data": {
      "application/vnd.plotly.v1+json": {
       "config": {
        "linkText": "Export to plot.ly",
        "plotlyServerURL": "https://plot.ly",
        "showLink": false
       },
       "data": [
        {
         "hovertemplate": " Popularity : %{x} <br>Movie Name : %{y}<br> Release Year :%{hovertext}</b><extra></extra>",
         "hovertext": [
          2022,
          2022,
          2022,
          2022,
          2022,
          2021,
          2022,
          2022,
          2022,
          2022,
          2016,
          2022,
          2022,
          2022,
          2022,
          2022,
          2022,
          2022,
          2022,
          2022
         ],
         "marker": {
          "color": "steelblue"
         },
         "opacity": 0.6,
         "orientation": "v",
         "type": "bar",
         "x": [
          "Sonic the Hedgehog 2",
          "Uncharted",
          "The Batman",
          "Doctor Strange in the Multiverse of Madness",
          "The Bad Guys",
          "Spider-Man: No Way Home",
          "The Lost City",
          "The Contractor",
          "Turning Red",
          "Moonfall",
          "Doctor Strange",
          "Ambulance",
          "Virus:32",
          "The Northman",
          "Fortress: Sniper's Eye",
          "The Exorcism of God",
          "365 Days: This Day",
          "Morbius",
          "The Outfit",
          "The Takedown"
         ],
         "y": [
          9124.409,
          4274.019,
          3923.239,
          3770.076,
          3511.281,
          3425.572,
          2962.142,
          2936.309,
          2475.131,
          2463.964,
          2028.697,
          2011.934,
          1923.72,
          1761.05,
          1752.447,
          1739.753,
          1694.411,
          1646.18,
          1588.991,
          1375.552
         ]
        }
       ],
       "layout": {
        "template": {
         "data": {
          "bar": [
           {
            "error_x": {
             "color": "#f2f5fa"
            },
            "error_y": {
             "color": "#f2f5fa"
            },
            "marker": {
             "line": {
              "color": "rgb(17,17,17)",
              "width": 0.5
             },
             "pattern": {
              "fillmode": "overlay",
              "size": 10,
              "solidity": 0.2
             }
            },
            "type": "bar"
           }
          ],
          "barpolar": [
           {
            "marker": {
             "line": {
              "color": "rgb(17,17,17)",
              "width": 0.5
             },
             "pattern": {
              "fillmode": "overlay",
              "size": 10,
              "solidity": 0.2
             }
            },
            "type": "barpolar"
           }
          ],
          "carpet": [
           {
            "aaxis": {
             "endlinecolor": "#A2B1C6",
             "gridcolor": "#506784",
             "linecolor": "#506784",
             "minorgridcolor": "#506784",
             "startlinecolor": "#A2B1C6"
            },
            "baxis": {
             "endlinecolor": "#A2B1C6",
             "gridcolor": "#506784",
             "linecolor": "#506784",
             "minorgridcolor": "#506784",
             "startlinecolor": "#A2B1C6"
            },
            "type": "carpet"
           }
          ],
          "choropleth": [
           {
            "colorbar": {
             "outlinewidth": 0,
             "ticks": ""
            },
            "type": "choropleth"
           }
          ],
          "contour": [
           {
            "colorbar": {
             "outlinewidth": 0,
             "ticks": ""
            },
            "colorscale": [
             [
              0,
              "#0d0887"
             ],
             [
              0.1111111111111111,
              "#46039f"
             ],
             [
              0.2222222222222222,
              "#7201a8"
             ],
             [
              0.3333333333333333,
              "#9c179e"
             ],
             [
              0.4444444444444444,
              "#bd3786"
             ],
             [
              0.5555555555555556,
              "#d8576b"
             ],
             [
              0.6666666666666666,
              "#ed7953"
             ],
             [
              0.7777777777777778,
              "#fb9f3a"
             ],
             [
              0.8888888888888888,
              "#fdca26"
             ],
             [
              1,
              "#f0f921"
             ]
            ],
            "type": "contour"
           }
          ],
          "contourcarpet": [
           {
            "colorbar": {
             "outlinewidth": 0,
             "ticks": ""
            },
            "type": "contourcarpet"
           }
          ],
          "heatmap": [
           {
            "colorbar": {
             "outlinewidth": 0,
             "ticks": ""
            },
            "colorscale": [
             [
              0,
              "#0d0887"
             ],
             [
              0.1111111111111111,
              "#46039f"
             ],
             [
              0.2222222222222222,
              "#7201a8"
             ],
             [
              0.3333333333333333,
              "#9c179e"
             ],
             [
              0.4444444444444444,
              "#bd3786"
             ],
             [
              0.5555555555555556,
              "#d8576b"
             ],
             [
              0.6666666666666666,
              "#ed7953"
             ],
             [
              0.7777777777777778,
              "#fb9f3a"
             ],
             [
              0.8888888888888888,
              "#fdca26"
             ],
             [
              1,
              "#f0f921"
             ]
            ],
            "type": "heatmap"
           }
          ],
          "heatmapgl": [
           {
            "colorbar": {
             "outlinewidth": 0,
             "ticks": ""
            },
            "colorscale": [
             [
              0,
              "#0d0887"
             ],
             [
              0.1111111111111111,
              "#46039f"
             ],
             [
              0.2222222222222222,
              "#7201a8"
             ],
             [
              0.3333333333333333,
              "#9c179e"
             ],
             [
              0.4444444444444444,
              "#bd3786"
             ],
             [
              0.5555555555555556,
              "#d8576b"
             ],
             [
              0.6666666666666666,
              "#ed7953"
             ],
             [
              0.7777777777777778,
              "#fb9f3a"
             ],
             [
              0.8888888888888888,
              "#fdca26"
             ],
             [
              1,
              "#f0f921"
             ]
            ],
            "type": "heatmapgl"
           }
          ],
          "histogram": [
           {
            "marker": {
             "pattern": {
              "fillmode": "overlay",
              "size": 10,
              "solidity": 0.2
             }
            },
            "type": "histogram"
           }
          ],
          "histogram2d": [
           {
            "colorbar": {
             "outlinewidth": 0,
             "ticks": ""
            },
            "colorscale": [
             [
              0,
              "#0d0887"
             ],
             [
              0.1111111111111111,
              "#46039f"
             ],
             [
              0.2222222222222222,
              "#7201a8"
             ],
             [
              0.3333333333333333,
              "#9c179e"
             ],
             [
              0.4444444444444444,
              "#bd3786"
             ],
             [
              0.5555555555555556,
              "#d8576b"
             ],
             [
              0.6666666666666666,
              "#ed7953"
             ],
             [
              0.7777777777777778,
              "#fb9f3a"
             ],
             [
              0.8888888888888888,
              "#fdca26"
             ],
             [
              1,
              "#f0f921"
             ]
            ],
            "type": "histogram2d"
           }
          ],
          "histogram2dcontour": [
           {
            "colorbar": {
             "outlinewidth": 0,
             "ticks": ""
            },
            "colorscale": [
             [
              0,
              "#0d0887"
             ],
             [
              0.1111111111111111,
              "#46039f"
             ],
             [
              0.2222222222222222,
              "#7201a8"
             ],
             [
              0.3333333333333333,
              "#9c179e"
             ],
             [
              0.4444444444444444,
              "#bd3786"
             ],
             [
              0.5555555555555556,
              "#d8576b"
             ],
             [
              0.6666666666666666,
              "#ed7953"
             ],
             [
              0.7777777777777778,
              "#fb9f3a"
             ],
             [
              0.8888888888888888,
              "#fdca26"
             ],
             [
              1,
              "#f0f921"
             ]
            ],
            "type": "histogram2dcontour"
           }
          ],
          "mesh3d": [
           {
            "colorbar": {
             "outlinewidth": 0,
             "ticks": ""
            },
            "type": "mesh3d"
           }
          ],
          "parcoords": [
           {
            "line": {
             "colorbar": {
              "outlinewidth": 0,
              "ticks": ""
             }
            },
            "type": "parcoords"
           }
          ],
          "pie": [
           {
            "automargin": true,
            "type": "pie"
           }
          ],
          "scatter": [
           {
            "marker": {
             "line": {
              "color": "#283442"
             }
            },
            "type": "scatter"
           }
          ],
          "scatter3d": [
           {
            "line": {
             "colorbar": {
              "outlinewidth": 0,
              "ticks": ""
             }
            },
            "marker": {
             "colorbar": {
              "outlinewidth": 0,
              "ticks": ""
             }
            },
            "type": "scatter3d"
           }
          ],
          "scattercarpet": [
           {
            "marker": {
             "colorbar": {
              "outlinewidth": 0,
              "ticks": ""
             }
            },
            "type": "scattercarpet"
           }
          ],
          "scattergeo": [
           {
            "marker": {
             "colorbar": {
              "outlinewidth": 0,
              "ticks": ""
             }
            },
            "type": "scattergeo"
           }
          ],
          "scattergl": [
           {
            "marker": {
             "line": {
              "color": "#283442"
             }
            },
            "type": "scattergl"
           }
          ],
          "scattermapbox": [
           {
            "marker": {
             "colorbar": {
              "outlinewidth": 0,
              "ticks": ""
             }
            },
            "type": "scattermapbox"
           }
          ],
          "scatterpolar": [
           {
            "marker": {
             "colorbar": {
              "outlinewidth": 0,
              "ticks": ""
             }
            },
            "type": "scatterpolar"
           }
          ],
          "scatterpolargl": [
           {
            "marker": {
             "colorbar": {
              "outlinewidth": 0,
              "ticks": ""
             }
            },
            "type": "scatterpolargl"
           }
          ],
          "scatterternary": [
           {
            "marker": {
             "colorbar": {
              "outlinewidth": 0,
              "ticks": ""
             }
            },
            "type": "scatterternary"
           }
          ],
          "surface": [
           {
            "colorbar": {
             "outlinewidth": 0,
             "ticks": ""
            },
            "colorscale": [
             [
              0,
              "#0d0887"
             ],
             [
              0.1111111111111111,
              "#46039f"
             ],
             [
              0.2222222222222222,
              "#7201a8"
             ],
             [
              0.3333333333333333,
              "#9c179e"
             ],
             [
              0.4444444444444444,
              "#bd3786"
             ],
             [
              0.5555555555555556,
              "#d8576b"
             ],
             [
              0.6666666666666666,
              "#ed7953"
             ],
             [
              0.7777777777777778,
              "#fb9f3a"
             ],
             [
              0.8888888888888888,
              "#fdca26"
             ],
             [
              1,
              "#f0f921"
             ]
            ],
            "type": "surface"
           }
          ],
          "table": [
           {
            "cells": {
             "fill": {
              "color": "#506784"
             },
             "line": {
              "color": "rgb(17,17,17)"
             }
            },
            "header": {
             "fill": {
              "color": "#2a3f5f"
             },
             "line": {
              "color": "rgb(17,17,17)"
             }
            },
            "type": "table"
           }
          ]
         },
         "layout": {
          "annotationdefaults": {
           "arrowcolor": "#f2f5fa",
           "arrowhead": 0,
           "arrowwidth": 1
          },
          "autotypenumbers": "strict",
          "coloraxis": {
           "colorbar": {
            "outlinewidth": 0,
            "ticks": ""
           }
          },
          "colorscale": {
           "diverging": [
            [
             0,
             "#8e0152"
            ],
            [
             0.1,
             "#c51b7d"
            ],
            [
             0.2,
             "#de77ae"
            ],
            [
             0.3,
             "#f1b6da"
            ],
            [
             0.4,
             "#fde0ef"
            ],
            [
             0.5,
             "#f7f7f7"
            ],
            [
             0.6,
             "#e6f5d0"
            ],
            [
             0.7,
             "#b8e186"
            ],
            [
             0.8,
             "#7fbc41"
            ],
            [
             0.9,
             "#4d9221"
            ],
            [
             1,
             "#276419"
            ]
           ],
           "sequential": [
            [
             0,
             "#0d0887"
            ],
            [
             0.1111111111111111,
             "#46039f"
            ],
            [
             0.2222222222222222,
             "#7201a8"
            ],
            [
             0.3333333333333333,
             "#9c179e"
            ],
            [
             0.4444444444444444,
             "#bd3786"
            ],
            [
             0.5555555555555556,
             "#d8576b"
            ],
            [
             0.6666666666666666,
             "#ed7953"
            ],
            [
             0.7777777777777778,
             "#fb9f3a"
            ],
            [
             0.8888888888888888,
             "#fdca26"
            ],
            [
             1,
             "#f0f921"
            ]
           ],
           "sequentialminus": [
            [
             0,
             "#0d0887"
            ],
            [
             0.1111111111111111,
             "#46039f"
            ],
            [
             0.2222222222222222,
             "#7201a8"
            ],
            [
             0.3333333333333333,
             "#9c179e"
            ],
            [
             0.4444444444444444,
             "#bd3786"
            ],
            [
             0.5555555555555556,
             "#d8576b"
            ],
            [
             0.6666666666666666,
             "#ed7953"
            ],
            [
             0.7777777777777778,
             "#fb9f3a"
            ],
            [
             0.8888888888888888,
             "#fdca26"
            ],
            [
             1,
             "#f0f921"
            ]
           ]
          },
          "colorway": [
           "#636efa",
           "#EF553B",
           "#00cc96",
           "#ab63fa",
           "#FFA15A",
           "#19d3f3",
           "#FF6692",
           "#B6E880",
           "#FF97FF",
           "#FECB52"
          ],
          "font": {
           "color": "#f2f5fa"
          },
          "geo": {
           "bgcolor": "rgb(17,17,17)",
           "lakecolor": "rgb(17,17,17)",
           "landcolor": "rgb(17,17,17)",
           "showlakes": true,
           "showland": true,
           "subunitcolor": "#506784"
          },
          "hoverlabel": {
           "align": "left"
          },
          "hovermode": "closest",
          "mapbox": {
           "style": "dark"
          },
          "paper_bgcolor": "rgb(17,17,17)",
          "plot_bgcolor": "rgb(17,17,17)",
          "polar": {
           "angularaxis": {
            "gridcolor": "#506784",
            "linecolor": "#506784",
            "ticks": ""
           },
           "bgcolor": "rgb(17,17,17)",
           "radialaxis": {
            "gridcolor": "#506784",
            "linecolor": "#506784",
            "ticks": ""
           }
          },
          "scene": {
           "xaxis": {
            "backgroundcolor": "rgb(17,17,17)",
            "gridcolor": "#506784",
            "gridwidth": 2,
            "linecolor": "#506784",
            "showbackground": true,
            "ticks": "",
            "zerolinecolor": "#C8D4E3"
           },
           "yaxis": {
            "backgroundcolor": "rgb(17,17,17)",
            "gridcolor": "#506784",
            "gridwidth": 2,
            "linecolor": "#506784",
            "showbackground": true,
            "ticks": "",
            "zerolinecolor": "#C8D4E3"
           },
           "zaxis": {
            "backgroundcolor": "rgb(17,17,17)",
            "gridcolor": "#506784",
            "gridwidth": 2,
            "linecolor": "#506784",
            "showbackground": true,
            "ticks": "",
            "zerolinecolor": "#C8D4E3"
           }
          },
          "shapedefaults": {
           "line": {
            "color": "#f2f5fa"
           }
          },
          "sliderdefaults": {
           "bgcolor": "#C8D4E3",
           "bordercolor": "rgb(17,17,17)",
           "borderwidth": 1,
           "tickwidth": 0
          },
          "ternary": {
           "aaxis": {
            "gridcolor": "#506784",
            "linecolor": "#506784",
            "ticks": ""
           },
           "baxis": {
            "gridcolor": "#506784",
            "linecolor": "#506784",
            "ticks": ""
           },
           "bgcolor": "rgb(17,17,17)",
           "caxis": {
            "gridcolor": "#506784",
            "linecolor": "#506784",
            "ticks": ""
           }
          },
          "title": {
           "x": 0.05
          },
          "updatemenudefaults": {
           "bgcolor": "#506784",
           "borderwidth": 0
          },
          "xaxis": {
           "automargin": true,
           "gridcolor": "#283442",
           "linecolor": "#506784",
           "ticks": "",
           "title": {
            "standoff": 15
           },
           "zerolinecolor": "#283442",
           "zerolinewidth": 2
          },
          "yaxis": {
           "automargin": true,
           "gridcolor": "#283442",
           "linecolor": "#506784",
           "ticks": "",
           "title": {
            "standoff": 15
           },
           "zerolinecolor": "#283442",
           "zerolinewidth": 2
          }
         }
        },
        "title": {
         "text": "Top 20 most popular movies",
         "x": 0.5
        },
        "xaxis": {
         "title": {
          "text": "Popularity"
         }
        },
        "yaxis": {
         "showgrid": false,
         "title": {
          "text": "Movie Name"
         }
        }
       }
      },
      "text/html": [
       "<div>                            <div id=\"f437c3e1-1453-4737-b6e7-407f20fc9e21\" class=\"plotly-graph-div\" style=\"height:525px; width:100%;\"></div>            <script type=\"text/javascript\">                require([\"plotly\"], function(Plotly) {                    window.PLOTLYENV=window.PLOTLYENV || {};                                    if (document.getElementById(\"f437c3e1-1453-4737-b6e7-407f20fc9e21\")) {                    Plotly.newPlot(                        \"f437c3e1-1453-4737-b6e7-407f20fc9e21\",                        [{\"hovertemplate\":\" Popularity : %{x} <br>Movie Name : %{y}<br> Release Year :%{hovertext}</b><extra></extra>\",\"hovertext\":[2022.0,2022.0,2022.0,2022.0,2022.0,2021.0,2022.0,2022.0,2022.0,2022.0,2016.0,2022.0,2022.0,2022.0,2022.0,2022.0,2022.0,2022.0,2022.0,2022.0],\"marker\":{\"color\":\"steelblue\"},\"opacity\":0.6,\"orientation\":\"v\",\"x\":[\"Sonic the Hedgehog 2\",\"Uncharted\",\"The Batman\",\"Doctor Strange in the Multiverse of Madness\",\"The Bad Guys\",\"Spider-Man: No Way Home\",\"The Lost City\",\"The Contractor\",\"Turning Red\",\"Moonfall\",\"Doctor Strange\",\"Ambulance\",\"Virus:32\",\"The Northman\",\"Fortress: Sniper's Eye\",\"The Exorcism of God\",\"365 Days: This Day\",\"Morbius\",\"The Outfit\",\"The Takedown\"],\"y\":[9124.409,4274.019,3923.239,3770.076,3511.281,3425.572,2962.142,2936.309,2475.131,2463.964,2028.697,2011.934,1923.72,1761.05,1752.447,1739.753,1694.411,1646.18,1588.991,1375.552],\"type\":\"bar\"}],                        {\"template\":{\"data\":{\"barpolar\":[{\"marker\":{\"line\":{\"color\":\"rgb(17,17,17)\",\"width\":0.5},\"pattern\":{\"fillmode\":\"overlay\",\"size\":10,\"solidity\":0.2}},\"type\":\"barpolar\"}],\"bar\":[{\"error_x\":{\"color\":\"#f2f5fa\"},\"error_y\":{\"color\":\"#f2f5fa\"},\"marker\":{\"line\":{\"color\":\"rgb(17,17,17)\",\"width\":0.5},\"pattern\":{\"fillmode\":\"overlay\",\"size\":10,\"solidity\":0.2}},\"type\":\"bar\"}],\"carpet\":[{\"aaxis\":{\"endlinecolor\":\"#A2B1C6\",\"gridcolor\":\"#506784\",\"linecolor\":\"#506784\",\"minorgridcolor\":\"#506784\",\"startlinecolor\":\"#A2B1C6\"},\"baxis\":{\"endlinecolor\":\"#A2B1C6\",\"gridcolor\":\"#506784\",\"linecolor\":\"#506784\",\"minorgridcolor\":\"#506784\",\"startlinecolor\":\"#A2B1C6\"},\"type\":\"carpet\"}],\"choropleth\":[{\"colorbar\":{\"outlinewidth\":0,\"ticks\":\"\"},\"type\":\"choropleth\"}],\"contourcarpet\":[{\"colorbar\":{\"outlinewidth\":0,\"ticks\":\"\"},\"type\":\"contourcarpet\"}],\"contour\":[{\"colorbar\":{\"outlinewidth\":0,\"ticks\":\"\"},\"colorscale\":[[0.0,\"#0d0887\"],[0.1111111111111111,\"#46039f\"],[0.2222222222222222,\"#7201a8\"],[0.3333333333333333,\"#9c179e\"],[0.4444444444444444,\"#bd3786\"],[0.5555555555555556,\"#d8576b\"],[0.6666666666666666,\"#ed7953\"],[0.7777777777777778,\"#fb9f3a\"],[0.8888888888888888,\"#fdca26\"],[1.0,\"#f0f921\"]],\"type\":\"contour\"}],\"heatmapgl\":[{\"colorbar\":{\"outlinewidth\":0,\"ticks\":\"\"},\"colorscale\":[[0.0,\"#0d0887\"],[0.1111111111111111,\"#46039f\"],[0.2222222222222222,\"#7201a8\"],[0.3333333333333333,\"#9c179e\"],[0.4444444444444444,\"#bd3786\"],[0.5555555555555556,\"#d8576b\"],[0.6666666666666666,\"#ed7953\"],[0.7777777777777778,\"#fb9f3a\"],[0.8888888888888888,\"#fdca26\"],[1.0,\"#f0f921\"]],\"type\":\"heatmapgl\"}],\"heatmap\":[{\"colorbar\":{\"outlinewidth\":0,\"ticks\":\"\"},\"colorscale\":[[0.0,\"#0d0887\"],[0.1111111111111111,\"#46039f\"],[0.2222222222222222,\"#7201a8\"],[0.3333333333333333,\"#9c179e\"],[0.4444444444444444,\"#bd3786\"],[0.5555555555555556,\"#d8576b\"],[0.6666666666666666,\"#ed7953\"],[0.7777777777777778,\"#fb9f3a\"],[0.8888888888888888,\"#fdca26\"],[1.0,\"#f0f921\"]],\"type\":\"heatmap\"}],\"histogram2dcontour\":[{\"colorbar\":{\"outlinewidth\":0,\"ticks\":\"\"},\"colorscale\":[[0.0,\"#0d0887\"],[0.1111111111111111,\"#46039f\"],[0.2222222222222222,\"#7201a8\"],[0.3333333333333333,\"#9c179e\"],[0.4444444444444444,\"#bd3786\"],[0.5555555555555556,\"#d8576b\"],[0.6666666666666666,\"#ed7953\"],[0.7777777777777778,\"#fb9f3a\"],[0.8888888888888888,\"#fdca26\"],[1.0,\"#f0f921\"]],\"type\":\"histogram2dcontour\"}],\"histogram2d\":[{\"colorbar\":{\"outlinewidth\":0,\"ticks\":\"\"},\"colorscale\":[[0.0,\"#0d0887\"],[0.1111111111111111,\"#46039f\"],[0.2222222222222222,\"#7201a8\"],[0.3333333333333333,\"#9c179e\"],[0.4444444444444444,\"#bd3786\"],[0.5555555555555556,\"#d8576b\"],[0.6666666666666666,\"#ed7953\"],[0.7777777777777778,\"#fb9f3a\"],[0.8888888888888888,\"#fdca26\"],[1.0,\"#f0f921\"]],\"type\":\"histogram2d\"}],\"histogram\":[{\"marker\":{\"pattern\":{\"fillmode\":\"overlay\",\"size\":10,\"solidity\":0.2}},\"type\":\"histogram\"}],\"mesh3d\":[{\"colorbar\":{\"outlinewidth\":0,\"ticks\":\"\"},\"type\":\"mesh3d\"}],\"parcoords\":[{\"line\":{\"colorbar\":{\"outlinewidth\":0,\"ticks\":\"\"}},\"type\":\"parcoords\"}],\"pie\":[{\"automargin\":true,\"type\":\"pie\"}],\"scatter3d\":[{\"line\":{\"colorbar\":{\"outlinewidth\":0,\"ticks\":\"\"}},\"marker\":{\"colorbar\":{\"outlinewidth\":0,\"ticks\":\"\"}},\"type\":\"scatter3d\"}],\"scattercarpet\":[{\"marker\":{\"colorbar\":{\"outlinewidth\":0,\"ticks\":\"\"}},\"type\":\"scattercarpet\"}],\"scattergeo\":[{\"marker\":{\"colorbar\":{\"outlinewidth\":0,\"ticks\":\"\"}},\"type\":\"scattergeo\"}],\"scattergl\":[{\"marker\":{\"line\":{\"color\":\"#283442\"}},\"type\":\"scattergl\"}],\"scattermapbox\":[{\"marker\":{\"colorbar\":{\"outlinewidth\":0,\"ticks\":\"\"}},\"type\":\"scattermapbox\"}],\"scatterpolargl\":[{\"marker\":{\"colorbar\":{\"outlinewidth\":0,\"ticks\":\"\"}},\"type\":\"scatterpolargl\"}],\"scatterpolar\":[{\"marker\":{\"colorbar\":{\"outlinewidth\":0,\"ticks\":\"\"}},\"type\":\"scatterpolar\"}],\"scatter\":[{\"marker\":{\"line\":{\"color\":\"#283442\"}},\"type\":\"scatter\"}],\"scatterternary\":[{\"marker\":{\"colorbar\":{\"outlinewidth\":0,\"ticks\":\"\"}},\"type\":\"scatterternary\"}],\"surface\":[{\"colorbar\":{\"outlinewidth\":0,\"ticks\":\"\"},\"colorscale\":[[0.0,\"#0d0887\"],[0.1111111111111111,\"#46039f\"],[0.2222222222222222,\"#7201a8\"],[0.3333333333333333,\"#9c179e\"],[0.4444444444444444,\"#bd3786\"],[0.5555555555555556,\"#d8576b\"],[0.6666666666666666,\"#ed7953\"],[0.7777777777777778,\"#fb9f3a\"],[0.8888888888888888,\"#fdca26\"],[1.0,\"#f0f921\"]],\"type\":\"surface\"}],\"table\":[{\"cells\":{\"fill\":{\"color\":\"#506784\"},\"line\":{\"color\":\"rgb(17,17,17)\"}},\"header\":{\"fill\":{\"color\":\"#2a3f5f\"},\"line\":{\"color\":\"rgb(17,17,17)\"}},\"type\":\"table\"}]},\"layout\":{\"annotationdefaults\":{\"arrowcolor\":\"#f2f5fa\",\"arrowhead\":0,\"arrowwidth\":1},\"autotypenumbers\":\"strict\",\"coloraxis\":{\"colorbar\":{\"outlinewidth\":0,\"ticks\":\"\"}},\"colorscale\":{\"diverging\":[[0,\"#8e0152\"],[0.1,\"#c51b7d\"],[0.2,\"#de77ae\"],[0.3,\"#f1b6da\"],[0.4,\"#fde0ef\"],[0.5,\"#f7f7f7\"],[0.6,\"#e6f5d0\"],[0.7,\"#b8e186\"],[0.8,\"#7fbc41\"],[0.9,\"#4d9221\"],[1,\"#276419\"]],\"sequential\":[[0.0,\"#0d0887\"],[0.1111111111111111,\"#46039f\"],[0.2222222222222222,\"#7201a8\"],[0.3333333333333333,\"#9c179e\"],[0.4444444444444444,\"#bd3786\"],[0.5555555555555556,\"#d8576b\"],[0.6666666666666666,\"#ed7953\"],[0.7777777777777778,\"#fb9f3a\"],[0.8888888888888888,\"#fdca26\"],[1.0,\"#f0f921\"]],\"sequentialminus\":[[0.0,\"#0d0887\"],[0.1111111111111111,\"#46039f\"],[0.2222222222222222,\"#7201a8\"],[0.3333333333333333,\"#9c179e\"],[0.4444444444444444,\"#bd3786\"],[0.5555555555555556,\"#d8576b\"],[0.6666666666666666,\"#ed7953\"],[0.7777777777777778,\"#fb9f3a\"],[0.8888888888888888,\"#fdca26\"],[1.0,\"#f0f921\"]]},\"colorway\":[\"#636efa\",\"#EF553B\",\"#00cc96\",\"#ab63fa\",\"#FFA15A\",\"#19d3f3\",\"#FF6692\",\"#B6E880\",\"#FF97FF\",\"#FECB52\"],\"font\":{\"color\":\"#f2f5fa\"},\"geo\":{\"bgcolor\":\"rgb(17,17,17)\",\"lakecolor\":\"rgb(17,17,17)\",\"landcolor\":\"rgb(17,17,17)\",\"showlakes\":true,\"showland\":true,\"subunitcolor\":\"#506784\"},\"hoverlabel\":{\"align\":\"left\"},\"hovermode\":\"closest\",\"mapbox\":{\"style\":\"dark\"},\"paper_bgcolor\":\"rgb(17,17,17)\",\"plot_bgcolor\":\"rgb(17,17,17)\",\"polar\":{\"angularaxis\":{\"gridcolor\":\"#506784\",\"linecolor\":\"#506784\",\"ticks\":\"\"},\"bgcolor\":\"rgb(17,17,17)\",\"radialaxis\":{\"gridcolor\":\"#506784\",\"linecolor\":\"#506784\",\"ticks\":\"\"}},\"scene\":{\"xaxis\":{\"backgroundcolor\":\"rgb(17,17,17)\",\"gridcolor\":\"#506784\",\"gridwidth\":2,\"linecolor\":\"#506784\",\"showbackground\":true,\"ticks\":\"\",\"zerolinecolor\":\"#C8D4E3\"},\"yaxis\":{\"backgroundcolor\":\"rgb(17,17,17)\",\"gridcolor\":\"#506784\",\"gridwidth\":2,\"linecolor\":\"#506784\",\"showbackground\":true,\"ticks\":\"\",\"zerolinecolor\":\"#C8D4E3\"},\"zaxis\":{\"backgroundcolor\":\"rgb(17,17,17)\",\"gridcolor\":\"#506784\",\"gridwidth\":2,\"linecolor\":\"#506784\",\"showbackground\":true,\"ticks\":\"\",\"zerolinecolor\":\"#C8D4E3\"}},\"shapedefaults\":{\"line\":{\"color\":\"#f2f5fa\"}},\"sliderdefaults\":{\"bgcolor\":\"#C8D4E3\",\"bordercolor\":\"rgb(17,17,17)\",\"borderwidth\":1,\"tickwidth\":0},\"ternary\":{\"aaxis\":{\"gridcolor\":\"#506784\",\"linecolor\":\"#506784\",\"ticks\":\"\"},\"baxis\":{\"gridcolor\":\"#506784\",\"linecolor\":\"#506784\",\"ticks\":\"\"},\"bgcolor\":\"rgb(17,17,17)\",\"caxis\":{\"gridcolor\":\"#506784\",\"linecolor\":\"#506784\",\"ticks\":\"\"}},\"title\":{\"x\":0.05},\"updatemenudefaults\":{\"bgcolor\":\"#506784\",\"borderwidth\":0},\"xaxis\":{\"automargin\":true,\"gridcolor\":\"#283442\",\"linecolor\":\"#506784\",\"ticks\":\"\",\"title\":{\"standoff\":15},\"zerolinecolor\":\"#283442\",\"zerolinewidth\":2},\"yaxis\":{\"automargin\":true,\"gridcolor\":\"#283442\",\"linecolor\":\"#506784\",\"ticks\":\"\",\"title\":{\"standoff\":15},\"zerolinecolor\":\"#283442\",\"zerolinewidth\":2}}},\"title\":{\"text\":\"Top 20 most popular movies\",\"x\":0.5},\"xaxis\":{\"title\":{\"text\":\"Popularity\"}},\"yaxis\":{\"showgrid\":false,\"title\":{\"text\":\"Movie Name\"}}},                        {\"responsive\": true}                    ).then(function(){\n",
       "                            \n",
       "var gd = document.getElementById('f437c3e1-1453-4737-b6e7-407f20fc9e21');\n",
       "var x = new MutationObserver(function (mutations, observer) {{\n",
       "        var display = window.getComputedStyle(gd).display;\n",
       "        if (!display || display === 'none') {{\n",
       "            console.log([gd, 'removed!']);\n",
       "            Plotly.purge(gd);\n",
       "            observer.disconnect();\n",
       "        }}\n",
       "}});\n",
       "\n",
       "// Listen for the removal of the full notebook cells\n",
       "var notebookContainer = gd.closest('#notebook-container');\n",
       "if (notebookContainer) {{\n",
       "    x.observe(notebookContainer, {childList: true});\n",
       "}}\n",
       "\n",
       "// Listen for the clearing of the current output cell\n",
       "var outputEl = gd.closest('.output');\n",
       "if (outputEl) {{\n",
       "    x.observe(outputEl, {childList: true});\n",
       "}}\n",
       "\n",
       "                        })                };                });            </script>        </div>"
      ]
     },
     "metadata": {},
     "output_type": "display_data"
    }
   ],
   "source": [
    "popularmovies = movies.sort_values(by='popularity',ascending=False)[['title','popularity','release_year']].head(20)\n",
    "\n",
    "data = go.Bar(y= popularmovies['popularity'],x=popularmovies['title'],orientation='v',marker={'color':'steelblue'},\n",
    "             opacity=0.6,hovertext=popularmovies['release_year'],\n",
    "             hovertemplate=\" Popularity : %{x}\" \" <br>Movie Name : %{y}\" \"<br> Release Year :%{hovertext}</b><extra></extra>\")\n",
    "\n",
    "layout = go.Layout(title='Top 20 most popular movies',title_x=0.5,\n",
    "               xaxis={'title':'Popularity'},\n",
    "               yaxis={'title':'Movie Name'})\n",
    "\n",
    "\n",
    "fig = go.Figure(data=data,layout=layout)\n",
    "fig.update_yaxes(showgrid=False)\n",
    "fig.update_layout(template = 'plotly_dark')\n",
    "\n",
    "iplot(fig)"
   ]
  },
  {
   "cell_type": "markdown",
   "id": "f9d6c392",
   "metadata": {},
   "source": [
    "### 1. Most popular movie is \"Sonic the hedgehog2\" followed by \"Uncharted and the Bataman\".\n",
    "### 2. We can also see all top 20 movies are from 2022 or 2021, so this might be because people started voting more on recent movies."
   ]
  },
  {
   "cell_type": "markdown",
   "id": "0f479ddd",
   "metadata": {},
   "source": [
    "## 4.4 Genre Distribution"
   ]
  },
  {
   "cell_type": "code",
   "execution_count": 62,
   "id": "e6b7f6b6",
   "metadata": {},
   "outputs": [
    {
     "data": {
      "application/vnd.plotly.v1+json": {
       "config": {
        "plotlyServerURL": "https://plot.ly"
       },
       "data": [
        {
         "domain": {
          "x": [
           0,
           1
          ],
          "y": [
           0,
           1
          ]
         },
         "hovertemplate": "genres=%{label}<br>count=%{value}<extra></extra>",
         "labels": [
          "Action",
          "Animation",
          "Horror",
          "Comedy",
          "Drama",
          "Adventure",
          "Thriller",
          "Family",
          "Science Fiction",
          "Romance",
          "Crime",
          "Fantasy",
          "Documentary",
          "Mystery",
          "War",
          "None",
          "Western",
          "TV Movie",
          "Music",
          "History"
         ],
         "legendgroup": "",
         "name": "",
         "showlegend": true,
         "type": "pie",
         "values": [
          384,
          297,
          243,
          209,
          186,
          130,
          99,
          99,
          75,
          68,
          57,
          56,
          37,
          16,
          9,
          8,
          6,
          5,
          5,
          1
         ]
        }
       ],
       "layout": {
        "legend": {
         "tracegroupgap": 0
        },
        "piecolorway": [
         "#4C78A8",
         "#F58518",
         "#E45756",
         "#72B7B2",
         "#54A24B",
         "#EECA3B",
         "#B279A2",
         "#FF9DA6",
         "#9D755D",
         "#BAB0AC"
        ],
        "template": {
         "data": {
          "bar": [
           {
            "error_x": {
             "color": "#f2f5fa"
            },
            "error_y": {
             "color": "#f2f5fa"
            },
            "marker": {
             "line": {
              "color": "rgb(17,17,17)",
              "width": 0.5
             },
             "pattern": {
              "fillmode": "overlay",
              "size": 10,
              "solidity": 0.2
             }
            },
            "type": "bar"
           }
          ],
          "barpolar": [
           {
            "marker": {
             "line": {
              "color": "rgb(17,17,17)",
              "width": 0.5
             },
             "pattern": {
              "fillmode": "overlay",
              "size": 10,
              "solidity": 0.2
             }
            },
            "type": "barpolar"
           }
          ],
          "carpet": [
           {
            "aaxis": {
             "endlinecolor": "#A2B1C6",
             "gridcolor": "#506784",
             "linecolor": "#506784",
             "minorgridcolor": "#506784",
             "startlinecolor": "#A2B1C6"
            },
            "baxis": {
             "endlinecolor": "#A2B1C6",
             "gridcolor": "#506784",
             "linecolor": "#506784",
             "minorgridcolor": "#506784",
             "startlinecolor": "#A2B1C6"
            },
            "type": "carpet"
           }
          ],
          "choropleth": [
           {
            "colorbar": {
             "outlinewidth": 0,
             "ticks": ""
            },
            "type": "choropleth"
           }
          ],
          "contour": [
           {
            "colorbar": {
             "outlinewidth": 0,
             "ticks": ""
            },
            "colorscale": [
             [
              0,
              "#0d0887"
             ],
             [
              0.1111111111111111,
              "#46039f"
             ],
             [
              0.2222222222222222,
              "#7201a8"
             ],
             [
              0.3333333333333333,
              "#9c179e"
             ],
             [
              0.4444444444444444,
              "#bd3786"
             ],
             [
              0.5555555555555556,
              "#d8576b"
             ],
             [
              0.6666666666666666,
              "#ed7953"
             ],
             [
              0.7777777777777778,
              "#fb9f3a"
             ],
             [
              0.8888888888888888,
              "#fdca26"
             ],
             [
              1,
              "#f0f921"
             ]
            ],
            "type": "contour"
           }
          ],
          "contourcarpet": [
           {
            "colorbar": {
             "outlinewidth": 0,
             "ticks": ""
            },
            "type": "contourcarpet"
           }
          ],
          "heatmap": [
           {
            "colorbar": {
             "outlinewidth": 0,
             "ticks": ""
            },
            "colorscale": [
             [
              0,
              "#0d0887"
             ],
             [
              0.1111111111111111,
              "#46039f"
             ],
             [
              0.2222222222222222,
              "#7201a8"
             ],
             [
              0.3333333333333333,
              "#9c179e"
             ],
             [
              0.4444444444444444,
              "#bd3786"
             ],
             [
              0.5555555555555556,
              "#d8576b"
             ],
             [
              0.6666666666666666,
              "#ed7953"
             ],
             [
              0.7777777777777778,
              "#fb9f3a"
             ],
             [
              0.8888888888888888,
              "#fdca26"
             ],
             [
              1,
              "#f0f921"
             ]
            ],
            "type": "heatmap"
           }
          ],
          "heatmapgl": [
           {
            "colorbar": {
             "outlinewidth": 0,
             "ticks": ""
            },
            "colorscale": [
             [
              0,
              "#0d0887"
             ],
             [
              0.1111111111111111,
              "#46039f"
             ],
             [
              0.2222222222222222,
              "#7201a8"
             ],
             [
              0.3333333333333333,
              "#9c179e"
             ],
             [
              0.4444444444444444,
              "#bd3786"
             ],
             [
              0.5555555555555556,
              "#d8576b"
             ],
             [
              0.6666666666666666,
              "#ed7953"
             ],
             [
              0.7777777777777778,
              "#fb9f3a"
             ],
             [
              0.8888888888888888,
              "#fdca26"
             ],
             [
              1,
              "#f0f921"
             ]
            ],
            "type": "heatmapgl"
           }
          ],
          "histogram": [
           {
            "marker": {
             "pattern": {
              "fillmode": "overlay",
              "size": 10,
              "solidity": 0.2
             }
            },
            "type": "histogram"
           }
          ],
          "histogram2d": [
           {
            "colorbar": {
             "outlinewidth": 0,
             "ticks": ""
            },
            "colorscale": [
             [
              0,
              "#0d0887"
             ],
             [
              0.1111111111111111,
              "#46039f"
             ],
             [
              0.2222222222222222,
              "#7201a8"
             ],
             [
              0.3333333333333333,
              "#9c179e"
             ],
             [
              0.4444444444444444,
              "#bd3786"
             ],
             [
              0.5555555555555556,
              "#d8576b"
             ],
             [
              0.6666666666666666,
              "#ed7953"
             ],
             [
              0.7777777777777778,
              "#fb9f3a"
             ],
             [
              0.8888888888888888,
              "#fdca26"
             ],
             [
              1,
              "#f0f921"
             ]
            ],
            "type": "histogram2d"
           }
          ],
          "histogram2dcontour": [
           {
            "colorbar": {
             "outlinewidth": 0,
             "ticks": ""
            },
            "colorscale": [
             [
              0,
              "#0d0887"
             ],
             [
              0.1111111111111111,
              "#46039f"
             ],
             [
              0.2222222222222222,
              "#7201a8"
             ],
             [
              0.3333333333333333,
              "#9c179e"
             ],
             [
              0.4444444444444444,
              "#bd3786"
             ],
             [
              0.5555555555555556,
              "#d8576b"
             ],
             [
              0.6666666666666666,
              "#ed7953"
             ],
             [
              0.7777777777777778,
              "#fb9f3a"
             ],
             [
              0.8888888888888888,
              "#fdca26"
             ],
             [
              1,
              "#f0f921"
             ]
            ],
            "type": "histogram2dcontour"
           }
          ],
          "mesh3d": [
           {
            "colorbar": {
             "outlinewidth": 0,
             "ticks": ""
            },
            "type": "mesh3d"
           }
          ],
          "parcoords": [
           {
            "line": {
             "colorbar": {
              "outlinewidth": 0,
              "ticks": ""
             }
            },
            "type": "parcoords"
           }
          ],
          "pie": [
           {
            "automargin": true,
            "type": "pie"
           }
          ],
          "scatter": [
           {
            "marker": {
             "line": {
              "color": "#283442"
             }
            },
            "type": "scatter"
           }
          ],
          "scatter3d": [
           {
            "line": {
             "colorbar": {
              "outlinewidth": 0,
              "ticks": ""
             }
            },
            "marker": {
             "colorbar": {
              "outlinewidth": 0,
              "ticks": ""
             }
            },
            "type": "scatter3d"
           }
          ],
          "scattercarpet": [
           {
            "marker": {
             "colorbar": {
              "outlinewidth": 0,
              "ticks": ""
             }
            },
            "type": "scattercarpet"
           }
          ],
          "scattergeo": [
           {
            "marker": {
             "colorbar": {
              "outlinewidth": 0,
              "ticks": ""
             }
            },
            "type": "scattergeo"
           }
          ],
          "scattergl": [
           {
            "marker": {
             "line": {
              "color": "#283442"
             }
            },
            "type": "scattergl"
           }
          ],
          "scattermapbox": [
           {
            "marker": {
             "colorbar": {
              "outlinewidth": 0,
              "ticks": ""
             }
            },
            "type": "scattermapbox"
           }
          ],
          "scatterpolar": [
           {
            "marker": {
             "colorbar": {
              "outlinewidth": 0,
              "ticks": ""
             }
            },
            "type": "scatterpolar"
           }
          ],
          "scatterpolargl": [
           {
            "marker": {
             "colorbar": {
              "outlinewidth": 0,
              "ticks": ""
             }
            },
            "type": "scatterpolargl"
           }
          ],
          "scatterternary": [
           {
            "marker": {
             "colorbar": {
              "outlinewidth": 0,
              "ticks": ""
             }
            },
            "type": "scatterternary"
           }
          ],
          "surface": [
           {
            "colorbar": {
             "outlinewidth": 0,
             "ticks": ""
            },
            "colorscale": [
             [
              0,
              "#0d0887"
             ],
             [
              0.1111111111111111,
              "#46039f"
             ],
             [
              0.2222222222222222,
              "#7201a8"
             ],
             [
              0.3333333333333333,
              "#9c179e"
             ],
             [
              0.4444444444444444,
              "#bd3786"
             ],
             [
              0.5555555555555556,
              "#d8576b"
             ],
             [
              0.6666666666666666,
              "#ed7953"
             ],
             [
              0.7777777777777778,
              "#fb9f3a"
             ],
             [
              0.8888888888888888,
              "#fdca26"
             ],
             [
              1,
              "#f0f921"
             ]
            ],
            "type": "surface"
           }
          ],
          "table": [
           {
            "cells": {
             "fill": {
              "color": "#506784"
             },
             "line": {
              "color": "rgb(17,17,17)"
             }
            },
            "header": {
             "fill": {
              "color": "#2a3f5f"
             },
             "line": {
              "color": "rgb(17,17,17)"
             }
            },
            "type": "table"
           }
          ]
         },
         "layout": {
          "annotationdefaults": {
           "arrowcolor": "#f2f5fa",
           "arrowhead": 0,
           "arrowwidth": 1
          },
          "autotypenumbers": "strict",
          "coloraxis": {
           "colorbar": {
            "outlinewidth": 0,
            "ticks": ""
           }
          },
          "colorscale": {
           "diverging": [
            [
             0,
             "#8e0152"
            ],
            [
             0.1,
             "#c51b7d"
            ],
            [
             0.2,
             "#de77ae"
            ],
            [
             0.3,
             "#f1b6da"
            ],
            [
             0.4,
             "#fde0ef"
            ],
            [
             0.5,
             "#f7f7f7"
            ],
            [
             0.6,
             "#e6f5d0"
            ],
            [
             0.7,
             "#b8e186"
            ],
            [
             0.8,
             "#7fbc41"
            ],
            [
             0.9,
             "#4d9221"
            ],
            [
             1,
             "#276419"
            ]
           ],
           "sequential": [
            [
             0,
             "#0d0887"
            ],
            [
             0.1111111111111111,
             "#46039f"
            ],
            [
             0.2222222222222222,
             "#7201a8"
            ],
            [
             0.3333333333333333,
             "#9c179e"
            ],
            [
             0.4444444444444444,
             "#bd3786"
            ],
            [
             0.5555555555555556,
             "#d8576b"
            ],
            [
             0.6666666666666666,
             "#ed7953"
            ],
            [
             0.7777777777777778,
             "#fb9f3a"
            ],
            [
             0.8888888888888888,
             "#fdca26"
            ],
            [
             1,
             "#f0f921"
            ]
           ],
           "sequentialminus": [
            [
             0,
             "#0d0887"
            ],
            [
             0.1111111111111111,
             "#46039f"
            ],
            [
             0.2222222222222222,
             "#7201a8"
            ],
            [
             0.3333333333333333,
             "#9c179e"
            ],
            [
             0.4444444444444444,
             "#bd3786"
            ],
            [
             0.5555555555555556,
             "#d8576b"
            ],
            [
             0.6666666666666666,
             "#ed7953"
            ],
            [
             0.7777777777777778,
             "#fb9f3a"
            ],
            [
             0.8888888888888888,
             "#fdca26"
            ],
            [
             1,
             "#f0f921"
            ]
           ]
          },
          "colorway": [
           "#636efa",
           "#EF553B",
           "#00cc96",
           "#ab63fa",
           "#FFA15A",
           "#19d3f3",
           "#FF6692",
           "#B6E880",
           "#FF97FF",
           "#FECB52"
          ],
          "font": {
           "color": "#f2f5fa"
          },
          "geo": {
           "bgcolor": "rgb(17,17,17)",
           "lakecolor": "rgb(17,17,17)",
           "landcolor": "rgb(17,17,17)",
           "showlakes": true,
           "showland": true,
           "subunitcolor": "#506784"
          },
          "hoverlabel": {
           "align": "left"
          },
          "hovermode": "closest",
          "mapbox": {
           "style": "dark"
          },
          "paper_bgcolor": "rgb(17,17,17)",
          "plot_bgcolor": "rgb(17,17,17)",
          "polar": {
           "angularaxis": {
            "gridcolor": "#506784",
            "linecolor": "#506784",
            "ticks": ""
           },
           "bgcolor": "rgb(17,17,17)",
           "radialaxis": {
            "gridcolor": "#506784",
            "linecolor": "#506784",
            "ticks": ""
           }
          },
          "scene": {
           "xaxis": {
            "backgroundcolor": "rgb(17,17,17)",
            "gridcolor": "#506784",
            "gridwidth": 2,
            "linecolor": "#506784",
            "showbackground": true,
            "ticks": "",
            "zerolinecolor": "#C8D4E3"
           },
           "yaxis": {
            "backgroundcolor": "rgb(17,17,17)",
            "gridcolor": "#506784",
            "gridwidth": 2,
            "linecolor": "#506784",
            "showbackground": true,
            "ticks": "",
            "zerolinecolor": "#C8D4E3"
           },
           "zaxis": {
            "backgroundcolor": "rgb(17,17,17)",
            "gridcolor": "#506784",
            "gridwidth": 2,
            "linecolor": "#506784",
            "showbackground": true,
            "ticks": "",
            "zerolinecolor": "#C8D4E3"
           }
          },
          "shapedefaults": {
           "line": {
            "color": "#f2f5fa"
           }
          },
          "sliderdefaults": {
           "bgcolor": "#C8D4E3",
           "bordercolor": "rgb(17,17,17)",
           "borderwidth": 1,
           "tickwidth": 0
          },
          "ternary": {
           "aaxis": {
            "gridcolor": "#506784",
            "linecolor": "#506784",
            "ticks": ""
           },
           "baxis": {
            "gridcolor": "#506784",
            "linecolor": "#506784",
            "ticks": ""
           },
           "bgcolor": "rgb(17,17,17)",
           "caxis": {
            "gridcolor": "#506784",
            "linecolor": "#506784",
            "ticks": ""
           }
          },
          "title": {
           "x": 0.05
          },
          "updatemenudefaults": {
           "bgcolor": "#506784",
           "borderwidth": 0
          },
          "xaxis": {
           "automargin": true,
           "gridcolor": "#283442",
           "linecolor": "#506784",
           "ticks": "",
           "title": {
            "standoff": 15
           },
           "zerolinecolor": "#283442",
           "zerolinewidth": 2
          },
          "yaxis": {
           "automargin": true,
           "gridcolor": "#283442",
           "linecolor": "#506784",
           "ticks": "",
           "title": {
            "standoff": 15
           },
           "zerolinecolor": "#283442",
           "zerolinewidth": 2
          }
         }
        },
        "title": {
         "text": "Genres Distribution",
         "x": 0.5
        }
       }
      },
      "text/html": [
       "<div>                            <div id=\"d25b65e0-1c5a-4ed3-89dc-968f3f421df2\" class=\"plotly-graph-div\" style=\"height:525px; width:100%;\"></div>            <script type=\"text/javascript\">                require([\"plotly\"], function(Plotly) {                    window.PLOTLYENV=window.PLOTLYENV || {};                                    if (document.getElementById(\"d25b65e0-1c5a-4ed3-89dc-968f3f421df2\")) {                    Plotly.newPlot(                        \"d25b65e0-1c5a-4ed3-89dc-968f3f421df2\",                        [{\"domain\":{\"x\":[0.0,1.0],\"y\":[0.0,1.0]},\"hovertemplate\":\"genres=%{label}<br>count=%{value}<extra></extra>\",\"labels\":[\"Action\",\"Animation\",\"Horror\",\"Comedy\",\"Drama\",\"Adventure\",\"Thriller\",\"Family\",\"Science Fiction\",\"Romance\",\"Crime\",\"Fantasy\",\"Documentary\",\"Mystery\",\"War\",\"None\",\"Western\",\"TV Movie\",\"Music\",\"History\"],\"legendgroup\":\"\",\"name\":\"\",\"showlegend\":true,\"values\":[384,297,243,209,186,130,99,99,75,68,57,56,37,16,9,8,6,5,5,1],\"type\":\"pie\"}],                        {\"template\":{\"data\":{\"barpolar\":[{\"marker\":{\"line\":{\"color\":\"rgb(17,17,17)\",\"width\":0.5},\"pattern\":{\"fillmode\":\"overlay\",\"size\":10,\"solidity\":0.2}},\"type\":\"barpolar\"}],\"bar\":[{\"error_x\":{\"color\":\"#f2f5fa\"},\"error_y\":{\"color\":\"#f2f5fa\"},\"marker\":{\"line\":{\"color\":\"rgb(17,17,17)\",\"width\":0.5},\"pattern\":{\"fillmode\":\"overlay\",\"size\":10,\"solidity\":0.2}},\"type\":\"bar\"}],\"carpet\":[{\"aaxis\":{\"endlinecolor\":\"#A2B1C6\",\"gridcolor\":\"#506784\",\"linecolor\":\"#506784\",\"minorgridcolor\":\"#506784\",\"startlinecolor\":\"#A2B1C6\"},\"baxis\":{\"endlinecolor\":\"#A2B1C6\",\"gridcolor\":\"#506784\",\"linecolor\":\"#506784\",\"minorgridcolor\":\"#506784\",\"startlinecolor\":\"#A2B1C6\"},\"type\":\"carpet\"}],\"choropleth\":[{\"colorbar\":{\"outlinewidth\":0,\"ticks\":\"\"},\"type\":\"choropleth\"}],\"contourcarpet\":[{\"colorbar\":{\"outlinewidth\":0,\"ticks\":\"\"},\"type\":\"contourcarpet\"}],\"contour\":[{\"colorbar\":{\"outlinewidth\":0,\"ticks\":\"\"},\"colorscale\":[[0.0,\"#0d0887\"],[0.1111111111111111,\"#46039f\"],[0.2222222222222222,\"#7201a8\"],[0.3333333333333333,\"#9c179e\"],[0.4444444444444444,\"#bd3786\"],[0.5555555555555556,\"#d8576b\"],[0.6666666666666666,\"#ed7953\"],[0.7777777777777778,\"#fb9f3a\"],[0.8888888888888888,\"#fdca26\"],[1.0,\"#f0f921\"]],\"type\":\"contour\"}],\"heatmapgl\":[{\"colorbar\":{\"outlinewidth\":0,\"ticks\":\"\"},\"colorscale\":[[0.0,\"#0d0887\"],[0.1111111111111111,\"#46039f\"],[0.2222222222222222,\"#7201a8\"],[0.3333333333333333,\"#9c179e\"],[0.4444444444444444,\"#bd3786\"],[0.5555555555555556,\"#d8576b\"],[0.6666666666666666,\"#ed7953\"],[0.7777777777777778,\"#fb9f3a\"],[0.8888888888888888,\"#fdca26\"],[1.0,\"#f0f921\"]],\"type\":\"heatmapgl\"}],\"heatmap\":[{\"colorbar\":{\"outlinewidth\":0,\"ticks\":\"\"},\"colorscale\":[[0.0,\"#0d0887\"],[0.1111111111111111,\"#46039f\"],[0.2222222222222222,\"#7201a8\"],[0.3333333333333333,\"#9c179e\"],[0.4444444444444444,\"#bd3786\"],[0.5555555555555556,\"#d8576b\"],[0.6666666666666666,\"#ed7953\"],[0.7777777777777778,\"#fb9f3a\"],[0.8888888888888888,\"#fdca26\"],[1.0,\"#f0f921\"]],\"type\":\"heatmap\"}],\"histogram2dcontour\":[{\"colorbar\":{\"outlinewidth\":0,\"ticks\":\"\"},\"colorscale\":[[0.0,\"#0d0887\"],[0.1111111111111111,\"#46039f\"],[0.2222222222222222,\"#7201a8\"],[0.3333333333333333,\"#9c179e\"],[0.4444444444444444,\"#bd3786\"],[0.5555555555555556,\"#d8576b\"],[0.6666666666666666,\"#ed7953\"],[0.7777777777777778,\"#fb9f3a\"],[0.8888888888888888,\"#fdca26\"],[1.0,\"#f0f921\"]],\"type\":\"histogram2dcontour\"}],\"histogram2d\":[{\"colorbar\":{\"outlinewidth\":0,\"ticks\":\"\"},\"colorscale\":[[0.0,\"#0d0887\"],[0.1111111111111111,\"#46039f\"],[0.2222222222222222,\"#7201a8\"],[0.3333333333333333,\"#9c179e\"],[0.4444444444444444,\"#bd3786\"],[0.5555555555555556,\"#d8576b\"],[0.6666666666666666,\"#ed7953\"],[0.7777777777777778,\"#fb9f3a\"],[0.8888888888888888,\"#fdca26\"],[1.0,\"#f0f921\"]],\"type\":\"histogram2d\"}],\"histogram\":[{\"marker\":{\"pattern\":{\"fillmode\":\"overlay\",\"size\":10,\"solidity\":0.2}},\"type\":\"histogram\"}],\"mesh3d\":[{\"colorbar\":{\"outlinewidth\":0,\"ticks\":\"\"},\"type\":\"mesh3d\"}],\"parcoords\":[{\"line\":{\"colorbar\":{\"outlinewidth\":0,\"ticks\":\"\"}},\"type\":\"parcoords\"}],\"pie\":[{\"automargin\":true,\"type\":\"pie\"}],\"scatter3d\":[{\"line\":{\"colorbar\":{\"outlinewidth\":0,\"ticks\":\"\"}},\"marker\":{\"colorbar\":{\"outlinewidth\":0,\"ticks\":\"\"}},\"type\":\"scatter3d\"}],\"scattercarpet\":[{\"marker\":{\"colorbar\":{\"outlinewidth\":0,\"ticks\":\"\"}},\"type\":\"scattercarpet\"}],\"scattergeo\":[{\"marker\":{\"colorbar\":{\"outlinewidth\":0,\"ticks\":\"\"}},\"type\":\"scattergeo\"}],\"scattergl\":[{\"marker\":{\"line\":{\"color\":\"#283442\"}},\"type\":\"scattergl\"}],\"scattermapbox\":[{\"marker\":{\"colorbar\":{\"outlinewidth\":0,\"ticks\":\"\"}},\"type\":\"scattermapbox\"}],\"scatterpolargl\":[{\"marker\":{\"colorbar\":{\"outlinewidth\":0,\"ticks\":\"\"}},\"type\":\"scatterpolargl\"}],\"scatterpolar\":[{\"marker\":{\"colorbar\":{\"outlinewidth\":0,\"ticks\":\"\"}},\"type\":\"scatterpolar\"}],\"scatter\":[{\"marker\":{\"line\":{\"color\":\"#283442\"}},\"type\":\"scatter\"}],\"scatterternary\":[{\"marker\":{\"colorbar\":{\"outlinewidth\":0,\"ticks\":\"\"}},\"type\":\"scatterternary\"}],\"surface\":[{\"colorbar\":{\"outlinewidth\":0,\"ticks\":\"\"},\"colorscale\":[[0.0,\"#0d0887\"],[0.1111111111111111,\"#46039f\"],[0.2222222222222222,\"#7201a8\"],[0.3333333333333333,\"#9c179e\"],[0.4444444444444444,\"#bd3786\"],[0.5555555555555556,\"#d8576b\"],[0.6666666666666666,\"#ed7953\"],[0.7777777777777778,\"#fb9f3a\"],[0.8888888888888888,\"#fdca26\"],[1.0,\"#f0f921\"]],\"type\":\"surface\"}],\"table\":[{\"cells\":{\"fill\":{\"color\":\"#506784\"},\"line\":{\"color\":\"rgb(17,17,17)\"}},\"header\":{\"fill\":{\"color\":\"#2a3f5f\"},\"line\":{\"color\":\"rgb(17,17,17)\"}},\"type\":\"table\"}]},\"layout\":{\"annotationdefaults\":{\"arrowcolor\":\"#f2f5fa\",\"arrowhead\":0,\"arrowwidth\":1},\"autotypenumbers\":\"strict\",\"coloraxis\":{\"colorbar\":{\"outlinewidth\":0,\"ticks\":\"\"}},\"colorscale\":{\"diverging\":[[0,\"#8e0152\"],[0.1,\"#c51b7d\"],[0.2,\"#de77ae\"],[0.3,\"#f1b6da\"],[0.4,\"#fde0ef\"],[0.5,\"#f7f7f7\"],[0.6,\"#e6f5d0\"],[0.7,\"#b8e186\"],[0.8,\"#7fbc41\"],[0.9,\"#4d9221\"],[1,\"#276419\"]],\"sequential\":[[0.0,\"#0d0887\"],[0.1111111111111111,\"#46039f\"],[0.2222222222222222,\"#7201a8\"],[0.3333333333333333,\"#9c179e\"],[0.4444444444444444,\"#bd3786\"],[0.5555555555555556,\"#d8576b\"],[0.6666666666666666,\"#ed7953\"],[0.7777777777777778,\"#fb9f3a\"],[0.8888888888888888,\"#fdca26\"],[1.0,\"#f0f921\"]],\"sequentialminus\":[[0.0,\"#0d0887\"],[0.1111111111111111,\"#46039f\"],[0.2222222222222222,\"#7201a8\"],[0.3333333333333333,\"#9c179e\"],[0.4444444444444444,\"#bd3786\"],[0.5555555555555556,\"#d8576b\"],[0.6666666666666666,\"#ed7953\"],[0.7777777777777778,\"#fb9f3a\"],[0.8888888888888888,\"#fdca26\"],[1.0,\"#f0f921\"]]},\"colorway\":[\"#636efa\",\"#EF553B\",\"#00cc96\",\"#ab63fa\",\"#FFA15A\",\"#19d3f3\",\"#FF6692\",\"#B6E880\",\"#FF97FF\",\"#FECB52\"],\"font\":{\"color\":\"#f2f5fa\"},\"geo\":{\"bgcolor\":\"rgb(17,17,17)\",\"lakecolor\":\"rgb(17,17,17)\",\"landcolor\":\"rgb(17,17,17)\",\"showlakes\":true,\"showland\":true,\"subunitcolor\":\"#506784\"},\"hoverlabel\":{\"align\":\"left\"},\"hovermode\":\"closest\",\"mapbox\":{\"style\":\"dark\"},\"paper_bgcolor\":\"rgb(17,17,17)\",\"plot_bgcolor\":\"rgb(17,17,17)\",\"polar\":{\"angularaxis\":{\"gridcolor\":\"#506784\",\"linecolor\":\"#506784\",\"ticks\":\"\"},\"bgcolor\":\"rgb(17,17,17)\",\"radialaxis\":{\"gridcolor\":\"#506784\",\"linecolor\":\"#506784\",\"ticks\":\"\"}},\"scene\":{\"xaxis\":{\"backgroundcolor\":\"rgb(17,17,17)\",\"gridcolor\":\"#506784\",\"gridwidth\":2,\"linecolor\":\"#506784\",\"showbackground\":true,\"ticks\":\"\",\"zerolinecolor\":\"#C8D4E3\"},\"yaxis\":{\"backgroundcolor\":\"rgb(17,17,17)\",\"gridcolor\":\"#506784\",\"gridwidth\":2,\"linecolor\":\"#506784\",\"showbackground\":true,\"ticks\":\"\",\"zerolinecolor\":\"#C8D4E3\"},\"zaxis\":{\"backgroundcolor\":\"rgb(17,17,17)\",\"gridcolor\":\"#506784\",\"gridwidth\":2,\"linecolor\":\"#506784\",\"showbackground\":true,\"ticks\":\"\",\"zerolinecolor\":\"#C8D4E3\"}},\"shapedefaults\":{\"line\":{\"color\":\"#f2f5fa\"}},\"sliderdefaults\":{\"bgcolor\":\"#C8D4E3\",\"bordercolor\":\"rgb(17,17,17)\",\"borderwidth\":1,\"tickwidth\":0},\"ternary\":{\"aaxis\":{\"gridcolor\":\"#506784\",\"linecolor\":\"#506784\",\"ticks\":\"\"},\"baxis\":{\"gridcolor\":\"#506784\",\"linecolor\":\"#506784\",\"ticks\":\"\"},\"bgcolor\":\"rgb(17,17,17)\",\"caxis\":{\"gridcolor\":\"#506784\",\"linecolor\":\"#506784\",\"ticks\":\"\"}},\"title\":{\"x\":0.05},\"updatemenudefaults\":{\"bgcolor\":\"#506784\",\"borderwidth\":0},\"xaxis\":{\"automargin\":true,\"gridcolor\":\"#283442\",\"linecolor\":\"#506784\",\"ticks\":\"\",\"title\":{\"standoff\":15},\"zerolinecolor\":\"#283442\",\"zerolinewidth\":2},\"yaxis\":{\"automargin\":true,\"gridcolor\":\"#283442\",\"linecolor\":\"#506784\",\"ticks\":\"\",\"title\":{\"standoff\":15},\"zerolinecolor\":\"#283442\",\"zerolinewidth\":2}}},\"legend\":{\"tracegroupgap\":0},\"title\":{\"text\":\"Genres Distribution\",\"x\":0.5},\"piecolorway\":[\"#4C78A8\",\"#F58518\",\"#E45756\",\"#72B7B2\",\"#54A24B\",\"#EECA3B\",\"#B279A2\",\"#FF9DA6\",\"#9D755D\",\"#BAB0AC\"]},                        {\"responsive\": true}                    ).then(function(){\n",
       "                            \n",
       "var gd = document.getElementById('d25b65e0-1c5a-4ed3-89dc-968f3f421df2');\n",
       "var x = new MutationObserver(function (mutations, observer) {{\n",
       "        var display = window.getComputedStyle(gd).display;\n",
       "        if (!display || display === 'none') {{\n",
       "            console.log([gd, 'removed!']);\n",
       "            Plotly.purge(gd);\n",
       "            observer.disconnect();\n",
       "        }}\n",
       "}});\n",
       "\n",
       "// Listen for the removal of the full notebook cells\n",
       "var notebookContainer = gd.closest('#notebook-container');\n",
       "if (notebookContainer) {{\n",
       "    x.observe(notebookContainer, {childList: true});\n",
       "}}\n",
       "\n",
       "// Listen for the clearing of the current output cell\n",
       "var outputEl = gd.closest('.output');\n",
       "if (outputEl) {{\n",
       "    x.observe(outputEl, {childList: true});\n",
       "}}\n",
       "\n",
       "                        })                };                });            </script>        </div>"
      ]
     },
     "metadata": {},
     "output_type": "display_data"
    }
   ],
   "source": [
    "genres = movies.genres.value_counts().reset_index()\n",
    "genres.columns=['genres','count']\n",
    "genres = genres.sort_values(by='count',ascending=False)\n",
    "\n",
    "fig = px.pie(genres,values='count',names='genres',title='Genres Distribution',\n",
    "             color_discrete_sequence=px.colors.qualitative.T10)\n",
    "fig.update_layout(template = 'plotly_dark',title_x=0.5)\n",
    "fig.show()"
   ]
  },
  {
   "cell_type": "markdown",
   "id": "439df17d",
   "metadata": {},
   "source": [
    "### 1. Mostly movies are made of \"Action\" genre having around 20% of all movies, maybe because people prefer watching Action movies.\n",
    "### 2. Animated movies and comedy also prefferred among individuals."
   ]
  },
  {
   "cell_type": "markdown",
   "id": "f3a21841",
   "metadata": {},
   "source": [
    "## 4.5 Top movies by revenue"
   ]
  },
  {
   "cell_type": "code",
   "execution_count": 63,
   "id": "363a9933",
   "metadata": {},
   "outputs": [
    {
     "data": {
      "application/vnd.plotly.v1+json": {
       "config": {
        "linkText": "Export to plot.ly",
        "plotlyServerURL": "https://plot.ly",
        "showLink": false
       },
       "data": [
        {
         "hovertemplate": " Revenue : %{y} <br>Movie Name : %{x}<br> Production Company : %{hovertext}</b><extra></extra>",
         "hovertext": [
          "Dune Entertainment",
          "Marvel Studios",
          "Paramount",
          "Lucasfilm",
          "Marvel Studios",
          "Marvel Studios",
          "Amblin Entertainment",
          "Walt Disney Pictures",
          "Marvel Studios",
          "Abu Dhabi Film Commission"
         ],
         "marker": {
          "color": "steelblue"
         },
         "opacity": 0.6,
         "orientation": "v",
         "type": "bar",
         "x": [
          "Avatar",
          "Avengers: Endgame",
          "Titanic",
          "Star Wars: The Force Awakens",
          "Avengers: Infinity War",
          "Spider-Man: No Way Home",
          "Jurassic World",
          "The Lion King",
          "The Avengers",
          "Furious 7"
         ],
         "y": [
          2847246203,
          2797800564,
          2187463944,
          2068223624,
          2046239637,
          1892000000,
          1671713208,
          1667635327,
          1518815515,
          1515047671
         ]
        }
       ],
       "layout": {
        "template": {
         "data": {
          "bar": [
           {
            "error_x": {
             "color": "#f2f5fa"
            },
            "error_y": {
             "color": "#f2f5fa"
            },
            "marker": {
             "line": {
              "color": "rgb(17,17,17)",
              "width": 0.5
             },
             "pattern": {
              "fillmode": "overlay",
              "size": 10,
              "solidity": 0.2
             }
            },
            "type": "bar"
           }
          ],
          "barpolar": [
           {
            "marker": {
             "line": {
              "color": "rgb(17,17,17)",
              "width": 0.5
             },
             "pattern": {
              "fillmode": "overlay",
              "size": 10,
              "solidity": 0.2
             }
            },
            "type": "barpolar"
           }
          ],
          "carpet": [
           {
            "aaxis": {
             "endlinecolor": "#A2B1C6",
             "gridcolor": "#506784",
             "linecolor": "#506784",
             "minorgridcolor": "#506784",
             "startlinecolor": "#A2B1C6"
            },
            "baxis": {
             "endlinecolor": "#A2B1C6",
             "gridcolor": "#506784",
             "linecolor": "#506784",
             "minorgridcolor": "#506784",
             "startlinecolor": "#A2B1C6"
            },
            "type": "carpet"
           }
          ],
          "choropleth": [
           {
            "colorbar": {
             "outlinewidth": 0,
             "ticks": ""
            },
            "type": "choropleth"
           }
          ],
          "contour": [
           {
            "colorbar": {
             "outlinewidth": 0,
             "ticks": ""
            },
            "colorscale": [
             [
              0,
              "#0d0887"
             ],
             [
              0.1111111111111111,
              "#46039f"
             ],
             [
              0.2222222222222222,
              "#7201a8"
             ],
             [
              0.3333333333333333,
              "#9c179e"
             ],
             [
              0.4444444444444444,
              "#bd3786"
             ],
             [
              0.5555555555555556,
              "#d8576b"
             ],
             [
              0.6666666666666666,
              "#ed7953"
             ],
             [
              0.7777777777777778,
              "#fb9f3a"
             ],
             [
              0.8888888888888888,
              "#fdca26"
             ],
             [
              1,
              "#f0f921"
             ]
            ],
            "type": "contour"
           }
          ],
          "contourcarpet": [
           {
            "colorbar": {
             "outlinewidth": 0,
             "ticks": ""
            },
            "type": "contourcarpet"
           }
          ],
          "heatmap": [
           {
            "colorbar": {
             "outlinewidth": 0,
             "ticks": ""
            },
            "colorscale": [
             [
              0,
              "#0d0887"
             ],
             [
              0.1111111111111111,
              "#46039f"
             ],
             [
              0.2222222222222222,
              "#7201a8"
             ],
             [
              0.3333333333333333,
              "#9c179e"
             ],
             [
              0.4444444444444444,
              "#bd3786"
             ],
             [
              0.5555555555555556,
              "#d8576b"
             ],
             [
              0.6666666666666666,
              "#ed7953"
             ],
             [
              0.7777777777777778,
              "#fb9f3a"
             ],
             [
              0.8888888888888888,
              "#fdca26"
             ],
             [
              1,
              "#f0f921"
             ]
            ],
            "type": "heatmap"
           }
          ],
          "heatmapgl": [
           {
            "colorbar": {
             "outlinewidth": 0,
             "ticks": ""
            },
            "colorscale": [
             [
              0,
              "#0d0887"
             ],
             [
              0.1111111111111111,
              "#46039f"
             ],
             [
              0.2222222222222222,
              "#7201a8"
             ],
             [
              0.3333333333333333,
              "#9c179e"
             ],
             [
              0.4444444444444444,
              "#bd3786"
             ],
             [
              0.5555555555555556,
              "#d8576b"
             ],
             [
              0.6666666666666666,
              "#ed7953"
             ],
             [
              0.7777777777777778,
              "#fb9f3a"
             ],
             [
              0.8888888888888888,
              "#fdca26"
             ],
             [
              1,
              "#f0f921"
             ]
            ],
            "type": "heatmapgl"
           }
          ],
          "histogram": [
           {
            "marker": {
             "pattern": {
              "fillmode": "overlay",
              "size": 10,
              "solidity": 0.2
             }
            },
            "type": "histogram"
           }
          ],
          "histogram2d": [
           {
            "colorbar": {
             "outlinewidth": 0,
             "ticks": ""
            },
            "colorscale": [
             [
              0,
              "#0d0887"
             ],
             [
              0.1111111111111111,
              "#46039f"
             ],
             [
              0.2222222222222222,
              "#7201a8"
             ],
             [
              0.3333333333333333,
              "#9c179e"
             ],
             [
              0.4444444444444444,
              "#bd3786"
             ],
             [
              0.5555555555555556,
              "#d8576b"
             ],
             [
              0.6666666666666666,
              "#ed7953"
             ],
             [
              0.7777777777777778,
              "#fb9f3a"
             ],
             [
              0.8888888888888888,
              "#fdca26"
             ],
             [
              1,
              "#f0f921"
             ]
            ],
            "type": "histogram2d"
           }
          ],
          "histogram2dcontour": [
           {
            "colorbar": {
             "outlinewidth": 0,
             "ticks": ""
            },
            "colorscale": [
             [
              0,
              "#0d0887"
             ],
             [
              0.1111111111111111,
              "#46039f"
             ],
             [
              0.2222222222222222,
              "#7201a8"
             ],
             [
              0.3333333333333333,
              "#9c179e"
             ],
             [
              0.4444444444444444,
              "#bd3786"
             ],
             [
              0.5555555555555556,
              "#d8576b"
             ],
             [
              0.6666666666666666,
              "#ed7953"
             ],
             [
              0.7777777777777778,
              "#fb9f3a"
             ],
             [
              0.8888888888888888,
              "#fdca26"
             ],
             [
              1,
              "#f0f921"
             ]
            ],
            "type": "histogram2dcontour"
           }
          ],
          "mesh3d": [
           {
            "colorbar": {
             "outlinewidth": 0,
             "ticks": ""
            },
            "type": "mesh3d"
           }
          ],
          "parcoords": [
           {
            "line": {
             "colorbar": {
              "outlinewidth": 0,
              "ticks": ""
             }
            },
            "type": "parcoords"
           }
          ],
          "pie": [
           {
            "automargin": true,
            "type": "pie"
           }
          ],
          "scatter": [
           {
            "marker": {
             "line": {
              "color": "#283442"
             }
            },
            "type": "scatter"
           }
          ],
          "scatter3d": [
           {
            "line": {
             "colorbar": {
              "outlinewidth": 0,
              "ticks": ""
             }
            },
            "marker": {
             "colorbar": {
              "outlinewidth": 0,
              "ticks": ""
             }
            },
            "type": "scatter3d"
           }
          ],
          "scattercarpet": [
           {
            "marker": {
             "colorbar": {
              "outlinewidth": 0,
              "ticks": ""
             }
            },
            "type": "scattercarpet"
           }
          ],
          "scattergeo": [
           {
            "marker": {
             "colorbar": {
              "outlinewidth": 0,
              "ticks": ""
             }
            },
            "type": "scattergeo"
           }
          ],
          "scattergl": [
           {
            "marker": {
             "line": {
              "color": "#283442"
             }
            },
            "type": "scattergl"
           }
          ],
          "scattermapbox": [
           {
            "marker": {
             "colorbar": {
              "outlinewidth": 0,
              "ticks": ""
             }
            },
            "type": "scattermapbox"
           }
          ],
          "scatterpolar": [
           {
            "marker": {
             "colorbar": {
              "outlinewidth": 0,
              "ticks": ""
             }
            },
            "type": "scatterpolar"
           }
          ],
          "scatterpolargl": [
           {
            "marker": {
             "colorbar": {
              "outlinewidth": 0,
              "ticks": ""
             }
            },
            "type": "scatterpolargl"
           }
          ],
          "scatterternary": [
           {
            "marker": {
             "colorbar": {
              "outlinewidth": 0,
              "ticks": ""
             }
            },
            "type": "scatterternary"
           }
          ],
          "surface": [
           {
            "colorbar": {
             "outlinewidth": 0,
             "ticks": ""
            },
            "colorscale": [
             [
              0,
              "#0d0887"
             ],
             [
              0.1111111111111111,
              "#46039f"
             ],
             [
              0.2222222222222222,
              "#7201a8"
             ],
             [
              0.3333333333333333,
              "#9c179e"
             ],
             [
              0.4444444444444444,
              "#bd3786"
             ],
             [
              0.5555555555555556,
              "#d8576b"
             ],
             [
              0.6666666666666666,
              "#ed7953"
             ],
             [
              0.7777777777777778,
              "#fb9f3a"
             ],
             [
              0.8888888888888888,
              "#fdca26"
             ],
             [
              1,
              "#f0f921"
             ]
            ],
            "type": "surface"
           }
          ],
          "table": [
           {
            "cells": {
             "fill": {
              "color": "#506784"
             },
             "line": {
              "color": "rgb(17,17,17)"
             }
            },
            "header": {
             "fill": {
              "color": "#2a3f5f"
             },
             "line": {
              "color": "rgb(17,17,17)"
             }
            },
            "type": "table"
           }
          ]
         },
         "layout": {
          "annotationdefaults": {
           "arrowcolor": "#f2f5fa",
           "arrowhead": 0,
           "arrowwidth": 1
          },
          "autotypenumbers": "strict",
          "coloraxis": {
           "colorbar": {
            "outlinewidth": 0,
            "ticks": ""
           }
          },
          "colorscale": {
           "diverging": [
            [
             0,
             "#8e0152"
            ],
            [
             0.1,
             "#c51b7d"
            ],
            [
             0.2,
             "#de77ae"
            ],
            [
             0.3,
             "#f1b6da"
            ],
            [
             0.4,
             "#fde0ef"
            ],
            [
             0.5,
             "#f7f7f7"
            ],
            [
             0.6,
             "#e6f5d0"
            ],
            [
             0.7,
             "#b8e186"
            ],
            [
             0.8,
             "#7fbc41"
            ],
            [
             0.9,
             "#4d9221"
            ],
            [
             1,
             "#276419"
            ]
           ],
           "sequential": [
            [
             0,
             "#0d0887"
            ],
            [
             0.1111111111111111,
             "#46039f"
            ],
            [
             0.2222222222222222,
             "#7201a8"
            ],
            [
             0.3333333333333333,
             "#9c179e"
            ],
            [
             0.4444444444444444,
             "#bd3786"
            ],
            [
             0.5555555555555556,
             "#d8576b"
            ],
            [
             0.6666666666666666,
             "#ed7953"
            ],
            [
             0.7777777777777778,
             "#fb9f3a"
            ],
            [
             0.8888888888888888,
             "#fdca26"
            ],
            [
             1,
             "#f0f921"
            ]
           ],
           "sequentialminus": [
            [
             0,
             "#0d0887"
            ],
            [
             0.1111111111111111,
             "#46039f"
            ],
            [
             0.2222222222222222,
             "#7201a8"
            ],
            [
             0.3333333333333333,
             "#9c179e"
            ],
            [
             0.4444444444444444,
             "#bd3786"
            ],
            [
             0.5555555555555556,
             "#d8576b"
            ],
            [
             0.6666666666666666,
             "#ed7953"
            ],
            [
             0.7777777777777778,
             "#fb9f3a"
            ],
            [
             0.8888888888888888,
             "#fdca26"
            ],
            [
             1,
             "#f0f921"
            ]
           ]
          },
          "colorway": [
           "#636efa",
           "#EF553B",
           "#00cc96",
           "#ab63fa",
           "#FFA15A",
           "#19d3f3",
           "#FF6692",
           "#B6E880",
           "#FF97FF",
           "#FECB52"
          ],
          "font": {
           "color": "#f2f5fa"
          },
          "geo": {
           "bgcolor": "rgb(17,17,17)",
           "lakecolor": "rgb(17,17,17)",
           "landcolor": "rgb(17,17,17)",
           "showlakes": true,
           "showland": true,
           "subunitcolor": "#506784"
          },
          "hoverlabel": {
           "align": "left"
          },
          "hovermode": "closest",
          "mapbox": {
           "style": "dark"
          },
          "paper_bgcolor": "rgb(17,17,17)",
          "plot_bgcolor": "rgb(17,17,17)",
          "polar": {
           "angularaxis": {
            "gridcolor": "#506784",
            "linecolor": "#506784",
            "ticks": ""
           },
           "bgcolor": "rgb(17,17,17)",
           "radialaxis": {
            "gridcolor": "#506784",
            "linecolor": "#506784",
            "ticks": ""
           }
          },
          "scene": {
           "xaxis": {
            "backgroundcolor": "rgb(17,17,17)",
            "gridcolor": "#506784",
            "gridwidth": 2,
            "linecolor": "#506784",
            "showbackground": true,
            "ticks": "",
            "zerolinecolor": "#C8D4E3"
           },
           "yaxis": {
            "backgroundcolor": "rgb(17,17,17)",
            "gridcolor": "#506784",
            "gridwidth": 2,
            "linecolor": "#506784",
            "showbackground": true,
            "ticks": "",
            "zerolinecolor": "#C8D4E3"
           },
           "zaxis": {
            "backgroundcolor": "rgb(17,17,17)",
            "gridcolor": "#506784",
            "gridwidth": 2,
            "linecolor": "#506784",
            "showbackground": true,
            "ticks": "",
            "zerolinecolor": "#C8D4E3"
           }
          },
          "shapedefaults": {
           "line": {
            "color": "#f2f5fa"
           }
          },
          "sliderdefaults": {
           "bgcolor": "#C8D4E3",
           "bordercolor": "rgb(17,17,17)",
           "borderwidth": 1,
           "tickwidth": 0
          },
          "ternary": {
           "aaxis": {
            "gridcolor": "#506784",
            "linecolor": "#506784",
            "ticks": ""
           },
           "baxis": {
            "gridcolor": "#506784",
            "linecolor": "#506784",
            "ticks": ""
           },
           "bgcolor": "rgb(17,17,17)",
           "caxis": {
            "gridcolor": "#506784",
            "linecolor": "#506784",
            "ticks": ""
           }
          },
          "title": {
           "x": 0.05
          },
          "updatemenudefaults": {
           "bgcolor": "#506784",
           "borderwidth": 0
          },
          "xaxis": {
           "automargin": true,
           "gridcolor": "#283442",
           "linecolor": "#506784",
           "ticks": "",
           "title": {
            "standoff": 15
           },
           "zerolinecolor": "#283442",
           "zerolinewidth": 2
          },
          "yaxis": {
           "automargin": true,
           "gridcolor": "#283442",
           "linecolor": "#506784",
           "ticks": "",
           "title": {
            "standoff": 15
           },
           "zerolinecolor": "#283442",
           "zerolinewidth": 2
          }
         }
        },
        "title": {
         "text": "Top movies by revenue",
         "x": 0.5
        },
        "xaxis": {
         "title": {
          "text": "Movie Name"
         }
        },
        "yaxis": {
         "showgrid": false,
         "title": {
          "text": "Revenue"
         }
        }
       }
      },
      "text/html": [
       "<div>                            <div id=\"85ad70d3-7cc3-4d7a-9ca8-ddedb7c67d5f\" class=\"plotly-graph-div\" style=\"height:525px; width:100%;\"></div>            <script type=\"text/javascript\">                require([\"plotly\"], function(Plotly) {                    window.PLOTLYENV=window.PLOTLYENV || {};                                    if (document.getElementById(\"85ad70d3-7cc3-4d7a-9ca8-ddedb7c67d5f\")) {                    Plotly.newPlot(                        \"85ad70d3-7cc3-4d7a-9ca8-ddedb7c67d5f\",                        [{\"hovertemplate\":\" Revenue : %{y} <br>Movie Name : %{x}<br> Production Company : %{hovertext}</b><extra></extra>\",\"hovertext\":[\"Dune Entertainment\",\"Marvel Studios\",\"Paramount\",\"Lucasfilm\",\"Marvel Studios\",\"Marvel Studios\",\"Amblin Entertainment\",\"Walt Disney Pictures\",\"Marvel Studios\",\"Abu Dhabi Film Commission\"],\"marker\":{\"color\":\"steelblue\"},\"opacity\":0.6,\"orientation\":\"v\",\"x\":[\"Avatar\",\"Avengers: Endgame\",\"Titanic\",\"Star Wars: The Force Awakens\",\"Avengers: Infinity War\",\"Spider-Man: No Way Home\",\"Jurassic World\",\"The Lion King\",\"The Avengers\",\"Furious 7\"],\"y\":[2847246203,2797800564,2187463944,2068223624,2046239637,1892000000,1671713208,1667635327,1518815515,1515047671],\"type\":\"bar\"}],                        {\"template\":{\"data\":{\"barpolar\":[{\"marker\":{\"line\":{\"color\":\"rgb(17,17,17)\",\"width\":0.5},\"pattern\":{\"fillmode\":\"overlay\",\"size\":10,\"solidity\":0.2}},\"type\":\"barpolar\"}],\"bar\":[{\"error_x\":{\"color\":\"#f2f5fa\"},\"error_y\":{\"color\":\"#f2f5fa\"},\"marker\":{\"line\":{\"color\":\"rgb(17,17,17)\",\"width\":0.5},\"pattern\":{\"fillmode\":\"overlay\",\"size\":10,\"solidity\":0.2}},\"type\":\"bar\"}],\"carpet\":[{\"aaxis\":{\"endlinecolor\":\"#A2B1C6\",\"gridcolor\":\"#506784\",\"linecolor\":\"#506784\",\"minorgridcolor\":\"#506784\",\"startlinecolor\":\"#A2B1C6\"},\"baxis\":{\"endlinecolor\":\"#A2B1C6\",\"gridcolor\":\"#506784\",\"linecolor\":\"#506784\",\"minorgridcolor\":\"#506784\",\"startlinecolor\":\"#A2B1C6\"},\"type\":\"carpet\"}],\"choropleth\":[{\"colorbar\":{\"outlinewidth\":0,\"ticks\":\"\"},\"type\":\"choropleth\"}],\"contourcarpet\":[{\"colorbar\":{\"outlinewidth\":0,\"ticks\":\"\"},\"type\":\"contourcarpet\"}],\"contour\":[{\"colorbar\":{\"outlinewidth\":0,\"ticks\":\"\"},\"colorscale\":[[0.0,\"#0d0887\"],[0.1111111111111111,\"#46039f\"],[0.2222222222222222,\"#7201a8\"],[0.3333333333333333,\"#9c179e\"],[0.4444444444444444,\"#bd3786\"],[0.5555555555555556,\"#d8576b\"],[0.6666666666666666,\"#ed7953\"],[0.7777777777777778,\"#fb9f3a\"],[0.8888888888888888,\"#fdca26\"],[1.0,\"#f0f921\"]],\"type\":\"contour\"}],\"heatmapgl\":[{\"colorbar\":{\"outlinewidth\":0,\"ticks\":\"\"},\"colorscale\":[[0.0,\"#0d0887\"],[0.1111111111111111,\"#46039f\"],[0.2222222222222222,\"#7201a8\"],[0.3333333333333333,\"#9c179e\"],[0.4444444444444444,\"#bd3786\"],[0.5555555555555556,\"#d8576b\"],[0.6666666666666666,\"#ed7953\"],[0.7777777777777778,\"#fb9f3a\"],[0.8888888888888888,\"#fdca26\"],[1.0,\"#f0f921\"]],\"type\":\"heatmapgl\"}],\"heatmap\":[{\"colorbar\":{\"outlinewidth\":0,\"ticks\":\"\"},\"colorscale\":[[0.0,\"#0d0887\"],[0.1111111111111111,\"#46039f\"],[0.2222222222222222,\"#7201a8\"],[0.3333333333333333,\"#9c179e\"],[0.4444444444444444,\"#bd3786\"],[0.5555555555555556,\"#d8576b\"],[0.6666666666666666,\"#ed7953\"],[0.7777777777777778,\"#fb9f3a\"],[0.8888888888888888,\"#fdca26\"],[1.0,\"#f0f921\"]],\"type\":\"heatmap\"}],\"histogram2dcontour\":[{\"colorbar\":{\"outlinewidth\":0,\"ticks\":\"\"},\"colorscale\":[[0.0,\"#0d0887\"],[0.1111111111111111,\"#46039f\"],[0.2222222222222222,\"#7201a8\"],[0.3333333333333333,\"#9c179e\"],[0.4444444444444444,\"#bd3786\"],[0.5555555555555556,\"#d8576b\"],[0.6666666666666666,\"#ed7953\"],[0.7777777777777778,\"#fb9f3a\"],[0.8888888888888888,\"#fdca26\"],[1.0,\"#f0f921\"]],\"type\":\"histogram2dcontour\"}],\"histogram2d\":[{\"colorbar\":{\"outlinewidth\":0,\"ticks\":\"\"},\"colorscale\":[[0.0,\"#0d0887\"],[0.1111111111111111,\"#46039f\"],[0.2222222222222222,\"#7201a8\"],[0.3333333333333333,\"#9c179e\"],[0.4444444444444444,\"#bd3786\"],[0.5555555555555556,\"#d8576b\"],[0.6666666666666666,\"#ed7953\"],[0.7777777777777778,\"#fb9f3a\"],[0.8888888888888888,\"#fdca26\"],[1.0,\"#f0f921\"]],\"type\":\"histogram2d\"}],\"histogram\":[{\"marker\":{\"pattern\":{\"fillmode\":\"overlay\",\"size\":10,\"solidity\":0.2}},\"type\":\"histogram\"}],\"mesh3d\":[{\"colorbar\":{\"outlinewidth\":0,\"ticks\":\"\"},\"type\":\"mesh3d\"}],\"parcoords\":[{\"line\":{\"colorbar\":{\"outlinewidth\":0,\"ticks\":\"\"}},\"type\":\"parcoords\"}],\"pie\":[{\"automargin\":true,\"type\":\"pie\"}],\"scatter3d\":[{\"line\":{\"colorbar\":{\"outlinewidth\":0,\"ticks\":\"\"}},\"marker\":{\"colorbar\":{\"outlinewidth\":0,\"ticks\":\"\"}},\"type\":\"scatter3d\"}],\"scattercarpet\":[{\"marker\":{\"colorbar\":{\"outlinewidth\":0,\"ticks\":\"\"}},\"type\":\"scattercarpet\"}],\"scattergeo\":[{\"marker\":{\"colorbar\":{\"outlinewidth\":0,\"ticks\":\"\"}},\"type\":\"scattergeo\"}],\"scattergl\":[{\"marker\":{\"line\":{\"color\":\"#283442\"}},\"type\":\"scattergl\"}],\"scattermapbox\":[{\"marker\":{\"colorbar\":{\"outlinewidth\":0,\"ticks\":\"\"}},\"type\":\"scattermapbox\"}],\"scatterpolargl\":[{\"marker\":{\"colorbar\":{\"outlinewidth\":0,\"ticks\":\"\"}},\"type\":\"scatterpolargl\"}],\"scatterpolar\":[{\"marker\":{\"colorbar\":{\"outlinewidth\":0,\"ticks\":\"\"}},\"type\":\"scatterpolar\"}],\"scatter\":[{\"marker\":{\"line\":{\"color\":\"#283442\"}},\"type\":\"scatter\"}],\"scatterternary\":[{\"marker\":{\"colorbar\":{\"outlinewidth\":0,\"ticks\":\"\"}},\"type\":\"scatterternary\"}],\"surface\":[{\"colorbar\":{\"outlinewidth\":0,\"ticks\":\"\"},\"colorscale\":[[0.0,\"#0d0887\"],[0.1111111111111111,\"#46039f\"],[0.2222222222222222,\"#7201a8\"],[0.3333333333333333,\"#9c179e\"],[0.4444444444444444,\"#bd3786\"],[0.5555555555555556,\"#d8576b\"],[0.6666666666666666,\"#ed7953\"],[0.7777777777777778,\"#fb9f3a\"],[0.8888888888888888,\"#fdca26\"],[1.0,\"#f0f921\"]],\"type\":\"surface\"}],\"table\":[{\"cells\":{\"fill\":{\"color\":\"#506784\"},\"line\":{\"color\":\"rgb(17,17,17)\"}},\"header\":{\"fill\":{\"color\":\"#2a3f5f\"},\"line\":{\"color\":\"rgb(17,17,17)\"}},\"type\":\"table\"}]},\"layout\":{\"annotationdefaults\":{\"arrowcolor\":\"#f2f5fa\",\"arrowhead\":0,\"arrowwidth\":1},\"autotypenumbers\":\"strict\",\"coloraxis\":{\"colorbar\":{\"outlinewidth\":0,\"ticks\":\"\"}},\"colorscale\":{\"diverging\":[[0,\"#8e0152\"],[0.1,\"#c51b7d\"],[0.2,\"#de77ae\"],[0.3,\"#f1b6da\"],[0.4,\"#fde0ef\"],[0.5,\"#f7f7f7\"],[0.6,\"#e6f5d0\"],[0.7,\"#b8e186\"],[0.8,\"#7fbc41\"],[0.9,\"#4d9221\"],[1,\"#276419\"]],\"sequential\":[[0.0,\"#0d0887\"],[0.1111111111111111,\"#46039f\"],[0.2222222222222222,\"#7201a8\"],[0.3333333333333333,\"#9c179e\"],[0.4444444444444444,\"#bd3786\"],[0.5555555555555556,\"#d8576b\"],[0.6666666666666666,\"#ed7953\"],[0.7777777777777778,\"#fb9f3a\"],[0.8888888888888888,\"#fdca26\"],[1.0,\"#f0f921\"]],\"sequentialminus\":[[0.0,\"#0d0887\"],[0.1111111111111111,\"#46039f\"],[0.2222222222222222,\"#7201a8\"],[0.3333333333333333,\"#9c179e\"],[0.4444444444444444,\"#bd3786\"],[0.5555555555555556,\"#d8576b\"],[0.6666666666666666,\"#ed7953\"],[0.7777777777777778,\"#fb9f3a\"],[0.8888888888888888,\"#fdca26\"],[1.0,\"#f0f921\"]]},\"colorway\":[\"#636efa\",\"#EF553B\",\"#00cc96\",\"#ab63fa\",\"#FFA15A\",\"#19d3f3\",\"#FF6692\",\"#B6E880\",\"#FF97FF\",\"#FECB52\"],\"font\":{\"color\":\"#f2f5fa\"},\"geo\":{\"bgcolor\":\"rgb(17,17,17)\",\"lakecolor\":\"rgb(17,17,17)\",\"landcolor\":\"rgb(17,17,17)\",\"showlakes\":true,\"showland\":true,\"subunitcolor\":\"#506784\"},\"hoverlabel\":{\"align\":\"left\"},\"hovermode\":\"closest\",\"mapbox\":{\"style\":\"dark\"},\"paper_bgcolor\":\"rgb(17,17,17)\",\"plot_bgcolor\":\"rgb(17,17,17)\",\"polar\":{\"angularaxis\":{\"gridcolor\":\"#506784\",\"linecolor\":\"#506784\",\"ticks\":\"\"},\"bgcolor\":\"rgb(17,17,17)\",\"radialaxis\":{\"gridcolor\":\"#506784\",\"linecolor\":\"#506784\",\"ticks\":\"\"}},\"scene\":{\"xaxis\":{\"backgroundcolor\":\"rgb(17,17,17)\",\"gridcolor\":\"#506784\",\"gridwidth\":2,\"linecolor\":\"#506784\",\"showbackground\":true,\"ticks\":\"\",\"zerolinecolor\":\"#C8D4E3\"},\"yaxis\":{\"backgroundcolor\":\"rgb(17,17,17)\",\"gridcolor\":\"#506784\",\"gridwidth\":2,\"linecolor\":\"#506784\",\"showbackground\":true,\"ticks\":\"\",\"zerolinecolor\":\"#C8D4E3\"},\"zaxis\":{\"backgroundcolor\":\"rgb(17,17,17)\",\"gridcolor\":\"#506784\",\"gridwidth\":2,\"linecolor\":\"#506784\",\"showbackground\":true,\"ticks\":\"\",\"zerolinecolor\":\"#C8D4E3\"}},\"shapedefaults\":{\"line\":{\"color\":\"#f2f5fa\"}},\"sliderdefaults\":{\"bgcolor\":\"#C8D4E3\",\"bordercolor\":\"rgb(17,17,17)\",\"borderwidth\":1,\"tickwidth\":0},\"ternary\":{\"aaxis\":{\"gridcolor\":\"#506784\",\"linecolor\":\"#506784\",\"ticks\":\"\"},\"baxis\":{\"gridcolor\":\"#506784\",\"linecolor\":\"#506784\",\"ticks\":\"\"},\"bgcolor\":\"rgb(17,17,17)\",\"caxis\":{\"gridcolor\":\"#506784\",\"linecolor\":\"#506784\",\"ticks\":\"\"}},\"title\":{\"x\":0.05},\"updatemenudefaults\":{\"bgcolor\":\"#506784\",\"borderwidth\":0},\"xaxis\":{\"automargin\":true,\"gridcolor\":\"#283442\",\"linecolor\":\"#506784\",\"ticks\":\"\",\"title\":{\"standoff\":15},\"zerolinecolor\":\"#283442\",\"zerolinewidth\":2},\"yaxis\":{\"automargin\":true,\"gridcolor\":\"#283442\",\"linecolor\":\"#506784\",\"ticks\":\"\",\"title\":{\"standoff\":15},\"zerolinecolor\":\"#283442\",\"zerolinewidth\":2}}},\"title\":{\"text\":\"Top movies by revenue\",\"x\":0.5},\"xaxis\":{\"title\":{\"text\":\"Movie Name\"}},\"yaxis\":{\"showgrid\":false,\"title\":{\"text\":\"Revenue\"}}},                        {\"responsive\": true}                    ).then(function(){\n",
       "                            \n",
       "var gd = document.getElementById('85ad70d3-7cc3-4d7a-9ca8-ddedb7c67d5f');\n",
       "var x = new MutationObserver(function (mutations, observer) {{\n",
       "        var display = window.getComputedStyle(gd).display;\n",
       "        if (!display || display === 'none') {{\n",
       "            console.log([gd, 'removed!']);\n",
       "            Plotly.purge(gd);\n",
       "            observer.disconnect();\n",
       "        }}\n",
       "}});\n",
       "\n",
       "// Listen for the removal of the full notebook cells\n",
       "var notebookContainer = gd.closest('#notebook-container');\n",
       "if (notebookContainer) {{\n",
       "    x.observe(notebookContainer, {childList: true});\n",
       "}}\n",
       "\n",
       "// Listen for the clearing of the current output cell\n",
       "var outputEl = gd.closest('.output');\n",
       "if (outputEl) {{\n",
       "    x.observe(outputEl, {childList: true});\n",
       "}}\n",
       "\n",
       "                        })                };                });            </script>        </div>"
      ]
     },
     "metadata": {},
     "output_type": "display_data"
    }
   ],
   "source": [
    "revenue = movies.sort_values(by='revenue',ascending=False)[['title','revenue','production_companies']].head(10)\n",
    "\n",
    "data = go.Bar(x= revenue['title'],y=revenue['revenue'],orientation='v',marker={'color':'steelblue'},\n",
    "             opacity=0.6,hovertext=revenue['production_companies'],\n",
    "             hovertemplate=\" Revenue : %{y}\" \" <br>Movie Name : %{x}\" \"<br> Production Company : %{hovertext}</b><extra></extra>\")\n",
    "\n",
    "layout = go.Layout(title='Top movies by revenue',title_x=0.5,\n",
    "               yaxis={'title':'Revenue'},\n",
    "               xaxis={'title':'Movie Name'})\n",
    "\n",
    "\n",
    "fig = go.Figure(data=data,layout=layout)\n",
    "fig.update_yaxes(showgrid=False)\n",
    "fig.update_layout(template = 'plotly_dark')\n",
    "\n",
    "iplot(fig)"
   ]
  },
  {
   "cell_type": "markdown",
   "id": "648deb9f",
   "metadata": {},
   "source": [
    "### 1. \"Avtaar\" movie of \"Dune Entertainment\" production company has generated most revenue of around 2.4B, followed by \"Avengers: Endgame\" of  \"Marvel Studios\".\n",
    "### 2. There are 4 movies of \"Marvel Studios\" in top 10 movies list by revenue."
   ]
  },
  {
   "cell_type": "markdown",
   "id": "7056b4e0",
   "metadata": {},
   "source": [
    "## 4.6 Top rated movies"
   ]
  },
  {
   "cell_type": "code",
   "execution_count": 64,
   "id": "9151b9cd",
   "metadata": {},
   "outputs": [
    {
     "data": {
      "application/vnd.plotly.v1+json": {
       "config": {
        "linkText": "Export to plot.ly",
        "plotlyServerURL": "https://plot.ly",
        "showLink": false
       },
       "data": [
        {
         "hovertemplate": " Rating : %{y} <br>Movie Name : %{x}<br>  Director : %{hovertext}</b><extra></extra>",
         "hovertext": [
          "Daniel Scheinert",
          "Francis Ford Coppola",
          "Frank Darabont",
          "Steven Spielberg",
          "Haruo Sotozaki",
          "Park Jun-soo",
          "Francis Ford Coppola",
          "Christopher Nolan",
          "Peter Jackson",
          "Roberto Benigni"
         ],
         "marker": {
          "color": "steelblue"
         },
         "opacity": 0.6,
         "orientation": "v",
         "type": "bar",
         "x": [
          "Everything Everywhere All at Once",
          "The Godfather",
          "The Shawshank Redemption",
          "Schindler's List",
          "Demon Slayer: Kimetsu no Yaiba Sibling's Bond",
          "Burn the Stage: The Movie",
          "The Godfather: Part II",
          "The Dark Knight",
          "The Lord of the Rings: The Return of the King",
          "Life Is Beautiful"
         ],
         "y": [
          8.8,
          8.7,
          8.7,
          8.6,
          8.6,
          8.6,
          8.6,
          8.5,
          8.5,
          8.5
         ]
        }
       ],
       "layout": {
        "template": {
         "data": {
          "bar": [
           {
            "error_x": {
             "color": "#f2f5fa"
            },
            "error_y": {
             "color": "#f2f5fa"
            },
            "marker": {
             "line": {
              "color": "rgb(17,17,17)",
              "width": 0.5
             },
             "pattern": {
              "fillmode": "overlay",
              "size": 10,
              "solidity": 0.2
             }
            },
            "type": "bar"
           }
          ],
          "barpolar": [
           {
            "marker": {
             "line": {
              "color": "rgb(17,17,17)",
              "width": 0.5
             },
             "pattern": {
              "fillmode": "overlay",
              "size": 10,
              "solidity": 0.2
             }
            },
            "type": "barpolar"
           }
          ],
          "carpet": [
           {
            "aaxis": {
             "endlinecolor": "#A2B1C6",
             "gridcolor": "#506784",
             "linecolor": "#506784",
             "minorgridcolor": "#506784",
             "startlinecolor": "#A2B1C6"
            },
            "baxis": {
             "endlinecolor": "#A2B1C6",
             "gridcolor": "#506784",
             "linecolor": "#506784",
             "minorgridcolor": "#506784",
             "startlinecolor": "#A2B1C6"
            },
            "type": "carpet"
           }
          ],
          "choropleth": [
           {
            "colorbar": {
             "outlinewidth": 0,
             "ticks": ""
            },
            "type": "choropleth"
           }
          ],
          "contour": [
           {
            "colorbar": {
             "outlinewidth": 0,
             "ticks": ""
            },
            "colorscale": [
             [
              0,
              "#0d0887"
             ],
             [
              0.1111111111111111,
              "#46039f"
             ],
             [
              0.2222222222222222,
              "#7201a8"
             ],
             [
              0.3333333333333333,
              "#9c179e"
             ],
             [
              0.4444444444444444,
              "#bd3786"
             ],
             [
              0.5555555555555556,
              "#d8576b"
             ],
             [
              0.6666666666666666,
              "#ed7953"
             ],
             [
              0.7777777777777778,
              "#fb9f3a"
             ],
             [
              0.8888888888888888,
              "#fdca26"
             ],
             [
              1,
              "#f0f921"
             ]
            ],
            "type": "contour"
           }
          ],
          "contourcarpet": [
           {
            "colorbar": {
             "outlinewidth": 0,
             "ticks": ""
            },
            "type": "contourcarpet"
           }
          ],
          "heatmap": [
           {
            "colorbar": {
             "outlinewidth": 0,
             "ticks": ""
            },
            "colorscale": [
             [
              0,
              "#0d0887"
             ],
             [
              0.1111111111111111,
              "#46039f"
             ],
             [
              0.2222222222222222,
              "#7201a8"
             ],
             [
              0.3333333333333333,
              "#9c179e"
             ],
             [
              0.4444444444444444,
              "#bd3786"
             ],
             [
              0.5555555555555556,
              "#d8576b"
             ],
             [
              0.6666666666666666,
              "#ed7953"
             ],
             [
              0.7777777777777778,
              "#fb9f3a"
             ],
             [
              0.8888888888888888,
              "#fdca26"
             ],
             [
              1,
              "#f0f921"
             ]
            ],
            "type": "heatmap"
           }
          ],
          "heatmapgl": [
           {
            "colorbar": {
             "outlinewidth": 0,
             "ticks": ""
            },
            "colorscale": [
             [
              0,
              "#0d0887"
             ],
             [
              0.1111111111111111,
              "#46039f"
             ],
             [
              0.2222222222222222,
              "#7201a8"
             ],
             [
              0.3333333333333333,
              "#9c179e"
             ],
             [
              0.4444444444444444,
              "#bd3786"
             ],
             [
              0.5555555555555556,
              "#d8576b"
             ],
             [
              0.6666666666666666,
              "#ed7953"
             ],
             [
              0.7777777777777778,
              "#fb9f3a"
             ],
             [
              0.8888888888888888,
              "#fdca26"
             ],
             [
              1,
              "#f0f921"
             ]
            ],
            "type": "heatmapgl"
           }
          ],
          "histogram": [
           {
            "marker": {
             "pattern": {
              "fillmode": "overlay",
              "size": 10,
              "solidity": 0.2
             }
            },
            "type": "histogram"
           }
          ],
          "histogram2d": [
           {
            "colorbar": {
             "outlinewidth": 0,
             "ticks": ""
            },
            "colorscale": [
             [
              0,
              "#0d0887"
             ],
             [
              0.1111111111111111,
              "#46039f"
             ],
             [
              0.2222222222222222,
              "#7201a8"
             ],
             [
              0.3333333333333333,
              "#9c179e"
             ],
             [
              0.4444444444444444,
              "#bd3786"
             ],
             [
              0.5555555555555556,
              "#d8576b"
             ],
             [
              0.6666666666666666,
              "#ed7953"
             ],
             [
              0.7777777777777778,
              "#fb9f3a"
             ],
             [
              0.8888888888888888,
              "#fdca26"
             ],
             [
              1,
              "#f0f921"
             ]
            ],
            "type": "histogram2d"
           }
          ],
          "histogram2dcontour": [
           {
            "colorbar": {
             "outlinewidth": 0,
             "ticks": ""
            },
            "colorscale": [
             [
              0,
              "#0d0887"
             ],
             [
              0.1111111111111111,
              "#46039f"
             ],
             [
              0.2222222222222222,
              "#7201a8"
             ],
             [
              0.3333333333333333,
              "#9c179e"
             ],
             [
              0.4444444444444444,
              "#bd3786"
             ],
             [
              0.5555555555555556,
              "#d8576b"
             ],
             [
              0.6666666666666666,
              "#ed7953"
             ],
             [
              0.7777777777777778,
              "#fb9f3a"
             ],
             [
              0.8888888888888888,
              "#fdca26"
             ],
             [
              1,
              "#f0f921"
             ]
            ],
            "type": "histogram2dcontour"
           }
          ],
          "mesh3d": [
           {
            "colorbar": {
             "outlinewidth": 0,
             "ticks": ""
            },
            "type": "mesh3d"
           }
          ],
          "parcoords": [
           {
            "line": {
             "colorbar": {
              "outlinewidth": 0,
              "ticks": ""
             }
            },
            "type": "parcoords"
           }
          ],
          "pie": [
           {
            "automargin": true,
            "type": "pie"
           }
          ],
          "scatter": [
           {
            "marker": {
             "line": {
              "color": "#283442"
             }
            },
            "type": "scatter"
           }
          ],
          "scatter3d": [
           {
            "line": {
             "colorbar": {
              "outlinewidth": 0,
              "ticks": ""
             }
            },
            "marker": {
             "colorbar": {
              "outlinewidth": 0,
              "ticks": ""
             }
            },
            "type": "scatter3d"
           }
          ],
          "scattercarpet": [
           {
            "marker": {
             "colorbar": {
              "outlinewidth": 0,
              "ticks": ""
             }
            },
            "type": "scattercarpet"
           }
          ],
          "scattergeo": [
           {
            "marker": {
             "colorbar": {
              "outlinewidth": 0,
              "ticks": ""
             }
            },
            "type": "scattergeo"
           }
          ],
          "scattergl": [
           {
            "marker": {
             "line": {
              "color": "#283442"
             }
            },
            "type": "scattergl"
           }
          ],
          "scattermapbox": [
           {
            "marker": {
             "colorbar": {
              "outlinewidth": 0,
              "ticks": ""
             }
            },
            "type": "scattermapbox"
           }
          ],
          "scatterpolar": [
           {
            "marker": {
             "colorbar": {
              "outlinewidth": 0,
              "ticks": ""
             }
            },
            "type": "scatterpolar"
           }
          ],
          "scatterpolargl": [
           {
            "marker": {
             "colorbar": {
              "outlinewidth": 0,
              "ticks": ""
             }
            },
            "type": "scatterpolargl"
           }
          ],
          "scatterternary": [
           {
            "marker": {
             "colorbar": {
              "outlinewidth": 0,
              "ticks": ""
             }
            },
            "type": "scatterternary"
           }
          ],
          "surface": [
           {
            "colorbar": {
             "outlinewidth": 0,
             "ticks": ""
            },
            "colorscale": [
             [
              0,
              "#0d0887"
             ],
             [
              0.1111111111111111,
              "#46039f"
             ],
             [
              0.2222222222222222,
              "#7201a8"
             ],
             [
              0.3333333333333333,
              "#9c179e"
             ],
             [
              0.4444444444444444,
              "#bd3786"
             ],
             [
              0.5555555555555556,
              "#d8576b"
             ],
             [
              0.6666666666666666,
              "#ed7953"
             ],
             [
              0.7777777777777778,
              "#fb9f3a"
             ],
             [
              0.8888888888888888,
              "#fdca26"
             ],
             [
              1,
              "#f0f921"
             ]
            ],
            "type": "surface"
           }
          ],
          "table": [
           {
            "cells": {
             "fill": {
              "color": "#506784"
             },
             "line": {
              "color": "rgb(17,17,17)"
             }
            },
            "header": {
             "fill": {
              "color": "#2a3f5f"
             },
             "line": {
              "color": "rgb(17,17,17)"
             }
            },
            "type": "table"
           }
          ]
         },
         "layout": {
          "annotationdefaults": {
           "arrowcolor": "#f2f5fa",
           "arrowhead": 0,
           "arrowwidth": 1
          },
          "autotypenumbers": "strict",
          "coloraxis": {
           "colorbar": {
            "outlinewidth": 0,
            "ticks": ""
           }
          },
          "colorscale": {
           "diverging": [
            [
             0,
             "#8e0152"
            ],
            [
             0.1,
             "#c51b7d"
            ],
            [
             0.2,
             "#de77ae"
            ],
            [
             0.3,
             "#f1b6da"
            ],
            [
             0.4,
             "#fde0ef"
            ],
            [
             0.5,
             "#f7f7f7"
            ],
            [
             0.6,
             "#e6f5d0"
            ],
            [
             0.7,
             "#b8e186"
            ],
            [
             0.8,
             "#7fbc41"
            ],
            [
             0.9,
             "#4d9221"
            ],
            [
             1,
             "#276419"
            ]
           ],
           "sequential": [
            [
             0,
             "#0d0887"
            ],
            [
             0.1111111111111111,
             "#46039f"
            ],
            [
             0.2222222222222222,
             "#7201a8"
            ],
            [
             0.3333333333333333,
             "#9c179e"
            ],
            [
             0.4444444444444444,
             "#bd3786"
            ],
            [
             0.5555555555555556,
             "#d8576b"
            ],
            [
             0.6666666666666666,
             "#ed7953"
            ],
            [
             0.7777777777777778,
             "#fb9f3a"
            ],
            [
             0.8888888888888888,
             "#fdca26"
            ],
            [
             1,
             "#f0f921"
            ]
           ],
           "sequentialminus": [
            [
             0,
             "#0d0887"
            ],
            [
             0.1111111111111111,
             "#46039f"
            ],
            [
             0.2222222222222222,
             "#7201a8"
            ],
            [
             0.3333333333333333,
             "#9c179e"
            ],
            [
             0.4444444444444444,
             "#bd3786"
            ],
            [
             0.5555555555555556,
             "#d8576b"
            ],
            [
             0.6666666666666666,
             "#ed7953"
            ],
            [
             0.7777777777777778,
             "#fb9f3a"
            ],
            [
             0.8888888888888888,
             "#fdca26"
            ],
            [
             1,
             "#f0f921"
            ]
           ]
          },
          "colorway": [
           "#636efa",
           "#EF553B",
           "#00cc96",
           "#ab63fa",
           "#FFA15A",
           "#19d3f3",
           "#FF6692",
           "#B6E880",
           "#FF97FF",
           "#FECB52"
          ],
          "font": {
           "color": "#f2f5fa"
          },
          "geo": {
           "bgcolor": "rgb(17,17,17)",
           "lakecolor": "rgb(17,17,17)",
           "landcolor": "rgb(17,17,17)",
           "showlakes": true,
           "showland": true,
           "subunitcolor": "#506784"
          },
          "hoverlabel": {
           "align": "left"
          },
          "hovermode": "closest",
          "mapbox": {
           "style": "dark"
          },
          "paper_bgcolor": "rgb(17,17,17)",
          "plot_bgcolor": "rgb(17,17,17)",
          "polar": {
           "angularaxis": {
            "gridcolor": "#506784",
            "linecolor": "#506784",
            "ticks": ""
           },
           "bgcolor": "rgb(17,17,17)",
           "radialaxis": {
            "gridcolor": "#506784",
            "linecolor": "#506784",
            "ticks": ""
           }
          },
          "scene": {
           "xaxis": {
            "backgroundcolor": "rgb(17,17,17)",
            "gridcolor": "#506784",
            "gridwidth": 2,
            "linecolor": "#506784",
            "showbackground": true,
            "ticks": "",
            "zerolinecolor": "#C8D4E3"
           },
           "yaxis": {
            "backgroundcolor": "rgb(17,17,17)",
            "gridcolor": "#506784",
            "gridwidth": 2,
            "linecolor": "#506784",
            "showbackground": true,
            "ticks": "",
            "zerolinecolor": "#C8D4E3"
           },
           "zaxis": {
            "backgroundcolor": "rgb(17,17,17)",
            "gridcolor": "#506784",
            "gridwidth": 2,
            "linecolor": "#506784",
            "showbackground": true,
            "ticks": "",
            "zerolinecolor": "#C8D4E3"
           }
          },
          "shapedefaults": {
           "line": {
            "color": "#f2f5fa"
           }
          },
          "sliderdefaults": {
           "bgcolor": "#C8D4E3",
           "bordercolor": "rgb(17,17,17)",
           "borderwidth": 1,
           "tickwidth": 0
          },
          "ternary": {
           "aaxis": {
            "gridcolor": "#506784",
            "linecolor": "#506784",
            "ticks": ""
           },
           "baxis": {
            "gridcolor": "#506784",
            "linecolor": "#506784",
            "ticks": ""
           },
           "bgcolor": "rgb(17,17,17)",
           "caxis": {
            "gridcolor": "#506784",
            "linecolor": "#506784",
            "ticks": ""
           }
          },
          "title": {
           "x": 0.05
          },
          "updatemenudefaults": {
           "bgcolor": "#506784",
           "borderwidth": 0
          },
          "xaxis": {
           "automargin": true,
           "gridcolor": "#283442",
           "linecolor": "#506784",
           "ticks": "",
           "title": {
            "standoff": 15
           },
           "zerolinecolor": "#283442",
           "zerolinewidth": 2
          },
          "yaxis": {
           "automargin": true,
           "gridcolor": "#283442",
           "linecolor": "#506784",
           "ticks": "",
           "title": {
            "standoff": 15
           },
           "zerolinecolor": "#283442",
           "zerolinewidth": 2
          }
         }
        },
        "title": {
         "text": "Top rated movies",
         "x": 0.5
        },
        "xaxis": {
         "title": {
          "text": "Movie Name"
         }
        },
        "yaxis": {
         "showgrid": false,
         "title": {
          "text": "Rating"
         }
        }
       }
      },
      "text/html": [
       "<div>                            <div id=\"6b10cc33-d37f-4dfe-959a-f0209f62cb0d\" class=\"plotly-graph-div\" style=\"height:525px; width:100%;\"></div>            <script type=\"text/javascript\">                require([\"plotly\"], function(Plotly) {                    window.PLOTLYENV=window.PLOTLYENV || {};                                    if (document.getElementById(\"6b10cc33-d37f-4dfe-959a-f0209f62cb0d\")) {                    Plotly.newPlot(                        \"6b10cc33-d37f-4dfe-959a-f0209f62cb0d\",                        [{\"hovertemplate\":\" Rating : %{y} <br>Movie Name : %{x}<br>  Director : %{hovertext}</b><extra></extra>\",\"hovertext\":[\"Daniel Scheinert\",\"Francis Ford Coppola\",\"Frank Darabont\",\"Steven Spielberg\",\"Haruo Sotozaki\",\"Park Jun-soo\",\"Francis Ford Coppola\",\"Christopher Nolan\",\"Peter Jackson\",\"Roberto Benigni\"],\"marker\":{\"color\":\"steelblue\"},\"opacity\":0.6,\"orientation\":\"v\",\"x\":[\"Everything Everywhere All at Once\",\"The Godfather\",\"The Shawshank Redemption\",\"Schindler's List\",\"Demon Slayer: Kimetsu no Yaiba Sibling's Bond\",\"Burn the Stage: The Movie\",\"The Godfather: Part II\",\"The Dark Knight\",\"The Lord of the Rings: The Return of the King\",\"Life Is Beautiful\"],\"y\":[8.8,8.7,8.7,8.6,8.6,8.6,8.6,8.5,8.5,8.5],\"type\":\"bar\"}],                        {\"template\":{\"data\":{\"barpolar\":[{\"marker\":{\"line\":{\"color\":\"rgb(17,17,17)\",\"width\":0.5},\"pattern\":{\"fillmode\":\"overlay\",\"size\":10,\"solidity\":0.2}},\"type\":\"barpolar\"}],\"bar\":[{\"error_x\":{\"color\":\"#f2f5fa\"},\"error_y\":{\"color\":\"#f2f5fa\"},\"marker\":{\"line\":{\"color\":\"rgb(17,17,17)\",\"width\":0.5},\"pattern\":{\"fillmode\":\"overlay\",\"size\":10,\"solidity\":0.2}},\"type\":\"bar\"}],\"carpet\":[{\"aaxis\":{\"endlinecolor\":\"#A2B1C6\",\"gridcolor\":\"#506784\",\"linecolor\":\"#506784\",\"minorgridcolor\":\"#506784\",\"startlinecolor\":\"#A2B1C6\"},\"baxis\":{\"endlinecolor\":\"#A2B1C6\",\"gridcolor\":\"#506784\",\"linecolor\":\"#506784\",\"minorgridcolor\":\"#506784\",\"startlinecolor\":\"#A2B1C6\"},\"type\":\"carpet\"}],\"choropleth\":[{\"colorbar\":{\"outlinewidth\":0,\"ticks\":\"\"},\"type\":\"choropleth\"}],\"contourcarpet\":[{\"colorbar\":{\"outlinewidth\":0,\"ticks\":\"\"},\"type\":\"contourcarpet\"}],\"contour\":[{\"colorbar\":{\"outlinewidth\":0,\"ticks\":\"\"},\"colorscale\":[[0.0,\"#0d0887\"],[0.1111111111111111,\"#46039f\"],[0.2222222222222222,\"#7201a8\"],[0.3333333333333333,\"#9c179e\"],[0.4444444444444444,\"#bd3786\"],[0.5555555555555556,\"#d8576b\"],[0.6666666666666666,\"#ed7953\"],[0.7777777777777778,\"#fb9f3a\"],[0.8888888888888888,\"#fdca26\"],[1.0,\"#f0f921\"]],\"type\":\"contour\"}],\"heatmapgl\":[{\"colorbar\":{\"outlinewidth\":0,\"ticks\":\"\"},\"colorscale\":[[0.0,\"#0d0887\"],[0.1111111111111111,\"#46039f\"],[0.2222222222222222,\"#7201a8\"],[0.3333333333333333,\"#9c179e\"],[0.4444444444444444,\"#bd3786\"],[0.5555555555555556,\"#d8576b\"],[0.6666666666666666,\"#ed7953\"],[0.7777777777777778,\"#fb9f3a\"],[0.8888888888888888,\"#fdca26\"],[1.0,\"#f0f921\"]],\"type\":\"heatmapgl\"}],\"heatmap\":[{\"colorbar\":{\"outlinewidth\":0,\"ticks\":\"\"},\"colorscale\":[[0.0,\"#0d0887\"],[0.1111111111111111,\"#46039f\"],[0.2222222222222222,\"#7201a8\"],[0.3333333333333333,\"#9c179e\"],[0.4444444444444444,\"#bd3786\"],[0.5555555555555556,\"#d8576b\"],[0.6666666666666666,\"#ed7953\"],[0.7777777777777778,\"#fb9f3a\"],[0.8888888888888888,\"#fdca26\"],[1.0,\"#f0f921\"]],\"type\":\"heatmap\"}],\"histogram2dcontour\":[{\"colorbar\":{\"outlinewidth\":0,\"ticks\":\"\"},\"colorscale\":[[0.0,\"#0d0887\"],[0.1111111111111111,\"#46039f\"],[0.2222222222222222,\"#7201a8\"],[0.3333333333333333,\"#9c179e\"],[0.4444444444444444,\"#bd3786\"],[0.5555555555555556,\"#d8576b\"],[0.6666666666666666,\"#ed7953\"],[0.7777777777777778,\"#fb9f3a\"],[0.8888888888888888,\"#fdca26\"],[1.0,\"#f0f921\"]],\"type\":\"histogram2dcontour\"}],\"histogram2d\":[{\"colorbar\":{\"outlinewidth\":0,\"ticks\":\"\"},\"colorscale\":[[0.0,\"#0d0887\"],[0.1111111111111111,\"#46039f\"],[0.2222222222222222,\"#7201a8\"],[0.3333333333333333,\"#9c179e\"],[0.4444444444444444,\"#bd3786\"],[0.5555555555555556,\"#d8576b\"],[0.6666666666666666,\"#ed7953\"],[0.7777777777777778,\"#fb9f3a\"],[0.8888888888888888,\"#fdca26\"],[1.0,\"#f0f921\"]],\"type\":\"histogram2d\"}],\"histogram\":[{\"marker\":{\"pattern\":{\"fillmode\":\"overlay\",\"size\":10,\"solidity\":0.2}},\"type\":\"histogram\"}],\"mesh3d\":[{\"colorbar\":{\"outlinewidth\":0,\"ticks\":\"\"},\"type\":\"mesh3d\"}],\"parcoords\":[{\"line\":{\"colorbar\":{\"outlinewidth\":0,\"ticks\":\"\"}},\"type\":\"parcoords\"}],\"pie\":[{\"automargin\":true,\"type\":\"pie\"}],\"scatter3d\":[{\"line\":{\"colorbar\":{\"outlinewidth\":0,\"ticks\":\"\"}},\"marker\":{\"colorbar\":{\"outlinewidth\":0,\"ticks\":\"\"}},\"type\":\"scatter3d\"}],\"scattercarpet\":[{\"marker\":{\"colorbar\":{\"outlinewidth\":0,\"ticks\":\"\"}},\"type\":\"scattercarpet\"}],\"scattergeo\":[{\"marker\":{\"colorbar\":{\"outlinewidth\":0,\"ticks\":\"\"}},\"type\":\"scattergeo\"}],\"scattergl\":[{\"marker\":{\"line\":{\"color\":\"#283442\"}},\"type\":\"scattergl\"}],\"scattermapbox\":[{\"marker\":{\"colorbar\":{\"outlinewidth\":0,\"ticks\":\"\"}},\"type\":\"scattermapbox\"}],\"scatterpolargl\":[{\"marker\":{\"colorbar\":{\"outlinewidth\":0,\"ticks\":\"\"}},\"type\":\"scatterpolargl\"}],\"scatterpolar\":[{\"marker\":{\"colorbar\":{\"outlinewidth\":0,\"ticks\":\"\"}},\"type\":\"scatterpolar\"}],\"scatter\":[{\"marker\":{\"line\":{\"color\":\"#283442\"}},\"type\":\"scatter\"}],\"scatterternary\":[{\"marker\":{\"colorbar\":{\"outlinewidth\":0,\"ticks\":\"\"}},\"type\":\"scatterternary\"}],\"surface\":[{\"colorbar\":{\"outlinewidth\":0,\"ticks\":\"\"},\"colorscale\":[[0.0,\"#0d0887\"],[0.1111111111111111,\"#46039f\"],[0.2222222222222222,\"#7201a8\"],[0.3333333333333333,\"#9c179e\"],[0.4444444444444444,\"#bd3786\"],[0.5555555555555556,\"#d8576b\"],[0.6666666666666666,\"#ed7953\"],[0.7777777777777778,\"#fb9f3a\"],[0.8888888888888888,\"#fdca26\"],[1.0,\"#f0f921\"]],\"type\":\"surface\"}],\"table\":[{\"cells\":{\"fill\":{\"color\":\"#506784\"},\"line\":{\"color\":\"rgb(17,17,17)\"}},\"header\":{\"fill\":{\"color\":\"#2a3f5f\"},\"line\":{\"color\":\"rgb(17,17,17)\"}},\"type\":\"table\"}]},\"layout\":{\"annotationdefaults\":{\"arrowcolor\":\"#f2f5fa\",\"arrowhead\":0,\"arrowwidth\":1},\"autotypenumbers\":\"strict\",\"coloraxis\":{\"colorbar\":{\"outlinewidth\":0,\"ticks\":\"\"}},\"colorscale\":{\"diverging\":[[0,\"#8e0152\"],[0.1,\"#c51b7d\"],[0.2,\"#de77ae\"],[0.3,\"#f1b6da\"],[0.4,\"#fde0ef\"],[0.5,\"#f7f7f7\"],[0.6,\"#e6f5d0\"],[0.7,\"#b8e186\"],[0.8,\"#7fbc41\"],[0.9,\"#4d9221\"],[1,\"#276419\"]],\"sequential\":[[0.0,\"#0d0887\"],[0.1111111111111111,\"#46039f\"],[0.2222222222222222,\"#7201a8\"],[0.3333333333333333,\"#9c179e\"],[0.4444444444444444,\"#bd3786\"],[0.5555555555555556,\"#d8576b\"],[0.6666666666666666,\"#ed7953\"],[0.7777777777777778,\"#fb9f3a\"],[0.8888888888888888,\"#fdca26\"],[1.0,\"#f0f921\"]],\"sequentialminus\":[[0.0,\"#0d0887\"],[0.1111111111111111,\"#46039f\"],[0.2222222222222222,\"#7201a8\"],[0.3333333333333333,\"#9c179e\"],[0.4444444444444444,\"#bd3786\"],[0.5555555555555556,\"#d8576b\"],[0.6666666666666666,\"#ed7953\"],[0.7777777777777778,\"#fb9f3a\"],[0.8888888888888888,\"#fdca26\"],[1.0,\"#f0f921\"]]},\"colorway\":[\"#636efa\",\"#EF553B\",\"#00cc96\",\"#ab63fa\",\"#FFA15A\",\"#19d3f3\",\"#FF6692\",\"#B6E880\",\"#FF97FF\",\"#FECB52\"],\"font\":{\"color\":\"#f2f5fa\"},\"geo\":{\"bgcolor\":\"rgb(17,17,17)\",\"lakecolor\":\"rgb(17,17,17)\",\"landcolor\":\"rgb(17,17,17)\",\"showlakes\":true,\"showland\":true,\"subunitcolor\":\"#506784\"},\"hoverlabel\":{\"align\":\"left\"},\"hovermode\":\"closest\",\"mapbox\":{\"style\":\"dark\"},\"paper_bgcolor\":\"rgb(17,17,17)\",\"plot_bgcolor\":\"rgb(17,17,17)\",\"polar\":{\"angularaxis\":{\"gridcolor\":\"#506784\",\"linecolor\":\"#506784\",\"ticks\":\"\"},\"bgcolor\":\"rgb(17,17,17)\",\"radialaxis\":{\"gridcolor\":\"#506784\",\"linecolor\":\"#506784\",\"ticks\":\"\"}},\"scene\":{\"xaxis\":{\"backgroundcolor\":\"rgb(17,17,17)\",\"gridcolor\":\"#506784\",\"gridwidth\":2,\"linecolor\":\"#506784\",\"showbackground\":true,\"ticks\":\"\",\"zerolinecolor\":\"#C8D4E3\"},\"yaxis\":{\"backgroundcolor\":\"rgb(17,17,17)\",\"gridcolor\":\"#506784\",\"gridwidth\":2,\"linecolor\":\"#506784\",\"showbackground\":true,\"ticks\":\"\",\"zerolinecolor\":\"#C8D4E3\"},\"zaxis\":{\"backgroundcolor\":\"rgb(17,17,17)\",\"gridcolor\":\"#506784\",\"gridwidth\":2,\"linecolor\":\"#506784\",\"showbackground\":true,\"ticks\":\"\",\"zerolinecolor\":\"#C8D4E3\"}},\"shapedefaults\":{\"line\":{\"color\":\"#f2f5fa\"}},\"sliderdefaults\":{\"bgcolor\":\"#C8D4E3\",\"bordercolor\":\"rgb(17,17,17)\",\"borderwidth\":1,\"tickwidth\":0},\"ternary\":{\"aaxis\":{\"gridcolor\":\"#506784\",\"linecolor\":\"#506784\",\"ticks\":\"\"},\"baxis\":{\"gridcolor\":\"#506784\",\"linecolor\":\"#506784\",\"ticks\":\"\"},\"bgcolor\":\"rgb(17,17,17)\",\"caxis\":{\"gridcolor\":\"#506784\",\"linecolor\":\"#506784\",\"ticks\":\"\"}},\"title\":{\"x\":0.05},\"updatemenudefaults\":{\"bgcolor\":\"#506784\",\"borderwidth\":0},\"xaxis\":{\"automargin\":true,\"gridcolor\":\"#283442\",\"linecolor\":\"#506784\",\"ticks\":\"\",\"title\":{\"standoff\":15},\"zerolinecolor\":\"#283442\",\"zerolinewidth\":2},\"yaxis\":{\"automargin\":true,\"gridcolor\":\"#283442\",\"linecolor\":\"#506784\",\"ticks\":\"\",\"title\":{\"standoff\":15},\"zerolinecolor\":\"#283442\",\"zerolinewidth\":2}}},\"title\":{\"text\":\"Top rated movies\",\"x\":0.5},\"xaxis\":{\"title\":{\"text\":\"Movie Name\"}},\"yaxis\":{\"showgrid\":false,\"title\":{\"text\":\"Rating\"}}},                        {\"responsive\": true}                    ).then(function(){\n",
       "                            \n",
       "var gd = document.getElementById('6b10cc33-d37f-4dfe-959a-f0209f62cb0d');\n",
       "var x = new MutationObserver(function (mutations, observer) {{\n",
       "        var display = window.getComputedStyle(gd).display;\n",
       "        if (!display || display === 'none') {{\n",
       "            console.log([gd, 'removed!']);\n",
       "            Plotly.purge(gd);\n",
       "            observer.disconnect();\n",
       "        }}\n",
       "}});\n",
       "\n",
       "// Listen for the removal of the full notebook cells\n",
       "var notebookContainer = gd.closest('#notebook-container');\n",
       "if (notebookContainer) {{\n",
       "    x.observe(notebookContainer, {childList: true});\n",
       "}}\n",
       "\n",
       "// Listen for the clearing of the current output cell\n",
       "var outputEl = gd.closest('.output');\n",
       "if (outputEl) {{\n",
       "    x.observe(outputEl, {childList: true});\n",
       "}}\n",
       "\n",
       "                        })                };                });            </script>        </div>"
      ]
     },
     "metadata": {},
     "output_type": "display_data"
    }
   ],
   "source": [
    "vote = movies.sort_values(by='vote_average',ascending=False)[['title','vote_average','director']].head(10)\n",
    "\n",
    "data = go.Bar(x= vote['title'],y=vote['vote_average'],orientation='v',marker={'color':'steelblue'},\n",
    "             opacity=0.6,hovertext=vote['director'],\n",
    "             hovertemplate=\" Rating : %{y}\" \" <br>Movie Name : %{x}\" \"<br>  Director : %{hovertext}</b><extra></extra>\")\n",
    "\n",
    "layout = go.Layout(title='Top rated movies',title_x=0.5,\n",
    "               yaxis={'title':'Rating'},\n",
    "               xaxis={'title':'Movie Name'})\n",
    "\n",
    "\n",
    "fig = go.Figure(data=data,layout=layout)\n",
    "fig.update_yaxes(showgrid=False)\n",
    "fig.update_layout(template = 'plotly_dark')\n",
    "\n",
    "iplot(fig)"
   ]
  },
  {
   "cell_type": "markdown",
   "id": "71a257d2",
   "metadata": {},
   "source": [
    "### 1. Almost all top movies have rating on the range of 8.7-8.5 .\n",
    "### 2. \"Daniel Scheinert's Everything Everywhere All at once\" is most favourite with rating of 8.8"
   ]
  },
  {
   "cell_type": "markdown",
   "id": "a990be26",
   "metadata": {},
   "source": [
    "## 4.7 Movies: Director"
   ]
  },
  {
   "cell_type": "code",
   "execution_count": 65,
   "id": "863472b0",
   "metadata": {},
   "outputs": [
    {
     "data": {
      "application/vnd.plotly.v1+json": {
       "config": {
        "linkText": "Export to plot.ly",
        "plotlyServerURL": "https://plot.ly",
        "showLink": false
       },
       "data": [
        {
         "marker": {
          "color": "steelblue"
         },
         "opacity": 0.6,
         "orientation": "v",
         "type": "bar",
         "x": [
          "James Wan",
          "Tim Burton",
          "Ridley Scott",
          "David Yates",
          "Zack Snyder",
          "Michael Bay",
          "Peter Jackson",
          "James Cameron",
          "Steven Spielberg",
          "Antoine Fuqua"
         ],
         "y": [
          10,
          10,
          9,
          9,
          8,
          8,
          8,
          8,
          7,
          7
         ]
        }
       ],
       "layout": {
        "template": {
         "data": {
          "bar": [
           {
            "error_x": {
             "color": "#f2f5fa"
            },
            "error_y": {
             "color": "#f2f5fa"
            },
            "marker": {
             "line": {
              "color": "rgb(17,17,17)",
              "width": 0.5
             },
             "pattern": {
              "fillmode": "overlay",
              "size": 10,
              "solidity": 0.2
             }
            },
            "type": "bar"
           }
          ],
          "barpolar": [
           {
            "marker": {
             "line": {
              "color": "rgb(17,17,17)",
              "width": 0.5
             },
             "pattern": {
              "fillmode": "overlay",
              "size": 10,
              "solidity": 0.2
             }
            },
            "type": "barpolar"
           }
          ],
          "carpet": [
           {
            "aaxis": {
             "endlinecolor": "#A2B1C6",
             "gridcolor": "#506784",
             "linecolor": "#506784",
             "minorgridcolor": "#506784",
             "startlinecolor": "#A2B1C6"
            },
            "baxis": {
             "endlinecolor": "#A2B1C6",
             "gridcolor": "#506784",
             "linecolor": "#506784",
             "minorgridcolor": "#506784",
             "startlinecolor": "#A2B1C6"
            },
            "type": "carpet"
           }
          ],
          "choropleth": [
           {
            "colorbar": {
             "outlinewidth": 0,
             "ticks": ""
            },
            "type": "choropleth"
           }
          ],
          "contour": [
           {
            "colorbar": {
             "outlinewidth": 0,
             "ticks": ""
            },
            "colorscale": [
             [
              0,
              "#0d0887"
             ],
             [
              0.1111111111111111,
              "#46039f"
             ],
             [
              0.2222222222222222,
              "#7201a8"
             ],
             [
              0.3333333333333333,
              "#9c179e"
             ],
             [
              0.4444444444444444,
              "#bd3786"
             ],
             [
              0.5555555555555556,
              "#d8576b"
             ],
             [
              0.6666666666666666,
              "#ed7953"
             ],
             [
              0.7777777777777778,
              "#fb9f3a"
             ],
             [
              0.8888888888888888,
              "#fdca26"
             ],
             [
              1,
              "#f0f921"
             ]
            ],
            "type": "contour"
           }
          ],
          "contourcarpet": [
           {
            "colorbar": {
             "outlinewidth": 0,
             "ticks": ""
            },
            "type": "contourcarpet"
           }
          ],
          "heatmap": [
           {
            "colorbar": {
             "outlinewidth": 0,
             "ticks": ""
            },
            "colorscale": [
             [
              0,
              "#0d0887"
             ],
             [
              0.1111111111111111,
              "#46039f"
             ],
             [
              0.2222222222222222,
              "#7201a8"
             ],
             [
              0.3333333333333333,
              "#9c179e"
             ],
             [
              0.4444444444444444,
              "#bd3786"
             ],
             [
              0.5555555555555556,
              "#d8576b"
             ],
             [
              0.6666666666666666,
              "#ed7953"
             ],
             [
              0.7777777777777778,
              "#fb9f3a"
             ],
             [
              0.8888888888888888,
              "#fdca26"
             ],
             [
              1,
              "#f0f921"
             ]
            ],
            "type": "heatmap"
           }
          ],
          "heatmapgl": [
           {
            "colorbar": {
             "outlinewidth": 0,
             "ticks": ""
            },
            "colorscale": [
             [
              0,
              "#0d0887"
             ],
             [
              0.1111111111111111,
              "#46039f"
             ],
             [
              0.2222222222222222,
              "#7201a8"
             ],
             [
              0.3333333333333333,
              "#9c179e"
             ],
             [
              0.4444444444444444,
              "#bd3786"
             ],
             [
              0.5555555555555556,
              "#d8576b"
             ],
             [
              0.6666666666666666,
              "#ed7953"
             ],
             [
              0.7777777777777778,
              "#fb9f3a"
             ],
             [
              0.8888888888888888,
              "#fdca26"
             ],
             [
              1,
              "#f0f921"
             ]
            ],
            "type": "heatmapgl"
           }
          ],
          "histogram": [
           {
            "marker": {
             "pattern": {
              "fillmode": "overlay",
              "size": 10,
              "solidity": 0.2
             }
            },
            "type": "histogram"
           }
          ],
          "histogram2d": [
           {
            "colorbar": {
             "outlinewidth": 0,
             "ticks": ""
            },
            "colorscale": [
             [
              0,
              "#0d0887"
             ],
             [
              0.1111111111111111,
              "#46039f"
             ],
             [
              0.2222222222222222,
              "#7201a8"
             ],
             [
              0.3333333333333333,
              "#9c179e"
             ],
             [
              0.4444444444444444,
              "#bd3786"
             ],
             [
              0.5555555555555556,
              "#d8576b"
             ],
             [
              0.6666666666666666,
              "#ed7953"
             ],
             [
              0.7777777777777778,
              "#fb9f3a"
             ],
             [
              0.8888888888888888,
              "#fdca26"
             ],
             [
              1,
              "#f0f921"
             ]
            ],
            "type": "histogram2d"
           }
          ],
          "histogram2dcontour": [
           {
            "colorbar": {
             "outlinewidth": 0,
             "ticks": ""
            },
            "colorscale": [
             [
              0,
              "#0d0887"
             ],
             [
              0.1111111111111111,
              "#46039f"
             ],
             [
              0.2222222222222222,
              "#7201a8"
             ],
             [
              0.3333333333333333,
              "#9c179e"
             ],
             [
              0.4444444444444444,
              "#bd3786"
             ],
             [
              0.5555555555555556,
              "#d8576b"
             ],
             [
              0.6666666666666666,
              "#ed7953"
             ],
             [
              0.7777777777777778,
              "#fb9f3a"
             ],
             [
              0.8888888888888888,
              "#fdca26"
             ],
             [
              1,
              "#f0f921"
             ]
            ],
            "type": "histogram2dcontour"
           }
          ],
          "mesh3d": [
           {
            "colorbar": {
             "outlinewidth": 0,
             "ticks": ""
            },
            "type": "mesh3d"
           }
          ],
          "parcoords": [
           {
            "line": {
             "colorbar": {
              "outlinewidth": 0,
              "ticks": ""
             }
            },
            "type": "parcoords"
           }
          ],
          "pie": [
           {
            "automargin": true,
            "type": "pie"
           }
          ],
          "scatter": [
           {
            "marker": {
             "line": {
              "color": "#283442"
             }
            },
            "type": "scatter"
           }
          ],
          "scatter3d": [
           {
            "line": {
             "colorbar": {
              "outlinewidth": 0,
              "ticks": ""
             }
            },
            "marker": {
             "colorbar": {
              "outlinewidth": 0,
              "ticks": ""
             }
            },
            "type": "scatter3d"
           }
          ],
          "scattercarpet": [
           {
            "marker": {
             "colorbar": {
              "outlinewidth": 0,
              "ticks": ""
             }
            },
            "type": "scattercarpet"
           }
          ],
          "scattergeo": [
           {
            "marker": {
             "colorbar": {
              "outlinewidth": 0,
              "ticks": ""
             }
            },
            "type": "scattergeo"
           }
          ],
          "scattergl": [
           {
            "marker": {
             "line": {
              "color": "#283442"
             }
            },
            "type": "scattergl"
           }
          ],
          "scattermapbox": [
           {
            "marker": {
             "colorbar": {
              "outlinewidth": 0,
              "ticks": ""
             }
            },
            "type": "scattermapbox"
           }
          ],
          "scatterpolar": [
           {
            "marker": {
             "colorbar": {
              "outlinewidth": 0,
              "ticks": ""
             }
            },
            "type": "scatterpolar"
           }
          ],
          "scatterpolargl": [
           {
            "marker": {
             "colorbar": {
              "outlinewidth": 0,
              "ticks": ""
             }
            },
            "type": "scatterpolargl"
           }
          ],
          "scatterternary": [
           {
            "marker": {
             "colorbar": {
              "outlinewidth": 0,
              "ticks": ""
             }
            },
            "type": "scatterternary"
           }
          ],
          "surface": [
           {
            "colorbar": {
             "outlinewidth": 0,
             "ticks": ""
            },
            "colorscale": [
             [
              0,
              "#0d0887"
             ],
             [
              0.1111111111111111,
              "#46039f"
             ],
             [
              0.2222222222222222,
              "#7201a8"
             ],
             [
              0.3333333333333333,
              "#9c179e"
             ],
             [
              0.4444444444444444,
              "#bd3786"
             ],
             [
              0.5555555555555556,
              "#d8576b"
             ],
             [
              0.6666666666666666,
              "#ed7953"
             ],
             [
              0.7777777777777778,
              "#fb9f3a"
             ],
             [
              0.8888888888888888,
              "#fdca26"
             ],
             [
              1,
              "#f0f921"
             ]
            ],
            "type": "surface"
           }
          ],
          "table": [
           {
            "cells": {
             "fill": {
              "color": "#506784"
             },
             "line": {
              "color": "rgb(17,17,17)"
             }
            },
            "header": {
             "fill": {
              "color": "#2a3f5f"
             },
             "line": {
              "color": "rgb(17,17,17)"
             }
            },
            "type": "table"
           }
          ]
         },
         "layout": {
          "annotationdefaults": {
           "arrowcolor": "#f2f5fa",
           "arrowhead": 0,
           "arrowwidth": 1
          },
          "autotypenumbers": "strict",
          "coloraxis": {
           "colorbar": {
            "outlinewidth": 0,
            "ticks": ""
           }
          },
          "colorscale": {
           "diverging": [
            [
             0,
             "#8e0152"
            ],
            [
             0.1,
             "#c51b7d"
            ],
            [
             0.2,
             "#de77ae"
            ],
            [
             0.3,
             "#f1b6da"
            ],
            [
             0.4,
             "#fde0ef"
            ],
            [
             0.5,
             "#f7f7f7"
            ],
            [
             0.6,
             "#e6f5d0"
            ],
            [
             0.7,
             "#b8e186"
            ],
            [
             0.8,
             "#7fbc41"
            ],
            [
             0.9,
             "#4d9221"
            ],
            [
             1,
             "#276419"
            ]
           ],
           "sequential": [
            [
             0,
             "#0d0887"
            ],
            [
             0.1111111111111111,
             "#46039f"
            ],
            [
             0.2222222222222222,
             "#7201a8"
            ],
            [
             0.3333333333333333,
             "#9c179e"
            ],
            [
             0.4444444444444444,
             "#bd3786"
            ],
            [
             0.5555555555555556,
             "#d8576b"
            ],
            [
             0.6666666666666666,
             "#ed7953"
            ],
            [
             0.7777777777777778,
             "#fb9f3a"
            ],
            [
             0.8888888888888888,
             "#fdca26"
            ],
            [
             1,
             "#f0f921"
            ]
           ],
           "sequentialminus": [
            [
             0,
             "#0d0887"
            ],
            [
             0.1111111111111111,
             "#46039f"
            ],
            [
             0.2222222222222222,
             "#7201a8"
            ],
            [
             0.3333333333333333,
             "#9c179e"
            ],
            [
             0.4444444444444444,
             "#bd3786"
            ],
            [
             0.5555555555555556,
             "#d8576b"
            ],
            [
             0.6666666666666666,
             "#ed7953"
            ],
            [
             0.7777777777777778,
             "#fb9f3a"
            ],
            [
             0.8888888888888888,
             "#fdca26"
            ],
            [
             1,
             "#f0f921"
            ]
           ]
          },
          "colorway": [
           "#636efa",
           "#EF553B",
           "#00cc96",
           "#ab63fa",
           "#FFA15A",
           "#19d3f3",
           "#FF6692",
           "#B6E880",
           "#FF97FF",
           "#FECB52"
          ],
          "font": {
           "color": "#f2f5fa"
          },
          "geo": {
           "bgcolor": "rgb(17,17,17)",
           "lakecolor": "rgb(17,17,17)",
           "landcolor": "rgb(17,17,17)",
           "showlakes": true,
           "showland": true,
           "subunitcolor": "#506784"
          },
          "hoverlabel": {
           "align": "left"
          },
          "hovermode": "closest",
          "mapbox": {
           "style": "dark"
          },
          "paper_bgcolor": "rgb(17,17,17)",
          "plot_bgcolor": "rgb(17,17,17)",
          "polar": {
           "angularaxis": {
            "gridcolor": "#506784",
            "linecolor": "#506784",
            "ticks": ""
           },
           "bgcolor": "rgb(17,17,17)",
           "radialaxis": {
            "gridcolor": "#506784",
            "linecolor": "#506784",
            "ticks": ""
           }
          },
          "scene": {
           "xaxis": {
            "backgroundcolor": "rgb(17,17,17)",
            "gridcolor": "#506784",
            "gridwidth": 2,
            "linecolor": "#506784",
            "showbackground": true,
            "ticks": "",
            "zerolinecolor": "#C8D4E3"
           },
           "yaxis": {
            "backgroundcolor": "rgb(17,17,17)",
            "gridcolor": "#506784",
            "gridwidth": 2,
            "linecolor": "#506784",
            "showbackground": true,
            "ticks": "",
            "zerolinecolor": "#C8D4E3"
           },
           "zaxis": {
            "backgroundcolor": "rgb(17,17,17)",
            "gridcolor": "#506784",
            "gridwidth": 2,
            "linecolor": "#506784",
            "showbackground": true,
            "ticks": "",
            "zerolinecolor": "#C8D4E3"
           }
          },
          "shapedefaults": {
           "line": {
            "color": "#f2f5fa"
           }
          },
          "sliderdefaults": {
           "bgcolor": "#C8D4E3",
           "bordercolor": "rgb(17,17,17)",
           "borderwidth": 1,
           "tickwidth": 0
          },
          "ternary": {
           "aaxis": {
            "gridcolor": "#506784",
            "linecolor": "#506784",
            "ticks": ""
           },
           "baxis": {
            "gridcolor": "#506784",
            "linecolor": "#506784",
            "ticks": ""
           },
           "bgcolor": "rgb(17,17,17)",
           "caxis": {
            "gridcolor": "#506784",
            "linecolor": "#506784",
            "ticks": ""
           }
          },
          "title": {
           "x": 0.05
          },
          "updatemenudefaults": {
           "bgcolor": "#506784",
           "borderwidth": 0
          },
          "xaxis": {
           "automargin": true,
           "gridcolor": "#283442",
           "linecolor": "#506784",
           "ticks": "",
           "title": {
            "standoff": 15
           },
           "zerolinecolor": "#283442",
           "zerolinewidth": 2
          },
          "yaxis": {
           "automargin": true,
           "gridcolor": "#283442",
           "linecolor": "#506784",
           "ticks": "",
           "title": {
            "standoff": 15
           },
           "zerolinecolor": "#283442",
           "zerolinewidth": 2
          }
         }
        },
        "title": {
         "text": "Movies : Director",
         "x": 0.5
        },
        "xaxis": {
         "title": {
          "text": "Director name"
         }
        },
        "yaxis": {
         "showgrid": false,
         "title": {
          "text": "Count"
         }
        }
       }
      },
      "text/html": [
       "<div>                            <div id=\"d446f000-1cc9-4f05-96b4-e4c10dd21408\" class=\"plotly-graph-div\" style=\"height:525px; width:100%;\"></div>            <script type=\"text/javascript\">                require([\"plotly\"], function(Plotly) {                    window.PLOTLYENV=window.PLOTLYENV || {};                                    if (document.getElementById(\"d446f000-1cc9-4f05-96b4-e4c10dd21408\")) {                    Plotly.newPlot(                        \"d446f000-1cc9-4f05-96b4-e4c10dd21408\",                        [{\"marker\":{\"color\":\"steelblue\"},\"opacity\":0.6,\"orientation\":\"v\",\"x\":[\"James Wan\",\"Tim Burton\",\"Ridley Scott\",\"David Yates\",\"Zack Snyder\",\"Michael Bay\",\"Peter Jackson\",\"James Cameron\",\"Steven Spielberg\",\"Antoine Fuqua\"],\"y\":[10,10,9,9,8,8,8,8,7,7],\"type\":\"bar\"}],                        {\"template\":{\"data\":{\"barpolar\":[{\"marker\":{\"line\":{\"color\":\"rgb(17,17,17)\",\"width\":0.5},\"pattern\":{\"fillmode\":\"overlay\",\"size\":10,\"solidity\":0.2}},\"type\":\"barpolar\"}],\"bar\":[{\"error_x\":{\"color\":\"#f2f5fa\"},\"error_y\":{\"color\":\"#f2f5fa\"},\"marker\":{\"line\":{\"color\":\"rgb(17,17,17)\",\"width\":0.5},\"pattern\":{\"fillmode\":\"overlay\",\"size\":10,\"solidity\":0.2}},\"type\":\"bar\"}],\"carpet\":[{\"aaxis\":{\"endlinecolor\":\"#A2B1C6\",\"gridcolor\":\"#506784\",\"linecolor\":\"#506784\",\"minorgridcolor\":\"#506784\",\"startlinecolor\":\"#A2B1C6\"},\"baxis\":{\"endlinecolor\":\"#A2B1C6\",\"gridcolor\":\"#506784\",\"linecolor\":\"#506784\",\"minorgridcolor\":\"#506784\",\"startlinecolor\":\"#A2B1C6\"},\"type\":\"carpet\"}],\"choropleth\":[{\"colorbar\":{\"outlinewidth\":0,\"ticks\":\"\"},\"type\":\"choropleth\"}],\"contourcarpet\":[{\"colorbar\":{\"outlinewidth\":0,\"ticks\":\"\"},\"type\":\"contourcarpet\"}],\"contour\":[{\"colorbar\":{\"outlinewidth\":0,\"ticks\":\"\"},\"colorscale\":[[0.0,\"#0d0887\"],[0.1111111111111111,\"#46039f\"],[0.2222222222222222,\"#7201a8\"],[0.3333333333333333,\"#9c179e\"],[0.4444444444444444,\"#bd3786\"],[0.5555555555555556,\"#d8576b\"],[0.6666666666666666,\"#ed7953\"],[0.7777777777777778,\"#fb9f3a\"],[0.8888888888888888,\"#fdca26\"],[1.0,\"#f0f921\"]],\"type\":\"contour\"}],\"heatmapgl\":[{\"colorbar\":{\"outlinewidth\":0,\"ticks\":\"\"},\"colorscale\":[[0.0,\"#0d0887\"],[0.1111111111111111,\"#46039f\"],[0.2222222222222222,\"#7201a8\"],[0.3333333333333333,\"#9c179e\"],[0.4444444444444444,\"#bd3786\"],[0.5555555555555556,\"#d8576b\"],[0.6666666666666666,\"#ed7953\"],[0.7777777777777778,\"#fb9f3a\"],[0.8888888888888888,\"#fdca26\"],[1.0,\"#f0f921\"]],\"type\":\"heatmapgl\"}],\"heatmap\":[{\"colorbar\":{\"outlinewidth\":0,\"ticks\":\"\"},\"colorscale\":[[0.0,\"#0d0887\"],[0.1111111111111111,\"#46039f\"],[0.2222222222222222,\"#7201a8\"],[0.3333333333333333,\"#9c179e\"],[0.4444444444444444,\"#bd3786\"],[0.5555555555555556,\"#d8576b\"],[0.6666666666666666,\"#ed7953\"],[0.7777777777777778,\"#fb9f3a\"],[0.8888888888888888,\"#fdca26\"],[1.0,\"#f0f921\"]],\"type\":\"heatmap\"}],\"histogram2dcontour\":[{\"colorbar\":{\"outlinewidth\":0,\"ticks\":\"\"},\"colorscale\":[[0.0,\"#0d0887\"],[0.1111111111111111,\"#46039f\"],[0.2222222222222222,\"#7201a8\"],[0.3333333333333333,\"#9c179e\"],[0.4444444444444444,\"#bd3786\"],[0.5555555555555556,\"#d8576b\"],[0.6666666666666666,\"#ed7953\"],[0.7777777777777778,\"#fb9f3a\"],[0.8888888888888888,\"#fdca26\"],[1.0,\"#f0f921\"]],\"type\":\"histogram2dcontour\"}],\"histogram2d\":[{\"colorbar\":{\"outlinewidth\":0,\"ticks\":\"\"},\"colorscale\":[[0.0,\"#0d0887\"],[0.1111111111111111,\"#46039f\"],[0.2222222222222222,\"#7201a8\"],[0.3333333333333333,\"#9c179e\"],[0.4444444444444444,\"#bd3786\"],[0.5555555555555556,\"#d8576b\"],[0.6666666666666666,\"#ed7953\"],[0.7777777777777778,\"#fb9f3a\"],[0.8888888888888888,\"#fdca26\"],[1.0,\"#f0f921\"]],\"type\":\"histogram2d\"}],\"histogram\":[{\"marker\":{\"pattern\":{\"fillmode\":\"overlay\",\"size\":10,\"solidity\":0.2}},\"type\":\"histogram\"}],\"mesh3d\":[{\"colorbar\":{\"outlinewidth\":0,\"ticks\":\"\"},\"type\":\"mesh3d\"}],\"parcoords\":[{\"line\":{\"colorbar\":{\"outlinewidth\":0,\"ticks\":\"\"}},\"type\":\"parcoords\"}],\"pie\":[{\"automargin\":true,\"type\":\"pie\"}],\"scatter3d\":[{\"line\":{\"colorbar\":{\"outlinewidth\":0,\"ticks\":\"\"}},\"marker\":{\"colorbar\":{\"outlinewidth\":0,\"ticks\":\"\"}},\"type\":\"scatter3d\"}],\"scattercarpet\":[{\"marker\":{\"colorbar\":{\"outlinewidth\":0,\"ticks\":\"\"}},\"type\":\"scattercarpet\"}],\"scattergeo\":[{\"marker\":{\"colorbar\":{\"outlinewidth\":0,\"ticks\":\"\"}},\"type\":\"scattergeo\"}],\"scattergl\":[{\"marker\":{\"line\":{\"color\":\"#283442\"}},\"type\":\"scattergl\"}],\"scattermapbox\":[{\"marker\":{\"colorbar\":{\"outlinewidth\":0,\"ticks\":\"\"}},\"type\":\"scattermapbox\"}],\"scatterpolargl\":[{\"marker\":{\"colorbar\":{\"outlinewidth\":0,\"ticks\":\"\"}},\"type\":\"scatterpolargl\"}],\"scatterpolar\":[{\"marker\":{\"colorbar\":{\"outlinewidth\":0,\"ticks\":\"\"}},\"type\":\"scatterpolar\"}],\"scatter\":[{\"marker\":{\"line\":{\"color\":\"#283442\"}},\"type\":\"scatter\"}],\"scatterternary\":[{\"marker\":{\"colorbar\":{\"outlinewidth\":0,\"ticks\":\"\"}},\"type\":\"scatterternary\"}],\"surface\":[{\"colorbar\":{\"outlinewidth\":0,\"ticks\":\"\"},\"colorscale\":[[0.0,\"#0d0887\"],[0.1111111111111111,\"#46039f\"],[0.2222222222222222,\"#7201a8\"],[0.3333333333333333,\"#9c179e\"],[0.4444444444444444,\"#bd3786\"],[0.5555555555555556,\"#d8576b\"],[0.6666666666666666,\"#ed7953\"],[0.7777777777777778,\"#fb9f3a\"],[0.8888888888888888,\"#fdca26\"],[1.0,\"#f0f921\"]],\"type\":\"surface\"}],\"table\":[{\"cells\":{\"fill\":{\"color\":\"#506784\"},\"line\":{\"color\":\"rgb(17,17,17)\"}},\"header\":{\"fill\":{\"color\":\"#2a3f5f\"},\"line\":{\"color\":\"rgb(17,17,17)\"}},\"type\":\"table\"}]},\"layout\":{\"annotationdefaults\":{\"arrowcolor\":\"#f2f5fa\",\"arrowhead\":0,\"arrowwidth\":1},\"autotypenumbers\":\"strict\",\"coloraxis\":{\"colorbar\":{\"outlinewidth\":0,\"ticks\":\"\"}},\"colorscale\":{\"diverging\":[[0,\"#8e0152\"],[0.1,\"#c51b7d\"],[0.2,\"#de77ae\"],[0.3,\"#f1b6da\"],[0.4,\"#fde0ef\"],[0.5,\"#f7f7f7\"],[0.6,\"#e6f5d0\"],[0.7,\"#b8e186\"],[0.8,\"#7fbc41\"],[0.9,\"#4d9221\"],[1,\"#276419\"]],\"sequential\":[[0.0,\"#0d0887\"],[0.1111111111111111,\"#46039f\"],[0.2222222222222222,\"#7201a8\"],[0.3333333333333333,\"#9c179e\"],[0.4444444444444444,\"#bd3786\"],[0.5555555555555556,\"#d8576b\"],[0.6666666666666666,\"#ed7953\"],[0.7777777777777778,\"#fb9f3a\"],[0.8888888888888888,\"#fdca26\"],[1.0,\"#f0f921\"]],\"sequentialminus\":[[0.0,\"#0d0887\"],[0.1111111111111111,\"#46039f\"],[0.2222222222222222,\"#7201a8\"],[0.3333333333333333,\"#9c179e\"],[0.4444444444444444,\"#bd3786\"],[0.5555555555555556,\"#d8576b\"],[0.6666666666666666,\"#ed7953\"],[0.7777777777777778,\"#fb9f3a\"],[0.8888888888888888,\"#fdca26\"],[1.0,\"#f0f921\"]]},\"colorway\":[\"#636efa\",\"#EF553B\",\"#00cc96\",\"#ab63fa\",\"#FFA15A\",\"#19d3f3\",\"#FF6692\",\"#B6E880\",\"#FF97FF\",\"#FECB52\"],\"font\":{\"color\":\"#f2f5fa\"},\"geo\":{\"bgcolor\":\"rgb(17,17,17)\",\"lakecolor\":\"rgb(17,17,17)\",\"landcolor\":\"rgb(17,17,17)\",\"showlakes\":true,\"showland\":true,\"subunitcolor\":\"#506784\"},\"hoverlabel\":{\"align\":\"left\"},\"hovermode\":\"closest\",\"mapbox\":{\"style\":\"dark\"},\"paper_bgcolor\":\"rgb(17,17,17)\",\"plot_bgcolor\":\"rgb(17,17,17)\",\"polar\":{\"angularaxis\":{\"gridcolor\":\"#506784\",\"linecolor\":\"#506784\",\"ticks\":\"\"},\"bgcolor\":\"rgb(17,17,17)\",\"radialaxis\":{\"gridcolor\":\"#506784\",\"linecolor\":\"#506784\",\"ticks\":\"\"}},\"scene\":{\"xaxis\":{\"backgroundcolor\":\"rgb(17,17,17)\",\"gridcolor\":\"#506784\",\"gridwidth\":2,\"linecolor\":\"#506784\",\"showbackground\":true,\"ticks\":\"\",\"zerolinecolor\":\"#C8D4E3\"},\"yaxis\":{\"backgroundcolor\":\"rgb(17,17,17)\",\"gridcolor\":\"#506784\",\"gridwidth\":2,\"linecolor\":\"#506784\",\"showbackground\":true,\"ticks\":\"\",\"zerolinecolor\":\"#C8D4E3\"},\"zaxis\":{\"backgroundcolor\":\"rgb(17,17,17)\",\"gridcolor\":\"#506784\",\"gridwidth\":2,\"linecolor\":\"#506784\",\"showbackground\":true,\"ticks\":\"\",\"zerolinecolor\":\"#C8D4E3\"}},\"shapedefaults\":{\"line\":{\"color\":\"#f2f5fa\"}},\"sliderdefaults\":{\"bgcolor\":\"#C8D4E3\",\"bordercolor\":\"rgb(17,17,17)\",\"borderwidth\":1,\"tickwidth\":0},\"ternary\":{\"aaxis\":{\"gridcolor\":\"#506784\",\"linecolor\":\"#506784\",\"ticks\":\"\"},\"baxis\":{\"gridcolor\":\"#506784\",\"linecolor\":\"#506784\",\"ticks\":\"\"},\"bgcolor\":\"rgb(17,17,17)\",\"caxis\":{\"gridcolor\":\"#506784\",\"linecolor\":\"#506784\",\"ticks\":\"\"}},\"title\":{\"x\":0.05},\"updatemenudefaults\":{\"bgcolor\":\"#506784\",\"borderwidth\":0},\"xaxis\":{\"automargin\":true,\"gridcolor\":\"#283442\",\"linecolor\":\"#506784\",\"ticks\":\"\",\"title\":{\"standoff\":15},\"zerolinecolor\":\"#283442\",\"zerolinewidth\":2},\"yaxis\":{\"automargin\":true,\"gridcolor\":\"#283442\",\"linecolor\":\"#506784\",\"ticks\":\"\",\"title\":{\"standoff\":15},\"zerolinecolor\":\"#283442\",\"zerolinewidth\":2}}},\"title\":{\"text\":\"Movies : Director\",\"x\":0.5},\"xaxis\":{\"title\":{\"text\":\"Director name\"}},\"yaxis\":{\"showgrid\":false,\"title\":{\"text\":\"Count\"}}},                        {\"responsive\": true}                    ).then(function(){\n",
       "                            \n",
       "var gd = document.getElementById('d446f000-1cc9-4f05-96b4-e4c10dd21408');\n",
       "var x = new MutationObserver(function (mutations, observer) {{\n",
       "        var display = window.getComputedStyle(gd).display;\n",
       "        if (!display || display === 'none') {{\n",
       "            console.log([gd, 'removed!']);\n",
       "            Plotly.purge(gd);\n",
       "            observer.disconnect();\n",
       "        }}\n",
       "}});\n",
       "\n",
       "// Listen for the removal of the full notebook cells\n",
       "var notebookContainer = gd.closest('#notebook-container');\n",
       "if (notebookContainer) {{\n",
       "    x.observe(notebookContainer, {childList: true});\n",
       "}}\n",
       "\n",
       "// Listen for the clearing of the current output cell\n",
       "var outputEl = gd.closest('.output');\n",
       "if (outputEl) {{\n",
       "    x.observe(outputEl, {childList: true});\n",
       "}}\n",
       "\n",
       "                        })                };                });            </script>        </div>"
      ]
     },
     "metadata": {},
     "output_type": "display_data"
    }
   ],
   "source": [
    "director = movies.director.value_counts().reset_index().head(10)\n",
    "director.columns=['director','count']\n",
    "director = director.sort_values(by='count',ascending=False)\n",
    "\n",
    "data = go.Bar(x= director['director'],y=director['count'],orientation='v',marker={'color':'steelblue'},\n",
    "             opacity=0.6)\n",
    "\n",
    "layout = go.Layout(title='Movies : Director',title_x=0.5,\n",
    "               xaxis={'title':'Director name'},\n",
    "               yaxis={'title':'Count'})\n",
    "\n",
    "\n",
    "fig = go.Figure(data=data,layout=layout)\n",
    "fig.update_yaxes(showgrid=False)\n",
    "fig.update_layout(template = 'plotly_dark')\n",
    "\n",
    "iplot(fig)"
   ]
  },
  {
   "cell_type": "markdown",
   "id": "ef2445eb",
   "metadata": {},
   "source": [
    "## 4.8 Movies: Cast"
   ]
  },
  {
   "cell_type": "code",
   "execution_count": 66,
   "id": "18e18e20",
   "metadata": {},
   "outputs": [
    {
     "data": {
      "application/vnd.plotly.v1+json": {
       "config": {
        "linkText": "Export to plot.ly",
        "plotlyServerURL": "https://plot.ly",
        "showLink": false
       },
       "data": [
        {
         "marker": {
          "color": "steelblue"
         },
         "opacity": 0.6,
         "orientation": "v",
         "type": "bar",
         "x": [
          "Masako Nozawa",
          "Will Smith",
          "Jason Statham",
          "Johnny Depp",
          "Ryan Reynolds",
          "Sylvester Stallone",
          "Dwayne Johnson",
          "Mark Wahlberg",
          "Kelly Sheridan",
          "Liam Neeson"
         ],
         "y": [
          22,
          16,
          16,
          16,
          15,
          14,
          14,
          14,
          14,
          13
         ]
        }
       ],
       "layout": {
        "template": {
         "data": {
          "bar": [
           {
            "error_x": {
             "color": "#f2f5fa"
            },
            "error_y": {
             "color": "#f2f5fa"
            },
            "marker": {
             "line": {
              "color": "rgb(17,17,17)",
              "width": 0.5
             },
             "pattern": {
              "fillmode": "overlay",
              "size": 10,
              "solidity": 0.2
             }
            },
            "type": "bar"
           }
          ],
          "barpolar": [
           {
            "marker": {
             "line": {
              "color": "rgb(17,17,17)",
              "width": 0.5
             },
             "pattern": {
              "fillmode": "overlay",
              "size": 10,
              "solidity": 0.2
             }
            },
            "type": "barpolar"
           }
          ],
          "carpet": [
           {
            "aaxis": {
             "endlinecolor": "#A2B1C6",
             "gridcolor": "#506784",
             "linecolor": "#506784",
             "minorgridcolor": "#506784",
             "startlinecolor": "#A2B1C6"
            },
            "baxis": {
             "endlinecolor": "#A2B1C6",
             "gridcolor": "#506784",
             "linecolor": "#506784",
             "minorgridcolor": "#506784",
             "startlinecolor": "#A2B1C6"
            },
            "type": "carpet"
           }
          ],
          "choropleth": [
           {
            "colorbar": {
             "outlinewidth": 0,
             "ticks": ""
            },
            "type": "choropleth"
           }
          ],
          "contour": [
           {
            "colorbar": {
             "outlinewidth": 0,
             "ticks": ""
            },
            "colorscale": [
             [
              0,
              "#0d0887"
             ],
             [
              0.1111111111111111,
              "#46039f"
             ],
             [
              0.2222222222222222,
              "#7201a8"
             ],
             [
              0.3333333333333333,
              "#9c179e"
             ],
             [
              0.4444444444444444,
              "#bd3786"
             ],
             [
              0.5555555555555556,
              "#d8576b"
             ],
             [
              0.6666666666666666,
              "#ed7953"
             ],
             [
              0.7777777777777778,
              "#fb9f3a"
             ],
             [
              0.8888888888888888,
              "#fdca26"
             ],
             [
              1,
              "#f0f921"
             ]
            ],
            "type": "contour"
           }
          ],
          "contourcarpet": [
           {
            "colorbar": {
             "outlinewidth": 0,
             "ticks": ""
            },
            "type": "contourcarpet"
           }
          ],
          "heatmap": [
           {
            "colorbar": {
             "outlinewidth": 0,
             "ticks": ""
            },
            "colorscale": [
             [
              0,
              "#0d0887"
             ],
             [
              0.1111111111111111,
              "#46039f"
             ],
             [
              0.2222222222222222,
              "#7201a8"
             ],
             [
              0.3333333333333333,
              "#9c179e"
             ],
             [
              0.4444444444444444,
              "#bd3786"
             ],
             [
              0.5555555555555556,
              "#d8576b"
             ],
             [
              0.6666666666666666,
              "#ed7953"
             ],
             [
              0.7777777777777778,
              "#fb9f3a"
             ],
             [
              0.8888888888888888,
              "#fdca26"
             ],
             [
              1,
              "#f0f921"
             ]
            ],
            "type": "heatmap"
           }
          ],
          "heatmapgl": [
           {
            "colorbar": {
             "outlinewidth": 0,
             "ticks": ""
            },
            "colorscale": [
             [
              0,
              "#0d0887"
             ],
             [
              0.1111111111111111,
              "#46039f"
             ],
             [
              0.2222222222222222,
              "#7201a8"
             ],
             [
              0.3333333333333333,
              "#9c179e"
             ],
             [
              0.4444444444444444,
              "#bd3786"
             ],
             [
              0.5555555555555556,
              "#d8576b"
             ],
             [
              0.6666666666666666,
              "#ed7953"
             ],
             [
              0.7777777777777778,
              "#fb9f3a"
             ],
             [
              0.8888888888888888,
              "#fdca26"
             ],
             [
              1,
              "#f0f921"
             ]
            ],
            "type": "heatmapgl"
           }
          ],
          "histogram": [
           {
            "marker": {
             "pattern": {
              "fillmode": "overlay",
              "size": 10,
              "solidity": 0.2
             }
            },
            "type": "histogram"
           }
          ],
          "histogram2d": [
           {
            "colorbar": {
             "outlinewidth": 0,
             "ticks": ""
            },
            "colorscale": [
             [
              0,
              "#0d0887"
             ],
             [
              0.1111111111111111,
              "#46039f"
             ],
             [
              0.2222222222222222,
              "#7201a8"
             ],
             [
              0.3333333333333333,
              "#9c179e"
             ],
             [
              0.4444444444444444,
              "#bd3786"
             ],
             [
              0.5555555555555556,
              "#d8576b"
             ],
             [
              0.6666666666666666,
              "#ed7953"
             ],
             [
              0.7777777777777778,
              "#fb9f3a"
             ],
             [
              0.8888888888888888,
              "#fdca26"
             ],
             [
              1,
              "#f0f921"
             ]
            ],
            "type": "histogram2d"
           }
          ],
          "histogram2dcontour": [
           {
            "colorbar": {
             "outlinewidth": 0,
             "ticks": ""
            },
            "colorscale": [
             [
              0,
              "#0d0887"
             ],
             [
              0.1111111111111111,
              "#46039f"
             ],
             [
              0.2222222222222222,
              "#7201a8"
             ],
             [
              0.3333333333333333,
              "#9c179e"
             ],
             [
              0.4444444444444444,
              "#bd3786"
             ],
             [
              0.5555555555555556,
              "#d8576b"
             ],
             [
              0.6666666666666666,
              "#ed7953"
             ],
             [
              0.7777777777777778,
              "#fb9f3a"
             ],
             [
              0.8888888888888888,
              "#fdca26"
             ],
             [
              1,
              "#f0f921"
             ]
            ],
            "type": "histogram2dcontour"
           }
          ],
          "mesh3d": [
           {
            "colorbar": {
             "outlinewidth": 0,
             "ticks": ""
            },
            "type": "mesh3d"
           }
          ],
          "parcoords": [
           {
            "line": {
             "colorbar": {
              "outlinewidth": 0,
              "ticks": ""
             }
            },
            "type": "parcoords"
           }
          ],
          "pie": [
           {
            "automargin": true,
            "type": "pie"
           }
          ],
          "scatter": [
           {
            "marker": {
             "line": {
              "color": "#283442"
             }
            },
            "type": "scatter"
           }
          ],
          "scatter3d": [
           {
            "line": {
             "colorbar": {
              "outlinewidth": 0,
              "ticks": ""
             }
            },
            "marker": {
             "colorbar": {
              "outlinewidth": 0,
              "ticks": ""
             }
            },
            "type": "scatter3d"
           }
          ],
          "scattercarpet": [
           {
            "marker": {
             "colorbar": {
              "outlinewidth": 0,
              "ticks": ""
             }
            },
            "type": "scattercarpet"
           }
          ],
          "scattergeo": [
           {
            "marker": {
             "colorbar": {
              "outlinewidth": 0,
              "ticks": ""
             }
            },
            "type": "scattergeo"
           }
          ],
          "scattergl": [
           {
            "marker": {
             "line": {
              "color": "#283442"
             }
            },
            "type": "scattergl"
           }
          ],
          "scattermapbox": [
           {
            "marker": {
             "colorbar": {
              "outlinewidth": 0,
              "ticks": ""
             }
            },
            "type": "scattermapbox"
           }
          ],
          "scatterpolar": [
           {
            "marker": {
             "colorbar": {
              "outlinewidth": 0,
              "ticks": ""
             }
            },
            "type": "scatterpolar"
           }
          ],
          "scatterpolargl": [
           {
            "marker": {
             "colorbar": {
              "outlinewidth": 0,
              "ticks": ""
             }
            },
            "type": "scatterpolargl"
           }
          ],
          "scatterternary": [
           {
            "marker": {
             "colorbar": {
              "outlinewidth": 0,
              "ticks": ""
             }
            },
            "type": "scatterternary"
           }
          ],
          "surface": [
           {
            "colorbar": {
             "outlinewidth": 0,
             "ticks": ""
            },
            "colorscale": [
             [
              0,
              "#0d0887"
             ],
             [
              0.1111111111111111,
              "#46039f"
             ],
             [
              0.2222222222222222,
              "#7201a8"
             ],
             [
              0.3333333333333333,
              "#9c179e"
             ],
             [
              0.4444444444444444,
              "#bd3786"
             ],
             [
              0.5555555555555556,
              "#d8576b"
             ],
             [
              0.6666666666666666,
              "#ed7953"
             ],
             [
              0.7777777777777778,
              "#fb9f3a"
             ],
             [
              0.8888888888888888,
              "#fdca26"
             ],
             [
              1,
              "#f0f921"
             ]
            ],
            "type": "surface"
           }
          ],
          "table": [
           {
            "cells": {
             "fill": {
              "color": "#506784"
             },
             "line": {
              "color": "rgb(17,17,17)"
             }
            },
            "header": {
             "fill": {
              "color": "#2a3f5f"
             },
             "line": {
              "color": "rgb(17,17,17)"
             }
            },
            "type": "table"
           }
          ]
         },
         "layout": {
          "annotationdefaults": {
           "arrowcolor": "#f2f5fa",
           "arrowhead": 0,
           "arrowwidth": 1
          },
          "autotypenumbers": "strict",
          "coloraxis": {
           "colorbar": {
            "outlinewidth": 0,
            "ticks": ""
           }
          },
          "colorscale": {
           "diverging": [
            [
             0,
             "#8e0152"
            ],
            [
             0.1,
             "#c51b7d"
            ],
            [
             0.2,
             "#de77ae"
            ],
            [
             0.3,
             "#f1b6da"
            ],
            [
             0.4,
             "#fde0ef"
            ],
            [
             0.5,
             "#f7f7f7"
            ],
            [
             0.6,
             "#e6f5d0"
            ],
            [
             0.7,
             "#b8e186"
            ],
            [
             0.8,
             "#7fbc41"
            ],
            [
             0.9,
             "#4d9221"
            ],
            [
             1,
             "#276419"
            ]
           ],
           "sequential": [
            [
             0,
             "#0d0887"
            ],
            [
             0.1111111111111111,
             "#46039f"
            ],
            [
             0.2222222222222222,
             "#7201a8"
            ],
            [
             0.3333333333333333,
             "#9c179e"
            ],
            [
             0.4444444444444444,
             "#bd3786"
            ],
            [
             0.5555555555555556,
             "#d8576b"
            ],
            [
             0.6666666666666666,
             "#ed7953"
            ],
            [
             0.7777777777777778,
             "#fb9f3a"
            ],
            [
             0.8888888888888888,
             "#fdca26"
            ],
            [
             1,
             "#f0f921"
            ]
           ],
           "sequentialminus": [
            [
             0,
             "#0d0887"
            ],
            [
             0.1111111111111111,
             "#46039f"
            ],
            [
             0.2222222222222222,
             "#7201a8"
            ],
            [
             0.3333333333333333,
             "#9c179e"
            ],
            [
             0.4444444444444444,
             "#bd3786"
            ],
            [
             0.5555555555555556,
             "#d8576b"
            ],
            [
             0.6666666666666666,
             "#ed7953"
            ],
            [
             0.7777777777777778,
             "#fb9f3a"
            ],
            [
             0.8888888888888888,
             "#fdca26"
            ],
            [
             1,
             "#f0f921"
            ]
           ]
          },
          "colorway": [
           "#636efa",
           "#EF553B",
           "#00cc96",
           "#ab63fa",
           "#FFA15A",
           "#19d3f3",
           "#FF6692",
           "#B6E880",
           "#FF97FF",
           "#FECB52"
          ],
          "font": {
           "color": "#f2f5fa"
          },
          "geo": {
           "bgcolor": "rgb(17,17,17)",
           "lakecolor": "rgb(17,17,17)",
           "landcolor": "rgb(17,17,17)",
           "showlakes": true,
           "showland": true,
           "subunitcolor": "#506784"
          },
          "hoverlabel": {
           "align": "left"
          },
          "hovermode": "closest",
          "mapbox": {
           "style": "dark"
          },
          "paper_bgcolor": "rgb(17,17,17)",
          "plot_bgcolor": "rgb(17,17,17)",
          "polar": {
           "angularaxis": {
            "gridcolor": "#506784",
            "linecolor": "#506784",
            "ticks": ""
           },
           "bgcolor": "rgb(17,17,17)",
           "radialaxis": {
            "gridcolor": "#506784",
            "linecolor": "#506784",
            "ticks": ""
           }
          },
          "scene": {
           "xaxis": {
            "backgroundcolor": "rgb(17,17,17)",
            "gridcolor": "#506784",
            "gridwidth": 2,
            "linecolor": "#506784",
            "showbackground": true,
            "ticks": "",
            "zerolinecolor": "#C8D4E3"
           },
           "yaxis": {
            "backgroundcolor": "rgb(17,17,17)",
            "gridcolor": "#506784",
            "gridwidth": 2,
            "linecolor": "#506784",
            "showbackground": true,
            "ticks": "",
            "zerolinecolor": "#C8D4E3"
           },
           "zaxis": {
            "backgroundcolor": "rgb(17,17,17)",
            "gridcolor": "#506784",
            "gridwidth": 2,
            "linecolor": "#506784",
            "showbackground": true,
            "ticks": "",
            "zerolinecolor": "#C8D4E3"
           }
          },
          "shapedefaults": {
           "line": {
            "color": "#f2f5fa"
           }
          },
          "sliderdefaults": {
           "bgcolor": "#C8D4E3",
           "bordercolor": "rgb(17,17,17)",
           "borderwidth": 1,
           "tickwidth": 0
          },
          "ternary": {
           "aaxis": {
            "gridcolor": "#506784",
            "linecolor": "#506784",
            "ticks": ""
           },
           "baxis": {
            "gridcolor": "#506784",
            "linecolor": "#506784",
            "ticks": ""
           },
           "bgcolor": "rgb(17,17,17)",
           "caxis": {
            "gridcolor": "#506784",
            "linecolor": "#506784",
            "ticks": ""
           }
          },
          "title": {
           "x": 0.05
          },
          "updatemenudefaults": {
           "bgcolor": "#506784",
           "borderwidth": 0
          },
          "xaxis": {
           "automargin": true,
           "gridcolor": "#283442",
           "linecolor": "#506784",
           "ticks": "",
           "title": {
            "standoff": 15
           },
           "zerolinecolor": "#283442",
           "zerolinewidth": 2
          },
          "yaxis": {
           "automargin": true,
           "gridcolor": "#283442",
           "linecolor": "#506784",
           "ticks": "",
           "title": {
            "standoff": 15
           },
           "zerolinecolor": "#283442",
           "zerolinewidth": 2
          }
         }
        },
        "title": {
         "text": "Movies : Cast",
         "x": 0.5
        },
        "xaxis": {
         "title": {
          "text": "Cast name"
         }
        },
        "yaxis": {
         "showgrid": false,
         "title": {
          "text": "Count"
         }
        }
       }
      },
      "text/html": [
       "<div>                            <div id=\"edd6a217-6a27-4877-99a1-2732255c70e0\" class=\"plotly-graph-div\" style=\"height:525px; width:100%;\"></div>            <script type=\"text/javascript\">                require([\"plotly\"], function(Plotly) {                    window.PLOTLYENV=window.PLOTLYENV || {};                                    if (document.getElementById(\"edd6a217-6a27-4877-99a1-2732255c70e0\")) {                    Plotly.newPlot(                        \"edd6a217-6a27-4877-99a1-2732255c70e0\",                        [{\"marker\":{\"color\":\"steelblue\"},\"opacity\":0.6,\"orientation\":\"v\",\"x\":[\"Masako Nozawa\",\"Will Smith\",\"Jason Statham\",\"Johnny Depp\",\"Ryan Reynolds\",\"Sylvester Stallone\",\"Dwayne Johnson\",\"Mark Wahlberg\",\"Kelly Sheridan\",\"Liam Neeson\"],\"y\":[22,16,16,16,15,14,14,14,14,13],\"type\":\"bar\"}],                        {\"template\":{\"data\":{\"barpolar\":[{\"marker\":{\"line\":{\"color\":\"rgb(17,17,17)\",\"width\":0.5},\"pattern\":{\"fillmode\":\"overlay\",\"size\":10,\"solidity\":0.2}},\"type\":\"barpolar\"}],\"bar\":[{\"error_x\":{\"color\":\"#f2f5fa\"},\"error_y\":{\"color\":\"#f2f5fa\"},\"marker\":{\"line\":{\"color\":\"rgb(17,17,17)\",\"width\":0.5},\"pattern\":{\"fillmode\":\"overlay\",\"size\":10,\"solidity\":0.2}},\"type\":\"bar\"}],\"carpet\":[{\"aaxis\":{\"endlinecolor\":\"#A2B1C6\",\"gridcolor\":\"#506784\",\"linecolor\":\"#506784\",\"minorgridcolor\":\"#506784\",\"startlinecolor\":\"#A2B1C6\"},\"baxis\":{\"endlinecolor\":\"#A2B1C6\",\"gridcolor\":\"#506784\",\"linecolor\":\"#506784\",\"minorgridcolor\":\"#506784\",\"startlinecolor\":\"#A2B1C6\"},\"type\":\"carpet\"}],\"choropleth\":[{\"colorbar\":{\"outlinewidth\":0,\"ticks\":\"\"},\"type\":\"choropleth\"}],\"contourcarpet\":[{\"colorbar\":{\"outlinewidth\":0,\"ticks\":\"\"},\"type\":\"contourcarpet\"}],\"contour\":[{\"colorbar\":{\"outlinewidth\":0,\"ticks\":\"\"},\"colorscale\":[[0.0,\"#0d0887\"],[0.1111111111111111,\"#46039f\"],[0.2222222222222222,\"#7201a8\"],[0.3333333333333333,\"#9c179e\"],[0.4444444444444444,\"#bd3786\"],[0.5555555555555556,\"#d8576b\"],[0.6666666666666666,\"#ed7953\"],[0.7777777777777778,\"#fb9f3a\"],[0.8888888888888888,\"#fdca26\"],[1.0,\"#f0f921\"]],\"type\":\"contour\"}],\"heatmapgl\":[{\"colorbar\":{\"outlinewidth\":0,\"ticks\":\"\"},\"colorscale\":[[0.0,\"#0d0887\"],[0.1111111111111111,\"#46039f\"],[0.2222222222222222,\"#7201a8\"],[0.3333333333333333,\"#9c179e\"],[0.4444444444444444,\"#bd3786\"],[0.5555555555555556,\"#d8576b\"],[0.6666666666666666,\"#ed7953\"],[0.7777777777777778,\"#fb9f3a\"],[0.8888888888888888,\"#fdca26\"],[1.0,\"#f0f921\"]],\"type\":\"heatmapgl\"}],\"heatmap\":[{\"colorbar\":{\"outlinewidth\":0,\"ticks\":\"\"},\"colorscale\":[[0.0,\"#0d0887\"],[0.1111111111111111,\"#46039f\"],[0.2222222222222222,\"#7201a8\"],[0.3333333333333333,\"#9c179e\"],[0.4444444444444444,\"#bd3786\"],[0.5555555555555556,\"#d8576b\"],[0.6666666666666666,\"#ed7953\"],[0.7777777777777778,\"#fb9f3a\"],[0.8888888888888888,\"#fdca26\"],[1.0,\"#f0f921\"]],\"type\":\"heatmap\"}],\"histogram2dcontour\":[{\"colorbar\":{\"outlinewidth\":0,\"ticks\":\"\"},\"colorscale\":[[0.0,\"#0d0887\"],[0.1111111111111111,\"#46039f\"],[0.2222222222222222,\"#7201a8\"],[0.3333333333333333,\"#9c179e\"],[0.4444444444444444,\"#bd3786\"],[0.5555555555555556,\"#d8576b\"],[0.6666666666666666,\"#ed7953\"],[0.7777777777777778,\"#fb9f3a\"],[0.8888888888888888,\"#fdca26\"],[1.0,\"#f0f921\"]],\"type\":\"histogram2dcontour\"}],\"histogram2d\":[{\"colorbar\":{\"outlinewidth\":0,\"ticks\":\"\"},\"colorscale\":[[0.0,\"#0d0887\"],[0.1111111111111111,\"#46039f\"],[0.2222222222222222,\"#7201a8\"],[0.3333333333333333,\"#9c179e\"],[0.4444444444444444,\"#bd3786\"],[0.5555555555555556,\"#d8576b\"],[0.6666666666666666,\"#ed7953\"],[0.7777777777777778,\"#fb9f3a\"],[0.8888888888888888,\"#fdca26\"],[1.0,\"#f0f921\"]],\"type\":\"histogram2d\"}],\"histogram\":[{\"marker\":{\"pattern\":{\"fillmode\":\"overlay\",\"size\":10,\"solidity\":0.2}},\"type\":\"histogram\"}],\"mesh3d\":[{\"colorbar\":{\"outlinewidth\":0,\"ticks\":\"\"},\"type\":\"mesh3d\"}],\"parcoords\":[{\"line\":{\"colorbar\":{\"outlinewidth\":0,\"ticks\":\"\"}},\"type\":\"parcoords\"}],\"pie\":[{\"automargin\":true,\"type\":\"pie\"}],\"scatter3d\":[{\"line\":{\"colorbar\":{\"outlinewidth\":0,\"ticks\":\"\"}},\"marker\":{\"colorbar\":{\"outlinewidth\":0,\"ticks\":\"\"}},\"type\":\"scatter3d\"}],\"scattercarpet\":[{\"marker\":{\"colorbar\":{\"outlinewidth\":0,\"ticks\":\"\"}},\"type\":\"scattercarpet\"}],\"scattergeo\":[{\"marker\":{\"colorbar\":{\"outlinewidth\":0,\"ticks\":\"\"}},\"type\":\"scattergeo\"}],\"scattergl\":[{\"marker\":{\"line\":{\"color\":\"#283442\"}},\"type\":\"scattergl\"}],\"scattermapbox\":[{\"marker\":{\"colorbar\":{\"outlinewidth\":0,\"ticks\":\"\"}},\"type\":\"scattermapbox\"}],\"scatterpolargl\":[{\"marker\":{\"colorbar\":{\"outlinewidth\":0,\"ticks\":\"\"}},\"type\":\"scatterpolargl\"}],\"scatterpolar\":[{\"marker\":{\"colorbar\":{\"outlinewidth\":0,\"ticks\":\"\"}},\"type\":\"scatterpolar\"}],\"scatter\":[{\"marker\":{\"line\":{\"color\":\"#283442\"}},\"type\":\"scatter\"}],\"scatterternary\":[{\"marker\":{\"colorbar\":{\"outlinewidth\":0,\"ticks\":\"\"}},\"type\":\"scatterternary\"}],\"surface\":[{\"colorbar\":{\"outlinewidth\":0,\"ticks\":\"\"},\"colorscale\":[[0.0,\"#0d0887\"],[0.1111111111111111,\"#46039f\"],[0.2222222222222222,\"#7201a8\"],[0.3333333333333333,\"#9c179e\"],[0.4444444444444444,\"#bd3786\"],[0.5555555555555556,\"#d8576b\"],[0.6666666666666666,\"#ed7953\"],[0.7777777777777778,\"#fb9f3a\"],[0.8888888888888888,\"#fdca26\"],[1.0,\"#f0f921\"]],\"type\":\"surface\"}],\"table\":[{\"cells\":{\"fill\":{\"color\":\"#506784\"},\"line\":{\"color\":\"rgb(17,17,17)\"}},\"header\":{\"fill\":{\"color\":\"#2a3f5f\"},\"line\":{\"color\":\"rgb(17,17,17)\"}},\"type\":\"table\"}]},\"layout\":{\"annotationdefaults\":{\"arrowcolor\":\"#f2f5fa\",\"arrowhead\":0,\"arrowwidth\":1},\"autotypenumbers\":\"strict\",\"coloraxis\":{\"colorbar\":{\"outlinewidth\":0,\"ticks\":\"\"}},\"colorscale\":{\"diverging\":[[0,\"#8e0152\"],[0.1,\"#c51b7d\"],[0.2,\"#de77ae\"],[0.3,\"#f1b6da\"],[0.4,\"#fde0ef\"],[0.5,\"#f7f7f7\"],[0.6,\"#e6f5d0\"],[0.7,\"#b8e186\"],[0.8,\"#7fbc41\"],[0.9,\"#4d9221\"],[1,\"#276419\"]],\"sequential\":[[0.0,\"#0d0887\"],[0.1111111111111111,\"#46039f\"],[0.2222222222222222,\"#7201a8\"],[0.3333333333333333,\"#9c179e\"],[0.4444444444444444,\"#bd3786\"],[0.5555555555555556,\"#d8576b\"],[0.6666666666666666,\"#ed7953\"],[0.7777777777777778,\"#fb9f3a\"],[0.8888888888888888,\"#fdca26\"],[1.0,\"#f0f921\"]],\"sequentialminus\":[[0.0,\"#0d0887\"],[0.1111111111111111,\"#46039f\"],[0.2222222222222222,\"#7201a8\"],[0.3333333333333333,\"#9c179e\"],[0.4444444444444444,\"#bd3786\"],[0.5555555555555556,\"#d8576b\"],[0.6666666666666666,\"#ed7953\"],[0.7777777777777778,\"#fb9f3a\"],[0.8888888888888888,\"#fdca26\"],[1.0,\"#f0f921\"]]},\"colorway\":[\"#636efa\",\"#EF553B\",\"#00cc96\",\"#ab63fa\",\"#FFA15A\",\"#19d3f3\",\"#FF6692\",\"#B6E880\",\"#FF97FF\",\"#FECB52\"],\"font\":{\"color\":\"#f2f5fa\"},\"geo\":{\"bgcolor\":\"rgb(17,17,17)\",\"lakecolor\":\"rgb(17,17,17)\",\"landcolor\":\"rgb(17,17,17)\",\"showlakes\":true,\"showland\":true,\"subunitcolor\":\"#506784\"},\"hoverlabel\":{\"align\":\"left\"},\"hovermode\":\"closest\",\"mapbox\":{\"style\":\"dark\"},\"paper_bgcolor\":\"rgb(17,17,17)\",\"plot_bgcolor\":\"rgb(17,17,17)\",\"polar\":{\"angularaxis\":{\"gridcolor\":\"#506784\",\"linecolor\":\"#506784\",\"ticks\":\"\"},\"bgcolor\":\"rgb(17,17,17)\",\"radialaxis\":{\"gridcolor\":\"#506784\",\"linecolor\":\"#506784\",\"ticks\":\"\"}},\"scene\":{\"xaxis\":{\"backgroundcolor\":\"rgb(17,17,17)\",\"gridcolor\":\"#506784\",\"gridwidth\":2,\"linecolor\":\"#506784\",\"showbackground\":true,\"ticks\":\"\",\"zerolinecolor\":\"#C8D4E3\"},\"yaxis\":{\"backgroundcolor\":\"rgb(17,17,17)\",\"gridcolor\":\"#506784\",\"gridwidth\":2,\"linecolor\":\"#506784\",\"showbackground\":true,\"ticks\":\"\",\"zerolinecolor\":\"#C8D4E3\"},\"zaxis\":{\"backgroundcolor\":\"rgb(17,17,17)\",\"gridcolor\":\"#506784\",\"gridwidth\":2,\"linecolor\":\"#506784\",\"showbackground\":true,\"ticks\":\"\",\"zerolinecolor\":\"#C8D4E3\"}},\"shapedefaults\":{\"line\":{\"color\":\"#f2f5fa\"}},\"sliderdefaults\":{\"bgcolor\":\"#C8D4E3\",\"bordercolor\":\"rgb(17,17,17)\",\"borderwidth\":1,\"tickwidth\":0},\"ternary\":{\"aaxis\":{\"gridcolor\":\"#506784\",\"linecolor\":\"#506784\",\"ticks\":\"\"},\"baxis\":{\"gridcolor\":\"#506784\",\"linecolor\":\"#506784\",\"ticks\":\"\"},\"bgcolor\":\"rgb(17,17,17)\",\"caxis\":{\"gridcolor\":\"#506784\",\"linecolor\":\"#506784\",\"ticks\":\"\"}},\"title\":{\"x\":0.05},\"updatemenudefaults\":{\"bgcolor\":\"#506784\",\"borderwidth\":0},\"xaxis\":{\"automargin\":true,\"gridcolor\":\"#283442\",\"linecolor\":\"#506784\",\"ticks\":\"\",\"title\":{\"standoff\":15},\"zerolinecolor\":\"#283442\",\"zerolinewidth\":2},\"yaxis\":{\"automargin\":true,\"gridcolor\":\"#283442\",\"linecolor\":\"#506784\",\"ticks\":\"\",\"title\":{\"standoff\":15},\"zerolinecolor\":\"#283442\",\"zerolinewidth\":2}}},\"title\":{\"text\":\"Movies : Cast\",\"x\":0.5},\"xaxis\":{\"title\":{\"text\":\"Cast name\"}},\"yaxis\":{\"showgrid\":false,\"title\":{\"text\":\"Count\"}}},                        {\"responsive\": true}                    ).then(function(){\n",
       "                            \n",
       "var gd = document.getElementById('edd6a217-6a27-4877-99a1-2732255c70e0');\n",
       "var x = new MutationObserver(function (mutations, observer) {{\n",
       "        var display = window.getComputedStyle(gd).display;\n",
       "        if (!display || display === 'none') {{\n",
       "            console.log([gd, 'removed!']);\n",
       "            Plotly.purge(gd);\n",
       "            observer.disconnect();\n",
       "        }}\n",
       "}});\n",
       "\n",
       "// Listen for the removal of the full notebook cells\n",
       "var notebookContainer = gd.closest('#notebook-container');\n",
       "if (notebookContainer) {{\n",
       "    x.observe(notebookContainer, {childList: true});\n",
       "}}\n",
       "\n",
       "// Listen for the clearing of the current output cell\n",
       "var outputEl = gd.closest('.output');\n",
       "if (outputEl) {{\n",
       "    x.observe(outputEl, {childList: true});\n",
       "}}\n",
       "\n",
       "                        })                };                });            </script>        </div>"
      ]
     },
     "metadata": {},
     "output_type": "display_data"
    }
   ],
   "source": [
    "cast = pd.concat([movies['cast1'],movies['cast2']]).reset_index()\n",
    "cast.dropna(inplace=True)\n",
    "cast.columns=['index','castname']\n",
    "cast = cast.castname.value_counts().reset_index().head(10)\n",
    "cast.columns=['castname','count']\n",
    "cast = cast.sort_values(by='count',ascending=False)\n",
    "\n",
    "\n",
    "data = go.Bar(x= cast['castname'],y=cast['count'],orientation='v',marker={'color':'steelblue'},\n",
    "             opacity=0.6)\n",
    "\n",
    "layout = go.Layout(title='Movies : Cast',title_x=0.5,\n",
    "               xaxis={'title':'Cast name'},\n",
    "               yaxis={'title':'Count'})\n",
    "\n",
    "\n",
    "fig = go.Figure(data=data,layout=layout)\n",
    "fig.update_yaxes(showgrid=False)\n",
    "fig.update_layout(template = 'plotly_dark')\n",
    "\n",
    "iplot(fig)"
   ]
  },
  {
   "cell_type": "markdown",
   "id": "3cb9a341",
   "metadata": {},
   "source": [
    "## 4.9 Correlation between Revenue and Budget distributed by Genres"
   ]
  },
  {
   "cell_type": "code",
   "execution_count": 67,
   "id": "c2a372b8",
   "metadata": {},
   "outputs": [
    {
     "data": {
      "application/vnd.plotly.v1+json": {
       "config": {
        "linkText": "Export to plot.ly",
        "plotlyServerURL": "https://plot.ly",
        "showLink": false
       },
       "data": [
        {
         "customdata": [
          [
           "Sonic the Hedgehog 2"
          ],
          [
           "Uncharted"
          ],
          [
           "Spider-Man: No Way Home"
          ],
          [
           "Doctor Strange"
          ],
          [
           "Ambulance"
          ],
          [
           "The Lost City"
          ],
          [
           "Fantastic Beasts: The Secrets of Dumbledore"
          ],
          [
           "The Northman"
          ],
          [
           "Morbius"
          ],
          [
           "The Adam Project"
          ],
          [
           "Blacklight"
          ],
          [
           "Shang-Chi and the Legend of the Ten Rings"
          ],
          [
           "Avatar"
          ],
          [
           "Sonic the Hedgehog"
          ],
          [
           "The King's Man"
          ],
          [
           "Red Notice"
          ],
          [
           "Mortal Kombat"
          ],
          [
           "F9"
          ],
          [
           "The Suicide Squad"
          ],
          [
           "Godzilla vs. Kong"
          ],
          [
           "The 355"
          ],
          [
           "Black Widow"
          ],
          [
           "Nobody"
          ],
          [
           "Jungle Cruise"
          ],
          [
           "Dragon Ball Z: Resurrection 'F'"
          ],
          [
           "The Last: Naruto the Movie"
          ],
          [
           "Fantastic Beasts and Where to Find Them"
          ],
          [
           "Wrath of Man"
          ],
          [
           "The Maze Runner"
          ],
          [
           "The Amazing Spider-Man"
          ],
          [
           "Avengers: Age of Ultron"
          ],
          [
           "Monster Hunter"
          ],
          [
           "Dynasty Warriors"
          ],
          [
           "The Last Duel"
          ],
          [
           "Knowing"
          ],
          [
           "Fantastic Beasts: The Crimes of Grindelwald"
          ],
          [
           "Snake Eyes: G.I. Joe Origins"
          ],
          [
           "Deadpool"
          ],
          [
           "Wonder Woman 1984"
          ],
          [
           "The Pirates: The Last Royal Treasure"
          ],
          [
           "Spider-Man: Homecoming"
          ],
          [
           "Jurassic World"
          ],
          [
           "Spider-Man: Far From Home"
          ],
          [
           "Thor: Ragnarok"
          ],
          [
           "Real Steel"
          ],
          [
           "The Amazing Spider-Man 2"
          ],
          [
           "Top Gun"
          ],
          [
           "Jurassic World: Fallen Kingdom"
          ],
          [
           "Pokémon Detective Pikachu"
          ],
          [
           "Fast & Furious Presents: Hobbs & Shaw"
          ],
          [
           "Deadpool 2"
          ],
          [
           "The Fate of the Furious"
          ],
          [
           "The Hobbit: The Battle of the Five Armies"
          ],
          [
           "2012"
          ],
          [
           "The Marksman"
          ],
          [
           "Sooryavanshi"
          ],
          [
           "Pacific Rim"
          ],
          [
           "Major Grom: Plague Doctor"
          ],
          [
           "Ninja Assassin"
          ],
          [
           "Gunpowder Milkshake"
          ],
          [
           "World War Z"
          ],
          [
           "The Karate Kid"
          ],
          [
           "Iron Man"
          ],
          [
           "Furious 7"
          ],
          [
           "Iron Man 3"
          ],
          [
           "Dragon Ball Super: Broly"
          ],
          [
           "Thor: The Dark World"
          ],
          [
           "Aquaman"
          ],
          [
           "Public Enemies"
          ],
          [
           "Crank: High Voltage"
          ],
          [
           "Jiu Jitsu"
          ],
          [
           "Spider-Man: Into the Spider-Verse"
          ],
          [
           "Inception"
          ],
          [
           "Captain America: The First Avenger"
          ],
          [
           "John Carter"
          ],
          [
           "Train to Busan"
          ],
          [
           "The Last Airbender"
          ],
          [
           "Mad Max: Fury Road"
          ],
          [
           "Captain Marvel"
          ],
          [
           "Taken 2"
          ],
          [
           "Ashfall"
          ],
          [
           "Pacific Rim: Uprising"
          ],
          [
           "Incredibles 2"
          ],
          [
           "Shazam!"
          ],
          [
           "San Andreas"
          ],
          [
           "In Time"
          ],
          [
           "The Dark Knight Rises"
          ],
          [
           "Abraham Lincoln: Vampire Hunter"
          ],
          [
           "Kingsman: The Golden Circle"
          ],
          [
           "Birds of Prey (and the Fantabulous Emancipation of One Harley Quinn)"
          ],
          [
           "Batman v Superman: Dawn of Justice"
          ],
          [
           "Jack Reacher: Never Go Back"
          ],
          [
           "The Hunt"
          ],
          [
           "X-Men: Apocalypse"
          ],
          [
           "Transformers: The Last Knight"
          ],
          [
           "Kung Fu Panda"
          ],
          [
           "Rambo: Last Blood"
          ],
          [
           "The Incredibles"
          ],
          [
           "Taken"
          ],
          [
           "Kick-Ass"
          ],
          [
           "Man of Steel"
          ],
          [
           "John Wick: Chapter 3 - Parabellum"
          ],
          [
           "The Purge: Election Year"
          ],
          [
           "The Meg"
          ],
          [
           "Tenet"
          ],
          [
           "Need for Speed"
          ],
          [
           "X-Men: Days of Future Past"
          ],
          [
           "Southpaw"
          ],
          [
           "Peninsula"
          ],
          [
           "Batman Begins"
          ],
          [
           "Unknown"
          ],
          [
           "Black Panther"
          ],
          [
           "Godzilla"
          ],
          [
           "Special Forces"
          ],
          [
           "Logan"
          ],
          [
           "Megalodon"
          ],
          [
           "Despicable Me 3"
          ],
          [
           "Everything Everywhere All at Once"
          ],
          [
           "Terminator Salvation"
          ],
          [
           "Rampage"
          ],
          [
           "Men in Black 3"
          ],
          [
           "John Wick"
          ],
          [
           "Wonder Woman"
          ],
          [
           "Saint Seiya: Legend of Sanctuary"
          ],
          [
           "Star Wars: The Force Awakens"
          ],
          [
           "Sucker Punch"
          ],
          [
           "Baby Driver"
          ],
          [
           "Apocalypto"
          ],
          [
           "Suicide Squad"
          ],
          [
           "Ghost Rider: Spirit of Vengeance"
          ],
          [
           "Machine Gun Preacher"
          ],
          [
           "Hitman: Agent 47"
          ],
          [
           "Cell 211"
          ],
          [
           "Fantastic Four"
          ],
          [
           "Willy's Wonderland"
          ],
          [
           "Kung Fu Panda 3"
          ],
          [
           "Edge of Tomorrow"
          ],
          [
           "The King of Fighters"
          ],
          [
           "xXx: Return of Xander Cage"
          ],
          [
           "Sicario"
          ],
          [
           "Rush Hour 3"
          ],
          [
           "Salt"
          ],
          [
           "Jonah Hex"
          ],
          [
           "Rambo"
          ],
          [
           "Rush Hour 2"
          ],
          [
           "Pixels"
          ],
          [
           "Captain America: The Winter Soldier"
          ],
          [
           "The Matrix"
          ],
          [
           "Insurgent"
          ],
          [
           "Independence Day: Resurgence"
          ],
          [
           "Ant-Man and the Wasp"
          ],
          [
           "Ghostbusters"
          ],
          [
           "Star Wars: The Rise of Skywalker"
          ],
          [
           "The Tourist"
          ],
          [
           "Mission: Impossible - Ghost Protocol"
          ],
          [
           "Lucy"
          ],
          [
           "Alita: Battle Angel"
          ],
          [
           "Fantastic Four"
          ],
          [
           "Sanctum"
          ],
          [
           "Justice League"
          ],
          [
           "Skyfall"
          ],
          [
           "Hercules"
          ],
          [
           "Bloodshot"
          ],
          [
           "Terminator: Dark Fate"
          ],
          [
           "Colombiana"
          ],
          [
           "#Alive"
          ],
          [
           "The Expendables 3"
          ],
          [
           "Guardians of the Galaxy"
          ],
          [
           "The Hunger Games: Mockingjay - Part 2"
          ],
          [
           "Kick-Ass 2"
          ],
          [
           "The Lone Ranger"
          ],
          [
           "Gods of Egypt"
          ],
          [
           "The Great Wall"
          ],
          [
           "Spy Kids"
          ],
          [
           "Kong: Skull Island"
          ],
          [
           "Rush Hour"
          ],
          [
           "Cowboys & Aliens"
          ],
          [
           "White House Down"
          ],
          [
           "A Good Day to Die Hard"
          ],
          [
           "The Losers"
          ],
          [
           "Scarface"
          ],
          [
           "Divergent"
          ],
          [
           "Olympus Has Fallen"
          ],
          [
           "Hummingbird"
          ],
          [
           "The Tax Collector"
          ],
          [
           "Knight and Day"
          ],
          [
           "Sicario: Day of the Soldado"
          ],
          [
           "The Equalizer 2"
          ],
          [
           "Rambo: First Blood Part II"
          ],
          [
           "The Expendables 2"
          ],
          [
           "Spy Kids 3-D: Game Over"
          ],
          [
           "Central Intelligence"
          ],
          [
           "The Heat"
          ],
          [
           "Hunter Killer"
          ],
          [
           "Lockout"
          ],
          [
           "Greenland"
          ],
          [
           "Spy Kids 2: The Island of Lost Dreams"
          ],
          [
           "Angel Has Fallen"
          ],
          [
           "Terminator 2: Judgment Day"
          ],
          [
           "Snowpiercer"
          ],
          [
           "Total Recall"
          ],
          [
           "Paul Blart: Mall Cop"
          ],
          [
           "Dragonball Evolution"
          ],
          [
           "Doomsday"
          ],
          [
           "Bāhubali: The Beginning"
          ],
          [
           "This Means War"
          ],
          [
           "12 Rounds"
          ],
          [
           "Bumblebee"
          ],
          [
           "Ong Bak: Muay Thai Warrior"
          ],
          [
           "Undisputed"
          ],
          [
           "300: Rise of an Empire"
          ],
          [
           "Hitman's Wife's Bodyguard"
          ],
          [
           "The Unbearable Weight of Massive Talent"
          ],
          [
           "The Protector"
          ],
          [
           "Mechanic: Resurrection"
          ],
          [
           "Shaolin Soccer"
          ],
          [
           "Den of Thieves"
          ],
          [
           "9"
          ],
          [
           "Rambo III"
          ],
          [
           "21 Jump Street"
          ],
          [
           "Machete"
          ],
          [
           "Independence Day"
          ],
          [
           "Tomb Raider"
          ],
          [
           "Red Dawn"
          ],
          [
           "Spectre"
          ],
          [
           "Hulk"
          ],
          [
           "Armageddon"
          ],
          [
           "Teenage Mutant Ninja Turtles: Out of the Shadows"
          ],
          [
           "Parker"
          ],
          [
           "Tropic Thunder"
          ],
          [
           "Mission: Impossible - Rogue Nation"
          ],
          [
           "The Terminator"
          ],
          [
           "Geostorm"
          ],
          [
           "Warcraft"
          ],
          [
           "Guardians"
          ],
          [
           "London Has Fallen"
          ],
          [
           "30 Minutes or Less"
          ],
          [
           "First Blood"
          ],
          [
           "Shooter"
          ],
          [
           "Max Steel"
          ],
          [
           "Mission: Impossible - Fallout"
          ],
          [
           "Killer Elite"
          ],
          [
           "Seeking Justice"
          ],
          [
           "Batman Returns"
          ],
          [
           "Bāhubali 2: The Conclusion"
          ],
          [
           "300"
          ],
          [
           "The Man from Nowhere"
          ],
          [
           "Cloverfield"
          ],
          [
           "Chinese Zodiac"
          ],
          [
           "Tower Heist"
          ],
          [
           "Rogue One: A Star Wars Story"
          ],
          [
           "Into the Storm"
          ],
          [
           "Tracers"
          ],
          [
           "RED 2"
          ],
          [
           "So Undercover"
          ],
          [
           "Turbo: A Power Rangers Movie"
          ],
          [
           "Dawn of the Dead"
          ],
          [
           "I Am Number Four"
          ],
          [
           "Men in Black"
          ],
          [
           "Empire State"
          ],
          [
           "Outcast"
          ],
          [
           "Transporter 3"
          ],
          [
           "Scott Pilgrim vs. the World"
          ],
          [
           "Star Trek Into Darkness"
          ],
          [
           "Journey to the Center of the Earth"
          ],
          [
           "Spider-Man 2"
          ]
         ],
         "hovertemplate": "genres=Action<br>revenue=%{x}<br>budget=%{y}<br>title=%{customdata[0]}<extra></extra>",
         "legendgroup": "Action",
         "marker": {
          "color": "#636efa",
          "symbol": "circle"
         },
         "mode": "markers",
         "name": "Action",
         "showlegend": true,
         "type": "scattergl",
         "x": [
          355200000,
          395124202,
          1892000000,
          677700000,
          50254920,
          164289828,
          376000000,
          58120000,
          161000000,
          471000000,
          15400000,
          432243292,
          2847246203,
          306766470,
          125928656,
          178143,
          83601013,
          726229501,
          167417425,
          467863133,
          24000000,
          379751655,
          61779301,
          220889446,
          61768190,
          16500000,
          809342332,
          103966489,
          348319861,
          757930663,
          1405403694,
          42145959,
          3310000,
          30500000,
          155446362,
          653355901,
          36964325,
          783100000,
          165160005,
          10247262,
          880166924,
          1671713208,
          1131927996,
          853977126,
          299268508,
          708962323,
          356830601,
          1303459585,
          433005346,
          760098996,
          786365638,
          1238764765,
          956019788,
          791217826,
          23076711,
          37700000,
          407602906,
          4493306,
          60462347,
          344931,
          531865000,
          359126022,
          585174222,
          1515047671,
          1214811252,
          125002821,
          644571402,
          1148528393,
          214104620,
          34560577,
          99924,
          375540831,
          825532764,
          370569774,
          284139100,
          87547518,
          319713881,
          378858340,
          1128276090,
          376141306,
          61321941,
          290061297,
          1242805359,
          365971656,
          473990832,
          173930596,
          1081041287,
          116471580,
          410902662,
          201858461,
          873637528,
          162146076,
          8621288,
          543934787,
          605425157,
          631744560,
          91490353,
          631442092,
          226830568,
          96188903,
          754045518,
          326709727,
          118587880,
          530243742,
          363129000,
          203277636,
          747862775,
          91709827,
          39657073,
          374218673,
          130786397,
          1347597973,
          529076069,
          3424648,
          619021436,
          5303,
          1031552585,
          51820323,
          371353001,
          426245950,
          624026776,
          88761661,
          821847012,
          17150803,
          2068223624,
          89792502,
          226945087,
          120654337,
          746846894,
          132563930,
          2527904,
          81967450,
          19300483,
          167977596,
          431020,
          521170825,
          370541256,
          2000371,
          346147658,
          84872444,
          258022233,
          293329073,
          10539000,
          113244290,
          347325802,
          244874809,
          714766572,
          463517383,
          295238201,
          389681935,
          622674139,
          229147509,
          1074144248,
          278731369,
          694713380,
          458863600,
          404852543,
          333535934,
          108609310,
          657926987,
          1108569499,
          244819862,
          33542457,
          261119292,
          60965854,
          13416285,
          206172544,
          772776600,
          653428261,
          60700000,
          260502115,
          150680864,
          331957105,
          147934180,
          566652812,
          244721064,
          174822325,
          205366737,
          304654182,
          23580000,
          66023329,
          288747895,
          161025640,
          8352885,
          942666,
          261989769,
          75836683,
          190400157,
          300400432,
          314975955,
          197011982,
          216972543,
          158674180,
          31672678,
          32948113,
          52300000,
          119723358,
          146661977,
          520000000,
          86758912,
          198802074,
          183293131,
          58228460,
          22472631,
          90747520,
          156974557,
          17280326,
          467989645,
          20112926,
          14946150,
          337580051,
          70060492,
          21067659,
          27165581,
          125729635,
          42776760,
          80509622,
          48428063,
          189015611,
          201585328,
          44093316,
          817400891,
          274650803,
          44806783,
          880674609,
          245360480,
          553799566,
          245623848,
          46216641,
          195702811,
          682330139,
          78371200,
          221600160,
          433677183,
          4803565,
          205754447,
          40547440,
          125212904,
          95696996,
          6272403,
          791017452,
          57777106,
          14089528,
          280000000,
          275947313,
          422610419,
          43059790,
          170764026,
          171339013,
          152930623,
          1056057273,
          160602194,
          593683,
          148100000,
          2500000,
          17979739,
          102278712,
          149878437,
          589390539,
          3639345,
          5148503,
          108979549,
          48000000,
          467365246,
          101702060,
          783766341
         ],
         "xaxis": "x",
         "y": [
          110000000,
          120000000,
          200000000,
          165000000,
          40000000,
          74000000,
          200000000,
          70000000,
          75000000,
          116000000,
          43000000,
          150000000,
          237000000,
          85000000,
          100000000,
          160000000,
          20000000,
          200000000,
          185000000,
          200000000,
          75000000,
          200000000,
          17000000,
          200000000,
          5000000,
          1000000,
          180000000,
          40000000,
          34000000,
          215000000,
          365000000,
          60000000,
          38504400,
          100000000,
          50000000,
          200000000,
          88000000,
          58000000,
          200000000,
          19597380,
          175000000,
          150000000,
          160000000,
          180000000,
          110000000,
          200000000,
          15000000,
          170000000,
          150000000,
          200000000,
          110000000,
          250000000,
          250000000,
          200000000,
          23000000,
          13000000,
          180000000,
          5000000,
          40000000,
          30000000,
          200000000,
          40000000,
          140000000,
          190000000,
          200000000,
          1000000,
          170000000,
          160000000,
          100000000,
          20000000,
          23000000,
          90000000,
          160000000,
          140000000,
          250000000,
          8500000,
          150000000,
          150000000,
          152000000,
          45000000,
          17700000,
          150000000,
          200000000,
          80000000,
          110000000,
          40000000,
          250000000,
          69000000,
          104000000,
          75000000,
          250000000,
          60000000,
          14000000,
          178000000,
          217000000,
          130000000,
          50000000,
          92000000,
          25000000,
          28000000,
          225000000,
          55000000,
          10000000,
          150000000,
          205000000,
          66000000,
          250000000,
          30000000,
          17000000,
          150000000,
          30000000,
          200000000,
          160000000,
          10000000,
          97000000,
          130178,
          80000000,
          25000000,
          200000000,
          120000000,
          225000000,
          20000000,
          149000000,
          23000000,
          245000000,
          82000000,
          34000000,
          40000000,
          175000000,
          57000000,
          30000000,
          35000000,
          5700000,
          120000000,
          5000000,
          145000000,
          178000000,
          12000000,
          85000000,
          30000000,
          140000000,
          110000000,
          47000000,
          50000000,
          90000000,
          88000000,
          170000000,
          63000000,
          110000000,
          165000000,
          140000000,
          144000000,
          250000000,
          100000000,
          145000000,
          40000000,
          170000000,
          100000000,
          30000000,
          300000000,
          200000000,
          100000000,
          42000000,
          185000000,
          40000000,
          6300000,
          90000000,
          170000000,
          160000000,
          28000000,
          215000000,
          140000000,
          150000000,
          35000000,
          185000000,
          33000000,
          163000000,
          150000000,
          92000000,
          25000000,
          25000000,
          85000000,
          70000000,
          20000000,
          30000000,
          117000000,
          35000000,
          62000000,
          44000000,
          100000000,
          38000000,
          50000000,
          43000000,
          40000000,
          20000000,
          34000000,
          38000000,
          40000000,
          102000000,
          39200000,
          125000000,
          26000000,
          30000000,
          30000000,
          25130430,
          65000000,
          20000000,
          135000000,
          1100000,
          20000000,
          110000000,
          70000000,
          30000000,
          6000000,
          40000000,
          10000005,
          30000000,
          30000000,
          63000000,
          42000000,
          20000000,
          75000000,
          94000000,
          65000000,
          245000000,
          137000000,
          140000000,
          135000000,
          35000000,
          92000000,
          150000000,
          6400000,
          120000000,
          160000000,
          5400000,
          60000000,
          28000000,
          15000000,
          61000000,
          10000000,
          178000000,
          66000000,
          17000000,
          80000000,
          31000000,
          65000000,
          1255000,
          25000000,
          48000000,
          75000000,
          200000000,
          50000000,
          11000000,
          84000000,
          15000000,
          10000000,
          26000000,
          50000000,
          90000000,
          11000000,
          25000000,
          30000000,
          85000000,
          190000000,
          45000000,
          200000000
         ],
         "yaxis": "y"
        },
        {
         "customdata": [
          [
           "The Batman"
          ],
          [
           "Nightmare Alley"
          ],
          [
           "Death on the Nile"
          ],
          [
           "The Wolf of Wall Street"
          ],
          [
           "The Gentlemen"
          ],
          [
           "Joker"
          ],
          [
           "Jack Reacher"
          ],
          [
           "Kingsman: The Secret Service"
          ],
          [
           "Chappie"
          ],
          [
           "The Town"
          ],
          [
           "Tekken"
          ],
          [
           "Big Mommas: Like Father, Like Son"
          ],
          [
           "Pain & Gain"
          ],
          [
           "Legend"
          ],
          [
           "22 Jump Street"
          ],
          [
           "Blitz"
          ],
          [
           "The Outlaws"
          ],
          [
           "A Walk Among the Tombstones"
          ],
          [
           "Boyz n the Hood"
          ],
          [
           "Twist"
          ],
          [
           "Nightcrawler"
          ],
          [
           "No Good Deed"
          ],
          [
           "Ocean's Eight"
          ],
          [
           "Scream"
          ],
          [
           "The Exorcism of Emily Rose"
          ],
          [
           "The Call"
          ],
          [
           "Se7en"
          ],
          [
           "Perfume: The Story of a Murderer"
          ],
          [
           "Blackhat"
          ],
          [
           "The Godfather: Part III"
          ]
         ],
         "hovertemplate": "genres=Crime<br>revenue=%{x}<br>budget=%{y}<br>title=%{customdata[0]}<extra></extra>",
         "legendgroup": "Crime",
         "marker": {
          "color": "#EF553B",
          "symbol": "circle"
         },
         "mode": "markers",
         "name": "Crime",
         "showlegend": true,
         "type": "scattergl",
         "x": [
          764573021,
          39629195,
          137110100,
          392000000,
          114996853,
          1074251311,
          218340595,
          414351546,
          104399548,
          154026136,
          967000,
          83615414,
          87305549,
          42972994,
          188441614,
          741875,
          52946454,
          58834384,
          57504069,
          510466,
          50300000,
          53830415,
          297718711,
          173046663,
          145166804,
          68572378,
          327311859,
          135039924,
          17752940,
          136766062
         ],
         "xaxis": "x",
         "y": [
          185000000,
          60000000,
          90000000,
          100000000,
          22000000,
          55000000,
          60000000,
          81000000,
          49000000,
          37000000,
          30000000,
          32000000,
          25000000,
          25000000,
          50000000,
          15774948,
          5883687,
          28000000,
          6500000,
          2000000,
          8500000,
          13200000,
          70000000,
          14000000,
          19000000,
          13000000,
          33000000,
          60000000,
          70000000,
          54000000
         ],
         "yaxis": "y"
        },
        {
         "customdata": [
          [
           "The Bad Guys"
          ],
          [
           "Turning Red"
          ],
          [
           "Encanto"
          ],
          [
           "Demon Slayer -Kimetsu no Yaiba- The Movie: Mugen Train"
          ],
          [
           "Sing 2"
          ],
          [
           "The Boss Baby: Family Business"
          ],
          [
           "PAW Patrol: The Movie"
          ],
          [
           "Luca"
          ],
          [
           "Raya and the Last Dragon"
          ],
          [
           "The Croods: A New Age"
          ],
          [
           "Coraline"
          ],
          [
           "Toy Story"
          ],
          [
           "Soul"
          ],
          [
           "Shrek"
          ],
          [
           "Monsters, Inc."
          ],
          [
           "My Hero Academia: Two Heroes"
          ],
          [
           "Shrek 2"
          ],
          [
           "Spirit Untamed"
          ],
          [
           "Ice Age"
          ],
          [
           "Cars 3"
          ],
          [
           "Ratatouille"
          ],
          [
           "The Little Mermaid"
          ],
          [
           "Frozen"
          ],
          [
           "Toy Story 2"
          ],
          [
           "Mulan"
          ],
          [
           "Tangled"
          ],
          [
           "Cars 2"
          ],
          [
           "The Simpsons Movie"
          ],
          [
           "Sing"
          ],
          [
           "Ice Age: Dawn of the Dinosaurs"
          ],
          [
           "Up"
          ],
          [
           "Toy Story 3"
          ],
          [
           "Finding Nemo"
          ],
          [
           "Happy Feet"
          ],
          [
           "Ice Age: Continental Drift"
          ],
          [
           "Lilo & Stitch"
          ],
          [
           "Inside Out"
          ],
          [
           "Zootopia"
          ],
          [
           "Despicable Me 2"
          ],
          [
           "Ice Age: The Meltdown"
          ],
          [
           "Hercules"
          ],
          [
           "Ferdinand"
          ],
          [
           "Rio"
          ],
          [
           "Ponyo"
          ],
          [
           "Garfield"
          ],
          [
           "The Croods"
          ],
          [
           "Alice in Wonderland"
          ],
          [
           "Cars"
          ],
          [
           "Brave"
          ],
          [
           "WALL·E"
          ],
          [
           "Pinocchio"
          ],
          [
           "How to Train Your Dragon: The Hidden World"
          ],
          [
           "The Book of Life"
          ],
          [
           "Monsters University"
          ],
          [
           "Bambi"
          ],
          [
           "Spirited Away"
          ],
          [
           "Dumbo"
          ],
          [
           "Kung Fu Panda 2"
          ],
          [
           "The Grinch"
          ],
          [
           "Stand by Me Doraemon"
          ],
          [
           "Aladdin"
          ],
          [
           "Hotel Transylvania"
          ],
          [
           "The Aristocats"
          ],
          [
           "Madagascar 3: Europe's Most Wanted"
          ],
          [
           "Peter Pan"
          ],
          [
           "Kubo and the Two Strings"
          ],
          [
           "Fantasia"
          ],
          [
           "Happy Feet Two"
          ],
          [
           "Rango"
          ],
          [
           "Bolt"
          ],
          [
           "The Angry Birds Movie 2"
          ],
          [
           "Anastasia"
          ],
          [
           "Igor"
          ],
          [
           "Cloudy with a Chance of Meatballs"
          ],
          [
           "Megamind"
          ],
          [
           "Shark Tale"
          ],
          [
           "The Lorax"
          ],
          [
           "Monster House"
          ],
          [
           "Epic"
          ],
          [
           "Spies in Disguise"
          ],
          [
           "Ballerina"
          ],
          [
           "Puss in Boots"
          ],
          [
           "Astro Boy"
          ],
          [
           "The Lego Batman Movie"
          ],
          [
           "Cloudy with a Chance of Meatballs 2"
          ],
          [
           "The Polar Express"
          ],
          [
           "Chicken Run"
          ],
          [
           "The Sword in the Stone"
          ],
          [
           "Home on the Range"
          ],
          [
           "Frankenweenie"
          ],
          [
           "Walking with Dinosaurs"
          ],
          [
           "The Smurfs"
          ],
          [
           "Meet the Robinsons"
          ],
          [
           "Robin Hood"
          ],
          [
           "Horton Hears a Who!"
          ],
          [
           "The Boss Baby"
          ]
         ],
         "hovertemplate": "genres=Animation<br>revenue=%{x}<br>budget=%{y}<br>title=%{customdata[0]}<extra></extra>",
         "legendgroup": "Animation",
         "marker": {
          "color": "#00cc96",
          "symbol": "circle"
         },
         "mode": "markers",
         "name": "Animation",
         "showlegend": true,
         "type": "scattergl",
         "x": [
          165558000,
          17185000,
          253000000,
          503063688,
          406000000,
          146745280,
          144327371,
          49010641,
          130000000,
          168285000,
          124596398,
          373554033,
          136384442,
          487853320,
          579707738,
          31478826,
          928760770,
          17635215,
          383257136,
          383925276,
          623726000,
          211343479,
          1274219009,
          497366869,
          304320254,
          592461732,
          559852396,
          527068851,
          634151679,
          886686817,
          735099082,
          1066969703,
          940335536,
          384335608,
          877244782,
          273144151,
          857611174,
          1023784195,
          970761885,
          660998756,
          252712101,
          295038508,
          484635760,
          202404009,
          200804534,
          587204668,
          572000000,
          461983149,
          538983207,
          521311860,
          84300000,
          517526875,
          97437106,
          743559607,
          267447150,
          274925095,
          1600000,
          665692281,
          508575295,
          83061158,
          504050219,
          358375603,
          55675257,
          746921274,
          87404651,
          76249438,
          76411819,
          150406466,
          245724603,
          309979994,
          147792047,
          139804348,
          30700000,
          242988466,
          321885765,
          367275019,
          348840316,
          140175006,
          268426634,
          171616764,
          2351359,
          554987477,
          19551067,
          311950384,
          248384621,
          310634054,
          224834564,
          22182353,
          103951461,
          81493846,
          126546518,
          563749323,
          169332978,
          32056467,
          298572799,
          498814908
         ],
         "xaxis": "x",
         "y": [
          80000000,
          190000000,
          50000000,
          15800000,
          85000000,
          82000000,
          26000000,
          200000000,
          100000000,
          65000000,
          60000000,
          30000000,
          150000000,
          60000000,
          115000000,
          12000000,
          150000000,
          30000000,
          59000000,
          175000000,
          150000000,
          40000000,
          150000000,
          90000000,
          90000000,
          260000000,
          200000000,
          75000000,
          75000000,
          90000000,
          175000000,
          200000000,
          94000000,
          100000000,
          95000000,
          80000000,
          175000000,
          150000000,
          76000000,
          80000000,
          85000000,
          111000000,
          90000000,
          41677699,
          50000000,
          135000000,
          3000000,
          120000000,
          185000000,
          180000000,
          2600000,
          129000000,
          50000000,
          200000000,
          858000,
          19000000,
          812000,
          150000000,
          75000000,
          35000000,
          28000000,
          85000000,
          4000000,
          145000000,
          4000000,
          60000000,
          2280000,
          130000000,
          135000000,
          150000000,
          65000000,
          53000000,
          25000000,
          100000000,
          130000000,
          75000000,
          70000000,
          75000000,
          100000000,
          100000000,
          30000000,
          130000000,
          10000000,
          80000000,
          78000000,
          165000000,
          45000000,
          3000000,
          110000000,
          39000000,
          80000000,
          110000000,
          150000000,
          5000000,
          85000000,
          125000000
         ],
         "yaxis": "y"
        },
        {
         "customdata": [
          [
           "Doctor Strange in the Multiverse of Madness"
          ],
          [
           "Ghostbusters: Afterlife"
          ],
          [
           "The Last Warrior: Root of Evil"
          ],
          [
           "Harry Potter and the Deathly Hallows: Part 2"
          ],
          [
           "Hancock"
          ],
          [
           "Spider-Man"
          ],
          [
           "Twilight"
          ],
          [
           "Spider-Man 3"
          ],
          [
           "Maleficent"
          ],
          [
           "The Lovely Bones"
          ],
          [
           "The Hobbit: The Desolation of Smaug"
          ],
          [
           "Snow White and the Seven Dwarfs"
          ],
          [
           "Constantine"
          ],
          [
           "Shrek the Third"
          ],
          [
           "The Mortal Instruments: City of Bones"
          ],
          [
           "Underworld: Awakening"
          ],
          [
           "Wrath of the Titans"
          ],
          [
           "Howl's Moving Castle"
          ],
          [
           "Monkey King: Hero Is Back"
          ],
          [
           "The Nightmare Before Christmas"
          ],
          [
           "How to Train Your Dragon 2"
          ],
          [
           "Hansel & Gretel: Witch Hunters"
          ],
          [
           "Miss Peregrine's Home for Peculiar Children"
          ],
          [
           "How to Train Your Dragon"
          ],
          [
           "Sleeping Beauty"
          ],
          [
           "Underworld: Blood Wars"
          ],
          [
           "The Green Mile"
          ],
          [
           "Aquamarine"
          ],
          [
           "Casper"
          ],
          [
           "Edward Scissorhands"
          ],
          [
           "Jack the Giant Slayer"
          ],
          [
           "Bedtime Stories"
          ],
          [
           "My Neighbor Totoro"
          ],
          [
           "Pan's Labyrinth"
          ],
          [
           "Aliens vs Predator: Requiem"
          ],
          [
           "Batman"
          ],
          [
           "The Legend of Tarzan"
          ],
          [
           "The Last Witch Hunter"
          ],
          [
           "Meet Joe Black"
          ],
          [
           "The Flintstones"
          ],
          [
           "Hellboy"
          ],
          [
           "Bruce Almighty"
          ],
          [
           "Blade II"
          ],
          [
           "Hatching"
          ]
         ],
         "hovertemplate": "genres=Fantasy<br>revenue=%{x}<br>budget=%{y}<br>title=%{customdata[0]}<extra></extra>",
         "legendgroup": "Fantasy",
         "marker": {
          "color": "#ab63fa",
          "symbol": "circle"
         },
         "mode": "markers",
         "name": "Fantasy",
         "showlegend": true,
         "type": "scattergl",
         "x": [
          688000000,
          191000000,
          27658331,
          1341511219,
          629443428,
          821708551,
          393616788,
          890871626,
          758539785,
          93621340,
          958400000,
          184925486,
          230884728,
          813367380,
          95396573,
          160112671,
          301970083,
          236049757,
          150000000,
          75634409,
          621537500,
          226349749,
          296482446,
          494878759,
          51600000,
          81093313,
          286801374,
          23006849,
          287928194,
          53000000,
          197687603,
          212874864,
          45000000,
          83258226,
          130290885,
          411348924,
          356743061,
          146936910,
          142940100,
          341631208,
          44664690,
          484592874,
          155010032,
          490000
         ],
         "xaxis": "x",
         "y": [
          200000000,
          75000000,
          8400000,
          125000000,
          150000000,
          139000000,
          37000000,
          258000000,
          180000000,
          65000000,
          250000000,
          1488423,
          100000000,
          160000000,
          60000000,
          70000000,
          150000000,
          24000000,
          10000000,
          24000000,
          145000000,
          50000000,
          110000000,
          165000000,
          6000000,
          35000000,
          60000000,
          12000000,
          50000000,
          20000000,
          195000000,
          80000000,
          3700000,
          19000000,
          40000000,
          35000000,
          180000000,
          90000000,
          90000000,
          46000000,
          50000000,
          80000000,
          54000000,
          3896000
         ],
         "yaxis": "y"
        },
        {
         "customdata": [
          [
           "Moonfall"
          ],
          [
           "Venom: Let There Be Carnage"
          ],
          [
           "Eternals"
          ],
          [
           "The Matrix Resurrections"
          ],
          [
           "Dune"
          ],
          [
           "The Avengers"
          ],
          [
           "Finch"
          ],
          [
           "A Quiet Place Part II"
          ],
          [
           "Venom"
          ],
          [
           "Teenage Mutant Ninja Turtles"
          ],
          [
           "Godzilla: King of the Monsters"
          ],
          [
           "Ready Player One"
          ],
          [
           "Maze Runner: The Scorch Trials"
          ],
          [
           "Maze Runner: The Death Cure"
          ],
          [
           "Voyagers"
          ],
          [
           "The Hunger Games: Mockingjay - Part 1"
          ],
          [
           "Transformers: Age of Extinction"
          ],
          [
           "Battle: Los Angeles"
          ],
          [
           "Predators"
          ],
          [
           "Chaos Walking"
          ],
          [
           "Dawn of the Planet of the Apes"
          ],
          [
           "The Purge"
          ],
          [
           "Terminator Genisys"
          ],
          [
           "Ant-Man"
          ],
          [
           "Prometheus"
          ],
          [
           "The Incredible Hulk"
          ],
          [
           "Chronicle"
          ],
          [
           "The Predator"
          ],
          [
           "Skyline"
          ],
          [
           "Star Wars: The Last Jedi"
          ],
          [
           "District 9"
          ],
          [
           "Jupiter Ascending"
          ],
          [
           "Star Trek"
          ],
          [
           "Blade Runner 2049"
          ],
          [
           "Dark Phoenix"
          ],
          [
           "The Hunger Games"
          ],
          [
           "Riddick"
          ],
          [
           "Predator"
          ],
          [
           "Power Rangers"
          ],
          [
           "What Happened to Monday"
          ],
          [
           "Project Almanac"
          ],
          [
           "Predestination"
          ],
          [
           "After Earth"
          ],
          [
           "Predator 2"
          ],
          [
           "Solo: A Star Wars Story"
          ],
          [
           "Gemini Man"
          ],
          [
           "The 5th Wave"
          ],
          [
           "Elysium"
          ]
         ],
         "hovertemplate": "genres=Science Fiction<br>revenue=%{x}<br>budget=%{y}<br>title=%{customdata[0]}<extra></extra>",
         "legendgroup": "Science Fiction",
         "marker": {
          "color": "#FFA15A",
          "symbol": "circle"
         },
         "mode": "markers",
         "name": "Science Fiction",
         "showlegend": true,
         "type": "scattergl",
         "x": [
          43900000,
          500000000,
          402027582,
          156497322,
          400671789,
          1518815515,
          500000000,
          297372261,
          855013954,
          477200000,
          386600138,
          582890172,
          312296056,
          288175335,
          4284903,
          752100229,
          1104000000,
          211819354,
          127233108,
          26943020,
          710644566,
          89328627,
          440603537,
          519311965,
          403354469,
          163712074,
          145000000,
          160542134,
          66984887,
          1332698830,
          210819611,
          183987723,
          385680446,
          259239658,
          252442974,
          691210692,
          98337295,
          98267558,
          142337240,
          27975429,
          33213241,
          4942449,
          243843127,
          57120318,
          392952373,
          173469516,
          109906372,
          286140700
         ],
         "xaxis": "x",
         "y": [
          146000000,
          110000000,
          200000000,
          190000000,
          165000000,
          220000000,
          2500000,
          61000000,
          116000000,
          125000000,
          170000000,
          175000000,
          61000000,
          62000000,
          20000000,
          125000000,
          210000000,
          70000000,
          40000000,
          125000000,
          170000000,
          3000000,
          155000000,
          130000000,
          130000000,
          150000000,
          15000000,
          88000000,
          10000000,
          200000000,
          30000000,
          176000003,
          150000000,
          150000000,
          200000000,
          75000000,
          38000000,
          15000000,
          100000000,
          20000000,
          12000000,
          5500000,
          130000000,
          35000000,
          250000000,
          138000000,
          38000000,
          115000000
         ],
         "yaxis": "y"
        },
        {
         "customdata": [
          [
           "Resident Evil: Welcome to Raccoon City"
          ],
          [
           "Scream"
          ],
          [
           "It Follows"
          ],
          [
           "The Conjuring: The Devil Made Me Do It"
          ],
          [
           "The Unholy"
          ],
          [
           "The Forever Purge"
          ],
          [
           "Halloween Kills"
          ],
          [
           "It Chapter Two"
          ],
          [
           "The Conjuring"
          ],
          [
           "The Conjuring 2"
          ],
          [
           "The Human Centipede (First Sequence)"
          ],
          [
           "Legion"
          ],
          [
           "The Nun"
          ],
          [
           "Spiral: From the Book of Saw"
          ],
          [
           "Martyrs"
          ],
          [
           "Escape Room: Tournament of Champions"
          ],
          [
           "The First Purge"
          ],
          [
           "Annabelle Comes Home"
          ],
          [
           "The Exorcist"
          ],
          [
           "Orphan"
          ],
          [
           "The New Mutants"
          ],
          [
           "It"
          ],
          [
           "The Texas Chainsaw Massacre"
          ],
          [
           "Insidious"
          ],
          [
           "Wrong Turn"
          ],
          [
           "Final Destination"
          ],
          [
           "Friday the 13th: The Final Chapter"
          ],
          [
           "Friday the 13th"
          ],
          [
           "Alien: Covenant"
          ],
          [
           "Candyman"
          ],
          [
           "A Quiet Place"
          ],
          [
           "Final Destination 2"
          ],
          [
           "Jeepers Creepers"
          ],
          [
           "Annabelle: Creation"
          ],
          [
           "Split"
          ],
          [
           "Friday the 13th"
          ],
          [
           "Final Destination 5"
          ],
          [
           "Paranormal Activity"
          ],
          [
           "Insidious: Chapter 2"
          ],
          [
           "The Texas Chainsaw Massacre: The Beginning"
          ],
          [
           "[REC]"
          ],
          [
           "Friday the 13th Part 2"
          ],
          [
           "Jason X"
          ],
          [
           "Child's Play"
          ],
          [
           "Final Destination 3"
          ],
          [
           "Saw"
          ],
          [
           "The Final Destination"
          ],
          [
           "Werewolves Within"
          ],
          [
           "Drag Me to Hell"
          ],
          [
           "Annabelle"
          ],
          [
           "As Above, So Below"
          ],
          [
           "Freddy vs. Jason"
          ],
          [
           "Doctor Sleep"
          ],
          [
           "Firestarter"
          ],
          [
           "Jeepers Creepers 2"
          ],
          [
           "Zombieland: Double Tap"
          ],
          [
           "The Curse of La Llorona"
          ],
          [
           "Brightburn"
          ],
          [
           "Sinister"
          ],
          [
           "The Purge: Anarchy"
          ],
          [
           "The Wolf of Snow Hollow"
          ],
          [
           "Insidious: Chapter 3"
          ],
          [
           "Child's Play 2"
          ],
          [
           "Seed of Chucky"
          ],
          [
           "House of Wax"
          ],
          [
           "Child's Play 3"
          ],
          [
           "Hereditary"
          ],
          [
           "The Shining"
          ],
          [
           "The Texas Chain Saw Massacre"
          ],
          [
           "Jeepers Creepers 3"
          ],
          [
           "Escape Room"
          ],
          [
           "Thir13en Ghosts"
          ],
          [
           "Insidious: The Last Key"
          ],
          [
           "Countdown"
          ],
          [
           "Friday the 13th Part VII: The New Blood"
          ],
          [
           "Oculus"
          ],
          [
           "Friday the 13th Part VI: Jason Lives"
          ],
          [
           "Friday the 13th Part VIII: Jason Takes Manhattan"
          ],
          [
           "The Evil Dead"
          ],
          [
           "Friday the 13th Part III"
          ],
          [
           "Paranormal Activity: Tokyo Night"
          ],
          [
           "Paranormal Activity 3"
          ],
          [
           "Saw II"
          ],
          [
           "Dead Silence"
          ],
          [
           "Jason Goes to Hell: The Final Friday"
          ],
          [
           "Cursed"
          ],
          [
           "The Hills Have Eyes"
          ],
          [
           "The Grudge"
          ],
          [
           "Friday the 13th: A New Beginning"
          ],
          [
           "28 Days Later"
          ],
          [
           "The Boy"
          ],
          [
           "Bordello of Blood"
          ],
          [
           "Saw III"
          ],
          [
           "Antebellum"
          ],
          [
           "The Cabin in the Woods"
          ],
          [
           "Hostel: Part II"
          ],
          [
           "Evil Dead"
          ],
          [
           "Paranormal Activity: The Marked Ones"
          ],
          [
           "Blade"
          ],
          [
           "P2"
          ],
          [
           "Saw IV"
          ],
          [
           "A Nightmare on Elm Street"
          ],
          [
           "The Amityville Horror"
          ],
          [
           "Child's Play"
          ],
          [
           "Midsommar"
          ],
          [
           "Jaws"
          ],
          [
           "Halloween"
          ],
          [
           "Cult of Chucky"
          ],
          [
           "Saw 3D"
          ],
          [
           "The Blair Witch Project"
          ],
          [
           "Semen Demon"
          ],
          [
           "A Nightmare on Elm Street Part 2: Freddy's Revenge"
          ],
          [
           "Van Helsing"
          ],
          [
           "Alien"
          ],
          [
           "Piranha"
          ],
          [
           "The Ring"
          ],
          [
           "Scream 4"
          ],
          [
           "A Nightmare on Elm Street"
          ],
          [
           "Rings"
          ],
          [
           "Ouija"
          ],
          [
           "Silent Hill"
          ],
          [
           "The Unborn"
          ],
          [
           "Mama"
          ],
          [
           "Hostel"
          ],
          [
           "The Witch"
          ],
          [
           "Saw V"
          ]
         ],
         "hovertemplate": "genres=Horror<br>revenue=%{x}<br>budget=%{y}<br>title=%{customdata[0]}<extra></extra>",
         "legendgroup": "Horror",
         "marker": {
          "color": "#19d3f3",
          "symbol": "circle"
         },
         "mode": "markers",
         "name": "Horror",
         "showlegend": true,
         "type": "scattergl",
         "x": [
          38600612,
          140000000,
          14674076,
          201000000,
          30763855,
          76994245,
          131647155,
          473122525,
          319494638,
          320392818,
          252207,
          67918658,
          365550119,
          40618920,
          1100000,
          44888959,
          137056262,
          231252591,
          441306145,
          77912251,
          49169594,
          701842551,
          107363905,
          97009150,
          28650575,
          112880294,
          32980880,
          91509154,
          240891763,
          77389310,
          340677200,
          90941129,
          59217789,
          306515884,
          278454358,
          59754601,
          157887643,
          194183034,
          161000000,
          107363905,
          32511655,
          21722776,
          16951798,
          44196684,
          118890272,
          103911669,
          186167139,
          250811,
          90810892,
          257047661,
          40100000,
          116643421,
          72281712,
          17080167,
          63102666,
          122801777,
          122033739,
          32893421,
          82515113,
          111928365,
          239828,
          104303851,
          35763605,
          24829644,
          68766121,
          20560255,
          80239658,
          44781695,
          30900000,
          3600000,
          155712077,
          68467960,
          167184112,
          48021766,
          19170001,
          44459951,
          19472057,
          14000000,
          29400000,
          36690067,
          4160000,
          207039844,
          147748505,
          22217407,
          15938065,
          19294901,
          69623713,
          183474602,
          21930418,
          85720385,
          64188367,
          5600000,
          164874275,
          7060384,
          71041255,
          35728183,
          97542952,
          86362372,
          131183530,
          7766240,
          139352633,
          57000000,
          108047131,
          44902237,
          47980982,
          470653000,
          253688035,
          2200000,
          136151680,
          248639099,
          1000000,
          30000000,
          300257475,
          104931801,
          16000000,
          249348933,
          97231420,
          115664037,
          83080890,
          103590271,
          100605135,
          76514050,
          146497771,
          81979826,
          40423945,
          113864059
         ],
         "xaxis": "x",
         "y": [
          40000000,
          24000000,
          2000000,
          39000000,
          10000000,
          18000000,
          20000000,
          79000000,
          13000000,
          40000000,
          2011799,
          26000000,
          22000000,
          20000000,
          6500000,
          15000000,
          13000000,
          30000000,
          11000000,
          20000000,
          67000000,
          35000000,
          9500000,
          1500000,
          12600000,
          23000000,
          2600000,
          19000000,
          97000000,
          25000000,
          17000000,
          26000000,
          10000000,
          15000000,
          9000000,
          550000,
          47000000,
          215000,
          5000000,
          16000000,
          1500000,
          1250000,
          11000000,
          9000000,
          25000000,
          1200000,
          40000000,
          6500000,
          30000000,
          6500000,
          5000000,
          30000000,
          45000000,
          15000000,
          17000000,
          42000000,
          9000000,
          6000000,
          3000000,
          9000000,
          2000000,
          10000000,
          13000000,
          12000000,
          40000000,
          13000000,
          10000000,
          19000000,
          85000,
          6200000,
          9000000,
          42000000,
          10000000,
          6500000,
          2800000,
          5000000,
          3000000,
          5000000,
          350000,
          4000000,
          1350000,
          5000000,
          4000000,
          20000000,
          3000000,
          35000000,
          15000000,
          10000000,
          2200000,
          5000000,
          10000000,
          15000000,
          10000000,
          15000000,
          30000000,
          10200000,
          17000000,
          5000000,
          45000000,
          3500000,
          10000000,
          1800000,
          19000000,
          10000000,
          9000000,
          7000000,
          10000000,
          6500000,
          20000000,
          60000,
          10000,
          3000000,
          160000000,
          11000000,
          660000,
          48000000,
          40000000,
          35000000,
          25000000,
          5000000,
          50000000,
          16000000,
          15000000,
          4800000,
          3500000,
          10800000
         ],
         "yaxis": "y"
        },
        {
         "customdata": [
          [
           "Pirates of the Caribbean: On Stranger Tides"
          ],
          [
           "Pirates of the Caribbean: Dead Man's Chest"
          ],
          [
           "Avengers: Infinity War"
          ],
          [
           "Pirates of the Caribbean: The Curse of the Black Pearl"
          ],
          [
           "Pirates of the Caribbean: At World's End"
          ],
          [
           "Pirates of the Caribbean: Dead Men Tell No Tales"
          ],
          [
           "Avengers: Endgame"
          ],
          [
           "No Time to Die"
          ],
          [
           "Harry Potter and the Philosopher's Stone"
          ],
          [
           "Harry Potter and the Goblet of Fire"
          ],
          [
           "Harry Potter and the Chamber of Secrets"
          ],
          [
           "Harry Potter and the Half-Blood Prince"
          ],
          [
           "Harry Potter and the Prisoner of Azkaban"
          ],
          [
           "Charlie and the Chocolate Factory"
          ],
          [
           "Iron Man 2"
          ],
          [
           "Harry Potter and the Order of the Phoenix"
          ],
          [
           "Captain America: Civil War"
          ],
          [
           "The Twilight Saga: Eclipse"
          ],
          [
           "Harry Potter and the Deathly Hallows: Part 1"
          ],
          [
           "Big Hero 6"
          ],
          [
           "Mulan"
          ],
          [
           "Thor"
          ],
          [
           "Percy Jackson & the Olympians: The Lightning Thief"
          ],
          [
           "Vicky and Her Mystery"
          ],
          [
           "Journey 2: The Mysterious Island"
          ],
          [
           "Interstellar"
          ],
          [
           "Guardians of the Galaxy Vol. 2"
          ],
          [
           "The Lion King"
          ],
          [
           "Jumanji: The Next Level"
          ],
          [
           "The Twilight Saga: Breaking Dawn - Part 2"
          ],
          [
           "The Hobbit: An Unexpected Journey"
          ],
          [
           "The Twilight Saga: Breaking Dawn - Part 1"
          ],
          [
           "The Lord of the Rings: The Fellowship of the Ring"
          ],
          [
           "The Chronicles of Narnia: The Lion, the Witch and the Wardrobe"
          ],
          [
           "The Lord of the Rings: The Two Towers"
          ],
          [
           "Clash of the Titans"
          ],
          [
           "Cirque du Freak: The Vampire's Assistant"
          ],
          [
           "Aladdin"
          ],
          [
           "The Lord of the Rings: The Return of the King"
          ],
          [
           "The Twilight Saga: New Moon"
          ],
          [
           "A Bug's Life"
          ],
          [
           "The Emperor's New Groove"
          ],
          [
           "Brother Bear"
          ],
          [
           "G.I. Joe: The Rise of Cobra"
          ],
          [
           "The Good Dinosaur"
          ],
          [
           "Ice Age: Collision Course"
          ],
          [
           "Prince of Persia: The Sands of Time"
          ],
          [
           "One Hundred and One Dalmatians"
          ],
          [
           "Green Lantern"
          ],
          [
           "Universal Soldier: Regeneration"
          ],
          [
           "The Secret Life of Pets 2"
          ],
          [
           "The Chronicles of Narnia: Prince Caspian"
          ],
          [
           "Star Wars"
          ],
          [
           "Conan the Barbarian"
          ],
          [
           "Season of the Witch"
          ],
          [
           "Paul"
          ],
          [
           "Jumanji: Welcome to the Jungle"
          ],
          [
           "Troy"
          ],
          [
           "Rio 2"
          ],
          [
           "The Warrior's Way"
          ],
          [
           "TRON: Legacy"
          ],
          [
           "Robin Hood"
          ],
          [
           "The Call of the Wild"
          ],
          [
           "Fantastic Four: Rise of the Silver Surfer"
          ],
          [
           "The Mummy Returns"
          ],
          [
           "Exodus: Gods and Kings"
          ],
          [
           "The Adventures of Sharkboy and Lavagirl"
          ],
          [
           "A Dog's Purpose"
          ],
          [
           "The Mummy"
          ],
          [
           "Valerian and the City of a Thousand Planets"
          ],
          [
           "The Wizard of Oz"
          ],
          [
           "Alice Through the Looking Glass"
          ],
          [
           "The Hunger Games: Catching Fire"
          ],
          [
           "Back to the Future"
          ],
          [
           "The Chronicles of Narnia: The Voyage of the Dawn Treader"
          ],
          [
           "Finding Dory"
          ],
          [
           "Sherlock Holmes: A Game of Shadows"
          ],
          [
           "Treasure Planet"
          ],
          [
           "Sausage Party"
          ],
          [
           "Seventh Son"
          ],
          [
           "The Fox and the Hound"
          ],
          [
           "Jurassic Park"
          ],
          [
           "King Kong"
          ],
          [
           "Dora and the Lost City of Gold"
          ],
          [
           "Casino Royale"
          ],
          [
           "Tomorrowland"
          ],
          [
           "13 Assassins"
          ],
          [
           "Life of Pi"
          ],
          [
           "The Magnificent Seven"
          ],
          [
           "The Fifth Element"
          ],
          [
           "Percy Jackson: Sea of Monsters"
          ],
          [
           "Snow White and the Huntsman"
          ],
          [
           "Ong Bak 2"
          ],
          [
           "The Mummy: Tomb of the Dragon Emperor"
          ],
          [
           "Night at the Museum: Battle of the Smithsonian"
          ],
          [
           "The Matrix Reloaded"
          ],
          [
           "The Bear"
          ],
          [
           "Pocahontas"
          ],
          [
           "Allegiant"
          ],
          [
           "The Matrix Revolutions"
          ],
          [
           "Goosebumps"
          ],
          [
           "Alpha"
          ],
          [
           "Bad Boys II"
          ]
         ],
         "hovertemplate": "genres=Adventure<br>revenue=%{x}<br>budget=%{y}<br>title=%{customdata[0]}<extra></extra>",
         "legendgroup": "Adventure",
         "marker": {
          "color": "#FF6692",
          "symbol": "circle"
         },
         "mode": "markers",
         "name": "Adventure",
         "showlegend": true,
         "type": "scattergl",
         "x": [
          1045713802,
          1065659812,
          2046239637,
          655011224,
          961000000,
          794861794,
          2797800564,
          774153007,
          976475550,
          895921036,
          876688482,
          933959197,
          789804554,
          474968763,
          623933331,
          938212738,
          1153296293,
          698491347,
          954305868,
          657827828,
          66800000,
          449326618,
          226497209,
          4181043,
          355692760,
          701729206,
          863756051,
          1667635327,
          800059707,
          829000000,
          1021103568,
          712171856,
          871368364,
          745013115,
          926287400,
          493214993,
          28169671,
          1047612394,
          1118888979,
          709827462,
          363258859,
          169327687,
          250397798,
          302469017,
          332207671,
          408579038,
          336365676,
          85000000,
          219851172,
          875386,
          155152550,
          419665568,
          775398007,
          63523283,
          91627228,
          97984015,
          962102237,
          497409852,
          500188435,
          11087569,
          400062763,
          321669741,
          107604626,
          301913131,
          443280904,
          268031828,
          71992655,
          205035819,
          415885488,
          225874228,
          33754967,
          299457024,
          847423452,
          381109762,
          415686217,
          1028570889,
          334615000,
          109578115,
          140705322,
          114178613,
          29800000,
          920100000,
          562363449,
          119682635,
          599045960,
          209154322,
          17555141,
          609016565,
          162360636,
          263920180,
          199850315,
          396600000,
          8936663,
          403449830,
          413106170,
          738599701,
          138241022,
          346079773,
          179246868,
          424988211,
          158162788,
          35808437,
          273339556
         ],
         "xaxis": "x",
         "y": [
          380000000,
          200000000,
          300000000,
          140000000,
          300000000,
          230000000,
          356000000,
          250000000,
          125000000,
          150000000,
          100000000,
          250000000,
          130000000,
          150000000,
          200000000,
          150000000,
          250000000,
          68000000,
          250000000,
          165000000,
          200000000,
          150000000,
          95000000,
          6500000,
          79000000,
          165000000,
          200000000,
          260000000,
          125000000,
          120000000,
          250000000,
          110000000,
          93000000,
          180000000,
          79000000,
          125000000,
          40000000,
          183000000,
          94000000,
          50000000,
          120000000,
          100000000,
          128000000,
          175000000,
          175000000,
          105000000,
          200000000,
          4000000,
          200000000,
          14000000,
          80000000,
          225000000,
          11000000,
          90000000,
          40000000,
          40000000,
          90000000,
          175000000,
          103000000,
          42000000,
          170000000,
          200000000,
          109000000,
          130000000,
          98000000,
          140000000,
          50000000,
          22000000,
          80000000,
          177200000,
          2777000,
          170000000,
          130000000,
          19000000,
          155000000,
          200000000,
          125000000,
          140000000,
          19000000,
          95000000,
          12000000,
          63000000,
          207000000,
          49000000,
          150000000,
          190000000,
          6000000,
          120000000,
          90000000,
          90000000,
          90000000,
          170000000,
          8500000,
          145000000,
          150000000,
          150000000,
          25000000,
          55000000,
          110000000,
          150000000,
          58000000,
          51000000,
          130000000
         ],
         "yaxis": "y"
        },
        {
         "customdata": [
          [
           "Clifford the Big Red Dog"
          ],
          [
           "Space Jam: A New Legacy"
          ],
          [
           "Coco"
          ],
          [
           "The SpongeBob Movie: Sponge on the Run"
          ],
          [
           "The Lion King"
          ],
          [
           "Frozen II"
          ],
          [
           "Peter Rabbit 2: The Runaway"
          ],
          [
           "Toy Story 4"
          ],
          [
           "Cinderella"
          ],
          [
           "Maleficent: Mistress of Evil"
          ],
          [
           "Wreck-It Ralph"
          ],
          [
           "Ralph Breaks the Internet"
          ],
          [
           "Alice in Wonderland"
          ],
          [
           "Dinosaur"
          ],
          [
           "Despicable Me"
          ],
          [
           "Madagascar"
          ],
          [
           "The Jungle Book"
          ],
          [
           "Beauty and the Beast"
          ],
          [
           "Penguins of Madagascar"
          ],
          [
           "Tarzan"
          ],
          [
           "101 Dalmatians"
          ],
          [
           "The SpongeBob SquarePants Movie"
          ],
          [
           "Hotel Transylvania 3: Summer Vacation"
          ],
          [
           "How the Grinch Stole Christmas"
          ],
          [
           "Madagascar: Escape 2 Africa"
          ],
          [
           "Stuart Little"
          ],
          [
           "The Addams Family"
          ],
          [
           "Hotel Transylvania 2"
          ],
          [
           "The Iron Giant"
          ],
          [
           "Rise of the Guardians"
          ],
          [
           "Onward"
          ],
          [
           "Lady and the Tramp"
          ],
          [
           "Abominable"
          ],
          [
           "The SpongeBob Movie: Sponge Out of Water"
          ],
          [
           "Bee Movie"
          ],
          [
           "The Jungle Book"
          ],
          [
           "Minions"
          ],
          [
           "The Road to El Dorado"
          ],
          [
           "The Wild"
          ],
          [
           "Trolls"
          ],
          [
           "Soul Surfer"
          ],
          [
           "The Spiderwick Chronicles"
          ],
          [
           "Gifted"
          ],
          [
           "Ella Enchanted"
          ],
          [
           "ParaNorman"
          ],
          [
           "Where the Wild Things Are"
          ],
          [
           "The Rugrats Movie"
          ],
          [
           "Dolittle"
          ],
          [
           "Willy Wonka & the Chocolate Factory"
          ],
          [
           "Marmaduke"
          ],
          [
           "Sinbad: Legend of the Seven Seas"
          ]
         ],
         "hovertemplate": "genres=Family<br>revenue=%{x}<br>budget=%{y}<br>title=%{customdata[0]}<extra></extra>",
         "legendgroup": "Family",
         "marker": {
          "color": "#B6E880",
          "symbol": "circle"
         },
         "mode": "markers",
         "name": "Family",
         "showlegend": true,
         "type": "scattergl",
         "x": [
          67000000,
          162892228,
          800526015,
          4700000,
          763455561,
          1450026933,
          153000000,
          1073394593,
          263591415,
          491570967,
          471222889,
          529221154,
          1025467110,
          354248063,
          533679475,
          542063846,
          205843612,
          1263521126,
          373552094,
          448191819,
          320689294,
          140161792,
          528600000,
          345141403,
          603900354,
          300135367,
          203044905,
          473226958,
          23159305,
          306941670,
          141592359,
          36359037,
          180289970,
          311594032,
          287594577,
          966550600,
          1156730962,
          76432727,
          102338515,
          346864462,
          47088990,
          164170327,
          40343446,
          27388767,
          107139399,
          100140916,
          100491683,
          245692007,
          4000000,
          83761844,
          80767884
         ],
         "xaxis": "x",
         "y": [
          64000000,
          161900000,
          175000000,
          60000000,
          45000000,
          150000000,
          45000000,
          175000000,
          2900000,
          185000000,
          165000000,
          175000000,
          200000000,
          127500000,
          69000000,
          75000000,
          4000000,
          160000000,
          132000000,
          130000000,
          54000000,
          30000000,
          80000000,
          123000000,
          150000000,
          133000000,
          40000000,
          80000000,
          70000000,
          145000000,
          200000000,
          4000000,
          75000000,
          74000000,
          150000000,
          175000000,
          74000000,
          95000000,
          80000000,
          125000000,
          18000000,
          90000000,
          7000000,
          31000000,
          60000000,
          100000000,
          30000000,
          175000000,
          3000000,
          50000000,
          60000000
         ],
         "yaxis": "y"
        },
        {
         "customdata": [
          [
           "Jackass Forever"
          ],
          [
           "Cruella"
          ],
          [
           "Free Guy"
          ],
          [
           "What Men Want"
          ],
          [
           "Tom & Jerry"
          ],
          [
           "Project X"
          ],
          [
           "Sinkhole"
          ],
          [
           "The Proposal"
          ],
          [
           "The Hangover"
          ],
          [
           "Ted 2"
          ],
          [
           "Scary Movie"
          ],
          [
           "The Parent Trap"
          ],
          [
           "Don't Look Up"
          ],
          [
           "American Pie Presents: The Book of Love"
          ],
          [
           "Grown Ups"
          ],
          [
           "Sex and the City"
          ],
          [
           "Blended"
          ],
          [
           "The Hangover Part II"
          ],
          [
           "Scary Movie 2"
          ],
          [
           "Ted"
          ],
          [
           "Grown Ups 2"
          ],
          [
           "Norbit"
          ],
          [
           "Zack and Miri Make a Porno"
          ],
          [
           "Shrek Forever After"
          ],
          [
           "A Haunted House 2"
          ],
          [
           "Instant Family"
          ],
          [
           "Leprechaun"
          ],
          [
           "The Hangover Part III"
          ],
          [
           "Scary Movie 5"
          ],
          [
           "Leprechaun 2"
          ],
          [
           "Bride of Chucky"
          ],
          [
           "No Strings Attached"
          ],
          [
           "White Chicks"
          ],
          [
           "Just Go with It"
          ],
          [
           "Sex Tape"
          ],
          [
           "17 Again"
          ],
          [
           "A Haunted House"
          ],
          [
           "Zombieland"
          ],
          [
           "Parasite"
          ],
          [
           "Superbad"
          ],
          [
           "Let's Be Cops"
          ],
          [
           "Ready or Not"
          ],
          [
           "Beverly Hills Chihuahua"
          ],
          [
           "(500) Days of Summer"
          ],
          [
           "Scary Movie 3"
          ],
          [
           "Stan Helsing"
          ],
          [
           "Don't Be a Menace to South Central While Drinking Your Juice in the Hood"
          ],
          [
           "Enchanted"
          ],
          [
           "Scouts Guide to the Zombie Apocalypse"
          ],
          [
           "Yes Man"
          ],
          [
           "Movie 43"
          ],
          [
           "American Pie"
          ],
          [
           "American Reunion"
          ],
          [
           "Jennifer's Body"
          ],
          [
           "I Love You, Beth Cooper"
          ],
          [
           "The Cat in the Hat"
          ],
          [
           "American Pie Presents: Beta House"
          ],
          [
           "American Pie 2"
          ],
          [
           "The Devil Wears Prada"
          ],
          [
           "The Three Stooges"
          ],
          [
           "Knives Out"
          ],
          [
           "Mean Girls"
          ],
          [
           "Wild Child"
          ],
          [
           "That's My Boy"
          ],
          [
           "Couples Retreat"
          ],
          [
           "Confessions of a Shopaholic"
          ],
          [
           "Marley & Me"
          ],
          [
           "The Truman Show"
          ],
          [
           "American Pie Presents: The Naked Mile"
          ],
          [
           "Dark Shadows"
          ],
          [
           "World's Greatest Dad"
          ],
          [
           "Baywatch"
          ],
          [
           "Jackass 3D"
          ],
          [
           "The Change-Up"
          ],
          [
           "Alvin and the Chipmunks"
          ],
          [
           "Scary Movie 4"
          ],
          [
           "Year One"
          ],
          [
           "Matilda"
          ],
          [
           "The Mermaid"
          ],
          [
           "Nacho Libre"
          ],
          [
           "Hannah Montana: The Movie"
          ],
          [
           "The Other Guys"
          ],
          [
           "Alvin and the Chipmunks: Chipwrecked"
          ],
          [
           "Little Man"
          ],
          [
           "Tooth Fairy"
          ],
          [
           "Men in Black: International"
          ],
          [
           "Forrest Gump"
          ],
          [
           "Home Alone 2: Lost in New York"
          ],
          [
           "Dirty Grandpa"
          ],
          [
           "Vacation"
          ],
          [
           "Sex and the City 2"
          ],
          [
           "The Watch"
          ],
          [
           "Life As We Know It"
          ],
          [
           "Funny People"
          ],
          [
           "The Princess Diaries"
          ],
          [
           "Pitch Perfect 2"
          ],
          [
           "He's Just Not That Into You"
          ],
          [
           "Bride Wars"
          ],
          [
           "Dumb and Dumber To"
          ],
          [
           "The French Dispatch"
          ],
          [
           "Piranha 3D"
          ],
          [
           "Alvin and the Chipmunks: The Squeakquel"
          ],
          [
           "American Wedding"
          ],
          [
           "Life Is Beautiful"
          ],
          [
           "Easy A"
          ],
          [
           "War Dogs"
          ],
          [
           "Addams Family Values"
          ],
          [
           "Mamma Mia!"
          ],
          [
           "Due Date"
          ],
          [
           "Teen Wolf"
          ],
          [
           "Ghostbusters"
          ],
          [
           "The Princess Diaries 2: Royal Engagement"
          ],
          [
           "The Girl Next Door"
          ],
          [
           "Jack and Jill"
          ],
          [
           "Love and Monsters"
          ],
          [
           "The Virginity Hit"
          ]
         ],
         "hovertemplate": "genres=Comedy<br>revenue=%{x}<br>budget=%{y}<br>title=%{customdata[0]}<extra></extra>",
         "legendgroup": "Comedy",
         "marker": {
          "color": "#FF97FF",
          "symbol": "circle"
         },
         "mode": "markers",
         "name": "Comedy",
         "showlegend": true,
         "type": "scattergl",
         "x": [
          80340218,
          233503234,
          331096766,
          69766483,
          132000000,
          102731865,
          17,
          317375031,
          469310836,
          215863606,
          278019771,
          92108518,
          784681,
          5021219,
          271430189,
          415252786,
          127994610,
          586764305,
          141220678,
          549368315,
          247022278,
          159313561,
          42105111,
          752600867,
          25343661,
          14700000,
          8556940,
          362000072,
          78378744,
          2260622,
          50671850,
          149228077,
          113086475,
          214945591,
          126069509,
          136267476,
          60141683,
          102391540,
          257591776,
          170812526,
          136621271,
          57615777,
          149281606,
          60781545,
          220673217,
          1400000,
          20109115,
          340487652,
          14860766,
          223241637,
          32438988,
          235483004,
          234989584,
          31556061,
          15345201,
          133818283,
          18610260,
          287553595,
          326551094,
          54819301,
          309232797,
          129042871,
          21972336,
          58058367,
          171844840,
          108332743,
          242717113,
          264118201,
          27500000,
          245527149,
          221805,
          177856751,
          117224271,
          75450437,
          361366633,
          178262620,
          62357900,
          33459416,
          553810228,
          99255460,
          155545279,
          170432927,
          342695435,
          101595121,
          112462508,
          252608480,
          677387716,
          358994850,
          94073028,
          104384188,
          290745055,
          68267862,
          105734416,
          71585235,
          165335153,
          287506194,
          178866158,
          115375850,
          169837010,
          46000000,
          83188165,
          443140005,
          231449203,
          230098753,
          75026327,
          86234523,
          48919043,
          609841637,
          211780824,
          80000000,
          296187079,
          134734481,
          31635150,
          149673788,
          1070714,
          636706
         ],
         "xaxis": "x",
         "y": [
          10000000,
          200000000,
          110000000,
          20000000,
          50000000,
          12000000,
          15,
          40000000,
          35000000,
          68000000,
          19000000,
          15000000,
          75000000,
          7000000,
          80000000,
          65000000,
          40000000,
          80000000,
          45000000,
          50000000,
          80000000,
          10000000,
          24000000,
          165000000,
          4000000,
          48000000,
          900000,
          103000000,
          20000000,
          2000000,
          25000000,
          25000000,
          37000000,
          80000000,
          40000000,
          20000000,
          2500000,
          23600000,
          11363000,
          20000000,
          17000000,
          6000000,
          20000000,
          7500000,
          48000000,
          365000,
          3800000,
          85000000,
          15000000,
          70000000,
          6000000,
          11000000,
          50000000,
          16000000,
          18000000,
          109000000,
          10000000,
          30000000,
          35000000,
          30000000,
          40000000,
          17000000,
          20000000,
          70000000,
          70000000,
          40000000,
          60000000,
          60000000,
          15000000,
          150000000,
          10000000,
          69000000,
          20000000,
          52000000,
          60000000,
          45000000,
          60000000,
          36000000,
          60720000,
          35000000,
          35000000,
          100000000,
          75000000,
          64000000,
          48000000,
          110000000,
          55000000,
          18000000,
          11500000,
          31000000,
          100000000,
          68000000,
          38000000,
          75000000,
          37000000,
          29000000,
          40000000,
          30000000,
          40000000,
          25000000,
          24000000,
          75000000,
          55000000,
          20000000,
          8000000,
          40000000,
          47000000,
          52000000,
          65000000,
          1200000,
          30000000,
          40000000,
          21000000,
          79000000,
          30000000,
          2000000
         ],
         "yaxis": "y"
        },
        {
         "customdata": [
          [
           "Chernobyl: Abyss"
          ],
          [
           "Hacksaw Ridge"
          ],
          [
           "The Help"
          ],
          [
           "Ava"
          ],
          [
           "West Side Story"
          ],
          [
           "Titanic"
          ],
          [
           "Fifty Shades of Grey"
          ],
          [
           "Dog"
          ],
          [
           "House of Gucci"
          ],
          [
           "Me Before You"
          ],
          [
           "King Richard"
          ],
          [
           "Fifty Shades Freed"
          ],
          [
           "Love & Other Drugs"
          ],
          [
           "Creed II"
          ],
          [
           "The Shack"
          ],
          [
           "Law Abiding Citizen"
          ],
          [
           "Fifty Shades Darker"
          ],
          [
           "The Intouchables"
          ],
          [
           "Creed"
          ],
          [
           "The Passion of the Christ"
          ],
          [
           "The Dark Knight"
          ],
          [
           "Django Unchained"
          ],
          [
           "Warrior"
          ],
          [
           "The Blind Side"
          ],
          [
           "The Grey"
          ],
          [
           "Brothers"
          ],
          [
           "I Am Legend"
          ],
          [
           "Along with the Gods: The Two Worlds"
          ],
          [
           "Inglourious Basterds"
          ],
          [
           "Rocky IV"
          ],
          [
           "I'm Not Ashamed"
          ],
          [
           "The Godfather"
          ],
          [
           "Hidden Figures"
          ],
          [
           "Miracles from Heaven"
          ],
          [
           "The Shawshank Redemption"
          ],
          [
           "Rocky"
          ],
          [
           "Bad Lieutenant: Port of Call - New Orleans"
          ],
          [
           "Arrival"
          ],
          [
           "The Martian"
          ],
          [
           "War for the Planet of the Apes"
          ],
          [
           "Knock Knock"
          ],
          [
           "Straight Outta Compton"
          ],
          [
           "Annette"
          ],
          [
           "Brian Banks"
          ],
          [
           "Titane"
          ],
          [
           "Ford v Ferrari"
          ],
          [
           "Sleepy Hollow"
          ],
          [
           "The Ten Commandments: The Movie"
          ],
          [
           "Lolita"
          ],
          [
           "Paul, Apostle of Christ"
          ],
          [
           "Fireproof"
          ],
          [
           "Fight Club"
          ],
          [
           "The Ten Commandments"
          ],
          [
           "Shutter Island"
          ],
          [
           "The Godfather: Part II"
          ],
          [
           "Drive"
          ],
          [
           "Saving Private Ryan"
          ],
          [
           "Blood Diamond"
          ],
          [
           "Rocky III"
          ],
          [
           "Hachi: A Dog's Tale"
          ],
          [
           "God's Not Dead 2"
          ],
          [
           "The Invisible Guest"
          ],
          [
           "Red Tails"
          ],
          [
           "Along with the Gods: The Last 49 Days"
          ],
          [
           "The NeverEnding Story"
          ],
          [
           "Men of Honor"
          ],
          [
           "War Room"
          ],
          [
           "Prisoners"
          ],
          [
           "Rocky II"
          ],
          [
           "Whiplash"
          ],
          [
           "Kingdom of Heaven"
          ],
          [
           "Catch Me If You Can"
          ],
          [
           "Stillwater"
          ],
          [
           "City of God"
          ],
          [
           "Labor Day"
          ],
          [
           "3 Idiots"
          ],
          [
           "Dear Evan Hansen"
          ],
          [
           "Up & Away"
          ],
          [
           "The Pursuit of Happyness"
          ],
          [
           "God's Not Dead"
          ],
          [
           "Schindler's List"
          ],
          [
           "The Villainess"
          ],
          [
           "Pride & Prejudice"
          ],
          [
           "Kama Sutra: A Tale of Love"
          ],
          [
           "Facing the Giants"
          ],
          [
           "Passengers"
          ],
          [
           "The Hunted"
          ],
          [
           "Never Back Down"
          ],
          [
           "Step Up 3D"
          ],
          [
           "The Curious Case of Benjamin Button"
          ],
          [
           "90 Minutes in Heaven"
          ],
          [
           "A Walk to Remember"
          ],
          [
           "Noah"
          ],
          [
           "Courageous"
          ],
          [
           "A Dog's Way Home"
          ],
          [
           "Heaven Is for Real"
          ]
         ],
         "hovertemplate": "genres=Drama<br>revenue=%{x}<br>budget=%{y}<br>title=%{customdata[0]}<extra></extra>",
         "legendgroup": "Drama",
         "marker": {
          "color": "#FECB52",
          "symbol": "circle"
         },
         "mode": "markers",
         "name": "Drama",
         "showlegend": true,
         "type": "scattergl",
         "x": [
          6459306,
          175302354,
          216639112,
          500000,
          74530532,
          2187463944,
          571006128,
          77263354,
          151758425,
          207945075,
          30000000,
          368307760,
          102820008,
          214215889,
          92924405,
          126690726,
          378827494,
          426588510,
          173567581,
          611899420,
          1004558444,
          425368238,
          23308615,
          309208309,
          77278331,
          43318349,
          585410052,
          125983972,
          321457747,
          300473716,
          2000000,
          245066411,
          230698791,
          73983359,
          28341469,
          117250402,
          10589102,
          203388186,
          630161890,
          488533726,
          6341684,
          201634991,
          3642692,
          4300000,
          5115725,
          225508210,
          206071502,
          37070177,
          1071255,
          22525668,
          33456317,
          100853753,
          122700000,
          294800000,
          102600000,
          78054825,
          481840909,
          171720398,
          270000000,
          46749646,
          23507567,
          30000000,
          50365377,
          112790210,
          20158808,
          48814909,
          67790117,
          122126687,
          85182160,
          13092000,
          218122627,
          352114312,
          19672073,
          30641770,
          20275812,
          70000000,
          19046191,
          479226,
          307077295,
          29789000,
          321365567,
          8737458,
          121147947,
          4109095,
          10178331,
          303144152,
          34234008,
          41627431,
          159291809,
          333932083,
          4842699,
          47494916,
          362637473,
          34522221,
          17643857,
          101332962
         ],
         "xaxis": "x",
         "y": [
          9100000,
          40000000,
          25000000,
          3000000,
          100000000,
          200000000,
          40000000,
          20000000,
          75000000,
          20000000,
          50000000,
          55000000,
          30000000,
          50000000,
          20000000,
          53000000,
          55000000,
          13000000,
          37000000,
          30000000,
          185000000,
          100000000,
          25000000,
          29000000,
          25000000,
          26000000,
          150000000,
          18300000,
          70000000,
          31000000,
          1500000,
          6000000,
          25000000,
          16000000,
          25000000,
          1000000,
          25000000,
          47000000,
          108000000,
          150000000,
          2500000,
          28000000,
          15500000,
          10000000,
          6600000,
          97600000,
          100000000,
          39307171,
          62000000,
          5000000,
          500000,
          63000000,
          13000000,
          80000000,
          13000000,
          15000000,
          70000000,
          100000000,
          17000000,
          16000000,
          5000000,
          4000000,
          58000000,
          18300000,
          27000000,
          82343495,
          3000000,
          46000000,
          7000000,
          3300000,
          130000000,
          52000000,
          20000000,
          3300000,
          18000000,
          9000000,
          27500000,
          2176270,
          55000000,
          17000000,
          22000000,
          125000,
          28000000,
          3000000,
          100000,
          110000000,
          55000000,
          20000000,
          30000000,
          150000000,
          5000000,
          11800000,
          125000000,
          1000000,
          18000000,
          12000000
         ],
         "yaxis": "y"
        },
        {
         "customdata": [
          [
           "After We Fell"
          ],
          [
           "Dark Spell"
          ],
          [
           "Marry Me"
          ],
          [
           "After"
          ],
          [
           "The Princess and the Frog"
          ],
          [
           "Corpse Bride"
          ],
          [
           "Beauty and the Beast"
          ],
          [
           "Call Me by Your Name"
          ],
          [
           "Overboard"
          ],
          [
           "White Snake"
          ],
          [
           "Cinderella"
          ],
          [
           "Five Feet Apart"
          ],
          [
           "Fifty Shades of Black"
          ],
          [
           "Focus"
          ],
          [
           "The Notebook"
          ],
          [
           "What's Eating Gilbert Grape"
          ],
          [
           "Pretty Woman"
          ],
          [
           "Flipped"
          ],
          [
           "The Mask"
          ],
          [
           "The Fault in Our Stars"
          ],
          [
           "Friends with Benefits"
          ],
          [
           "The Next Three Days"
          ]
         ],
         "hovertemplate": "genres=Romance<br>revenue=%{x}<br>budget=%{y}<br>title=%{customdata[0]}<extra></extra>",
         "legendgroup": "Romance",
         "marker": {
          "color": "#636efa",
          "symbol": "circle"
         },
         "mode": "markers",
         "name": "Romance",
         "showlegend": true,
         "type": "scattergl",
         "x": [
          21500000,
          532054,
          44000000,
          69497587,
          270997378,
          118133252,
          424967620,
          41063475,
          91244913,
          61631776,
          543514353,
          91500000,
          21164799,
          153962963,
          115603229,
          10032765,
          463406268,
          1755212,
          351583407,
          307166834,
          149542245,
          51148651
         ],
         "xaxis": "x",
         "y": [
          14000000,
          90,
          23000000,
          14000000,
          105000000,
          40000000,
          25000000,
          4000000,
          12000000,
          11936735,
          95000000,
          7000000,
          20000000,
          50100000,
          29000000,
          11000000,
          14000000,
          14000000,
          23000000,
          12000000,
          35000000,
          30000000
         ],
         "yaxis": "y"
        },
        {
         "customdata": [
          [
           "Old"
          ],
          [
           "Don't Breathe 2"
          ],
          [
           "Taken 3"
          ],
          [
           "Last Night in Soho"
          ],
          [
           "Malignant"
          ],
          [
           "John Wick: Chapter 2"
          ],
          [
           "Bad Boys for Life"
          ],
          [
           "The Expendables"
          ],
          [
           "The Equalizer"
          ],
          [
           "Angels & Demons"
          ],
          [
           "Those Who Wish Me Dead"
          ],
          [
           "Super 8"
          ],
          [
           "Limitless"
          ],
          [
           "Now You See Me"
          ],
          [
           "Rise of the Planet of the Apes"
          ],
          [
           "The Little Things"
          ],
          [
           "The A-Team"
          ],
          [
           "I Spit on Your Grave"
          ],
          [
           "Don't Breathe"
          ],
          [
           "Ghost Rider"
          ],
          [
           "The Vatican Tapes"
          ],
          [
           "The Hitman's Bodyguard"
          ],
          [
           "Glass"
          ],
          [
           "The Skin I Live In"
          ],
          [
           "Contraband"
          ],
          [
           "Pulp Fiction"
          ],
          [
           "The Happening"
          ],
          [
           "Truth or Dare"
          ],
          [
           "Battleship"
          ],
          [
           "No Escape"
          ],
          [
           "Now You See Me 2"
          ],
          [
           "[REC]²"
          ],
          [
           "The Invisible Man"
          ],
          [
           "State of Play"
          ],
          [
           "[REC]⁴ Apocalypse"
          ],
          [
           "Crawl"
          ],
          [
           "American Psycho"
          ],
          [
           "The Handmaiden"
          ],
          [
           "Pandora"
          ],
          [
           "Source Code"
          ]
         ],
         "hovertemplate": "genres=Thriller<br>revenue=%{x}<br>budget=%{y}<br>title=%{customdata[0]}<extra></extra>",
         "legendgroup": "Thriller",
         "marker": {
          "color": "#EF553B",
          "symbol": "circle"
         },
         "mode": "markers",
         "name": "Thriller",
         "showlegend": true,
         "type": "scattergl",
         "x": [
          90112510,
          45000000,
          325771424,
          22957625,
          24640084,
          171539887,
          426505244,
          274470394,
          192330738,
          485930816,
          23384502,
          260095986,
          161849455,
          351723989,
          482860185,
          29942746,
          177238796,
          572809,
          159047649,
          228738393,
          1784763,
          176586701,
          246941965,
          33750478,
          96262212,
          214179088,
          163403799,
          95330493,
          303025485,
          54418872,
          334901337,
          18469680,
          130234661,
          87812371,
          4915757,
          89203432,
          34266564,
          37767206,
          30169000,
          147332697
         ],
         "xaxis": "x",
         "y": [
          18000000,
          10000000,
          48000000,
          43000000,
          40000000,
          40000000,
          90000000,
          80000000,
          55000000,
          150000000,
          20000000,
          50000000,
          27000000,
          75000000,
          93000000,
          30000000,
          110000000,
          2000000,
          9900000,
          110000000,
          13000000,
          30000000,
          20000000,
          13000000,
          25000000,
          8000000,
          60000000,
          3500000,
          209000000,
          5000000,
          90000000,
          5600000,
          7000000,
          60000000,
          3000000,
          13500000,
          7000000,
          8575000,
          13938145,
          32000000
         ],
         "yaxis": "y"
        },
        {
         "customdata": [
          [
           "Fury"
          ],
          [
           "American Sniper"
          ],
          [
           "13 Hours: The Secret Soldiers of Benghazi"
          ],
          [
           "Midway"
          ],
          [
           "1917"
          ],
          [
           "The Boy in the Striped Pyjamas"
          ]
         ],
         "hovertemplate": "genres=War<br>revenue=%{x}<br>budget=%{y}<br>title=%{customdata[0]}<extra></extra>",
         "legendgroup": "War",
         "marker": {
          "color": "#00cc96",
          "symbol": "circle"
         },
         "mode": "markers",
         "name": "War",
         "showlegend": true,
         "type": "scattergl",
         "x": [
          211817906,
          542307423,
          69411370,
          127420861,
          374733942,
          20416563
         ],
         "xaxis": "x",
         "y": [
          68000000,
          58800000,
          50000000,
          100000000,
          100000000,
          12500000
         ],
         "yaxis": "y"
        },
        {
         "customdata": [
          [
           "Scooby-Doo"
          ],
          [
           "Gone Girl"
          ],
          [
           "The Fourth Kind"
          ],
          [
           "Scooby-Doo 2: Monsters Unleashed"
          ],
          [
           "Get Out"
          ]
         ],
         "hovertemplate": "genres=Mystery<br>revenue=%{x}<br>budget=%{y}<br>title=%{customdata[0]}<extra></extra>",
         "legendgroup": "Mystery",
         "marker": {
          "color": "#ab63fa",
          "symbol": "circle"
         },
         "mode": "markers",
         "name": "Mystery",
         "showlegend": true,
         "type": "scattergl",
         "x": [
          275650703,
          369330363,
          47709193,
          181466833,
          255407969
         ],
         "xaxis": "x",
         "y": [
          84000000,
          61000000,
          10000000,
          80000000,
          4500000
         ],
         "yaxis": "y"
        },
        {
         "customdata": [
          [
           "Bohemian Rhapsody"
          ]
         ],
         "hovertemplate": "genres=Music<br>revenue=%{x}<br>budget=%{y}<br>title=%{customdata[0]}<extra></extra>",
         "legendgroup": "Music",
         "marker": {
          "color": "#FFA15A",
          "symbol": "circle"
         },
         "mode": "markers",
         "name": "Music",
         "showlegend": true,
         "type": "scattergl",
         "x": [
          894027543
         ],
         "xaxis": "x",
         "y": [
          52000000
         ],
         "yaxis": "y"
        },
        {
         "customdata": [
          [
           "Spirit: Stallion of the Cimarron"
          ],
          [
           "The Revenant"
          ]
         ],
         "hovertemplate": "genres=Western<br>revenue=%{x}<br>budget=%{y}<br>title=%{customdata[0]}<extra></extra>",
         "legendgroup": "Western",
         "marker": {
          "color": "#19d3f3",
          "symbol": "circle"
         },
         "mode": "markers",
         "name": "Western",
         "showlegend": true,
         "type": "scattergl",
         "x": [
          122563539,
          532950503
         ],
         "xaxis": "x",
         "y": [
          80000000,
          135000000
         ],
         "yaxis": "y"
        },
        {
         "customdata": [
          [
           "Alice Under the Table"
          ]
         ],
         "hovertemplate": "genres=None<br>revenue=%{x}<br>budget=%{y}<br>title=%{customdata[0]}<extra></extra>",
         "legendgroup": "None",
         "marker": {
          "color": "#FF6692",
          "symbol": "circle"
         },
         "mode": "markers",
         "name": "None",
         "showlegend": true,
         "type": "scattergl",
         "x": [
          295463225
         ],
         "xaxis": "x",
         "y": [
          170000000
         ],
         "yaxis": "y"
        },
        {
         "customdata": [
          [
           "The Imitation Game"
          ]
         ],
         "hovertemplate": "genres=History<br>revenue=%{x}<br>budget=%{y}<br>title=%{customdata[0]}<extra></extra>",
         "legendgroup": "History",
         "marker": {
          "color": "#B6E880",
          "symbol": "circle"
         },
         "mode": "markers",
         "name": "History",
         "showlegend": true,
         "type": "scattergl",
         "x": [
          233555708
         ],
         "xaxis": "x",
         "y": [
          14000000
         ],
         "yaxis": "y"
        }
       ],
       "layout": {
        "legend": {
         "title": {
          "text": "genres"
         },
         "tracegroupgap": 0
        },
        "template": {
         "data": {
          "bar": [
           {
            "error_x": {
             "color": "#f2f5fa"
            },
            "error_y": {
             "color": "#f2f5fa"
            },
            "marker": {
             "line": {
              "color": "rgb(17,17,17)",
              "width": 0.5
             },
             "pattern": {
              "fillmode": "overlay",
              "size": 10,
              "solidity": 0.2
             }
            },
            "type": "bar"
           }
          ],
          "barpolar": [
           {
            "marker": {
             "line": {
              "color": "rgb(17,17,17)",
              "width": 0.5
             },
             "pattern": {
              "fillmode": "overlay",
              "size": 10,
              "solidity": 0.2
             }
            },
            "type": "barpolar"
           }
          ],
          "carpet": [
           {
            "aaxis": {
             "endlinecolor": "#A2B1C6",
             "gridcolor": "#506784",
             "linecolor": "#506784",
             "minorgridcolor": "#506784",
             "startlinecolor": "#A2B1C6"
            },
            "baxis": {
             "endlinecolor": "#A2B1C6",
             "gridcolor": "#506784",
             "linecolor": "#506784",
             "minorgridcolor": "#506784",
             "startlinecolor": "#A2B1C6"
            },
            "type": "carpet"
           }
          ],
          "choropleth": [
           {
            "colorbar": {
             "outlinewidth": 0,
             "ticks": ""
            },
            "type": "choropleth"
           }
          ],
          "contour": [
           {
            "colorbar": {
             "outlinewidth": 0,
             "ticks": ""
            },
            "colorscale": [
             [
              0,
              "#0d0887"
             ],
             [
              0.1111111111111111,
              "#46039f"
             ],
             [
              0.2222222222222222,
              "#7201a8"
             ],
             [
              0.3333333333333333,
              "#9c179e"
             ],
             [
              0.4444444444444444,
              "#bd3786"
             ],
             [
              0.5555555555555556,
              "#d8576b"
             ],
             [
              0.6666666666666666,
              "#ed7953"
             ],
             [
              0.7777777777777778,
              "#fb9f3a"
             ],
             [
              0.8888888888888888,
              "#fdca26"
             ],
             [
              1,
              "#f0f921"
             ]
            ],
            "type": "contour"
           }
          ],
          "contourcarpet": [
           {
            "colorbar": {
             "outlinewidth": 0,
             "ticks": ""
            },
            "type": "contourcarpet"
           }
          ],
          "heatmap": [
           {
            "colorbar": {
             "outlinewidth": 0,
             "ticks": ""
            },
            "colorscale": [
             [
              0,
              "#0d0887"
             ],
             [
              0.1111111111111111,
              "#46039f"
             ],
             [
              0.2222222222222222,
              "#7201a8"
             ],
             [
              0.3333333333333333,
              "#9c179e"
             ],
             [
              0.4444444444444444,
              "#bd3786"
             ],
             [
              0.5555555555555556,
              "#d8576b"
             ],
             [
              0.6666666666666666,
              "#ed7953"
             ],
             [
              0.7777777777777778,
              "#fb9f3a"
             ],
             [
              0.8888888888888888,
              "#fdca26"
             ],
             [
              1,
              "#f0f921"
             ]
            ],
            "type": "heatmap"
           }
          ],
          "heatmapgl": [
           {
            "colorbar": {
             "outlinewidth": 0,
             "ticks": ""
            },
            "colorscale": [
             [
              0,
              "#0d0887"
             ],
             [
              0.1111111111111111,
              "#46039f"
             ],
             [
              0.2222222222222222,
              "#7201a8"
             ],
             [
              0.3333333333333333,
              "#9c179e"
             ],
             [
              0.4444444444444444,
              "#bd3786"
             ],
             [
              0.5555555555555556,
              "#d8576b"
             ],
             [
              0.6666666666666666,
              "#ed7953"
             ],
             [
              0.7777777777777778,
              "#fb9f3a"
             ],
             [
              0.8888888888888888,
              "#fdca26"
             ],
             [
              1,
              "#f0f921"
             ]
            ],
            "type": "heatmapgl"
           }
          ],
          "histogram": [
           {
            "marker": {
             "pattern": {
              "fillmode": "overlay",
              "size": 10,
              "solidity": 0.2
             }
            },
            "type": "histogram"
           }
          ],
          "histogram2d": [
           {
            "colorbar": {
             "outlinewidth": 0,
             "ticks": ""
            },
            "colorscale": [
             [
              0,
              "#0d0887"
             ],
             [
              0.1111111111111111,
              "#46039f"
             ],
             [
              0.2222222222222222,
              "#7201a8"
             ],
             [
              0.3333333333333333,
              "#9c179e"
             ],
             [
              0.4444444444444444,
              "#bd3786"
             ],
             [
              0.5555555555555556,
              "#d8576b"
             ],
             [
              0.6666666666666666,
              "#ed7953"
             ],
             [
              0.7777777777777778,
              "#fb9f3a"
             ],
             [
              0.8888888888888888,
              "#fdca26"
             ],
             [
              1,
              "#f0f921"
             ]
            ],
            "type": "histogram2d"
           }
          ],
          "histogram2dcontour": [
           {
            "colorbar": {
             "outlinewidth": 0,
             "ticks": ""
            },
            "colorscale": [
             [
              0,
              "#0d0887"
             ],
             [
              0.1111111111111111,
              "#46039f"
             ],
             [
              0.2222222222222222,
              "#7201a8"
             ],
             [
              0.3333333333333333,
              "#9c179e"
             ],
             [
              0.4444444444444444,
              "#bd3786"
             ],
             [
              0.5555555555555556,
              "#d8576b"
             ],
             [
              0.6666666666666666,
              "#ed7953"
             ],
             [
              0.7777777777777778,
              "#fb9f3a"
             ],
             [
              0.8888888888888888,
              "#fdca26"
             ],
             [
              1,
              "#f0f921"
             ]
            ],
            "type": "histogram2dcontour"
           }
          ],
          "mesh3d": [
           {
            "colorbar": {
             "outlinewidth": 0,
             "ticks": ""
            },
            "type": "mesh3d"
           }
          ],
          "parcoords": [
           {
            "line": {
             "colorbar": {
              "outlinewidth": 0,
              "ticks": ""
             }
            },
            "type": "parcoords"
           }
          ],
          "pie": [
           {
            "automargin": true,
            "type": "pie"
           }
          ],
          "scatter": [
           {
            "marker": {
             "line": {
              "color": "#283442"
             }
            },
            "type": "scatter"
           }
          ],
          "scatter3d": [
           {
            "line": {
             "colorbar": {
              "outlinewidth": 0,
              "ticks": ""
             }
            },
            "marker": {
             "colorbar": {
              "outlinewidth": 0,
              "ticks": ""
             }
            },
            "type": "scatter3d"
           }
          ],
          "scattercarpet": [
           {
            "marker": {
             "colorbar": {
              "outlinewidth": 0,
              "ticks": ""
             }
            },
            "type": "scattercarpet"
           }
          ],
          "scattergeo": [
           {
            "marker": {
             "colorbar": {
              "outlinewidth": 0,
              "ticks": ""
             }
            },
            "type": "scattergeo"
           }
          ],
          "scattergl": [
           {
            "marker": {
             "line": {
              "color": "#283442"
             }
            },
            "type": "scattergl"
           }
          ],
          "scattermapbox": [
           {
            "marker": {
             "colorbar": {
              "outlinewidth": 0,
              "ticks": ""
             }
            },
            "type": "scattermapbox"
           }
          ],
          "scatterpolar": [
           {
            "marker": {
             "colorbar": {
              "outlinewidth": 0,
              "ticks": ""
             }
            },
            "type": "scatterpolar"
           }
          ],
          "scatterpolargl": [
           {
            "marker": {
             "colorbar": {
              "outlinewidth": 0,
              "ticks": ""
             }
            },
            "type": "scatterpolargl"
           }
          ],
          "scatterternary": [
           {
            "marker": {
             "colorbar": {
              "outlinewidth": 0,
              "ticks": ""
             }
            },
            "type": "scatterternary"
           }
          ],
          "surface": [
           {
            "colorbar": {
             "outlinewidth": 0,
             "ticks": ""
            },
            "colorscale": [
             [
              0,
              "#0d0887"
             ],
             [
              0.1111111111111111,
              "#46039f"
             ],
             [
              0.2222222222222222,
              "#7201a8"
             ],
             [
              0.3333333333333333,
              "#9c179e"
             ],
             [
              0.4444444444444444,
              "#bd3786"
             ],
             [
              0.5555555555555556,
              "#d8576b"
             ],
             [
              0.6666666666666666,
              "#ed7953"
             ],
             [
              0.7777777777777778,
              "#fb9f3a"
             ],
             [
              0.8888888888888888,
              "#fdca26"
             ],
             [
              1,
              "#f0f921"
             ]
            ],
            "type": "surface"
           }
          ],
          "table": [
           {
            "cells": {
             "fill": {
              "color": "#506784"
             },
             "line": {
              "color": "rgb(17,17,17)"
             }
            },
            "header": {
             "fill": {
              "color": "#2a3f5f"
             },
             "line": {
              "color": "rgb(17,17,17)"
             }
            },
            "type": "table"
           }
          ]
         },
         "layout": {
          "annotationdefaults": {
           "arrowcolor": "#f2f5fa",
           "arrowhead": 0,
           "arrowwidth": 1
          },
          "autotypenumbers": "strict",
          "coloraxis": {
           "colorbar": {
            "outlinewidth": 0,
            "ticks": ""
           }
          },
          "colorscale": {
           "diverging": [
            [
             0,
             "#8e0152"
            ],
            [
             0.1,
             "#c51b7d"
            ],
            [
             0.2,
             "#de77ae"
            ],
            [
             0.3,
             "#f1b6da"
            ],
            [
             0.4,
             "#fde0ef"
            ],
            [
             0.5,
             "#f7f7f7"
            ],
            [
             0.6,
             "#e6f5d0"
            ],
            [
             0.7,
             "#b8e186"
            ],
            [
             0.8,
             "#7fbc41"
            ],
            [
             0.9,
             "#4d9221"
            ],
            [
             1,
             "#276419"
            ]
           ],
           "sequential": [
            [
             0,
             "#0d0887"
            ],
            [
             0.1111111111111111,
             "#46039f"
            ],
            [
             0.2222222222222222,
             "#7201a8"
            ],
            [
             0.3333333333333333,
             "#9c179e"
            ],
            [
             0.4444444444444444,
             "#bd3786"
            ],
            [
             0.5555555555555556,
             "#d8576b"
            ],
            [
             0.6666666666666666,
             "#ed7953"
            ],
            [
             0.7777777777777778,
             "#fb9f3a"
            ],
            [
             0.8888888888888888,
             "#fdca26"
            ],
            [
             1,
             "#f0f921"
            ]
           ],
           "sequentialminus": [
            [
             0,
             "#0d0887"
            ],
            [
             0.1111111111111111,
             "#46039f"
            ],
            [
             0.2222222222222222,
             "#7201a8"
            ],
            [
             0.3333333333333333,
             "#9c179e"
            ],
            [
             0.4444444444444444,
             "#bd3786"
            ],
            [
             0.5555555555555556,
             "#d8576b"
            ],
            [
             0.6666666666666666,
             "#ed7953"
            ],
            [
             0.7777777777777778,
             "#fb9f3a"
            ],
            [
             0.8888888888888888,
             "#fdca26"
            ],
            [
             1,
             "#f0f921"
            ]
           ]
          },
          "colorway": [
           "#636efa",
           "#EF553B",
           "#00cc96",
           "#ab63fa",
           "#FFA15A",
           "#19d3f3",
           "#FF6692",
           "#B6E880",
           "#FF97FF",
           "#FECB52"
          ],
          "font": {
           "color": "#f2f5fa"
          },
          "geo": {
           "bgcolor": "rgb(17,17,17)",
           "lakecolor": "rgb(17,17,17)",
           "landcolor": "rgb(17,17,17)",
           "showlakes": true,
           "showland": true,
           "subunitcolor": "#506784"
          },
          "hoverlabel": {
           "align": "left"
          },
          "hovermode": "closest",
          "mapbox": {
           "style": "dark"
          },
          "paper_bgcolor": "rgb(17,17,17)",
          "plot_bgcolor": "rgb(17,17,17)",
          "polar": {
           "angularaxis": {
            "gridcolor": "#506784",
            "linecolor": "#506784",
            "ticks": ""
           },
           "bgcolor": "rgb(17,17,17)",
           "radialaxis": {
            "gridcolor": "#506784",
            "linecolor": "#506784",
            "ticks": ""
           }
          },
          "scene": {
           "xaxis": {
            "backgroundcolor": "rgb(17,17,17)",
            "gridcolor": "#506784",
            "gridwidth": 2,
            "linecolor": "#506784",
            "showbackground": true,
            "ticks": "",
            "zerolinecolor": "#C8D4E3"
           },
           "yaxis": {
            "backgroundcolor": "rgb(17,17,17)",
            "gridcolor": "#506784",
            "gridwidth": 2,
            "linecolor": "#506784",
            "showbackground": true,
            "ticks": "",
            "zerolinecolor": "#C8D4E3"
           },
           "zaxis": {
            "backgroundcolor": "rgb(17,17,17)",
            "gridcolor": "#506784",
            "gridwidth": 2,
            "linecolor": "#506784",
            "showbackground": true,
            "ticks": "",
            "zerolinecolor": "#C8D4E3"
           }
          },
          "shapedefaults": {
           "line": {
            "color": "#f2f5fa"
           }
          },
          "sliderdefaults": {
           "bgcolor": "#C8D4E3",
           "bordercolor": "rgb(17,17,17)",
           "borderwidth": 1,
           "tickwidth": 0
          },
          "ternary": {
           "aaxis": {
            "gridcolor": "#506784",
            "linecolor": "#506784",
            "ticks": ""
           },
           "baxis": {
            "gridcolor": "#506784",
            "linecolor": "#506784",
            "ticks": ""
           },
           "bgcolor": "rgb(17,17,17)",
           "caxis": {
            "gridcolor": "#506784",
            "linecolor": "#506784",
            "ticks": ""
           }
          },
          "title": {
           "x": 0.05
          },
          "updatemenudefaults": {
           "bgcolor": "#506784",
           "borderwidth": 0
          },
          "xaxis": {
           "automargin": true,
           "gridcolor": "#283442",
           "linecolor": "#506784",
           "ticks": "",
           "title": {
            "standoff": 15
           },
           "zerolinecolor": "#283442",
           "zerolinewidth": 2
          },
          "yaxis": {
           "automargin": true,
           "gridcolor": "#283442",
           "linecolor": "#506784",
           "ticks": "",
           "title": {
            "standoff": 15
           },
           "zerolinecolor": "#283442",
           "zerolinewidth": 2
          }
         }
        },
        "title": {
         "text": "Revenue/Budget distributed by Genres",
         "x": 0.5
        },
        "xaxis": {
         "anchor": "y",
         "domain": [
          0,
          1
         ],
         "title": {
          "text": "Revenue"
         }
        },
        "yaxis": {
         "anchor": "x",
         "domain": [
          0,
          1
         ],
         "title": {
          "text": "Budget"
         }
        }
       }
      },
      "text/html": [
       "<div>                            <div id=\"9d794324-8545-49b2-b09e-69539624e689\" class=\"plotly-graph-div\" style=\"height:525px; width:100%;\"></div>            <script type=\"text/javascript\">                require([\"plotly\"], function(Plotly) {                    window.PLOTLYENV=window.PLOTLYENV || {};                                    if (document.getElementById(\"9d794324-8545-49b2-b09e-69539624e689\")) {                    Plotly.newPlot(                        \"9d794324-8545-49b2-b09e-69539624e689\",                        [{\"customdata\":[[\"Sonic the Hedgehog 2\"],[\"Uncharted\"],[\"Spider-Man: No Way Home\"],[\"Doctor Strange\"],[\"Ambulance\"],[\"The Lost City\"],[\"Fantastic Beasts: The Secrets of Dumbledore\"],[\"The Northman\"],[\"Morbius\"],[\"The Adam Project\"],[\"Blacklight\"],[\"Shang-Chi and the Legend of the Ten Rings\"],[\"Avatar\"],[\"Sonic the Hedgehog\"],[\"The King's Man\"],[\"Red Notice\"],[\"Mortal Kombat\"],[\"F9\"],[\"The Suicide Squad\"],[\"Godzilla vs. Kong\"],[\"The 355\"],[\"Black Widow\"],[\"Nobody\"],[\"Jungle Cruise\"],[\"Dragon Ball Z: Resurrection 'F'\"],[\"The Last: Naruto the Movie\"],[\"Fantastic Beasts and Where to Find Them\"],[\"Wrath of Man\"],[\"The Maze Runner\"],[\"The Amazing Spider-Man\"],[\"Avengers: Age of Ultron\"],[\"Monster Hunter\"],[\"Dynasty Warriors\"],[\"The Last Duel\"],[\"Knowing\"],[\"Fantastic Beasts: The Crimes of Grindelwald\"],[\"Snake Eyes: G.I. Joe Origins\"],[\"Deadpool\"],[\"Wonder Woman 1984\"],[\"The Pirates: The Last Royal Treasure\"],[\"Spider-Man: Homecoming\"],[\"Jurassic World\"],[\"Spider-Man: Far From Home\"],[\"Thor: Ragnarok\"],[\"Real Steel\"],[\"The Amazing Spider-Man 2\"],[\"Top Gun\"],[\"Jurassic World: Fallen Kingdom\"],[\"Pok\\u00e9mon Detective Pikachu\"],[\"Fast & Furious Presents: Hobbs & Shaw\"],[\"Deadpool 2\"],[\"The Fate of the Furious\"],[\"The Hobbit: The Battle of the Five Armies\"],[\"2012\"],[\"The Marksman\"],[\"Sooryavanshi\"],[\"Pacific Rim\"],[\"Major Grom: Plague Doctor\"],[\"Ninja Assassin\"],[\"Gunpowder Milkshake\"],[\"World War Z\"],[\"The Karate Kid\"],[\"Iron Man\"],[\"Furious 7\"],[\"Iron Man 3\"],[\"Dragon Ball Super: Broly\"],[\"Thor: The Dark World\"],[\"Aquaman\"],[\"Public Enemies\"],[\"Crank: High Voltage\"],[\"Jiu Jitsu\"],[\"Spider-Man: Into the Spider-Verse\"],[\"Inception\"],[\"Captain America: The First Avenger\"],[\"John Carter\"],[\"Train to Busan\"],[\"The Last Airbender\"],[\"Mad Max: Fury Road\"],[\"Captain Marvel\"],[\"Taken 2\"],[\"Ashfall\"],[\"Pacific Rim: Uprising\"],[\"Incredibles 2\"],[\"Shazam!\"],[\"San Andreas\"],[\"In Time\"],[\"The Dark Knight Rises\"],[\"Abraham Lincoln: Vampire Hunter\"],[\"Kingsman: The Golden Circle\"],[\"Birds of Prey (and the Fantabulous Emancipation of One Harley Quinn)\"],[\"Batman v Superman: Dawn of Justice\"],[\"Jack Reacher: Never Go Back\"],[\"The Hunt\"],[\"X-Men: Apocalypse\"],[\"Transformers: The Last Knight\"],[\"Kung Fu Panda\"],[\"Rambo: Last Blood\"],[\"The Incredibles\"],[\"Taken\"],[\"Kick-Ass\"],[\"Man of Steel\"],[\"John Wick: Chapter 3 - Parabellum\"],[\"The Purge: Election Year\"],[\"The Meg\"],[\"Tenet\"],[\"Need for Speed\"],[\"X-Men: Days of Future Past\"],[\"Southpaw\"],[\"Peninsula\"],[\"Batman Begins\"],[\"Unknown\"],[\"Black Panther\"],[\"Godzilla\"],[\"Special Forces\"],[\"Logan\"],[\"Megalodon\"],[\"Despicable Me 3\"],[\"Everything Everywhere All at Once\"],[\"Terminator Salvation\"],[\"Rampage\"],[\"Men in Black 3\"],[\"John Wick\"],[\"Wonder Woman\"],[\"Saint Seiya: Legend of Sanctuary\"],[\"Star Wars: The Force Awakens\"],[\"Sucker Punch\"],[\"Baby Driver\"],[\"Apocalypto\"],[\"Suicide Squad\"],[\"Ghost Rider: Spirit of Vengeance\"],[\"Machine Gun Preacher\"],[\"Hitman: Agent 47\"],[\"Cell 211\"],[\"Fantastic Four\"],[\"Willy's Wonderland\"],[\"Kung Fu Panda 3\"],[\"Edge of Tomorrow\"],[\"The King of Fighters\"],[\"xXx: Return of Xander Cage\"],[\"Sicario\"],[\"Rush Hour 3\"],[\"Salt\"],[\"Jonah Hex\"],[\"Rambo\"],[\"Rush Hour 2\"],[\"Pixels\"],[\"Captain America: The Winter Soldier\"],[\"The Matrix\"],[\"Insurgent\"],[\"Independence Day: Resurgence\"],[\"Ant-Man and the Wasp\"],[\"Ghostbusters\"],[\"Star Wars: The Rise of Skywalker\"],[\"The Tourist\"],[\"Mission: Impossible - Ghost Protocol\"],[\"Lucy\"],[\"Alita: Battle Angel\"],[\"Fantastic Four\"],[\"Sanctum\"],[\"Justice League\"],[\"Skyfall\"],[\"Hercules\"],[\"Bloodshot\"],[\"Terminator: Dark Fate\"],[\"Colombiana\"],[\"#Alive\"],[\"The Expendables 3\"],[\"Guardians of the Galaxy\"],[\"The Hunger Games: Mockingjay - Part 2\"],[\"Kick-Ass 2\"],[\"The Lone Ranger\"],[\"Gods of Egypt\"],[\"The Great Wall\"],[\"Spy Kids\"],[\"Kong: Skull Island\"],[\"Rush Hour\"],[\"Cowboys & Aliens\"],[\"White House Down\"],[\"A Good Day to Die Hard\"],[\"The Losers\"],[\"Scarface\"],[\"Divergent\"],[\"Olympus Has Fallen\"],[\"Hummingbird\"],[\"The Tax Collector\"],[\"Knight and Day\"],[\"Sicario: Day of the Soldado\"],[\"The Equalizer 2\"],[\"Rambo: First Blood Part II\"],[\"The Expendables 2\"],[\"Spy Kids 3-D: Game Over\"],[\"Central Intelligence\"],[\"The Heat\"],[\"Hunter Killer\"],[\"Lockout\"],[\"Greenland\"],[\"Spy Kids 2: The Island of Lost Dreams\"],[\"Angel Has Fallen\"],[\"Terminator 2: Judgment Day\"],[\"Snowpiercer\"],[\"Total Recall\"],[\"Paul Blart: Mall Cop\"],[\"Dragonball Evolution\"],[\"Doomsday\"],[\"B\\u0101hubali: The Beginning\"],[\"This Means War\"],[\"12 Rounds\"],[\"Bumblebee\"],[\"Ong Bak: Muay Thai Warrior\"],[\"Undisputed\"],[\"300: Rise of an Empire\"],[\"Hitman's Wife's Bodyguard\"],[\"The Unbearable Weight of Massive Talent\"],[\"The Protector\"],[\"Mechanic: Resurrection\"],[\"Shaolin Soccer\"],[\"Den of Thieves\"],[\"9\"],[\"Rambo III\"],[\"21 Jump Street\"],[\"Machete\"],[\"Independence Day\"],[\"Tomb Raider\"],[\"Red Dawn\"],[\"Spectre\"],[\"Hulk\"],[\"Armageddon\"],[\"Teenage Mutant Ninja Turtles: Out of the Shadows\"],[\"Parker\"],[\"Tropic Thunder\"],[\"Mission: Impossible - Rogue Nation\"],[\"The Terminator\"],[\"Geostorm\"],[\"Warcraft\"],[\"Guardians\"],[\"London Has Fallen\"],[\"30 Minutes or Less\"],[\"First Blood\"],[\"Shooter\"],[\"Max Steel\"],[\"Mission: Impossible - Fallout\"],[\"Killer Elite\"],[\"Seeking Justice\"],[\"Batman Returns\"],[\"B\\u0101hubali 2: The Conclusion\"],[\"300\"],[\"The Man from Nowhere\"],[\"Cloverfield\"],[\"Chinese Zodiac\"],[\"Tower Heist\"],[\"Rogue One: A Star Wars Story\"],[\"Into the Storm\"],[\"Tracers\"],[\"RED 2\"],[\"So Undercover\"],[\"Turbo: A Power Rangers Movie\"],[\"Dawn of the Dead\"],[\"I Am Number Four\"],[\"Men in Black\"],[\"Empire State\"],[\"Outcast\"],[\"Transporter 3\"],[\"Scott Pilgrim vs. the World\"],[\"Star Trek Into Darkness\"],[\"Journey to the Center of the Earth\"],[\"Spider-Man 2\"]],\"hovertemplate\":\"genres=Action<br>revenue=%{x}<br>budget=%{y}<br>title=%{customdata[0]}<extra></extra>\",\"legendgroup\":\"Action\",\"marker\":{\"color\":\"#636efa\",\"symbol\":\"circle\"},\"mode\":\"markers\",\"name\":\"Action\",\"showlegend\":true,\"x\":[355200000,395124202,1892000000,677700000,50254920,164289828,376000000,58120000,161000000,471000000,15400000,432243292,2847246203,306766470,125928656,178143,83601013,726229501,167417425,467863133,24000000,379751655,61779301,220889446,61768190,16500000,809342332,103966489,348319861,757930663,1405403694,42145959,3310000,30500000,155446362,653355901,36964325,783100000,165160005,10247262,880166924,1671713208,1131927996,853977126,299268508,708962323,356830601,1303459585,433005346,760098996,786365638,1238764765,956019788,791217826,23076711,37700000,407602906,4493306,60462347,344931,531865000,359126022,585174222,1515047671,1214811252,125002821,644571402,1148528393,214104620,34560577,99924,375540831,825532764,370569774,284139100,87547518,319713881,378858340,1128276090,376141306,61321941,290061297,1242805359,365971656,473990832,173930596,1081041287,116471580,410902662,201858461,873637528,162146076,8621288,543934787,605425157,631744560,91490353,631442092,226830568,96188903,754045518,326709727,118587880,530243742,363129000,203277636,747862775,91709827,39657073,374218673,130786397,1347597973,529076069,3424648,619021436,5303,1031552585,51820323,371353001,426245950,624026776,88761661,821847012,17150803,2068223624,89792502,226945087,120654337,746846894,132563930,2527904,81967450,19300483,167977596,431020,521170825,370541256,2000371,346147658,84872444,258022233,293329073,10539000,113244290,347325802,244874809,714766572,463517383,295238201,389681935,622674139,229147509,1074144248,278731369,694713380,458863600,404852543,333535934,108609310,657926987,1108569499,244819862,33542457,261119292,60965854,13416285,206172544,772776600,653428261,60700000,260502115,150680864,331957105,147934180,566652812,244721064,174822325,205366737,304654182,23580000,66023329,288747895,161025640,8352885,942666,261989769,75836683,190400157,300400432,314975955,197011982,216972543,158674180,31672678,32948113,52300000,119723358,146661977,520000000,86758912,198802074,183293131,58228460,22472631,90747520,156974557,17280326,467989645,20112926,14946150,337580051,70060492,21067659,27165581,125729635,42776760,80509622,48428063,189015611,201585328,44093316,817400891,274650803,44806783,880674609,245360480,553799566,245623848,46216641,195702811,682330139,78371200,221600160,433677183,4803565,205754447,40547440,125212904,95696996,6272403,791017452,57777106,14089528,280000000,275947313,422610419,43059790,170764026,171339013,152930623,1056057273,160602194,593683,148100000,2500000,17979739,102278712,149878437,589390539,3639345,5148503,108979549,48000000,467365246,101702060,783766341],\"xaxis\":\"x\",\"y\":[110000000,120000000,200000000,165000000,40000000,74000000,200000000,70000000,75000000,116000000,43000000,150000000,237000000,85000000,100000000,160000000,20000000,200000000,185000000,200000000,75000000,200000000,17000000,200000000,5000000,1000000,180000000,40000000,34000000,215000000,365000000,60000000,38504400,100000000,50000000,200000000,88000000,58000000,200000000,19597380,175000000,150000000,160000000,180000000,110000000,200000000,15000000,170000000,150000000,200000000,110000000,250000000,250000000,200000000,23000000,13000000,180000000,5000000,40000000,30000000,200000000,40000000,140000000,190000000,200000000,1000000,170000000,160000000,100000000,20000000,23000000,90000000,160000000,140000000,250000000,8500000,150000000,150000000,152000000,45000000,17700000,150000000,200000000,80000000,110000000,40000000,250000000,69000000,104000000,75000000,250000000,60000000,14000000,178000000,217000000,130000000,50000000,92000000,25000000,28000000,225000000,55000000,10000000,150000000,205000000,66000000,250000000,30000000,17000000,150000000,30000000,200000000,160000000,10000000,97000000,130178,80000000,25000000,200000000,120000000,225000000,20000000,149000000,23000000,245000000,82000000,34000000,40000000,175000000,57000000,30000000,35000000,5700000,120000000,5000000,145000000,178000000,12000000,85000000,30000000,140000000,110000000,47000000,50000000,90000000,88000000,170000000,63000000,110000000,165000000,140000000,144000000,250000000,100000000,145000000,40000000,170000000,100000000,30000000,300000000,200000000,100000000,42000000,185000000,40000000,6300000,90000000,170000000,160000000,28000000,215000000,140000000,150000000,35000000,185000000,33000000,163000000,150000000,92000000,25000000,25000000,85000000,70000000,20000000,30000000,117000000,35000000,62000000,44000000,100000000,38000000,50000000,43000000,40000000,20000000,34000000,38000000,40000000,102000000,39200000,125000000,26000000,30000000,30000000,25130430,65000000,20000000,135000000,1100000,20000000,110000000,70000000,30000000,6000000,40000000,10000005,30000000,30000000,63000000,42000000,20000000,75000000,94000000,65000000,245000000,137000000,140000000,135000000,35000000,92000000,150000000,6400000,120000000,160000000,5400000,60000000,28000000,15000000,61000000,10000000,178000000,66000000,17000000,80000000,31000000,65000000,1255000,25000000,48000000,75000000,200000000,50000000,11000000,84000000,15000000,10000000,26000000,50000000,90000000,11000000,25000000,30000000,85000000,190000000,45000000,200000000],\"yaxis\":\"y\",\"type\":\"scattergl\"},{\"customdata\":[[\"The Batman\"],[\"Nightmare Alley\"],[\"Death on the Nile\"],[\"The Wolf of Wall Street\"],[\"The Gentlemen\"],[\"Joker\"],[\"Jack Reacher\"],[\"Kingsman: The Secret Service\"],[\"Chappie\"],[\"The Town\"],[\"Tekken\"],[\"Big Mommas: Like Father, Like Son\"],[\"Pain & Gain\"],[\"Legend\"],[\"22 Jump Street\"],[\"Blitz\"],[\"The Outlaws\"],[\"A Walk Among the Tombstones\"],[\"Boyz n the Hood\"],[\"Twist\"],[\"Nightcrawler\"],[\"No Good Deed\"],[\"Ocean's Eight\"],[\"Scream\"],[\"The Exorcism of Emily Rose\"],[\"The Call\"],[\"Se7en\"],[\"Perfume: The Story of a Murderer\"],[\"Blackhat\"],[\"The Godfather: Part III\"]],\"hovertemplate\":\"genres=Crime<br>revenue=%{x}<br>budget=%{y}<br>title=%{customdata[0]}<extra></extra>\",\"legendgroup\":\"Crime\",\"marker\":{\"color\":\"#EF553B\",\"symbol\":\"circle\"},\"mode\":\"markers\",\"name\":\"Crime\",\"showlegend\":true,\"x\":[764573021,39629195,137110100,392000000,114996853,1074251311,218340595,414351546,104399548,154026136,967000,83615414,87305549,42972994,188441614,741875,52946454,58834384,57504069,510466,50300000,53830415,297718711,173046663,145166804,68572378,327311859,135039924,17752940,136766062],\"xaxis\":\"x\",\"y\":[185000000,60000000,90000000,100000000,22000000,55000000,60000000,81000000,49000000,37000000,30000000,32000000,25000000,25000000,50000000,15774948,5883687,28000000,6500000,2000000,8500000,13200000,70000000,14000000,19000000,13000000,33000000,60000000,70000000,54000000],\"yaxis\":\"y\",\"type\":\"scattergl\"},{\"customdata\":[[\"The Bad Guys\"],[\"Turning Red\"],[\"Encanto\"],[\"Demon Slayer -Kimetsu no Yaiba- The Movie: Mugen Train\"],[\"Sing 2\"],[\"The Boss Baby: Family Business\"],[\"PAW Patrol: The Movie\"],[\"Luca\"],[\"Raya and the Last Dragon\"],[\"The Croods: A New Age\"],[\"Coraline\"],[\"Toy Story\"],[\"Soul\"],[\"Shrek\"],[\"Monsters, Inc.\"],[\"My Hero Academia: Two Heroes\"],[\"Shrek 2\"],[\"Spirit Untamed\"],[\"Ice Age\"],[\"Cars 3\"],[\"Ratatouille\"],[\"The Little Mermaid\"],[\"Frozen\"],[\"Toy Story 2\"],[\"Mulan\"],[\"Tangled\"],[\"Cars 2\"],[\"The Simpsons Movie\"],[\"Sing\"],[\"Ice Age: Dawn of the Dinosaurs\"],[\"Up\"],[\"Toy Story 3\"],[\"Finding Nemo\"],[\"Happy Feet\"],[\"Ice Age: Continental Drift\"],[\"Lilo & Stitch\"],[\"Inside Out\"],[\"Zootopia\"],[\"Despicable Me 2\"],[\"Ice Age: The Meltdown\"],[\"Hercules\"],[\"Ferdinand\"],[\"Rio\"],[\"Ponyo\"],[\"Garfield\"],[\"The Croods\"],[\"Alice in Wonderland\"],[\"Cars\"],[\"Brave\"],[\"WALL\\u00b7E\"],[\"Pinocchio\"],[\"How to Train Your Dragon: The Hidden World\"],[\"The Book of Life\"],[\"Monsters University\"],[\"Bambi\"],[\"Spirited Away\"],[\"Dumbo\"],[\"Kung Fu Panda 2\"],[\"The Grinch\"],[\"Stand by Me Doraemon\"],[\"Aladdin\"],[\"Hotel Transylvania\"],[\"The Aristocats\"],[\"Madagascar 3: Europe's Most Wanted\"],[\"Peter Pan\"],[\"Kubo and the Two Strings\"],[\"Fantasia\"],[\"Happy Feet Two\"],[\"Rango\"],[\"Bolt\"],[\"The Angry Birds Movie 2\"],[\"Anastasia\"],[\"Igor\"],[\"Cloudy with a Chance of Meatballs\"],[\"Megamind\"],[\"Shark Tale\"],[\"The Lorax\"],[\"Monster House\"],[\"Epic\"],[\"Spies in Disguise\"],[\"Ballerina\"],[\"Puss in Boots\"],[\"Astro Boy\"],[\"The Lego Batman Movie\"],[\"Cloudy with a Chance of Meatballs 2\"],[\"The Polar Express\"],[\"Chicken Run\"],[\"The Sword in the Stone\"],[\"Home on the Range\"],[\"Frankenweenie\"],[\"Walking with Dinosaurs\"],[\"The Smurfs\"],[\"Meet the Robinsons\"],[\"Robin Hood\"],[\"Horton Hears a Who!\"],[\"The Boss Baby\"]],\"hovertemplate\":\"genres=Animation<br>revenue=%{x}<br>budget=%{y}<br>title=%{customdata[0]}<extra></extra>\",\"legendgroup\":\"Animation\",\"marker\":{\"color\":\"#00cc96\",\"symbol\":\"circle\"},\"mode\":\"markers\",\"name\":\"Animation\",\"showlegend\":true,\"x\":[165558000,17185000,253000000,503063688,406000000,146745280,144327371,49010641,130000000,168285000,124596398,373554033,136384442,487853320,579707738,31478826,928760770,17635215,383257136,383925276,623726000,211343479,1274219009,497366869,304320254,592461732,559852396,527068851,634151679,886686817,735099082,1066969703,940335536,384335608,877244782,273144151,857611174,1023784195,970761885,660998756,252712101,295038508,484635760,202404009,200804534,587204668,572000000,461983149,538983207,521311860,84300000,517526875,97437106,743559607,267447150,274925095,1600000,665692281,508575295,83061158,504050219,358375603,55675257,746921274,87404651,76249438,76411819,150406466,245724603,309979994,147792047,139804348,30700000,242988466,321885765,367275019,348840316,140175006,268426634,171616764,2351359,554987477,19551067,311950384,248384621,310634054,224834564,22182353,103951461,81493846,126546518,563749323,169332978,32056467,298572799,498814908],\"xaxis\":\"x\",\"y\":[80000000,190000000,50000000,15800000,85000000,82000000,26000000,200000000,100000000,65000000,60000000,30000000,150000000,60000000,115000000,12000000,150000000,30000000,59000000,175000000,150000000,40000000,150000000,90000000,90000000,260000000,200000000,75000000,75000000,90000000,175000000,200000000,94000000,100000000,95000000,80000000,175000000,150000000,76000000,80000000,85000000,111000000,90000000,41677699,50000000,135000000,3000000,120000000,185000000,180000000,2600000,129000000,50000000,200000000,858000,19000000,812000,150000000,75000000,35000000,28000000,85000000,4000000,145000000,4000000,60000000,2280000,130000000,135000000,150000000,65000000,53000000,25000000,100000000,130000000,75000000,70000000,75000000,100000000,100000000,30000000,130000000,10000000,80000000,78000000,165000000,45000000,3000000,110000000,39000000,80000000,110000000,150000000,5000000,85000000,125000000],\"yaxis\":\"y\",\"type\":\"scattergl\"},{\"customdata\":[[\"Doctor Strange in the Multiverse of Madness\"],[\"Ghostbusters: Afterlife\"],[\"The Last Warrior: Root of Evil\"],[\"Harry Potter and the Deathly Hallows: Part 2\"],[\"Hancock\"],[\"Spider-Man\"],[\"Twilight\"],[\"Spider-Man 3\"],[\"Maleficent\"],[\"The Lovely Bones\"],[\"The Hobbit: The Desolation of Smaug\"],[\"Snow White and the Seven Dwarfs\"],[\"Constantine\"],[\"Shrek the Third\"],[\"The Mortal Instruments: City of Bones\"],[\"Underworld: Awakening\"],[\"Wrath of the Titans\"],[\"Howl's Moving Castle\"],[\"Monkey King: Hero Is Back\"],[\"The Nightmare Before Christmas\"],[\"How to Train Your Dragon 2\"],[\"Hansel & Gretel: Witch Hunters\"],[\"Miss Peregrine's Home for Peculiar Children\"],[\"How to Train Your Dragon\"],[\"Sleeping Beauty\"],[\"Underworld: Blood Wars\"],[\"The Green Mile\"],[\"Aquamarine\"],[\"Casper\"],[\"Edward Scissorhands\"],[\"Jack the Giant Slayer\"],[\"Bedtime Stories\"],[\"My Neighbor Totoro\"],[\"Pan's Labyrinth\"],[\"Aliens vs Predator: Requiem\"],[\"Batman\"],[\"The Legend of Tarzan\"],[\"The Last Witch Hunter\"],[\"Meet Joe Black\"],[\"The Flintstones\"],[\"Hellboy\"],[\"Bruce Almighty\"],[\"Blade II\"],[\"Hatching\"]],\"hovertemplate\":\"genres=Fantasy<br>revenue=%{x}<br>budget=%{y}<br>title=%{customdata[0]}<extra></extra>\",\"legendgroup\":\"Fantasy\",\"marker\":{\"color\":\"#ab63fa\",\"symbol\":\"circle\"},\"mode\":\"markers\",\"name\":\"Fantasy\",\"showlegend\":true,\"x\":[688000000,191000000,27658331,1341511219,629443428,821708551,393616788,890871626,758539785,93621340,958400000,184925486,230884728,813367380,95396573,160112671,301970083,236049757,150000000,75634409,621537500,226349749,296482446,494878759,51600000,81093313,286801374,23006849,287928194,53000000,197687603,212874864,45000000,83258226,130290885,411348924,356743061,146936910,142940100,341631208,44664690,484592874,155010032,490000],\"xaxis\":\"x\",\"y\":[200000000,75000000,8400000,125000000,150000000,139000000,37000000,258000000,180000000,65000000,250000000,1488423,100000000,160000000,60000000,70000000,150000000,24000000,10000000,24000000,145000000,50000000,110000000,165000000,6000000,35000000,60000000,12000000,50000000,20000000,195000000,80000000,3700000,19000000,40000000,35000000,180000000,90000000,90000000,46000000,50000000,80000000,54000000,3896000],\"yaxis\":\"y\",\"type\":\"scattergl\"},{\"customdata\":[[\"Moonfall\"],[\"Venom: Let There Be Carnage\"],[\"Eternals\"],[\"The Matrix Resurrections\"],[\"Dune\"],[\"The Avengers\"],[\"Finch\"],[\"A Quiet Place Part II\"],[\"Venom\"],[\"Teenage Mutant Ninja Turtles\"],[\"Godzilla: King of the Monsters\"],[\"Ready Player One\"],[\"Maze Runner: The Scorch Trials\"],[\"Maze Runner: The Death Cure\"],[\"Voyagers\"],[\"The Hunger Games: Mockingjay - Part 1\"],[\"Transformers: Age of Extinction\"],[\"Battle: Los Angeles\"],[\"Predators\"],[\"Chaos Walking\"],[\"Dawn of the Planet of the Apes\"],[\"The Purge\"],[\"Terminator Genisys\"],[\"Ant-Man\"],[\"Prometheus\"],[\"The Incredible Hulk\"],[\"Chronicle\"],[\"The Predator\"],[\"Skyline\"],[\"Star Wars: The Last Jedi\"],[\"District 9\"],[\"Jupiter Ascending\"],[\"Star Trek\"],[\"Blade Runner 2049\"],[\"Dark Phoenix\"],[\"The Hunger Games\"],[\"Riddick\"],[\"Predator\"],[\"Power Rangers\"],[\"What Happened to Monday\"],[\"Project Almanac\"],[\"Predestination\"],[\"After Earth\"],[\"Predator 2\"],[\"Solo: A Star Wars Story\"],[\"Gemini Man\"],[\"The 5th Wave\"],[\"Elysium\"]],\"hovertemplate\":\"genres=Science Fiction<br>revenue=%{x}<br>budget=%{y}<br>title=%{customdata[0]}<extra></extra>\",\"legendgroup\":\"Science Fiction\",\"marker\":{\"color\":\"#FFA15A\",\"symbol\":\"circle\"},\"mode\":\"markers\",\"name\":\"Science Fiction\",\"showlegend\":true,\"x\":[43900000,500000000,402027582,156497322,400671789,1518815515,500000000,297372261,855013954,477200000,386600138,582890172,312296056,288175335,4284903,752100229,1104000000,211819354,127233108,26943020,710644566,89328627,440603537,519311965,403354469,163712074,145000000,160542134,66984887,1332698830,210819611,183987723,385680446,259239658,252442974,691210692,98337295,98267558,142337240,27975429,33213241,4942449,243843127,57120318,392952373,173469516,109906372,286140700],\"xaxis\":\"x\",\"y\":[146000000,110000000,200000000,190000000,165000000,220000000,2500000,61000000,116000000,125000000,170000000,175000000,61000000,62000000,20000000,125000000,210000000,70000000,40000000,125000000,170000000,3000000,155000000,130000000,130000000,150000000,15000000,88000000,10000000,200000000,30000000,176000003,150000000,150000000,200000000,75000000,38000000,15000000,100000000,20000000,12000000,5500000,130000000,35000000,250000000,138000000,38000000,115000000],\"yaxis\":\"y\",\"type\":\"scattergl\"},{\"customdata\":[[\"Resident Evil: Welcome to Raccoon City\"],[\"Scream\"],[\"It Follows\"],[\"The Conjuring: The Devil Made Me Do It\"],[\"The Unholy\"],[\"The Forever Purge\"],[\"Halloween Kills\"],[\"It Chapter Two\"],[\"The Conjuring\"],[\"The Conjuring 2\"],[\"The Human Centipede (First Sequence)\"],[\"Legion\"],[\"The Nun\"],[\"Spiral: From the Book of Saw\"],[\"Martyrs\"],[\"Escape Room: Tournament of Champions\"],[\"The First Purge\"],[\"Annabelle Comes Home\"],[\"The Exorcist\"],[\"Orphan\"],[\"The New Mutants\"],[\"It\"],[\"The Texas Chainsaw Massacre\"],[\"Insidious\"],[\"Wrong Turn\"],[\"Final Destination\"],[\"Friday the 13th: The Final Chapter\"],[\"Friday the 13th\"],[\"Alien: Covenant\"],[\"Candyman\"],[\"A Quiet Place\"],[\"Final Destination 2\"],[\"Jeepers Creepers\"],[\"Annabelle: Creation\"],[\"Split\"],[\"Friday the 13th\"],[\"Final Destination 5\"],[\"Paranormal Activity\"],[\"Insidious: Chapter 2\"],[\"The Texas Chainsaw Massacre: The Beginning\"],[\"[REC]\"],[\"Friday the 13th Part 2\"],[\"Jason X\"],[\"Child's Play\"],[\"Final Destination 3\"],[\"Saw\"],[\"The Final Destination\"],[\"Werewolves Within\"],[\"Drag Me to Hell\"],[\"Annabelle\"],[\"As Above, So Below\"],[\"Freddy vs. Jason\"],[\"Doctor Sleep\"],[\"Firestarter\"],[\"Jeepers Creepers 2\"],[\"Zombieland: Double Tap\"],[\"The Curse of La Llorona\"],[\"Brightburn\"],[\"Sinister\"],[\"The Purge: Anarchy\"],[\"The Wolf of Snow Hollow\"],[\"Insidious: Chapter 3\"],[\"Child's Play 2\"],[\"Seed of Chucky\"],[\"House of Wax\"],[\"Child's Play 3\"],[\"Hereditary\"],[\"The Shining\"],[\"The Texas Chain Saw Massacre\"],[\"Jeepers Creepers 3\"],[\"Escape Room\"],[\"Thir13en Ghosts\"],[\"Insidious: The Last Key\"],[\"Countdown\"],[\"Friday the 13th Part VII: The New Blood\"],[\"Oculus\"],[\"Friday the 13th Part VI: Jason Lives\"],[\"Friday the 13th Part VIII: Jason Takes Manhattan\"],[\"The Evil Dead\"],[\"Friday the 13th Part III\"],[\"Paranormal Activity: Tokyo Night\"],[\"Paranormal Activity 3\"],[\"Saw II\"],[\"Dead Silence\"],[\"Jason Goes to Hell: The Final Friday\"],[\"Cursed\"],[\"The Hills Have Eyes\"],[\"The Grudge\"],[\"Friday the 13th: A New Beginning\"],[\"28 Days Later\"],[\"The Boy\"],[\"Bordello of Blood\"],[\"Saw III\"],[\"Antebellum\"],[\"The Cabin in the Woods\"],[\"Hostel: Part II\"],[\"Evil Dead\"],[\"Paranormal Activity: The Marked Ones\"],[\"Blade\"],[\"P2\"],[\"Saw IV\"],[\"A Nightmare on Elm Street\"],[\"The Amityville Horror\"],[\"Child's Play\"],[\"Midsommar\"],[\"Jaws\"],[\"Halloween\"],[\"Cult of Chucky\"],[\"Saw 3D\"],[\"The Blair Witch Project\"],[\"Semen Demon\"],[\"A Nightmare on Elm Street Part 2: Freddy's Revenge\"],[\"Van Helsing\"],[\"Alien\"],[\"Piranha\"],[\"The Ring\"],[\"Scream 4\"],[\"A Nightmare on Elm Street\"],[\"Rings\"],[\"Ouija\"],[\"Silent Hill\"],[\"The Unborn\"],[\"Mama\"],[\"Hostel\"],[\"The Witch\"],[\"Saw V\"]],\"hovertemplate\":\"genres=Horror<br>revenue=%{x}<br>budget=%{y}<br>title=%{customdata[0]}<extra></extra>\",\"legendgroup\":\"Horror\",\"marker\":{\"color\":\"#19d3f3\",\"symbol\":\"circle\"},\"mode\":\"markers\",\"name\":\"Horror\",\"showlegend\":true,\"x\":[38600612,140000000,14674076,201000000,30763855,76994245,131647155,473122525,319494638,320392818,252207,67918658,365550119,40618920,1100000,44888959,137056262,231252591,441306145,77912251,49169594,701842551,107363905,97009150,28650575,112880294,32980880,91509154,240891763,77389310,340677200,90941129,59217789,306515884,278454358,59754601,157887643,194183034,161000000,107363905,32511655,21722776,16951798,44196684,118890272,103911669,186167139,250811,90810892,257047661,40100000,116643421,72281712,17080167,63102666,122801777,122033739,32893421,82515113,111928365,239828,104303851,35763605,24829644,68766121,20560255,80239658,44781695,30900000,3600000,155712077,68467960,167184112,48021766,19170001,44459951,19472057,14000000,29400000,36690067,4160000,207039844,147748505,22217407,15938065,19294901,69623713,183474602,21930418,85720385,64188367,5600000,164874275,7060384,71041255,35728183,97542952,86362372,131183530,7766240,139352633,57000000,108047131,44902237,47980982,470653000,253688035,2200000,136151680,248639099,1000000,30000000,300257475,104931801,16000000,249348933,97231420,115664037,83080890,103590271,100605135,76514050,146497771,81979826,40423945,113864059],\"xaxis\":\"x\",\"y\":[40000000,24000000,2000000,39000000,10000000,18000000,20000000,79000000,13000000,40000000,2011799,26000000,22000000,20000000,6500000,15000000,13000000,30000000,11000000,20000000,67000000,35000000,9500000,1500000,12600000,23000000,2600000,19000000,97000000,25000000,17000000,26000000,10000000,15000000,9000000,550000,47000000,215000,5000000,16000000,1500000,1250000,11000000,9000000,25000000,1200000,40000000,6500000,30000000,6500000,5000000,30000000,45000000,15000000,17000000,42000000,9000000,6000000,3000000,9000000,2000000,10000000,13000000,12000000,40000000,13000000,10000000,19000000,85000,6200000,9000000,42000000,10000000,6500000,2800000,5000000,3000000,5000000,350000,4000000,1350000,5000000,4000000,20000000,3000000,35000000,15000000,10000000,2200000,5000000,10000000,15000000,10000000,15000000,30000000,10200000,17000000,5000000,45000000,3500000,10000000,1800000,19000000,10000000,9000000,7000000,10000000,6500000,20000000,60000,10000,3000000,160000000,11000000,660000,48000000,40000000,35000000,25000000,5000000,50000000,16000000,15000000,4800000,3500000,10800000],\"yaxis\":\"y\",\"type\":\"scattergl\"},{\"customdata\":[[\"Pirates of the Caribbean: On Stranger Tides\"],[\"Pirates of the Caribbean: Dead Man's Chest\"],[\"Avengers: Infinity War\"],[\"Pirates of the Caribbean: The Curse of the Black Pearl\"],[\"Pirates of the Caribbean: At World's End\"],[\"Pirates of the Caribbean: Dead Men Tell No Tales\"],[\"Avengers: Endgame\"],[\"No Time to Die\"],[\"Harry Potter and the Philosopher's Stone\"],[\"Harry Potter and the Goblet of Fire\"],[\"Harry Potter and the Chamber of Secrets\"],[\"Harry Potter and the Half-Blood Prince\"],[\"Harry Potter and the Prisoner of Azkaban\"],[\"Charlie and the Chocolate Factory\"],[\"Iron Man 2\"],[\"Harry Potter and the Order of the Phoenix\"],[\"Captain America: Civil War\"],[\"The Twilight Saga: Eclipse\"],[\"Harry Potter and the Deathly Hallows: Part 1\"],[\"Big Hero 6\"],[\"Mulan\"],[\"Thor\"],[\"Percy Jackson & the Olympians: The Lightning Thief\"],[\"Vicky and Her Mystery\"],[\"Journey 2: The Mysterious Island\"],[\"Interstellar\"],[\"Guardians of the Galaxy Vol. 2\"],[\"The Lion King\"],[\"Jumanji: The Next Level\"],[\"The Twilight Saga: Breaking Dawn - Part 2\"],[\"The Hobbit: An Unexpected Journey\"],[\"The Twilight Saga: Breaking Dawn - Part 1\"],[\"The Lord of the Rings: The Fellowship of the Ring\"],[\"The Chronicles of Narnia: The Lion, the Witch and the Wardrobe\"],[\"The Lord of the Rings: The Two Towers\"],[\"Clash of the Titans\"],[\"Cirque du Freak: The Vampire's Assistant\"],[\"Aladdin\"],[\"The Lord of the Rings: The Return of the King\"],[\"The Twilight Saga: New Moon\"],[\"A Bug's Life\"],[\"The Emperor's New Groove\"],[\"Brother Bear\"],[\"G.I. Joe: The Rise of Cobra\"],[\"The Good Dinosaur\"],[\"Ice Age: Collision Course\"],[\"Prince of Persia: The Sands of Time\"],[\"One Hundred and One Dalmatians\"],[\"Green Lantern\"],[\"Universal Soldier: Regeneration\"],[\"The Secret Life of Pets 2\"],[\"The Chronicles of Narnia: Prince Caspian\"],[\"Star Wars\"],[\"Conan the Barbarian\"],[\"Season of the Witch\"],[\"Paul\"],[\"Jumanji: Welcome to the Jungle\"],[\"Troy\"],[\"Rio 2\"],[\"The Warrior's Way\"],[\"TRON: Legacy\"],[\"Robin Hood\"],[\"The Call of the Wild\"],[\"Fantastic Four: Rise of the Silver Surfer\"],[\"The Mummy Returns\"],[\"Exodus: Gods and Kings\"],[\"The Adventures of Sharkboy and Lavagirl\"],[\"A Dog's Purpose\"],[\"The Mummy\"],[\"Valerian and the City of a Thousand Planets\"],[\"The Wizard of Oz\"],[\"Alice Through the Looking Glass\"],[\"The Hunger Games: Catching Fire\"],[\"Back to the Future\"],[\"The Chronicles of Narnia: The Voyage of the Dawn Treader\"],[\"Finding Dory\"],[\"Sherlock Holmes: A Game of Shadows\"],[\"Treasure Planet\"],[\"Sausage Party\"],[\"Seventh Son\"],[\"The Fox and the Hound\"],[\"Jurassic Park\"],[\"King Kong\"],[\"Dora and the Lost City of Gold\"],[\"Casino Royale\"],[\"Tomorrowland\"],[\"13 Assassins\"],[\"Life of Pi\"],[\"The Magnificent Seven\"],[\"The Fifth Element\"],[\"Percy Jackson: Sea of Monsters\"],[\"Snow White and the Huntsman\"],[\"Ong Bak 2\"],[\"The Mummy: Tomb of the Dragon Emperor\"],[\"Night at the Museum: Battle of the Smithsonian\"],[\"The Matrix Reloaded\"],[\"The Bear\"],[\"Pocahontas\"],[\"Allegiant\"],[\"The Matrix Revolutions\"],[\"Goosebumps\"],[\"Alpha\"],[\"Bad Boys II\"]],\"hovertemplate\":\"genres=Adventure<br>revenue=%{x}<br>budget=%{y}<br>title=%{customdata[0]}<extra></extra>\",\"legendgroup\":\"Adventure\",\"marker\":{\"color\":\"#FF6692\",\"symbol\":\"circle\"},\"mode\":\"markers\",\"name\":\"Adventure\",\"showlegend\":true,\"x\":[1045713802,1065659812,2046239637,655011224,961000000,794861794,2797800564,774153007,976475550,895921036,876688482,933959197,789804554,474968763,623933331,938212738,1153296293,698491347,954305868,657827828,66800000,449326618,226497209,4181043,355692760,701729206,863756051,1667635327,800059707,829000000,1021103568,712171856,871368364,745013115,926287400,493214993,28169671,1047612394,1118888979,709827462,363258859,169327687,250397798,302469017,332207671,408579038,336365676,85000000,219851172,875386,155152550,419665568,775398007,63523283,91627228,97984015,962102237,497409852,500188435,11087569,400062763,321669741,107604626,301913131,443280904,268031828,71992655,205035819,415885488,225874228,33754967,299457024,847423452,381109762,415686217,1028570889,334615000,109578115,140705322,114178613,29800000,920100000,562363449,119682635,599045960,209154322,17555141,609016565,162360636,263920180,199850315,396600000,8936663,403449830,413106170,738599701,138241022,346079773,179246868,424988211,158162788,35808437,273339556],\"xaxis\":\"x\",\"y\":[380000000,200000000,300000000,140000000,300000000,230000000,356000000,250000000,125000000,150000000,100000000,250000000,130000000,150000000,200000000,150000000,250000000,68000000,250000000,165000000,200000000,150000000,95000000,6500000,79000000,165000000,200000000,260000000,125000000,120000000,250000000,110000000,93000000,180000000,79000000,125000000,40000000,183000000,94000000,50000000,120000000,100000000,128000000,175000000,175000000,105000000,200000000,4000000,200000000,14000000,80000000,225000000,11000000,90000000,40000000,40000000,90000000,175000000,103000000,42000000,170000000,200000000,109000000,130000000,98000000,140000000,50000000,22000000,80000000,177200000,2777000,170000000,130000000,19000000,155000000,200000000,125000000,140000000,19000000,95000000,12000000,63000000,207000000,49000000,150000000,190000000,6000000,120000000,90000000,90000000,90000000,170000000,8500000,145000000,150000000,150000000,25000000,55000000,110000000,150000000,58000000,51000000,130000000],\"yaxis\":\"y\",\"type\":\"scattergl\"},{\"customdata\":[[\"Clifford the Big Red Dog\"],[\"Space Jam: A New Legacy\"],[\"Coco\"],[\"The SpongeBob Movie: Sponge on the Run\"],[\"The Lion King\"],[\"Frozen II\"],[\"Peter Rabbit 2: The Runaway\"],[\"Toy Story 4\"],[\"Cinderella\"],[\"Maleficent: Mistress of Evil\"],[\"Wreck-It Ralph\"],[\"Ralph Breaks the Internet\"],[\"Alice in Wonderland\"],[\"Dinosaur\"],[\"Despicable Me\"],[\"Madagascar\"],[\"The Jungle Book\"],[\"Beauty and the Beast\"],[\"Penguins of Madagascar\"],[\"Tarzan\"],[\"101 Dalmatians\"],[\"The SpongeBob SquarePants Movie\"],[\"Hotel Transylvania 3: Summer Vacation\"],[\"How the Grinch Stole Christmas\"],[\"Madagascar: Escape 2 Africa\"],[\"Stuart Little\"],[\"The Addams Family\"],[\"Hotel Transylvania 2\"],[\"The Iron Giant\"],[\"Rise of the Guardians\"],[\"Onward\"],[\"Lady and the Tramp\"],[\"Abominable\"],[\"The SpongeBob Movie: Sponge Out of Water\"],[\"Bee Movie\"],[\"The Jungle Book\"],[\"Minions\"],[\"The Road to El Dorado\"],[\"The Wild\"],[\"Trolls\"],[\"Soul Surfer\"],[\"The Spiderwick Chronicles\"],[\"Gifted\"],[\"Ella Enchanted\"],[\"ParaNorman\"],[\"Where the Wild Things Are\"],[\"The Rugrats Movie\"],[\"Dolittle\"],[\"Willy Wonka & the Chocolate Factory\"],[\"Marmaduke\"],[\"Sinbad: Legend of the Seven Seas\"]],\"hovertemplate\":\"genres=Family<br>revenue=%{x}<br>budget=%{y}<br>title=%{customdata[0]}<extra></extra>\",\"legendgroup\":\"Family\",\"marker\":{\"color\":\"#B6E880\",\"symbol\":\"circle\"},\"mode\":\"markers\",\"name\":\"Family\",\"showlegend\":true,\"x\":[67000000,162892228,800526015,4700000,763455561,1450026933,153000000,1073394593,263591415,491570967,471222889,529221154,1025467110,354248063,533679475,542063846,205843612,1263521126,373552094,448191819,320689294,140161792,528600000,345141403,603900354,300135367,203044905,473226958,23159305,306941670,141592359,36359037,180289970,311594032,287594577,966550600,1156730962,76432727,102338515,346864462,47088990,164170327,40343446,27388767,107139399,100140916,100491683,245692007,4000000,83761844,80767884],\"xaxis\":\"x\",\"y\":[64000000,161900000,175000000,60000000,45000000,150000000,45000000,175000000,2900000,185000000,165000000,175000000,200000000,127500000,69000000,75000000,4000000,160000000,132000000,130000000,54000000,30000000,80000000,123000000,150000000,133000000,40000000,80000000,70000000,145000000,200000000,4000000,75000000,74000000,150000000,175000000,74000000,95000000,80000000,125000000,18000000,90000000,7000000,31000000,60000000,100000000,30000000,175000000,3000000,50000000,60000000],\"yaxis\":\"y\",\"type\":\"scattergl\"},{\"customdata\":[[\"Jackass Forever\"],[\"Cruella\"],[\"Free Guy\"],[\"What Men Want\"],[\"Tom & Jerry\"],[\"Project X\"],[\"Sinkhole\"],[\"The Proposal\"],[\"The Hangover\"],[\"Ted 2\"],[\"Scary Movie\"],[\"The Parent Trap\"],[\"Don't Look Up\"],[\"American Pie Presents: The Book of Love\"],[\"Grown Ups\"],[\"Sex and the City\"],[\"Blended\"],[\"The Hangover Part II\"],[\"Scary Movie 2\"],[\"Ted\"],[\"Grown Ups 2\"],[\"Norbit\"],[\"Zack and Miri Make a Porno\"],[\"Shrek Forever After\"],[\"A Haunted House 2\"],[\"Instant Family\"],[\"Leprechaun\"],[\"The Hangover Part III\"],[\"Scary Movie 5\"],[\"Leprechaun 2\"],[\"Bride of Chucky\"],[\"No Strings Attached\"],[\"White Chicks\"],[\"Just Go with It\"],[\"Sex Tape\"],[\"17 Again\"],[\"A Haunted House\"],[\"Zombieland\"],[\"Parasite\"],[\"Superbad\"],[\"Let's Be Cops\"],[\"Ready or Not\"],[\"Beverly Hills Chihuahua\"],[\"(500) Days of Summer\"],[\"Scary Movie 3\"],[\"Stan Helsing\"],[\"Don't Be a Menace to South Central While Drinking Your Juice in the Hood\"],[\"Enchanted\"],[\"Scouts Guide to the Zombie Apocalypse\"],[\"Yes Man\"],[\"Movie 43\"],[\"American Pie\"],[\"American Reunion\"],[\"Jennifer's Body\"],[\"I Love You, Beth Cooper\"],[\"The Cat in the Hat\"],[\"American Pie Presents: Beta House\"],[\"American Pie 2\"],[\"The Devil Wears Prada\"],[\"The Three Stooges\"],[\"Knives Out\"],[\"Mean Girls\"],[\"Wild Child\"],[\"That's My Boy\"],[\"Couples Retreat\"],[\"Confessions of a Shopaholic\"],[\"Marley & Me\"],[\"The Truman Show\"],[\"American Pie Presents: The Naked Mile\"],[\"Dark Shadows\"],[\"World's Greatest Dad\"],[\"Baywatch\"],[\"Jackass 3D\"],[\"The Change-Up\"],[\"Alvin and the Chipmunks\"],[\"Scary Movie 4\"],[\"Year One\"],[\"Matilda\"],[\"The Mermaid\"],[\"Nacho Libre\"],[\"Hannah Montana: The Movie\"],[\"The Other Guys\"],[\"Alvin and the Chipmunks: Chipwrecked\"],[\"Little Man\"],[\"Tooth Fairy\"],[\"Men in Black: International\"],[\"Forrest Gump\"],[\"Home Alone 2: Lost in New York\"],[\"Dirty Grandpa\"],[\"Vacation\"],[\"Sex and the City 2\"],[\"The Watch\"],[\"Life As We Know It\"],[\"Funny People\"],[\"The Princess Diaries\"],[\"Pitch Perfect 2\"],[\"He's Just Not That Into You\"],[\"Bride Wars\"],[\"Dumb and Dumber To\"],[\"The French Dispatch\"],[\"Piranha 3D\"],[\"Alvin and the Chipmunks: The Squeakquel\"],[\"American Wedding\"],[\"Life Is Beautiful\"],[\"Easy A\"],[\"War Dogs\"],[\"Addams Family Values\"],[\"Mamma Mia!\"],[\"Due Date\"],[\"Teen Wolf\"],[\"Ghostbusters\"],[\"The Princess Diaries 2: Royal Engagement\"],[\"The Girl Next Door\"],[\"Jack and Jill\"],[\"Love and Monsters\"],[\"The Virginity Hit\"]],\"hovertemplate\":\"genres=Comedy<br>revenue=%{x}<br>budget=%{y}<br>title=%{customdata[0]}<extra></extra>\",\"legendgroup\":\"Comedy\",\"marker\":{\"color\":\"#FF97FF\",\"symbol\":\"circle\"},\"mode\":\"markers\",\"name\":\"Comedy\",\"showlegend\":true,\"x\":[80340218,233503234,331096766,69766483,132000000,102731865,17,317375031,469310836,215863606,278019771,92108518,784681,5021219,271430189,415252786,127994610,586764305,141220678,549368315,247022278,159313561,42105111,752600867,25343661,14700000,8556940,362000072,78378744,2260622,50671850,149228077,113086475,214945591,126069509,136267476,60141683,102391540,257591776,170812526,136621271,57615777,149281606,60781545,220673217,1400000,20109115,340487652,14860766,223241637,32438988,235483004,234989584,31556061,15345201,133818283,18610260,287553595,326551094,54819301,309232797,129042871,21972336,58058367,171844840,108332743,242717113,264118201,27500000,245527149,221805,177856751,117224271,75450437,361366633,178262620,62357900,33459416,553810228,99255460,155545279,170432927,342695435,101595121,112462508,252608480,677387716,358994850,94073028,104384188,290745055,68267862,105734416,71585235,165335153,287506194,178866158,115375850,169837010,46000000,83188165,443140005,231449203,230098753,75026327,86234523,48919043,609841637,211780824,80000000,296187079,134734481,31635150,149673788,1070714,636706],\"xaxis\":\"x\",\"y\":[10000000,200000000,110000000,20000000,50000000,12000000,15,40000000,35000000,68000000,19000000,15000000,75000000,7000000,80000000,65000000,40000000,80000000,45000000,50000000,80000000,10000000,24000000,165000000,4000000,48000000,900000,103000000,20000000,2000000,25000000,25000000,37000000,80000000,40000000,20000000,2500000,23600000,11363000,20000000,17000000,6000000,20000000,7500000,48000000,365000,3800000,85000000,15000000,70000000,6000000,11000000,50000000,16000000,18000000,109000000,10000000,30000000,35000000,30000000,40000000,17000000,20000000,70000000,70000000,40000000,60000000,60000000,15000000,150000000,10000000,69000000,20000000,52000000,60000000,45000000,60000000,36000000,60720000,35000000,35000000,100000000,75000000,64000000,48000000,110000000,55000000,18000000,11500000,31000000,100000000,68000000,38000000,75000000,37000000,29000000,40000000,30000000,40000000,25000000,24000000,75000000,55000000,20000000,8000000,40000000,47000000,52000000,65000000,1200000,30000000,40000000,21000000,79000000,30000000,2000000],\"yaxis\":\"y\",\"type\":\"scattergl\"},{\"customdata\":[[\"Chernobyl: Abyss\"],[\"Hacksaw Ridge\"],[\"The Help\"],[\"Ava\"],[\"West Side Story\"],[\"Titanic\"],[\"Fifty Shades of Grey\"],[\"Dog\"],[\"House of Gucci\"],[\"Me Before You\"],[\"King Richard\"],[\"Fifty Shades Freed\"],[\"Love & Other Drugs\"],[\"Creed II\"],[\"The Shack\"],[\"Law Abiding Citizen\"],[\"Fifty Shades Darker\"],[\"The Intouchables\"],[\"Creed\"],[\"The Passion of the Christ\"],[\"The Dark Knight\"],[\"Django Unchained\"],[\"Warrior\"],[\"The Blind Side\"],[\"The Grey\"],[\"Brothers\"],[\"I Am Legend\"],[\"Along with the Gods: The Two Worlds\"],[\"Inglourious Basterds\"],[\"Rocky IV\"],[\"I'm Not Ashamed\"],[\"The Godfather\"],[\"Hidden Figures\"],[\"Miracles from Heaven\"],[\"The Shawshank Redemption\"],[\"Rocky\"],[\"Bad Lieutenant: Port of Call - New Orleans\"],[\"Arrival\"],[\"The Martian\"],[\"War for the Planet of the Apes\"],[\"Knock Knock\"],[\"Straight Outta Compton\"],[\"Annette\"],[\"Brian Banks\"],[\"Titane\"],[\"Ford v Ferrari\"],[\"Sleepy Hollow\"],[\"The Ten Commandments: The Movie\"],[\"Lolita\"],[\"Paul, Apostle of Christ\"],[\"Fireproof\"],[\"Fight Club\"],[\"The Ten Commandments\"],[\"Shutter Island\"],[\"The Godfather: Part II\"],[\"Drive\"],[\"Saving Private Ryan\"],[\"Blood Diamond\"],[\"Rocky III\"],[\"Hachi: A Dog's Tale\"],[\"God's Not Dead 2\"],[\"The Invisible Guest\"],[\"Red Tails\"],[\"Along with the Gods: The Last 49 Days\"],[\"The NeverEnding Story\"],[\"Men of Honor\"],[\"War Room\"],[\"Prisoners\"],[\"Rocky II\"],[\"Whiplash\"],[\"Kingdom of Heaven\"],[\"Catch Me If You Can\"],[\"Stillwater\"],[\"City of God\"],[\"Labor Day\"],[\"3 Idiots\"],[\"Dear Evan Hansen\"],[\"Up & Away\"],[\"The Pursuit of Happyness\"],[\"God's Not Dead\"],[\"Schindler's List\"],[\"The Villainess\"],[\"Pride & Prejudice\"],[\"Kama Sutra: A Tale of Love\"],[\"Facing the Giants\"],[\"Passengers\"],[\"The Hunted\"],[\"Never Back Down\"],[\"Step Up 3D\"],[\"The Curious Case of Benjamin Button\"],[\"90 Minutes in Heaven\"],[\"A Walk to Remember\"],[\"Noah\"],[\"Courageous\"],[\"A Dog's Way Home\"],[\"Heaven Is for Real\"]],\"hovertemplate\":\"genres=Drama<br>revenue=%{x}<br>budget=%{y}<br>title=%{customdata[0]}<extra></extra>\",\"legendgroup\":\"Drama\",\"marker\":{\"color\":\"#FECB52\",\"symbol\":\"circle\"},\"mode\":\"markers\",\"name\":\"Drama\",\"showlegend\":true,\"x\":[6459306,175302354,216639112,500000,74530532,2187463944,571006128,77263354,151758425,207945075,30000000,368307760,102820008,214215889,92924405,126690726,378827494,426588510,173567581,611899420,1004558444,425368238,23308615,309208309,77278331,43318349,585410052,125983972,321457747,300473716,2000000,245066411,230698791,73983359,28341469,117250402,10589102,203388186,630161890,488533726,6341684,201634991,3642692,4300000,5115725,225508210,206071502,37070177,1071255,22525668,33456317,100853753,122700000,294800000,102600000,78054825,481840909,171720398,270000000,46749646,23507567,30000000,50365377,112790210,20158808,48814909,67790117,122126687,85182160,13092000,218122627,352114312,19672073,30641770,20275812,70000000,19046191,479226,307077295,29789000,321365567,8737458,121147947,4109095,10178331,303144152,34234008,41627431,159291809,333932083,4842699,47494916,362637473,34522221,17643857,101332962],\"xaxis\":\"x\",\"y\":[9100000,40000000,25000000,3000000,100000000,200000000,40000000,20000000,75000000,20000000,50000000,55000000,30000000,50000000,20000000,53000000,55000000,13000000,37000000,30000000,185000000,100000000,25000000,29000000,25000000,26000000,150000000,18300000,70000000,31000000,1500000,6000000,25000000,16000000,25000000,1000000,25000000,47000000,108000000,150000000,2500000,28000000,15500000,10000000,6600000,97600000,100000000,39307171,62000000,5000000,500000,63000000,13000000,80000000,13000000,15000000,70000000,100000000,17000000,16000000,5000000,4000000,58000000,18300000,27000000,82343495,3000000,46000000,7000000,3300000,130000000,52000000,20000000,3300000,18000000,9000000,27500000,2176270,55000000,17000000,22000000,125000,28000000,3000000,100000,110000000,55000000,20000000,30000000,150000000,5000000,11800000,125000000,1000000,18000000,12000000],\"yaxis\":\"y\",\"type\":\"scattergl\"},{\"customdata\":[[\"After We Fell\"],[\"Dark Spell\"],[\"Marry Me\"],[\"After\"],[\"The Princess and the Frog\"],[\"Corpse Bride\"],[\"Beauty and the Beast\"],[\"Call Me by Your Name\"],[\"Overboard\"],[\"White Snake\"],[\"Cinderella\"],[\"Five Feet Apart\"],[\"Fifty Shades of Black\"],[\"Focus\"],[\"The Notebook\"],[\"What's Eating Gilbert Grape\"],[\"Pretty Woman\"],[\"Flipped\"],[\"The Mask\"],[\"The Fault in Our Stars\"],[\"Friends with Benefits\"],[\"The Next Three Days\"]],\"hovertemplate\":\"genres=Romance<br>revenue=%{x}<br>budget=%{y}<br>title=%{customdata[0]}<extra></extra>\",\"legendgroup\":\"Romance\",\"marker\":{\"color\":\"#636efa\",\"symbol\":\"circle\"},\"mode\":\"markers\",\"name\":\"Romance\",\"showlegend\":true,\"x\":[21500000,532054,44000000,69497587,270997378,118133252,424967620,41063475,91244913,61631776,543514353,91500000,21164799,153962963,115603229,10032765,463406268,1755212,351583407,307166834,149542245,51148651],\"xaxis\":\"x\",\"y\":[14000000,90,23000000,14000000,105000000,40000000,25000000,4000000,12000000,11936735,95000000,7000000,20000000,50100000,29000000,11000000,14000000,14000000,23000000,12000000,35000000,30000000],\"yaxis\":\"y\",\"type\":\"scattergl\"},{\"customdata\":[[\"Old\"],[\"Don't Breathe 2\"],[\"Taken 3\"],[\"Last Night in Soho\"],[\"Malignant\"],[\"John Wick: Chapter 2\"],[\"Bad Boys for Life\"],[\"The Expendables\"],[\"The Equalizer\"],[\"Angels & Demons\"],[\"Those Who Wish Me Dead\"],[\"Super 8\"],[\"Limitless\"],[\"Now You See Me\"],[\"Rise of the Planet of the Apes\"],[\"The Little Things\"],[\"The A-Team\"],[\"I Spit on Your Grave\"],[\"Don't Breathe\"],[\"Ghost Rider\"],[\"The Vatican Tapes\"],[\"The Hitman's Bodyguard\"],[\"Glass\"],[\"The Skin I Live In\"],[\"Contraband\"],[\"Pulp Fiction\"],[\"The Happening\"],[\"Truth or Dare\"],[\"Battleship\"],[\"No Escape\"],[\"Now You See Me 2\"],[\"[REC]\\u00b2\"],[\"The Invisible Man\"],[\"State of Play\"],[\"[REC]\\u2074 Apocalypse\"],[\"Crawl\"],[\"American Psycho\"],[\"The Handmaiden\"],[\"Pandora\"],[\"Source Code\"]],\"hovertemplate\":\"genres=Thriller<br>revenue=%{x}<br>budget=%{y}<br>title=%{customdata[0]}<extra></extra>\",\"legendgroup\":\"Thriller\",\"marker\":{\"color\":\"#EF553B\",\"symbol\":\"circle\"},\"mode\":\"markers\",\"name\":\"Thriller\",\"showlegend\":true,\"x\":[90112510,45000000,325771424,22957625,24640084,171539887,426505244,274470394,192330738,485930816,23384502,260095986,161849455,351723989,482860185,29942746,177238796,572809,159047649,228738393,1784763,176586701,246941965,33750478,96262212,214179088,163403799,95330493,303025485,54418872,334901337,18469680,130234661,87812371,4915757,89203432,34266564,37767206,30169000,147332697],\"xaxis\":\"x\",\"y\":[18000000,10000000,48000000,43000000,40000000,40000000,90000000,80000000,55000000,150000000,20000000,50000000,27000000,75000000,93000000,30000000,110000000,2000000,9900000,110000000,13000000,30000000,20000000,13000000,25000000,8000000,60000000,3500000,209000000,5000000,90000000,5600000,7000000,60000000,3000000,13500000,7000000,8575000,13938145,32000000],\"yaxis\":\"y\",\"type\":\"scattergl\"},{\"customdata\":[[\"Fury\"],[\"American Sniper\"],[\"13 Hours: The Secret Soldiers of Benghazi\"],[\"Midway\"],[\"1917\"],[\"The Boy in the Striped Pyjamas\"]],\"hovertemplate\":\"genres=War<br>revenue=%{x}<br>budget=%{y}<br>title=%{customdata[0]}<extra></extra>\",\"legendgroup\":\"War\",\"marker\":{\"color\":\"#00cc96\",\"symbol\":\"circle\"},\"mode\":\"markers\",\"name\":\"War\",\"showlegend\":true,\"x\":[211817906,542307423,69411370,127420861,374733942,20416563],\"xaxis\":\"x\",\"y\":[68000000,58800000,50000000,100000000,100000000,12500000],\"yaxis\":\"y\",\"type\":\"scattergl\"},{\"customdata\":[[\"Scooby-Doo\"],[\"Gone Girl\"],[\"The Fourth Kind\"],[\"Scooby-Doo 2: Monsters Unleashed\"],[\"Get Out\"]],\"hovertemplate\":\"genres=Mystery<br>revenue=%{x}<br>budget=%{y}<br>title=%{customdata[0]}<extra></extra>\",\"legendgroup\":\"Mystery\",\"marker\":{\"color\":\"#ab63fa\",\"symbol\":\"circle\"},\"mode\":\"markers\",\"name\":\"Mystery\",\"showlegend\":true,\"x\":[275650703,369330363,47709193,181466833,255407969],\"xaxis\":\"x\",\"y\":[84000000,61000000,10000000,80000000,4500000],\"yaxis\":\"y\",\"type\":\"scattergl\"},{\"customdata\":[[\"Bohemian Rhapsody\"]],\"hovertemplate\":\"genres=Music<br>revenue=%{x}<br>budget=%{y}<br>title=%{customdata[0]}<extra></extra>\",\"legendgroup\":\"Music\",\"marker\":{\"color\":\"#FFA15A\",\"symbol\":\"circle\"},\"mode\":\"markers\",\"name\":\"Music\",\"showlegend\":true,\"x\":[894027543],\"xaxis\":\"x\",\"y\":[52000000],\"yaxis\":\"y\",\"type\":\"scattergl\"},{\"customdata\":[[\"Spirit: Stallion of the Cimarron\"],[\"The Revenant\"]],\"hovertemplate\":\"genres=Western<br>revenue=%{x}<br>budget=%{y}<br>title=%{customdata[0]}<extra></extra>\",\"legendgroup\":\"Western\",\"marker\":{\"color\":\"#19d3f3\",\"symbol\":\"circle\"},\"mode\":\"markers\",\"name\":\"Western\",\"showlegend\":true,\"x\":[122563539,532950503],\"xaxis\":\"x\",\"y\":[80000000,135000000],\"yaxis\":\"y\",\"type\":\"scattergl\"},{\"customdata\":[[\"Alice Under the Table\"]],\"hovertemplate\":\"genres=None<br>revenue=%{x}<br>budget=%{y}<br>title=%{customdata[0]}<extra></extra>\",\"legendgroup\":\"None\",\"marker\":{\"color\":\"#FF6692\",\"symbol\":\"circle\"},\"mode\":\"markers\",\"name\":\"None\",\"showlegend\":true,\"x\":[295463225],\"xaxis\":\"x\",\"y\":[170000000],\"yaxis\":\"y\",\"type\":\"scattergl\"},{\"customdata\":[[\"The Imitation Game\"]],\"hovertemplate\":\"genres=History<br>revenue=%{x}<br>budget=%{y}<br>title=%{customdata[0]}<extra></extra>\",\"legendgroup\":\"History\",\"marker\":{\"color\":\"#B6E880\",\"symbol\":\"circle\"},\"mode\":\"markers\",\"name\":\"History\",\"showlegend\":true,\"x\":[233555708],\"xaxis\":\"x\",\"y\":[14000000],\"yaxis\":\"y\",\"type\":\"scattergl\"}],                        {\"legend\":{\"title\":{\"text\":\"genres\"},\"tracegroupgap\":0},\"template\":{\"data\":{\"barpolar\":[{\"marker\":{\"line\":{\"color\":\"rgb(17,17,17)\",\"width\":0.5},\"pattern\":{\"fillmode\":\"overlay\",\"size\":10,\"solidity\":0.2}},\"type\":\"barpolar\"}],\"bar\":[{\"error_x\":{\"color\":\"#f2f5fa\"},\"error_y\":{\"color\":\"#f2f5fa\"},\"marker\":{\"line\":{\"color\":\"rgb(17,17,17)\",\"width\":0.5},\"pattern\":{\"fillmode\":\"overlay\",\"size\":10,\"solidity\":0.2}},\"type\":\"bar\"}],\"carpet\":[{\"aaxis\":{\"endlinecolor\":\"#A2B1C6\",\"gridcolor\":\"#506784\",\"linecolor\":\"#506784\",\"minorgridcolor\":\"#506784\",\"startlinecolor\":\"#A2B1C6\"},\"baxis\":{\"endlinecolor\":\"#A2B1C6\",\"gridcolor\":\"#506784\",\"linecolor\":\"#506784\",\"minorgridcolor\":\"#506784\",\"startlinecolor\":\"#A2B1C6\"},\"type\":\"carpet\"}],\"choropleth\":[{\"colorbar\":{\"outlinewidth\":0,\"ticks\":\"\"},\"type\":\"choropleth\"}],\"contourcarpet\":[{\"colorbar\":{\"outlinewidth\":0,\"ticks\":\"\"},\"type\":\"contourcarpet\"}],\"contour\":[{\"colorbar\":{\"outlinewidth\":0,\"ticks\":\"\"},\"colorscale\":[[0.0,\"#0d0887\"],[0.1111111111111111,\"#46039f\"],[0.2222222222222222,\"#7201a8\"],[0.3333333333333333,\"#9c179e\"],[0.4444444444444444,\"#bd3786\"],[0.5555555555555556,\"#d8576b\"],[0.6666666666666666,\"#ed7953\"],[0.7777777777777778,\"#fb9f3a\"],[0.8888888888888888,\"#fdca26\"],[1.0,\"#f0f921\"]],\"type\":\"contour\"}],\"heatmapgl\":[{\"colorbar\":{\"outlinewidth\":0,\"ticks\":\"\"},\"colorscale\":[[0.0,\"#0d0887\"],[0.1111111111111111,\"#46039f\"],[0.2222222222222222,\"#7201a8\"],[0.3333333333333333,\"#9c179e\"],[0.4444444444444444,\"#bd3786\"],[0.5555555555555556,\"#d8576b\"],[0.6666666666666666,\"#ed7953\"],[0.7777777777777778,\"#fb9f3a\"],[0.8888888888888888,\"#fdca26\"],[1.0,\"#f0f921\"]],\"type\":\"heatmapgl\"}],\"heatmap\":[{\"colorbar\":{\"outlinewidth\":0,\"ticks\":\"\"},\"colorscale\":[[0.0,\"#0d0887\"],[0.1111111111111111,\"#46039f\"],[0.2222222222222222,\"#7201a8\"],[0.3333333333333333,\"#9c179e\"],[0.4444444444444444,\"#bd3786\"],[0.5555555555555556,\"#d8576b\"],[0.6666666666666666,\"#ed7953\"],[0.7777777777777778,\"#fb9f3a\"],[0.8888888888888888,\"#fdca26\"],[1.0,\"#f0f921\"]],\"type\":\"heatmap\"}],\"histogram2dcontour\":[{\"colorbar\":{\"outlinewidth\":0,\"ticks\":\"\"},\"colorscale\":[[0.0,\"#0d0887\"],[0.1111111111111111,\"#46039f\"],[0.2222222222222222,\"#7201a8\"],[0.3333333333333333,\"#9c179e\"],[0.4444444444444444,\"#bd3786\"],[0.5555555555555556,\"#d8576b\"],[0.6666666666666666,\"#ed7953\"],[0.7777777777777778,\"#fb9f3a\"],[0.8888888888888888,\"#fdca26\"],[1.0,\"#f0f921\"]],\"type\":\"histogram2dcontour\"}],\"histogram2d\":[{\"colorbar\":{\"outlinewidth\":0,\"ticks\":\"\"},\"colorscale\":[[0.0,\"#0d0887\"],[0.1111111111111111,\"#46039f\"],[0.2222222222222222,\"#7201a8\"],[0.3333333333333333,\"#9c179e\"],[0.4444444444444444,\"#bd3786\"],[0.5555555555555556,\"#d8576b\"],[0.6666666666666666,\"#ed7953\"],[0.7777777777777778,\"#fb9f3a\"],[0.8888888888888888,\"#fdca26\"],[1.0,\"#f0f921\"]],\"type\":\"histogram2d\"}],\"histogram\":[{\"marker\":{\"pattern\":{\"fillmode\":\"overlay\",\"size\":10,\"solidity\":0.2}},\"type\":\"histogram\"}],\"mesh3d\":[{\"colorbar\":{\"outlinewidth\":0,\"ticks\":\"\"},\"type\":\"mesh3d\"}],\"parcoords\":[{\"line\":{\"colorbar\":{\"outlinewidth\":0,\"ticks\":\"\"}},\"type\":\"parcoords\"}],\"pie\":[{\"automargin\":true,\"type\":\"pie\"}],\"scatter3d\":[{\"line\":{\"colorbar\":{\"outlinewidth\":0,\"ticks\":\"\"}},\"marker\":{\"colorbar\":{\"outlinewidth\":0,\"ticks\":\"\"}},\"type\":\"scatter3d\"}],\"scattercarpet\":[{\"marker\":{\"colorbar\":{\"outlinewidth\":0,\"ticks\":\"\"}},\"type\":\"scattercarpet\"}],\"scattergeo\":[{\"marker\":{\"colorbar\":{\"outlinewidth\":0,\"ticks\":\"\"}},\"type\":\"scattergeo\"}],\"scattergl\":[{\"marker\":{\"line\":{\"color\":\"#283442\"}},\"type\":\"scattergl\"}],\"scattermapbox\":[{\"marker\":{\"colorbar\":{\"outlinewidth\":0,\"ticks\":\"\"}},\"type\":\"scattermapbox\"}],\"scatterpolargl\":[{\"marker\":{\"colorbar\":{\"outlinewidth\":0,\"ticks\":\"\"}},\"type\":\"scatterpolargl\"}],\"scatterpolar\":[{\"marker\":{\"colorbar\":{\"outlinewidth\":0,\"ticks\":\"\"}},\"type\":\"scatterpolar\"}],\"scatter\":[{\"marker\":{\"line\":{\"color\":\"#283442\"}},\"type\":\"scatter\"}],\"scatterternary\":[{\"marker\":{\"colorbar\":{\"outlinewidth\":0,\"ticks\":\"\"}},\"type\":\"scatterternary\"}],\"surface\":[{\"colorbar\":{\"outlinewidth\":0,\"ticks\":\"\"},\"colorscale\":[[0.0,\"#0d0887\"],[0.1111111111111111,\"#46039f\"],[0.2222222222222222,\"#7201a8\"],[0.3333333333333333,\"#9c179e\"],[0.4444444444444444,\"#bd3786\"],[0.5555555555555556,\"#d8576b\"],[0.6666666666666666,\"#ed7953\"],[0.7777777777777778,\"#fb9f3a\"],[0.8888888888888888,\"#fdca26\"],[1.0,\"#f0f921\"]],\"type\":\"surface\"}],\"table\":[{\"cells\":{\"fill\":{\"color\":\"#506784\"},\"line\":{\"color\":\"rgb(17,17,17)\"}},\"header\":{\"fill\":{\"color\":\"#2a3f5f\"},\"line\":{\"color\":\"rgb(17,17,17)\"}},\"type\":\"table\"}]},\"layout\":{\"annotationdefaults\":{\"arrowcolor\":\"#f2f5fa\",\"arrowhead\":0,\"arrowwidth\":1},\"autotypenumbers\":\"strict\",\"coloraxis\":{\"colorbar\":{\"outlinewidth\":0,\"ticks\":\"\"}},\"colorscale\":{\"diverging\":[[0,\"#8e0152\"],[0.1,\"#c51b7d\"],[0.2,\"#de77ae\"],[0.3,\"#f1b6da\"],[0.4,\"#fde0ef\"],[0.5,\"#f7f7f7\"],[0.6,\"#e6f5d0\"],[0.7,\"#b8e186\"],[0.8,\"#7fbc41\"],[0.9,\"#4d9221\"],[1,\"#276419\"]],\"sequential\":[[0.0,\"#0d0887\"],[0.1111111111111111,\"#46039f\"],[0.2222222222222222,\"#7201a8\"],[0.3333333333333333,\"#9c179e\"],[0.4444444444444444,\"#bd3786\"],[0.5555555555555556,\"#d8576b\"],[0.6666666666666666,\"#ed7953\"],[0.7777777777777778,\"#fb9f3a\"],[0.8888888888888888,\"#fdca26\"],[1.0,\"#f0f921\"]],\"sequentialminus\":[[0.0,\"#0d0887\"],[0.1111111111111111,\"#46039f\"],[0.2222222222222222,\"#7201a8\"],[0.3333333333333333,\"#9c179e\"],[0.4444444444444444,\"#bd3786\"],[0.5555555555555556,\"#d8576b\"],[0.6666666666666666,\"#ed7953\"],[0.7777777777777778,\"#fb9f3a\"],[0.8888888888888888,\"#fdca26\"],[1.0,\"#f0f921\"]]},\"colorway\":[\"#636efa\",\"#EF553B\",\"#00cc96\",\"#ab63fa\",\"#FFA15A\",\"#19d3f3\",\"#FF6692\",\"#B6E880\",\"#FF97FF\",\"#FECB52\"],\"font\":{\"color\":\"#f2f5fa\"},\"geo\":{\"bgcolor\":\"rgb(17,17,17)\",\"lakecolor\":\"rgb(17,17,17)\",\"landcolor\":\"rgb(17,17,17)\",\"showlakes\":true,\"showland\":true,\"subunitcolor\":\"#506784\"},\"hoverlabel\":{\"align\":\"left\"},\"hovermode\":\"closest\",\"mapbox\":{\"style\":\"dark\"},\"paper_bgcolor\":\"rgb(17,17,17)\",\"plot_bgcolor\":\"rgb(17,17,17)\",\"polar\":{\"angularaxis\":{\"gridcolor\":\"#506784\",\"linecolor\":\"#506784\",\"ticks\":\"\"},\"bgcolor\":\"rgb(17,17,17)\",\"radialaxis\":{\"gridcolor\":\"#506784\",\"linecolor\":\"#506784\",\"ticks\":\"\"}},\"scene\":{\"xaxis\":{\"backgroundcolor\":\"rgb(17,17,17)\",\"gridcolor\":\"#506784\",\"gridwidth\":2,\"linecolor\":\"#506784\",\"showbackground\":true,\"ticks\":\"\",\"zerolinecolor\":\"#C8D4E3\"},\"yaxis\":{\"backgroundcolor\":\"rgb(17,17,17)\",\"gridcolor\":\"#506784\",\"gridwidth\":2,\"linecolor\":\"#506784\",\"showbackground\":true,\"ticks\":\"\",\"zerolinecolor\":\"#C8D4E3\"},\"zaxis\":{\"backgroundcolor\":\"rgb(17,17,17)\",\"gridcolor\":\"#506784\",\"gridwidth\":2,\"linecolor\":\"#506784\",\"showbackground\":true,\"ticks\":\"\",\"zerolinecolor\":\"#C8D4E3\"}},\"shapedefaults\":{\"line\":{\"color\":\"#f2f5fa\"}},\"sliderdefaults\":{\"bgcolor\":\"#C8D4E3\",\"bordercolor\":\"rgb(17,17,17)\",\"borderwidth\":1,\"tickwidth\":0},\"ternary\":{\"aaxis\":{\"gridcolor\":\"#506784\",\"linecolor\":\"#506784\",\"ticks\":\"\"},\"baxis\":{\"gridcolor\":\"#506784\",\"linecolor\":\"#506784\",\"ticks\":\"\"},\"bgcolor\":\"rgb(17,17,17)\",\"caxis\":{\"gridcolor\":\"#506784\",\"linecolor\":\"#506784\",\"ticks\":\"\"}},\"title\":{\"x\":0.05},\"updatemenudefaults\":{\"bgcolor\":\"#506784\",\"borderwidth\":0},\"xaxis\":{\"automargin\":true,\"gridcolor\":\"#283442\",\"linecolor\":\"#506784\",\"ticks\":\"\",\"title\":{\"standoff\":15},\"zerolinecolor\":\"#283442\",\"zerolinewidth\":2},\"yaxis\":{\"automargin\":true,\"gridcolor\":\"#283442\",\"linecolor\":\"#506784\",\"ticks\":\"\",\"title\":{\"standoff\":15},\"zerolinecolor\":\"#283442\",\"zerolinewidth\":2}}},\"title\":{\"text\":\"Revenue/Budget distributed by Genres\",\"x\":0.5},\"xaxis\":{\"anchor\":\"y\",\"domain\":[0.0,1.0],\"title\":{\"text\":\"Revenue\"}},\"yaxis\":{\"anchor\":\"x\",\"domain\":[0.0,1.0],\"title\":{\"text\":\"Budget\"}}},                        {\"responsive\": true}                    ).then(function(){\n",
       "                            \n",
       "var gd = document.getElementById('9d794324-8545-49b2-b09e-69539624e689');\n",
       "var x = new MutationObserver(function (mutations, observer) {{\n",
       "        var display = window.getComputedStyle(gd).display;\n",
       "        if (!display || display === 'none') {{\n",
       "            console.log([gd, 'removed!']);\n",
       "            Plotly.purge(gd);\n",
       "            observer.disconnect();\n",
       "        }}\n",
       "}});\n",
       "\n",
       "// Listen for the removal of the full notebook cells\n",
       "var notebookContainer = gd.closest('#notebook-container');\n",
       "if (notebookContainer) {{\n",
       "    x.observe(notebookContainer, {childList: true});\n",
       "}}\n",
       "\n",
       "// Listen for the clearing of the current output cell\n",
       "var outputEl = gd.closest('.output');\n",
       "if (outputEl) {{\n",
       "    x.observe(outputEl, {childList: true});\n",
       "}}\n",
       "\n",
       "                        })                };                });            </script>        </div>"
      ]
     },
     "metadata": {},
     "output_type": "display_data"
    }
   ],
   "source": [
    "df = movies[(movies['revenue']!=0) & (movies['budget']!=0)][['budget','revenue','genres','title']]\n",
    "fig = px.scatter(df , y='budget', x='revenue', hover_data=['title'],\n",
    "                color='genres',title ='Revenue/Budget distributed by Genres')\n",
    "\n",
    "#fig.update_xaxes(showgrid=False)\n",
    "#fig.update_yaxes(showgrid=False)\n",
    "fig.update_layout(template = 'plotly_dark')\n",
    "fig.update_layout(\n",
    "                  xaxis_title='Revenue',title_x=0.5,yaxis_title='Budget')\n",
    "iplot(fig)"
   ]
  },
  {
   "cell_type": "markdown",
   "id": "9b2cbe17",
   "metadata": {},
   "source": [
    "### 1. Graph is scattered close to origin as majority of movies have less revenue and budget.\n",
    "### 2. There are lot movies having same budget of 100M , 150 M and 200 M .\n",
    "### 3. \"Titanic\" movie can be seen having revenue of 2.2 B with only 200 M budget making it one of most successful movies.\n",
    "### 4. Coorelation between Revenue and Budget is kind of linear when Budget increases revenue tends to increase.\n"
   ]
  }
 ],
 "metadata": {
  "kernelspec": {
   "display_name": "Python 3 (ipykernel)",
   "language": "python",
   "name": "python3"
  },
  "language_info": {
   "codemirror_mode": {
    "name": "ipython",
    "version": 3
   },
   "file_extension": ".py",
   "mimetype": "text/x-python",
   "name": "python",
   "nbconvert_exporter": "python",
   "pygments_lexer": "ipython3",
   "version": "3.10.4"
  }
 },
 "nbformat": 4,
 "nbformat_minor": 5
}
